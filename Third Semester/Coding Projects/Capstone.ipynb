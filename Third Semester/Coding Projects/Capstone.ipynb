{
  "nbformat": 4,
  "nbformat_minor": 0,
  "metadata": {
    "colab": {
      "provenance": [],
      "toc_visible": true
    },
    "kernelspec": {
      "name": "python3",
      "display_name": "Python 3"
    },
    "language_info": {
      "name": "python"
    }
  },
  "cells": [
    {
      "cell_type": "markdown",
      "metadata": {
        "id": "hG4SKZcmuzSa"
      },
      "source": [
        "#Coding project"
      ]
    },
    {
      "cell_type": "markdown",
      "metadata": {
        "id": "MDsZ6eocu3ll"
      },
      "source": [
        "> The coding project (alternatively, “dissertation” or “capstone project”) is a major piece of written work\n",
        "that concludes a graduate degree study programme. This does not mean however that you would be \n",
        "required to write a dissertation identical to the written piece of work to be submitted by students on \n",
        "the other MSc programmes. In effect, instead of a classic theory-based dissertation, the purpose of the \n",
        "Coding Project should rather be to test your ability to resolve a problem with data analysis and data \n",
        "science tools based on relevant input data, with the output of the project including the relevant codes, \n",
        "their explanation, and a reflective account on how you completed the project."
      ]
    },
    {
      "cell_type": "markdown",
      "metadata": {
        "id": "zRm3a1ahLAtU"
      },
      "source": [
        " ## Task description"
      ]
    },
    {
      "cell_type": "markdown",
      "metadata": {
        "id": "tS8aa2X7MMCY"
      },
      "source": [
        "The project will be based on the regular lab-like practice assignments in your courses on data preparation, classical machine learning and deep learning, but will necessitate the incorporation of multiple solutions and considerations relating to data pipelines. Like in **real life data science project**, you need to use tools, pipelines etc. interiorized in previous courses. From data exploration and preparation through analyses via classical machine learning models to using deep learning models, you need to select and use appropriate tools for the project. \n",
        "\n",
        "**The task is open ended**, which means that, e.g., it's up to you decide which variables you use and how, how you encode them, what models to use, etc.\n",
        "\n",
        "Please make sure to at least browse through **the Coding Project Handbook** (on Moodle). You will see that you are required to not simply do the modelling, but **motivate and reflect on** the steps you take and the results you get, and ideally not just on the final performance."
      ]
    },
    {
      "cell_type": "markdown",
      "source": [
        "## Dataset\n",
        "\n",
        "You have the choice to work on **either the dataset and task provided** (soil moisture modelling), **or on data from and task for a company** you are working for.\n",
        "\n",
        "If you choose to work on a company project, please make sure to clarify with your company if they need a confidentiality agreement (there is a sample on the Moodle page, but you can use your company's own NDA, instead, ofcourse), and get consent to use it in your project (you can find a template for a letter of confirmation and consent in Appendix 1 of the Coding Project Handbook on Moodle).\n",
        "\n",
        "> Important: You DON'T have to upload any data to Moodle or anywhere. You only have to submit the thesis in PDF format (and, ideally, your .ipynb).\n",
        "\n"
      ],
      "metadata": {
        "id": "K34il0eUAcdH"
      }
    },
    {
      "cell_type": "markdown",
      "source": [
        "\n",
        "### Forecasting temperature anomalies\n",
        "\n",
        "Task: to train a model that is able to forecast as well as possible **temperature anomaly values 3 months ahead**.\n",
        "\n",
        "> Clarification: this means that you have to train a model that, given a sample with past values up until time $t$, predicts ONE value that is the temperate anomaly for the time $t + 3 \\text{months}$. E.g., for a sample for which the last input data is from April, the model should be making a forecast for the month July for that sample.\n",
        "\n",
        "#### Dataset location\n",
        "\n",
        "https://drive.google.com/file/d/1JeXGrDyguQx6JcjVZ39D6r454GYBqFN_/view?usp=sharing\n",
        "\n",
        "Data sources:\n",
        "\n",
        "* https://data.giss.nasa.gov/gistemp/\n",
        "* https://data.world/kcmillersean/global-temperature-anomalies\n",
        "* https://data.world/data-society/global-climate-change-data#\n",
        "* https://www.kaggle.com/code/pumalin/ghg-emission-data/data\n",
        "* https://www.kaggle.com/datasets/dataenergy/natural-disaster-data\n",
        "\n",
        "#### Dataset variables\n",
        "\n",
        "* **date**: the end-of-the month date for the month for which variables are measured\n",
        "* **emission**: YEARLY greenhouse gas emission values in tonnes filled into each month of the relevant year\n",
        "* **anomaly_value**: monthly surface temperature anomaly values\n",
        "* **upper_95_ci**,\t**lower_95_ci**: upper and lower confidence interval values for anomaly_value\t\n",
        "* **AverageTemperature**: monthly average temperature value\n",
        "* **AverageTemperatureUncertainty**: monthly average temperature uncertainty value\n",
        "*\t**City**: the city for AverageTemperature and AverageTemperatureUncertainty\t\n",
        "* **Country**: the country for AverageTemperature and AverageTemperatureUncertainty\t\n",
        "*\t**Latitude**: the latitude for AverageTemperature and AverageTemperatureUncertainty\t\n",
        "* **Longitude**: the longitude for AverageTemperature and AverageTemperatureUncertainty\t\n",
        "*\t**All natural disasters, Drought, Earthquake, Extreme temperature, Extreme weather, Flood, Impact, Landslide, Mass movement (dry), Volcanic activity, Wildfire**: YEARLY number of disasters, filled into each month of the relevant year\n",
        "*\t**global_avg_temp**: global surface temperature change"
      ],
      "metadata": {
        "id": "8kwDlFSonmhX"
      }
    },
    {
      "cell_type": "markdown",
      "metadata": {
        "id": "G2ulP8S8Q4Kw"
      },
      "source": [
        "## Formal requirements"
      ]
    },
    {
      "cell_type": "markdown",
      "metadata": {
        "id": "Cdm_-y7lRA4y"
      },
      "source": [
        "Formal requirements and other informations are available on Moodle in the \"Coding Project Handbook\"."
      ]
    },
    {
      "cell_type": "markdown",
      "source": [
        "## Scheduled consultations"
      ],
      "metadata": {
        "id": "IlmTD-hdnsRJ"
      }
    },
    {
      "cell_type": "markdown",
      "source": [
        "There will be **four 2-hour consultations on MS Teams**. \n",
        "\n",
        "* You will get an invite to these in due course.\n",
        "\n",
        "* Participation in these consultations is voluntary.\n",
        "\n",
        "* The first consultation will provide an overview of how to approach such a project.\n",
        "\n",
        "It is recommended, though, that you start **familiarizing yourself with the data** as soon as possible and start exploring it, as well as doing practice tasks based on what you learn in your classes in data preparation and machine learning."
      ],
      "metadata": {
        "id": "oYDma5GLns9_"
      }
    }
  ]
}