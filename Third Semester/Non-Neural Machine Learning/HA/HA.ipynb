{
 "cells": [
  {
   "attachments": {},
   "cell_type": "markdown",
   "metadata": {},
   "source": [
    "import necessory data lib"
   ]
  },
  {
   "cell_type": "code",
   "execution_count": null,
   "metadata": {},
   "outputs": [],
   "source": [
    "import pandas as pd"
   ]
  },
  {
   "attachments": {},
   "cell_type": "markdown",
   "metadata": {},
   "source": [
    "read data into datafram"
   ]
  },
  {
   "cell_type": "code",
   "execution_count": null,
   "metadata": {},
   "outputs": [],
   "source": [
    "participants = pd.read_csv(\"data/participants.tsv\", delimiter=\"\\t\")\n",
    "groundtruth = pd.read_csv(\"data/groundtruth.tsv\", delimiter=\"\\t\")"
   ]
  },
  {
   "attachments": {},
   "cell_type": "markdown",
   "metadata": {},
   "source": [
    "check unique values"
   ]
  },
  {
   "cell_type": "code",
   "execution_count": null,
   "metadata": {},
   "outputs": [],
   "source": [
    "participant_user_id = set(participants[\"user_id\"].unique())\n",
    "groundtruth_user_id = set(groundtruth[\"user_id\"].unique())\n",
    "\n",
    "assert len(participants) == len(participant_user_id), \"Participants are not unique\"\n",
    "assert len(groundtruth) == len(groundtruth_user_id), \"Participants are not unique\"\n",
    "assert participant_user_id == groundtruth_user_id, \"The data is different\""
   ]
  },
  {
   "cell_type": "code",
   "execution_count": null,
   "metadata": {},
   "outputs": [],
   "source": [
    "df = groundtruth.drop(\"log_id\", axis=\"columns\")\n",
    "df = pd.merge(participants, df, on='user_id', how= 'left')\n",
    "df.to_string(\"report.txt\")"
   ]
  },
  {
   "cell_type": "code",
   "execution_count": null,
   "metadata": {},
   "outputs": [],
   "source": [
    "df[\"ad_clicked\"] = df[\"ad_clicked\"].astype(\"int\")\n",
    "df[\"attention\"] = df[\"attention\"].astype(\"int\")\n",
    "df[\"attention\"] = df[\"attention\"].astype(\"int\")\n",
    "df.dtypes"
   ]
  },
  {
   "cell_type": "code",
   "execution_count": null,
   "metadata": {},
   "outputs": [],
   "source": [
    "# gender preparation\n",
    "df.loc[df[\"gender\"]==\"na\",\"gender\"] = None\n",
    "\n",
    "# Impute missing gender values with the most common gender\n",
    "most_common_gender = df['gender'].mode()[0]\n",
    "\n",
    "df['gender'] = df['gender'].fillna(most_common_gender)"
   ]
  },
  {
   "cell_type": "code",
   "execution_count": null,
   "metadata": {},
   "outputs": [],
   "source": [
    "# age value handle\n",
    "df.loc[df[\"age\"]==\"na\",\"age\"] = None\n",
    "age_filter_na = df.loc[df[\"age\"] != None]\n",
    "\n",
    "age_filter_na[\"age\"] = age_filter_na[\"age\"].astype(\"float\")\n",
    "age_mean = round(age_filter_na[\"age\"].mean(),1)\n",
    "\n",
    "df[\"age\"] = df[\"age\"].fillna(age_mean)\n",
    "df[\"age\"] = df[\"age\"].astype(\"float\")"
   ]
  },
  {
   "cell_type": "code",
   "execution_count": null,
   "metadata": {},
   "outputs": [],
   "source": [
    "# education value handle\n",
    "df.loc[df[\"education\"] == \"na\",\"education\"] = None\n",
    "education_filter_na = df.loc[df[\"education\"] != None]\n",
    "education_median = education_filter_na[\"education\"].median()\n",
    "\n",
    "df[\"education\"] = df[\"education\"].fillna(education_median)\n",
    "df[\"education\"] = df[\"education\"].astype(int)"
   ]
  },
  {
   "cell_type": "code",
   "execution_count": null,
   "metadata": {},
   "outputs": [],
   "source": [
    "# income handle value\n",
    "df.loc[df[\"income\"] == \"na\",\"income\"] = None\n",
    "income_filter_na = df.loc[df[\"income\"] != None]\n",
    "income_median = income_filter_na[\"income\"].median()\n",
    "\n",
    "df[\"income\"] = df[\"income\"].fillna(income_median)\n",
    "df[\"income\"] = df[\"income\"].astype(\"int\")"
   ]
  },
  {
   "cell_type": "code",
   "execution_count": null,
   "metadata": {},
   "outputs": [],
   "source": [
    "# Apply the map to the \"country\" column\n",
    "country_na_count = df.loc[df[\"country\"]==\"na\"]\n",
    "print(len(country_na_count))\n",
    "df.loc[df[\"country\"] != \"USA\", \"country\"] = \"non-USA\""
   ]
  },
  {
   "cell_type": "code",
   "execution_count": null,
   "metadata": {},
   "outputs": [],
   "source": [
    "one_hot_cols = [\"country\", \"gender\", \"ad_position\", \"ad_type\", \"ad_category\"]\n",
    "\n",
    "dummies = pd.get_dummies(df, columns=one_hot_cols, dummy_na= True, drop_first= True)\n"
   ]
  },
  {
   "cell_type": "code",
   "execution_count": null,
   "metadata": {},
   "outputs": [],
   "source": [
    "X = dummies.loc[:,[\"education\",\"age\",\"attention\"]]\n",
    "y = dummies[\"income\"]"
   ]
  },
  {
   "cell_type": "code",
   "execution_count": null,
   "metadata": {},
   "outputs": [],
   "source": [
    "from sklearn.model_selection import train_test_split\n",
    "\n",
    "X_train, X_test, y_train, y_test = train_test_split(X, y, test_size = 0.33, random_state = 42)"
   ]
  },
  {
   "cell_type": "code",
   "execution_count": null,
   "metadata": {},
   "outputs": [],
   "source": [
    "from sklearn.linear_model import LinearRegression\n",
    "\n",
    "model_linear = LinearRegression()\n",
    "model_linear.fit(X_train, y_train)\n",
    "\n",
    "y_predict = model_linear.predict(X_test)\n",
    "\n",
    "# Print the intercept and coefficients of the linear regression line\n",
    "print(\"Intercept:\", model_linear.intercept_, \" Coefficient:\", model_linear.coef_)"
   ]
  },
  {
   "cell_type": "code",
   "execution_count": null,
   "metadata": {},
   "outputs": [],
   "source": [
    "from sklearn.metrics import r2_score, mean_squared_error\n",
    "\n",
    "mse = mean_squared_error(y_test, y_predict)\n",
    "r2 = r2_score(y_test, y_predict)\n",
    "\n",
    "\"MSE\", round(mse,3), \"R2 score\", round(r2,3)"
   ]
  },
  {
   "cell_type": "code",
   "execution_count": null,
   "metadata": {},
   "outputs": [],
   "source": [
    "from sklearn.ensemble import RandomForestClassifier\n",
    "\n",
    "# Train a Random Forest classifier\n",
    "model_rf = RandomForestClassifier(n_estimators=100, random_state=42)\n",
    "model_rf.fit(X_train, y_train)\n",
    "\n",
    "y_predict = model_rf.predict(X_test)"
   ]
  },
  {
   "cell_type": "code",
   "execution_count": null,
   "metadata": {},
   "outputs": [],
   "source": [
    "from sklearn.metrics import mean_squared_error, r2_score, precision_score, accuracy_score, recall_score,f1_score\n",
    "\n",
    "# Compute metrics\n",
    "MSE = mean_squared_error(y_test, y_predict)\n",
    "r2 = r2_score(y_test, y_predict)\n",
    "CA = accuracy_score(y_test, y_predict)\n",
    "# Percision = precision_score(y_test, y_predict, average=\"weighted\")\n",
    "Percision = 0\n",
    "Recall = recall_score(y_test, y_predict, average=\"weighted\")\n",
    "F1 = f1_score(y_test, y_predict, average=\"weighted\")\n",
    "\n",
    "CA = round(CA,3)\n",
    "Recall = round(Recall,3)\n",
    "MSE = round(MSE,3)\n",
    "r2 = round(r2,3)\n",
    "Percision = round(Percision,3)\n",
    "F1 = round(F1,3)\n",
    "\n",
    "print(\"MSE:\", MSE,\" R-squared:\", r2, \" Accuracy:\", CA, \" Precision:\", Percision, \" Recall:\", Recall, \" F-measure:\", F1)"
   ]
  }
 ],
 "metadata": {
  "kernelspec": {
   "display_name": "Python 3",
   "language": "python",
   "name": "python3"
  },
  "language_info": {
   "codemirror_mode": {
    "name": "ipython",
    "version": 3
   },
   "file_extension": ".py",
   "mimetype": "text/x-python",
   "name": "python",
   "nbconvert_exporter": "python",
   "pygments_lexer": "ipython3",
   "version": "3.10.2"
  },
  "orig_nbformat": 4
 },
 "nbformat": 4,
 "nbformat_minor": 2
}
