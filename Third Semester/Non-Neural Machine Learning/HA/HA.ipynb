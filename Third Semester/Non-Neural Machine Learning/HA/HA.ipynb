{
 "cells": [
  {
   "attachments": {},
   "cell_type": "markdown",
   "metadata": {},
   "source": [
    "# Home Assignment\n",
    "## Alireza Bolhassani\n",
    "----\n",
    "At each stage, the required libraries will be imported."
   ]
  },
  {
   "cell_type": "code",
   "execution_count": null,
   "metadata": {},
   "outputs": [],
   "source": [
    "import pandas as pd"
   ]
  },
  {
   "attachments": {},
   "cell_type": "markdown",
   "metadata": {},
   "source": [
    "-----\n",
    "Load the participants data and groundtruth data into separate data frames.  \n",
    "The type of data is tsv and in this case you need to define \"\\t\" as delimiter for second parameter of read_csv."
   ]
  },
  {
   "cell_type": "code",
   "execution_count": null,
   "metadata": {},
   "outputs": [],
   "source": [
    "participants = pd.read_csv(\"data/participants.tsv\", delimiter=\"\\t\")\n",
    "groundtruth = pd.read_csv(\"data/groundtruth.tsv\", delimiter=\"\\t\")"
   ]
  },
  {
   "attachments": {},
   "cell_type": "markdown",
   "metadata": {},
   "source": [
    "-----\n",
    "Since the values of user_id must be unique so we can check it by get the unique value from first data frame and compare it with the second data frame. And both data frame must have the same data row (len)."
   ]
  },
  {
   "cell_type": "code",
   "execution_count": null,
   "metadata": {},
   "outputs": [],
   "source": [
    "participant_user_id = set(participants[\"user_id\"].unique())\n",
    "groundtruth_user_id = set(groundtruth[\"user_id\"].unique())\n",
    "\n",
    "assert len(participants) == len(participant_user_id), \"Participants are not unique\"\n",
    "assert len(groundtruth) == len(groundtruth_user_id), \"Participants are not unique\"\n",
    "assert participant_user_id == groundtruth_user_id, \"The data is different\""
   ]
  },
  {
   "attachments": {},
   "cell_type": "markdown",
   "metadata": {},
   "source": [
    "------\n",
    "#### Merge Data frames\n",
    "Merge the two data frames using the \"merge\" function in pandas, using a common identifier column (e.g. \"participant_id\") that exists in both data frames and should result in a new data frame."
   ]
  },
  {
   "cell_type": "code",
   "execution_count": null,
   "metadata": {},
   "outputs": [],
   "source": [
    "df = groundtruth.drop(\"log_id\", axis=\"columns\")\n",
    "df = pd.merge(participants, df, on='user_id', how= 'left')\n",
    "df.shape"
   ]
  },
  {
   "attachments": {},
   "cell_type": "markdown",
   "metadata": {},
   "source": [
    "-----\n"
   ]
  },
  {
   "cell_type": "code",
   "execution_count": null,
   "metadata": {},
   "outputs": [],
   "source": [
    "df[\"ad_clicked\"] = df[\"ad_clicked\"].astype(\"int\")\n",
    "df[\"attention\"] = df[\"attention\"].astype(\"int\")\n",
    "df[\"attention\"] = df[\"attention\"].astype(\"int\")\n",
    "df.dtypes"
   ]
  },
  {
   "attachments": {},
   "cell_type": "markdown",
   "metadata": {},
   "source": [
    "-----------\n",
    "#### Gender Preparation\n",
    "Impute missing gender values with the most common gender"
   ]
  },
  {
   "cell_type": "code",
   "execution_count": null,
   "metadata": {},
   "outputs": [],
   "source": [
    "df.loc[df[\"gender\"]==\"na\",\"gender\"] = None\n",
    "most_common_gender = df['gender'].mode()[0]\n",
    "df['gender'] = df['gender'].fillna(most_common_gender)"
   ]
  },
  {
   "attachments": {},
   "cell_type": "markdown",
   "metadata": {},
   "source": [
    "-----------\n",
    "#### Age Value Handle"
   ]
  },
  {
   "cell_type": "code",
   "execution_count": null,
   "metadata": {},
   "outputs": [],
   "source": [
    "# age value handle\n",
    "df.loc[df[\"age\"]==\"na\",\"age\"] = None\n",
    "age_filter_na = df.loc[df[\"age\"] != None]\n",
    "\n",
    "age_filter_na[\"age\"] = age_filter_na[\"age\"].astype(\"float\")\n",
    "age_mean = round(age_filter_na[\"age\"].mean(),1)\n",
    "\n",
    "df[\"age\"] = df[\"age\"].fillna(age_mean)\n",
    "df[\"age\"] = df[\"age\"].astype(\"float\")"
   ]
  },
  {
   "attachments": {},
   "cell_type": "markdown",
   "metadata": {},
   "source": [
    "------\n",
    "#### Education Handle Value"
   ]
  },
  {
   "cell_type": "code",
   "execution_count": null,
   "metadata": {},
   "outputs": [],
   "source": [
    "df.loc[df[\"education\"] == \"na\",\"education\"] = None\n",
    "education_filter_na = df.loc[df[\"education\"] != None]\n",
    "education_median = education_filter_na[\"education\"].median()\n",
    "\n",
    "df[\"education\"] = df[\"education\"].fillna(education_median)\n",
    "df[\"education\"] = df[\"education\"].astype(int)"
   ]
  },
  {
   "attachments": {},
   "cell_type": "markdown",
   "metadata": {},
   "source": [
    "-------\n",
    "#### Income Handle Value"
   ]
  },
  {
   "cell_type": "code",
   "execution_count": null,
   "metadata": {},
   "outputs": [],
   "source": [
    "df.loc[df[\"income\"] == \"na\",\"income\"] = None\n",
    "income_filter_na = df.loc[df[\"income\"] != None]\n",
    "income_median = income_filter_na[\"income\"].median()\n",
    "\n",
    "df[\"income\"] = df[\"income\"].fillna(income_median)\n",
    "df[\"income\"] = df[\"income\"].astype(\"int\")"
   ]
  },
  {
   "attachments": {},
   "cell_type": "markdown",
   "metadata": {},
   "source": [
    "------\n",
    "#### Apply the map to the \"country\" column"
   ]
  },
  {
   "cell_type": "code",
   "execution_count": null,
   "metadata": {},
   "outputs": [],
   "source": [
    "country_na_count = df.loc[df[\"country\"] == \"na\"]\n",
    "print(len(country_na_count))\n",
    "df.loc[df[\"country\"] != \"USA\", \"country\"] = \"non-USA\""
   ]
  },
  {
   "cell_type": "code",
   "execution_count": null,
   "metadata": {},
   "outputs": [],
   "source": [
    "one_hot_cols = [\"country\", \"gender\", \"ad_position\", \"ad_type\", \"ad_category\"]\n",
    "\n",
    "dummies = pd.get_dummies(df, columns=one_hot_cols, dummy_na= True, drop_first= True)"
   ]
  },
  {
   "cell_type": "code",
   "execution_count": null,
   "metadata": {},
   "outputs": [],
   "source": [
    "X = dummies.loc[:,[\"education\",\"age\",\"attention\"]]\n",
    "y = dummies[\"income\"]"
   ]
  },
  {
   "cell_type": "code",
   "execution_count": null,
   "metadata": {},
   "outputs": [],
   "source": [
    "from sklearn.model_selection import train_test_split\n",
    "\n",
    "X_train, X_test, y_train, y_test = train_test_split(X, y, test_size = 0.33, random_state = 42)"
   ]
  },
  {
   "attachments": {},
   "cell_type": "markdown",
   "metadata": {},
   "source": [
    "-------\n",
    "-------\n",
    "## Linear Regression"
   ]
  },
  {
   "cell_type": "code",
   "execution_count": null,
   "metadata": {},
   "outputs": [],
   "source": [
    "from sklearn.linear_model import LinearRegression\n",
    "\n",
    "model_linear = LinearRegression(fit_intercept= True)\n",
    "model_linear.fit(X_train, y_train)\n",
    "\n",
    "y_predict = model_linear.predict(X_test)\n",
    "\n",
    "# Print the intercept and coefficients of the linear regression line\n",
    "print(\"Intercept:\", model_linear.intercept_, \" Coefficient:\", model_linear.coef_)"
   ]
  },
  {
   "cell_type": "code",
   "execution_count": null,
   "metadata": {},
   "outputs": [],
   "source": [
    "from sklearn.metrics import r2_score, mean_squared_error\n",
    "\n",
    "mse = mean_squared_error(y_test, y_predict)\n",
    "r2 = r2_score(y_test, y_predict)\n",
    "\n",
    "\"MSE\", round(mse,3), \"R2 score\", round(r2,3)"
   ]
  },
  {
   "attachments": {},
   "cell_type": "markdown",
   "metadata": {},
   "source": [
    "--------\n",
    "--------\n",
    "## Random Forest\n",
    "Train the Random Forest model using the training set. You can specify the number of trees in the forest and other hyperparameters such as the maximum depth of the trees."
   ]
  },
  {
   "cell_type": "code",
   "execution_count": null,
   "metadata": {},
   "outputs": [],
   "source": [
    "from sklearn.ensemble import RandomForestClassifier\n",
    "\n",
    "# Train a Random Forest classifier\n",
    "model_rf = RandomForestClassifier(n_estimators=100, max_depth=4, random_state=42)\n",
    "model_rf.fit(X_train, y_train)\n",
    "\n",
    "y_predict = model_rf.predict(X_test)\n",
    "\n",
    "model_rf.feature_importances_"
   ]
  },
  {
   "attachments": {},
   "cell_type": "markdown",
   "metadata": {},
   "source": [
    "-------\n",
    "Evaluate the performance of the model on the testing set using metrics such as accuracy, precision, recall, and F1 score. "
   ]
  },
  {
   "cell_type": "code",
   "execution_count": null,
   "metadata": {},
   "outputs": [],
   "source": [
    "from sklearn.metrics import mean_squared_error, r2_score, precision_score, accuracy_score, recall_score,f1_score\n",
    "\n",
    "# Compute metrics\n",
    "MSE = mean_squared_error(y_test, y_predict)\n",
    "r2 = r2_score(y_test, y_predict)\n",
    "CA = accuracy_score(y_test, y_predict)\n",
    "# Percision = precision_score(y_test, y_predict, average=\"weighted\")\n",
    "Percision = 0 #------------------------------\n",
    "Recall = recall_score(y_test, y_predict, average=\"weighted\")\n",
    "F1 = f1_score(y_test, y_predict, average=\"weighted\")\n",
    "\n",
    "print(\"MSE:\", round(MSE,3),\" R-squared:\", round(r2,3), \" Accuracy:\", round(CA,3))\n",
    "print(\"Precision:\", round(Percision,3), \" Recall:\", round(Recall,3), \" F-measure:\", round(F1,3))"
   ]
  },
  {
   "attachments": {},
   "cell_type": "markdown",
   "metadata": {},
   "source": [
    "----------\n",
    "visualize the structure of an individual decision tree in a trained Random Forest model.\n"
   ]
  },
  {
   "cell_type": "code",
   "execution_count": null,
   "metadata": {},
   "outputs": [],
   "source": [
    "from sklearn.tree import plot_tree\n",
    "import matplotlib.pyplot as plt\n",
    "\n",
    "tree = model_rf.estimators_[0]   # extract the first decision tree in the forest\n",
    "plt.figure(figsize=(20,7))   # set the size of the figure\n",
    "plot_tree(tree, filled=True, feature_names=X.columns)   # plot the tree and fill the nodes with colors\n",
    "plt.show()   # show the plot\n"
   ]
  }
 ],
 "metadata": {
  "kernelspec": {
   "display_name": "Python 3",
   "language": "python",
   "name": "python3"
  },
  "language_info": {
   "codemirror_mode": {
    "name": "ipython",
    "version": 3
   },
   "file_extension": ".py",
   "mimetype": "text/x-python",
   "name": "python",
   "nbconvert_exporter": "python",
   "pygments_lexer": "ipython3",
   "version": "3.10.2"
  },
  "orig_nbformat": 4
 },
 "nbformat": 4,
 "nbformat_minor": 2
}
