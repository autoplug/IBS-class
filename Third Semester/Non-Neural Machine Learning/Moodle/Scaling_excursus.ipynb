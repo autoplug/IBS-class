{
  "nbformat": 4,
  "nbformat_minor": 0,
  "metadata": {
    "colab": {
      "provenance": [],
      "toc_visible": true
    },
    "kernelspec": {
      "name": "python3",
      "display_name": "Python 3"
    },
    "language_info": {
      "name": "python"
    }
  },
  "cells": [
    {
      "cell_type": "markdown",
      "source": [
        "# Excursus on scaling\n",
        "\n",
        "Links to Data Analytics 1 material on normalization and scaling:\n",
        "\n",
        "* [normalization types](https://colab.research.google.com/drive/12RTxw-M7fVDKP76GOBMlyGGRxzff2pBd#scrollTo=of4pTiu9mPwe)\n",
        "\n",
        "* [reasons for normalization](https://colab.research.google.com/drive/16mBQnojpVWiCVKwO2DhOK8cg1BDCrQRd#scrollTo=7-PzECxOdz5G)"
      ],
      "metadata": {
        "id": "SbFXPrwq1rhr"
      }
    },
    {
      "cell_type": "markdown",
      "source": [
        "Refresher on how scaling is particularly important for distance-based models."
      ],
      "metadata": {
        "id": "MYmg9xcO_ZYx"
      }
    },
    {
      "cell_type": "markdown",
      "source": [
        "## Inches vs centimeters\n",
        "\n",
        "Same heights in inches vs cm will result in different clustering, which they shouldn't of course.\n",
        "\n",
        "*(Example from Joel Grus: Data Science From Scratch.)*"
      ],
      "metadata": {
        "id": "Y5E1SUvq4WXo"
      }
    },
    {
      "cell_type": "code",
      "source": [
        "import pandas as pd\n",
        "import matplotlib.pyplot as plt"
      ],
      "metadata": {
        "id": "STc4PkiL2AY6"
      },
      "execution_count": null,
      "outputs": []
    },
    {
      "cell_type": "code",
      "source": [
        "df_abc = pd.DataFrame([[63,160,150],\n",
        "                    [67,170.2,160],\n",
        "                    [70,177.8,171]], \\\n",
        "                  columns=[\"height_in\", \"height_cm\", \"weight_pounds\"], index=[\"Ann\", \"Bob\", \"Cecil\"])\n",
        "df_abc"
      ],
      "metadata": {
        "id": "X5ujJ9fJ15dy",
        "colab": {
          "base_uri": "https://localhost:8080/",
          "height": 143
        },
        "outputId": "2d7894b6-03d4-434b-e191-ca9d528768f4"
      },
      "execution_count": null,
      "outputs": [
        {
          "output_type": "execute_result",
          "data": {
            "text/html": [
              "\n",
              "  <div id=\"df-cb24daea-454a-488d-8efe-b507d4f75a0d\">\n",
              "    <div class=\"colab-df-container\">\n",
              "      <div>\n",
              "<style scoped>\n",
              "    .dataframe tbody tr th:only-of-type {\n",
              "        vertical-align: middle;\n",
              "    }\n",
              "\n",
              "    .dataframe tbody tr th {\n",
              "        vertical-align: top;\n",
              "    }\n",
              "\n",
              "    .dataframe thead th {\n",
              "        text-align: right;\n",
              "    }\n",
              "</style>\n",
              "<table border=\"1\" class=\"dataframe\">\n",
              "  <thead>\n",
              "    <tr style=\"text-align: right;\">\n",
              "      <th></th>\n",
              "      <th>height_in</th>\n",
              "      <th>height_cm</th>\n",
              "      <th>weight_pounds</th>\n",
              "    </tr>\n",
              "  </thead>\n",
              "  <tbody>\n",
              "    <tr>\n",
              "      <th>Ann</th>\n",
              "      <td>63</td>\n",
              "      <td>160.0</td>\n",
              "      <td>150</td>\n",
              "    </tr>\n",
              "    <tr>\n",
              "      <th>Bob</th>\n",
              "      <td>67</td>\n",
              "      <td>170.2</td>\n",
              "      <td>160</td>\n",
              "    </tr>\n",
              "    <tr>\n",
              "      <th>Cecil</th>\n",
              "      <td>70</td>\n",
              "      <td>177.8</td>\n",
              "      <td>171</td>\n",
              "    </tr>\n",
              "  </tbody>\n",
              "</table>\n",
              "</div>\n",
              "      <button class=\"colab-df-convert\" onclick=\"convertToInteractive('df-cb24daea-454a-488d-8efe-b507d4f75a0d')\"\n",
              "              title=\"Convert this dataframe to an interactive table.\"\n",
              "              style=\"display:none;\">\n",
              "        \n",
              "  <svg xmlns=\"http://www.w3.org/2000/svg\" height=\"24px\"viewBox=\"0 0 24 24\"\n",
              "       width=\"24px\">\n",
              "    <path d=\"M0 0h24v24H0V0z\" fill=\"none\"/>\n",
              "    <path d=\"M18.56 5.44l.94 2.06.94-2.06 2.06-.94-2.06-.94-.94-2.06-.94 2.06-2.06.94zm-11 1L8.5 8.5l.94-2.06 2.06-.94-2.06-.94L8.5 2.5l-.94 2.06-2.06.94zm10 10l.94 2.06.94-2.06 2.06-.94-2.06-.94-.94-2.06-.94 2.06-2.06.94z\"/><path d=\"M17.41 7.96l-1.37-1.37c-.4-.4-.92-.59-1.43-.59-.52 0-1.04.2-1.43.59L10.3 9.45l-7.72 7.72c-.78.78-.78 2.05 0 2.83L4 21.41c.39.39.9.59 1.41.59.51 0 1.02-.2 1.41-.59l7.78-7.78 2.81-2.81c.8-.78.8-2.07 0-2.86zM5.41 20L4 18.59l7.72-7.72 1.47 1.35L5.41 20z\"/>\n",
              "  </svg>\n",
              "      </button>\n",
              "      \n",
              "  <style>\n",
              "    .colab-df-container {\n",
              "      display:flex;\n",
              "      flex-wrap:wrap;\n",
              "      gap: 12px;\n",
              "    }\n",
              "\n",
              "    .colab-df-convert {\n",
              "      background-color: #E8F0FE;\n",
              "      border: none;\n",
              "      border-radius: 50%;\n",
              "      cursor: pointer;\n",
              "      display: none;\n",
              "      fill: #1967D2;\n",
              "      height: 32px;\n",
              "      padding: 0 0 0 0;\n",
              "      width: 32px;\n",
              "    }\n",
              "\n",
              "    .colab-df-convert:hover {\n",
              "      background-color: #E2EBFA;\n",
              "      box-shadow: 0px 1px 2px rgba(60, 64, 67, 0.3), 0px 1px 3px 1px rgba(60, 64, 67, 0.15);\n",
              "      fill: #174EA6;\n",
              "    }\n",
              "\n",
              "    [theme=dark] .colab-df-convert {\n",
              "      background-color: #3B4455;\n",
              "      fill: #D2E3FC;\n",
              "    }\n",
              "\n",
              "    [theme=dark] .colab-df-convert:hover {\n",
              "      background-color: #434B5C;\n",
              "      box-shadow: 0px 1px 3px 1px rgba(0, 0, 0, 0.15);\n",
              "      filter: drop-shadow(0px 1px 2px rgba(0, 0, 0, 0.3));\n",
              "      fill: #FFFFFF;\n",
              "    }\n",
              "  </style>\n",
              "\n",
              "      <script>\n",
              "        const buttonEl =\n",
              "          document.querySelector('#df-cb24daea-454a-488d-8efe-b507d4f75a0d button.colab-df-convert');\n",
              "        buttonEl.style.display =\n",
              "          google.colab.kernel.accessAllowed ? 'block' : 'none';\n",
              "\n",
              "        async function convertToInteractive(key) {\n",
              "          const element = document.querySelector('#df-cb24daea-454a-488d-8efe-b507d4f75a0d');\n",
              "          const dataTable =\n",
              "            await google.colab.kernel.invokeFunction('convertToInteractive',\n",
              "                                                     [key], {});\n",
              "          if (!dataTable) return;\n",
              "\n",
              "          const docLinkHtml = 'Like what you see? Visit the ' +\n",
              "            '<a target=\"_blank\" href=https://colab.research.google.com/notebooks/data_table.ipynb>data table notebook</a>'\n",
              "            + ' to learn more about interactive tables.';\n",
              "          element.innerHTML = '';\n",
              "          dataTable['output_type'] = 'display_data';\n",
              "          await google.colab.output.renderOutput(dataTable, element);\n",
              "          const docLink = document.createElement('div');\n",
              "          docLink.innerHTML = docLinkHtml;\n",
              "          element.appendChild(docLink);\n",
              "        }\n",
              "      </script>\n",
              "    </div>\n",
              "  </div>\n",
              "  "
            ],
            "text/plain": [
              "       height_in  height_cm  weight_pounds\n",
              "Ann           63      160.0            150\n",
              "Bob           67      170.2            160\n",
              "Cecil         70      177.8            171"
            ]
          },
          "metadata": {},
          "execution_count": 2
        }
      ]
    },
    {
      "cell_type": "code",
      "source": [
        "## to show that we indeed have the exact same heights in cm and in\n",
        "ax = df_abc.plot.scatter(\"weight_pounds\", \"height_cm\", marker=\"+\", s=100, sharex=False, c=\"b\");\n",
        "ax2 = ax.twinx()\n",
        "df_abc.plot.scatter(\"weight_pounds\", \"height_in\", marker=\"x\", s=80, sharex=False, c=\"r\", ax=ax2);"
      ],
      "metadata": {
        "colab": {
          "base_uri": "https://localhost:8080/",
          "height": 280
        },
        "id": "X15uruc4CAxO",
        "outputId": "8cb361f3-d9e5-4c64-e8aa-d2345690185f"
      },
      "execution_count": null,
      "outputs": [
        {
          "output_type": "display_data",
          "data": {
            "image/png": "[encoded data removed]",
            "text/plain": [
              "<Figure size 432x288 with 2 Axes>"
            ]
          },
          "metadata": {
            "needs_background": "light"
          }
        }
      ]
    },
    {
      "cell_type": "markdown",
      "source": [
        "Let's see what we get with non-normalized K-means clustering on the height-weight space...\n",
        "\n",
        "* We now plot each space with *equal* aspect to see what a distance-based model actually sees."
      ],
      "metadata": {
        "id": "CBDBocow2OrK"
      }
    },
    {
      "cell_type": "code",
      "source": [
        "from sklearn.cluster import KMeans\n",
        "\n",
        "for incm in [\"in\", \"cm\"]:\n",
        "\n",
        "    clust = KMeans(n_clusters=2)\n",
        "\n",
        "    df_abc[f\"cluster (pound, {incm})\"] = clust.fit_predict(df_abc[[f\"height_{incm}\", \"weight_pounds\"]])\n",
        "    ax = df_abc.plot.scatter(\"weight_pounds\", f\"height_{incm}\", \n",
        "                             c=f\"cluster (pound, {incm})\", cmap=\"prism\", colorbar=False,\n",
        "                             s=100, title=f\"Clusters when height is in {incm}\")\n",
        "    ax.set_aspect(\"equal\")\n",
        "    plt.show()\n",
        "\n",
        "display(df_abc)"
      ],
      "metadata": {
        "colab": {
          "base_uri": "https://localhost:8080/",
          "height": 595
        },
        "id": "jr8J20QJ2GVy",
        "outputId": "4694647e-8900-4542-9b30-f0f7945f0d93"
      },
      "execution_count": null,
      "outputs": [
        {
          "output_type": "display_data",
          "data": {
            "image/png": "[encoded data removed]",
            "text/plain": [
              "<Figure size 432x288 with 1 Axes>"
            ]
          },
          "metadata": {
            "needs_background": "light"
          }
        },
        {
          "output_type": "display_data",
          "data": {
            "image/png": "[encoded data removed]",
            "text/plain": [
              "<Figure size 432x288 with 1 Axes>"
            ]
          },
          "metadata": {
            "needs_background": "light"
          }
        },
        {
          "output_type": "display_data",
          "data": {
            "text/html": [
              "\n",
              "  <div id=\"df-2dc5ef93-ced0-468a-919c-10a534baf011\">\n",
              "    <div class=\"colab-df-container\">\n",
              "      <div>\n",
              "<style scoped>\n",
              "    .dataframe tbody tr th:only-of-type {\n",
              "        vertical-align: middle;\n",
              "    }\n",
              "\n",
              "    .dataframe tbody tr th {\n",
              "        vertical-align: top;\n",
              "    }\n",
              "\n",
              "    .dataframe thead th {\n",
              "        text-align: right;\n",
              "    }\n",
              "</style>\n",
              "<table border=\"1\" class=\"dataframe\">\n",
              "  <thead>\n",
              "    <tr style=\"text-align: right;\">\n",
              "      <th></th>\n",
              "      <th>height_in</th>\n",
              "      <th>height_cm</th>\n",
              "      <th>weight_pounds</th>\n",
              "      <th>cluster (pound, in)</th>\n",
              "      <th>cluster (pound, cm)</th>\n",
              "    </tr>\n",
              "  </thead>\n",
              "  <tbody>\n",
              "    <tr>\n",
              "      <th>Ann</th>\n",
              "      <td>63</td>\n",
              "      <td>160.0</td>\n",
              "      <td>150</td>\n",
              "      <td>0</td>\n",
              "      <td>0</td>\n",
              "    </tr>\n",
              "    <tr>\n",
              "      <th>Bob</th>\n",
              "      <td>67</td>\n",
              "      <td>170.2</td>\n",
              "      <td>160</td>\n",
              "      <td>0</td>\n",
              "      <td>1</td>\n",
              "    </tr>\n",
              "    <tr>\n",
              "      <th>Cecil</th>\n",
              "      <td>70</td>\n",
              "      <td>177.8</td>\n",
              "      <td>171</td>\n",
              "      <td>1</td>\n",
              "      <td>1</td>\n",
              "    </tr>\n",
              "  </tbody>\n",
              "</table>\n",
              "</div>\n",
              "      <button class=\"colab-df-convert\" onclick=\"convertToInteractive('df-2dc5ef93-ced0-468a-919c-10a534baf011')\"\n",
              "              title=\"Convert this dataframe to an interactive table.\"\n",
              "              style=\"display:none;\">\n",
              "        \n",
              "  <svg xmlns=\"http://www.w3.org/2000/svg\" height=\"24px\"viewBox=\"0 0 24 24\"\n",
              "       width=\"24px\">\n",
              "    <path d=\"M0 0h24v24H0V0z\" fill=\"none\"/>\n",
              "    <path d=\"M18.56 5.44l.94 2.06.94-2.06 2.06-.94-2.06-.94-.94-2.06-.94 2.06-2.06.94zm-11 1L8.5 8.5l.94-2.06 2.06-.94-2.06-.94L8.5 2.5l-.94 2.06-2.06.94zm10 10l.94 2.06.94-2.06 2.06-.94-2.06-.94-.94-2.06-.94 2.06-2.06.94z\"/><path d=\"M17.41 7.96l-1.37-1.37c-.4-.4-.92-.59-1.43-.59-.52 0-1.04.2-1.43.59L10.3 9.45l-7.72 7.72c-.78.78-.78 2.05 0 2.83L4 21.41c.39.39.9.59 1.41.59.51 0 1.02-.2 1.41-.59l7.78-7.78 2.81-2.81c.8-.78.8-2.07 0-2.86zM5.41 20L4 18.59l7.72-7.72 1.47 1.35L5.41 20z\"/>\n",
              "  </svg>\n",
              "      </button>\n",
              "      \n",
              "  <style>\n",
              "    .colab-df-container {\n",
              "      display:flex;\n",
              "      flex-wrap:wrap;\n",
              "      gap: 12px;\n",
              "    }\n",
              "\n",
              "    .colab-df-convert {\n",
              "      background-color: #E8F0FE;\n",
              "      border: none;\n",
              "      border-radius: 50%;\n",
              "      cursor: pointer;\n",
              "      display: none;\n",
              "      fill: #1967D2;\n",
              "      height: 32px;\n",
              "      padding: 0 0 0 0;\n",
              "      width: 32px;\n",
              "    }\n",
              "\n",
              "    .colab-df-convert:hover {\n",
              "      background-color: #E2EBFA;\n",
              "      box-shadow: 0px 1px 2px rgba(60, 64, 67, 0.3), 0px 1px 3px 1px rgba(60, 64, 67, 0.15);\n",
              "      fill: #174EA6;\n",
              "    }\n",
              "\n",
              "    [theme=dark] .colab-df-convert {\n",
              "      background-color: #3B4455;\n",
              "      fill: #D2E3FC;\n",
              "    }\n",
              "\n",
              "    [theme=dark] .colab-df-convert:hover {\n",
              "      background-color: #434B5C;\n",
              "      box-shadow: 0px 1px 3px 1px rgba(0, 0, 0, 0.15);\n",
              "      filter: drop-shadow(0px 1px 2px rgba(0, 0, 0, 0.3));\n",
              "      fill: #FFFFFF;\n",
              "    }\n",
              "  </style>\n",
              "\n",
              "      <script>\n",
              "        const buttonEl =\n",
              "          document.querySelector('#df-2dc5ef93-ced0-468a-919c-10a534baf011 button.colab-df-convert');\n",
              "        buttonEl.style.display =\n",
              "          google.colab.kernel.accessAllowed ? 'block' : 'none';\n",
              "\n",
              "        async function convertToInteractive(key) {\n",
              "          const element = document.querySelector('#df-2dc5ef93-ced0-468a-919c-10a534baf011');\n",
              "          const dataTable =\n",
              "            await google.colab.kernel.invokeFunction('convertToInteractive',\n",
              "                                                     [key], {});\n",
              "          if (!dataTable) return;\n",
              "\n",
              "          const docLinkHtml = 'Like what you see? Visit the ' +\n",
              "            '<a target=\"_blank\" href=https://colab.research.google.com/notebooks/data_table.ipynb>data table notebook</a>'\n",
              "            + ' to learn more about interactive tables.';\n",
              "          element.innerHTML = '';\n",
              "          dataTable['output_type'] = 'display_data';\n",
              "          await google.colab.output.renderOutput(dataTable, element);\n",
              "          const docLink = document.createElement('div');\n",
              "          docLink.innerHTML = docLinkHtml;\n",
              "          element.appendChild(docLink);\n",
              "        }\n",
              "      </script>\n",
              "    </div>\n",
              "  </div>\n",
              "  "
            ],
            "text/plain": [
              "       height_in  height_cm  ...  cluster (pound, in)  cluster (pound, cm)\n",
              "Ann           63      160.0  ...                    0                    0\n",
              "Bob           67      170.2  ...                    0                    1\n",
              "Cecil         70      177.8  ...                    1                    1\n",
              "\n",
              "[3 rows x 5 columns]"
            ]
          },
          "metadata": {}
        }
      ]
    },
    {
      "cell_type": "markdown",
      "source": [
        "Let's get scaled height values.\n",
        "\n",
        "> We only need one of the height columns, but we do it for both to show that we get the same results (up to a certain rounding precision)."
      ],
      "metadata": {
        "id": "ogVm2u9rDi9D"
      }
    },
    {
      "cell_type": "code",
      "source": [
        "## do scaling\n",
        "from sklearn import preprocessing\n",
        "scaler = preprocessing.StandardScaler()\n",
        "## fit the scaler; we only need one of in or cm columns, but just so we see that they are the same when scaled\n",
        "df_abc.loc[:,[\"scaled_height_in\", \"scaled_height_cm\", \"scaled_weight\"]] = scaler.fit_transform(df_abc[[\"height_in\", \"height_cm\", \"weight_pounds\"]])\n",
        "df_abc.loc[:,[\"scaled_height_in\", \"scaled_height_cm\"]]"
      ],
      "metadata": {
        "colab": {
          "base_uri": "https://localhost:8080/",
          "height": 143
        },
        "id": "8vy5w4vj2zDf",
        "outputId": "26ac1d49-d239-447e-ea88-69f8d6798097"
      },
      "execution_count": null,
      "outputs": [
        {
          "output_type": "execute_result",
          "data": {
            "text/html": [
              "\n",
              "  <div id=\"df-57691340-0476-41b9-a9b7-a9e0c90c7c98\">\n",
              "    <div class=\"colab-df-container\">\n",
              "      <div>\n",
              "<style scoped>\n",
              "    .dataframe tbody tr th:only-of-type {\n",
              "        vertical-align: middle;\n",
              "    }\n",
              "\n",
              "    .dataframe tbody tr th {\n",
              "        vertical-align: top;\n",
              "    }\n",
              "\n",
              "    .dataframe thead th {\n",
              "        text-align: right;\n",
              "    }\n",
              "</style>\n",
              "<table border=\"1\" class=\"dataframe\">\n",
              "  <thead>\n",
              "    <tr style=\"text-align: right;\">\n",
              "      <th></th>\n",
              "      <th>scaled_height_in</th>\n",
              "      <th>scaled_height_cm</th>\n",
              "    </tr>\n",
              "  </thead>\n",
              "  <tbody>\n",
              "    <tr>\n",
              "      <th>Ann</th>\n",
              "      <td>-1.278724</td>\n",
              "      <td>-1.279834</td>\n",
              "    </tr>\n",
              "    <tr>\n",
              "      <th>Bob</th>\n",
              "      <td>0.116248</td>\n",
              "      <td>0.118842</td>\n",
              "    </tr>\n",
              "    <tr>\n",
              "      <th>Cecil</th>\n",
              "      <td>1.162476</td>\n",
              "      <td>1.160992</td>\n",
              "    </tr>\n",
              "  </tbody>\n",
              "</table>\n",
              "</div>\n",
              "      <button class=\"colab-df-convert\" onclick=\"convertToInteractive('df-57691340-0476-41b9-a9b7-a9e0c90c7c98')\"\n",
              "              title=\"Convert this dataframe to an interactive table.\"\n",
              "              style=\"display:none;\">\n",
              "        \n",
              "  <svg xmlns=\"http://www.w3.org/2000/svg\" height=\"24px\"viewBox=\"0 0 24 24\"\n",
              "       width=\"24px\">\n",
              "    <path d=\"M0 0h24v24H0V0z\" fill=\"none\"/>\n",
              "    <path d=\"M18.56 5.44l.94 2.06.94-2.06 2.06-.94-2.06-.94-.94-2.06-.94 2.06-2.06.94zm-11 1L8.5 8.5l.94-2.06 2.06-.94-2.06-.94L8.5 2.5l-.94 2.06-2.06.94zm10 10l.94 2.06.94-2.06 2.06-.94-2.06-.94-.94-2.06-.94 2.06-2.06.94z\"/><path d=\"M17.41 7.96l-1.37-1.37c-.4-.4-.92-.59-1.43-.59-.52 0-1.04.2-1.43.59L10.3 9.45l-7.72 7.72c-.78.78-.78 2.05 0 2.83L4 21.41c.39.39.9.59 1.41.59.51 0 1.02-.2 1.41-.59l7.78-7.78 2.81-2.81c.8-.78.8-2.07 0-2.86zM5.41 20L4 18.59l7.72-7.72 1.47 1.35L5.41 20z\"/>\n",
              "  </svg>\n",
              "      </button>\n",
              "      \n",
              "  <style>\n",
              "    .colab-df-container {\n",
              "      display:flex;\n",
              "      flex-wrap:wrap;\n",
              "      gap: 12px;\n",
              "    }\n",
              "\n",
              "    .colab-df-convert {\n",
              "      background-color: #E8F0FE;\n",
              "      border: none;\n",
              "      border-radius: 50%;\n",
              "      cursor: pointer;\n",
              "      display: none;\n",
              "      fill: #1967D2;\n",
              "      height: 32px;\n",
              "      padding: 0 0 0 0;\n",
              "      width: 32px;\n",
              "    }\n",
              "\n",
              "    .colab-df-convert:hover {\n",
              "      background-color: #E2EBFA;\n",
              "      box-shadow: 0px 1px 2px rgba(60, 64, 67, 0.3), 0px 1px 3px 1px rgba(60, 64, 67, 0.15);\n",
              "      fill: #174EA6;\n",
              "    }\n",
              "\n",
              "    [theme=dark] .colab-df-convert {\n",
              "      background-color: #3B4455;\n",
              "      fill: #D2E3FC;\n",
              "    }\n",
              "\n",
              "    [theme=dark] .colab-df-convert:hover {\n",
              "      background-color: #434B5C;\n",
              "      box-shadow: 0px 1px 3px 1px rgba(0, 0, 0, 0.15);\n",
              "      filter: drop-shadow(0px 1px 2px rgba(0, 0, 0, 0.3));\n",
              "      fill: #FFFFFF;\n",
              "    }\n",
              "  </style>\n",
              "\n",
              "      <script>\n",
              "        const buttonEl =\n",
              "          document.querySelector('#df-57691340-0476-41b9-a9b7-a9e0c90c7c98 button.colab-df-convert');\n",
              "        buttonEl.style.display =\n",
              "          google.colab.kernel.accessAllowed ? 'block' : 'none';\n",
              "\n",
              "        async function convertToInteractive(key) {\n",
              "          const element = document.querySelector('#df-57691340-0476-41b9-a9b7-a9e0c90c7c98');\n",
              "          const dataTable =\n",
              "            await google.colab.kernel.invokeFunction('convertToInteractive',\n",
              "                                                     [key], {});\n",
              "          if (!dataTable) return;\n",
              "\n",
              "          const docLinkHtml = 'Like what you see? Visit the ' +\n",
              "            '<a target=\"_blank\" href=https://colab.research.google.com/notebooks/data_table.ipynb>data table notebook</a>'\n",
              "            + ' to learn more about interactive tables.';\n",
              "          element.innerHTML = '';\n",
              "          dataTable['output_type'] = 'display_data';\n",
              "          await google.colab.output.renderOutput(dataTable, element);\n",
              "          const docLink = document.createElement('div');\n",
              "          docLink.innerHTML = docLinkHtml;\n",
              "          element.appendChild(docLink);\n",
              "        }\n",
              "      </script>\n",
              "    </div>\n",
              "  </div>\n",
              "  "
            ],
            "text/plain": [
              "       scaled_height_in  scaled_height_cm\n",
              "Ann           -1.278724         -1.279834\n",
              "Bob            0.116248          0.118842\n",
              "Cecil          1.162476          1.160992"
            ]
          },
          "metadata": {},
          "execution_count": 5
        }
      ]
    },
    {
      "cell_type": "code",
      "source": [
        "for incm in [\"in\", \"cm\"]:\n",
        "\n",
        "    clust = KMeans(n_clusters=2, random_state=10)\n",
        "\n",
        "    df_abc[f\"cluster (pound, scaled_{incm})\"] = clust.fit_predict(df_abc[[f\"scaled_height_{incm}\", \"scaled_weight\"]])\n",
        "    ax = df_abc.plot.scatter(\"scaled_weight\", f\"scaled_height_{incm}\", \n",
        "                             c=f\"cluster (pound, scaled_{incm})\", cmap=\"prism\", colorbar=False,\n",
        "                             s=100, title=f\"Clusters when height is scaled from {incm}\")\n",
        "    ax.set_aspect(\"equal\")\n",
        "    plt.show()\n",
        "\n",
        "display(df_abc)"
      ],
      "metadata": {
        "colab": {
          "base_uri": "https://localhost:8080/",
          "height": 780
        },
        "id": "pN2msFTS2zDh",
        "outputId": "662f35c9-56d6-48f8-b7a6-8072a63b61d3"
      },
      "execution_count": null,
      "outputs": [
        {
          "output_type": "display_data",
          "data": {
            "image/png": "[encoded data removed]",
            "text/plain": [
              "<Figure size 432x288 with 1 Axes>"
            ]
          },
          "metadata": {
            "needs_background": "light"
          }
        },
        {
          "output_type": "display_data",
          "data": {
            "image/png": "[encoded data removed]",
            "text/plain": [
              "<Figure size 432x288 with 1 Axes>"
            ]
          },
          "metadata": {
            "needs_background": "light"
          }
        },
        {
          "output_type": "display_data",
          "data": {
            "text/html": [
              "\n",
              "  <div id=\"df-1bc0bf1f-f5bb-4191-b5b0-2e1ab6e32a8d\">\n",
              "    <div class=\"colab-df-container\">\n",
              "      <div>\n",
              "<style scoped>\n",
              "    .dataframe tbody tr th:only-of-type {\n",
              "        vertical-align: middle;\n",
              "    }\n",
              "\n",
              "    .dataframe tbody tr th {\n",
              "        vertical-align: top;\n",
              "    }\n",
              "\n",
              "    .dataframe thead th {\n",
              "        text-align: right;\n",
              "    }\n",
              "</style>\n",
              "<table border=\"1\" class=\"dataframe\">\n",
              "  <thead>\n",
              "    <tr style=\"text-align: right;\">\n",
              "      <th></th>\n",
              "      <th>height_in</th>\n",
              "      <th>height_cm</th>\n",
              "      <th>weight_pounds</th>\n",
              "      <th>cluster (pound, in)</th>\n",
              "      <th>cluster (pound, cm)</th>\n",
              "      <th>scaled_height_in</th>\n",
              "      <th>scaled_height_cm</th>\n",
              "      <th>scaled_weight</th>\n",
              "      <th>cluster (pound, scaled_in)</th>\n",
              "      <th>cluster (pound, scaled_cm)</th>\n",
              "    </tr>\n",
              "  </thead>\n",
              "  <tbody>\n",
              "    <tr>\n",
              "      <th>Ann</th>\n",
              "      <td>63</td>\n",
              "      <td>160.0</td>\n",
              "      <td>150</td>\n",
              "      <td>0</td>\n",
              "      <td>0</td>\n",
              "      <td>-1.278724</td>\n",
              "      <td>-1.279834</td>\n",
              "      <td>-1.204849</td>\n",
              "      <td>1</td>\n",
              "      <td>1</td>\n",
              "    </tr>\n",
              "    <tr>\n",
              "      <th>Bob</th>\n",
              "      <td>67</td>\n",
              "      <td>170.2</td>\n",
              "      <td>160</td>\n",
              "      <td>0</td>\n",
              "      <td>1</td>\n",
              "      <td>0.116248</td>\n",
              "      <td>0.118842</td>\n",
              "      <td>-0.038866</td>\n",
              "      <td>0</td>\n",
              "      <td>0</td>\n",
              "    </tr>\n",
              "    <tr>\n",
              "      <th>Cecil</th>\n",
              "      <td>70</td>\n",
              "      <td>177.8</td>\n",
              "      <td>171</td>\n",
              "      <td>1</td>\n",
              "      <td>1</td>\n",
              "      <td>1.162476</td>\n",
              "      <td>1.160992</td>\n",
              "      <td>1.243715</td>\n",
              "      <td>0</td>\n",
              "      <td>0</td>\n",
              "    </tr>\n",
              "  </tbody>\n",
              "</table>\n",
              "</div>\n",
              "      <button class=\"colab-df-convert\" onclick=\"convertToInteractive('df-1bc0bf1f-f5bb-4191-b5b0-2e1ab6e32a8d')\"\n",
              "              title=\"Convert this dataframe to an interactive table.\"\n",
              "              style=\"display:none;\">\n",
              "        \n",
              "  <svg xmlns=\"http://www.w3.org/2000/svg\" height=\"24px\"viewBox=\"0 0 24 24\"\n",
              "       width=\"24px\">\n",
              "    <path d=\"M0 0h24v24H0V0z\" fill=\"none\"/>\n",
              "    <path d=\"M18.56 5.44l.94 2.06.94-2.06 2.06-.94-2.06-.94-.94-2.06-.94 2.06-2.06.94zm-11 1L8.5 8.5l.94-2.06 2.06-.94-2.06-.94L8.5 2.5l-.94 2.06-2.06.94zm10 10l.94 2.06.94-2.06 2.06-.94-2.06-.94-.94-2.06-.94 2.06-2.06.94z\"/><path d=\"M17.41 7.96l-1.37-1.37c-.4-.4-.92-.59-1.43-.59-.52 0-1.04.2-1.43.59L10.3 9.45l-7.72 7.72c-.78.78-.78 2.05 0 2.83L4 21.41c.39.39.9.59 1.41.59.51 0 1.02-.2 1.41-.59l7.78-7.78 2.81-2.81c.8-.78.8-2.07 0-2.86zM5.41 20L4 18.59l7.72-7.72 1.47 1.35L5.41 20z\"/>\n",
              "  </svg>\n",
              "      </button>\n",
              "      \n",
              "  <style>\n",
              "    .colab-df-container {\n",
              "      display:flex;\n",
              "      flex-wrap:wrap;\n",
              "      gap: 12px;\n",
              "    }\n",
              "\n",
              "    .colab-df-convert {\n",
              "      background-color: #E8F0FE;\n",
              "      border: none;\n",
              "      border-radius: 50%;\n",
              "      cursor: pointer;\n",
              "      display: none;\n",
              "      fill: #1967D2;\n",
              "      height: 32px;\n",
              "      padding: 0 0 0 0;\n",
              "      width: 32px;\n",
              "    }\n",
              "\n",
              "    .colab-df-convert:hover {\n",
              "      background-color: #E2EBFA;\n",
              "      box-shadow: 0px 1px 2px rgba(60, 64, 67, 0.3), 0px 1px 3px 1px rgba(60, 64, 67, 0.15);\n",
              "      fill: #174EA6;\n",
              "    }\n",
              "\n",
              "    [theme=dark] .colab-df-convert {\n",
              "      background-color: #3B4455;\n",
              "      fill: #D2E3FC;\n",
              "    }\n",
              "\n",
              "    [theme=dark] .colab-df-convert:hover {\n",
              "      background-color: #434B5C;\n",
              "      box-shadow: 0px 1px 3px 1px rgba(0, 0, 0, 0.15);\n",
              "      filter: drop-shadow(0px 1px 2px rgba(0, 0, 0, 0.3));\n",
              "      fill: #FFFFFF;\n",
              "    }\n",
              "  </style>\n",
              "\n",
              "      <script>\n",
              "        const buttonEl =\n",
              "          document.querySelector('#df-1bc0bf1f-f5bb-4191-b5b0-2e1ab6e32a8d button.colab-df-convert');\n",
              "        buttonEl.style.display =\n",
              "          google.colab.kernel.accessAllowed ? 'block' : 'none';\n",
              "\n",
              "        async function convertToInteractive(key) {\n",
              "          const element = document.querySelector('#df-1bc0bf1f-f5bb-4191-b5b0-2e1ab6e32a8d');\n",
              "          const dataTable =\n",
              "            await google.colab.kernel.invokeFunction('convertToInteractive',\n",
              "                                                     [key], {});\n",
              "          if (!dataTable) return;\n",
              "\n",
              "          const docLinkHtml = 'Like what you see? Visit the ' +\n",
              "            '<a target=\"_blank\" href=https://colab.research.google.com/notebooks/data_table.ipynb>data table notebook</a>'\n",
              "            + ' to learn more about interactive tables.';\n",
              "          element.innerHTML = '';\n",
              "          dataTable['output_type'] = 'display_data';\n",
              "          await google.colab.output.renderOutput(dataTable, element);\n",
              "          const docLink = document.createElement('div');\n",
              "          docLink.innerHTML = docLinkHtml;\n",
              "          element.appendChild(docLink);\n",
              "        }\n",
              "      </script>\n",
              "    </div>\n",
              "  </div>\n",
              "  "
            ],
            "text/plain": [
              "       height_in  ...  cluster (pound, scaled_cm)\n",
              "Ann           63  ...                           1\n",
              "Bob           67  ...                           0\n",
              "Cecil         70  ...                           0\n",
              "\n",
              "[3 rows x 10 columns]"
            ]
          },
          "metadata": {}
        }
      ]
    },
    {
      "cell_type": "markdown",
      "source": [
        "Observe how\n",
        "* Scaling reflects that the in and cm columns encode the same height.\n",
        "* Clusters are now consistent.\n",
        "  * Note that the actual label number (and thus, on the plot, colour) of the clusters is up to chance (unless we set the random seed as we do here). It's the membership of the clusters that matters. (Contrast this with *classification* where labels do matter.)\n",
        "\n",
        "\n",
        "> Plotting hint: You can choose your own [colormap](https://matplotlib.org/stable/tutorials/colors/colormaps.html).\n"
      ],
      "metadata": {
        "id": "KLFcVBVTEA7N"
      }
    },
    {
      "cell_type": "markdown",
      "source": [
        "## Centimeters vs meters\n",
        "\n",
        "A variable with much larger numeric values will determine the clusters."
      ],
      "metadata": {
        "id": "EBFJFbAh4Z7X"
      }
    },
    {
      "cell_type": "markdown",
      "source": [
        "Let's generate some random samples that are rectangles, with one side given in cm, the other in m."
      ],
      "metadata": {
        "id": "cFBnG31TEe5T"
      }
    },
    {
      "cell_type": "code",
      "source": [
        "import numpy as np\n",
        "\n",
        "np.random.seed(10)\n",
        "## generate some random rectangle data:\n",
        "num_of_rectangles = 50\n",
        "## two sides, side_1 in cm's, side_2 in meters\n",
        "side_1 = np.concatenate([np.random.randint(10, 50, num_of_rectangles),\n",
        "                         np.random.randint(30, 100, num_of_rectangles),])\n",
        "side_2 = np.concatenate([np.random.randint(10, 50, num_of_rectangles),\n",
        "                         np.random.randint(30, 100, num_of_rectangles),])  / 100\n",
        "## X contains (side1, side2) pairs\n",
        "X = list(zip(side_1, side_2))\n",
        "df_rect = pd.DataFrame(X, columns=[\"side1 (cm)\", \"side2 (m)\"])\n",
        "\n",
        "## plot our rectangles in the side 1 - side 2 space\n",
        "df_rect.plot.scatter(*df_rect.columns);"
      ],
      "metadata": {
        "colab": {
          "base_uri": "https://localhost:8080/",
          "height": 279
        },
        "id": "pgzZjjpa3kiR",
        "outputId": "9677b8e7-ad67-4768-fa40-37df35be4337"
      },
      "execution_count": null,
      "outputs": [
        {
          "output_type": "display_data",
          "data": {
            "image/png": "[encoded data removed]",
            "text/plain": [
              "<Figure size 432x288 with 1 Axes>"
            ]
          },
          "metadata": {
            "needs_background": "light"
          }
        }
      ]
    },
    {
      "cell_type": "markdown",
      "source": [
        "Clusters influenced by the variable with numbers that are larger by two orders of magnitude.\n",
        "\n",
        "> Hint: Remember to pay attention to the scale of the plots when interpreting them. We here don't enforce equal aspect!"
      ],
      "metadata": {
        "id": "Idf40mYf7zbE"
      }
    },
    {
      "cell_type": "code",
      "source": [
        "clust = KMeans(n_clusters=2)\n",
        "df_rect[\"cluster (cm, m)\"] = clust.fit_predict(df_rect[[\"side1 (cm)\", \"side2 (m)\"]])\n",
        "\n",
        "df_rect.plot.scatter(*df_rect.columns[:2], c=df_rect.columns[2], cmap=\"prism\", colorbar=False);"
      ],
      "metadata": {
        "colab": {
          "base_uri": "https://localhost:8080/",
          "height": 279
        },
        "id": "gdaz4NOJ45-d",
        "outputId": "46ae5b4e-b1d2-4425-db03-760974cc18d3"
      },
      "execution_count": null,
      "outputs": [
        {
          "output_type": "display_data",
          "data": {
            "image/png": "[encoded data removed]",
            "text/plain": [
              "<Figure size 432x288 with 1 Axes>"
            ]
          },
          "metadata": {
            "needs_background": "light"
          }
        }
      ]
    },
    {
      "cell_type": "code",
      "source": [
        "print(\"The same plot with equal aspect...\")\n",
        "ax = df_rect.plot.scatter(*df_rect.columns[:2], c=df_rect.columns[2], cmap=\"prism\", colorbar=False);\n",
        "ax.set_aspect(\"equal\")\n",
        "plt.show()"
      ],
      "metadata": {
        "colab": {
          "base_uri": "https://localhost:8080/",
          "height": 104
        },
        "id": "HFQzbBrYF9VY",
        "outputId": "5d83e0a7-8afe-4a7c-8df5-fd229288f98f"
      },
      "execution_count": null,
      "outputs": [
        {
          "output_type": "stream",
          "name": "stdout",
          "text": [
            "The same plot with equal aspect...\n"
          ]
        },
        {
          "output_type": "display_data",
          "data": {
            "image/png": "[encoded data removed]",
            "text/plain": [
              "<Figure size 432x288 with 1 Axes>"
            ]
          },
          "metadata": {
            "needs_background": "light"
          }
        }
      ]
    },
    {
      "cell_type": "markdown",
      "source": [
        "In contrast, clusters after scaling..."
      ],
      "metadata": {
        "id": "D_jaYy4Q8LJL"
      }
    },
    {
      "cell_type": "code",
      "source": [
        "## get scaled values\n",
        "scaler = preprocessing.StandardScaler()\n",
        "df_rect.loc[:,[\"side1 (scaled)\", \"side2 (scaled)\"]] = scaler.fit_transform(df_rect[[\"side1 (cm)\", \"side2 (m)\",]])"
      ],
      "metadata": {
        "id": "2e82u8Wt8Zyw"
      },
      "execution_count": null,
      "outputs": []
    },
    {
      "cell_type": "code",
      "source": [
        "clust = KMeans(n_clusters=2)\n",
        "df_rect[\"cluster (scaled)\"] = clust.fit_predict(df_rect[[\"side1 (scaled)\", \"side2 (scaled)\"]])\n",
        "\n",
        "df_rect.plot.scatter(\"side1 (scaled)\", \"side2 (scaled)\", c=\"cluster (scaled)\", cmap=\"prism\", colorbar=False);"
      ],
      "metadata": {
        "colab": {
          "base_uri": "https://localhost:8080/",
          "height": 279
        },
        "outputId": "42394eef-6afa-4fb3-9628-c3d222a0ed0b",
        "id": "XkiizMyU8LJN"
      },
      "execution_count": null,
      "outputs": [
        {
          "output_type": "display_data",
          "data": {
            "image/png": "[encoded data removed]",
            "text/plain": [
              "<Figure size 432x288 with 1 Axes>"
            ]
          },
          "metadata": {
            "needs_background": "light"
          }
        }
      ]
    },
    {
      "cell_type": "markdown",
      "source": [
        "Observe how the dividing line went from vertical (=clusters divided along just one dimension) to slanted (=interaction of two dimensions in dividing clusters)."
      ],
      "metadata": {
        "id": "K0H5PECb-yhh"
      }
    }
  ]
}