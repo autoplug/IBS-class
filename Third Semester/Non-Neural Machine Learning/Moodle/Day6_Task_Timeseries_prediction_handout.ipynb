{
  "cells": [
    {
      "cell_type": "markdown",
      "metadata": {
        "id": "CI5m79vNdHy6"
      },
      "source": [
        "# Forecasting sunspot activity\n",
        "\n",
        "Our telecommunications company is rolling out a new service, this causes additional load to our network, so we have to rely more on satellite based communication services. According to the transmission technology department, \"space weather\" can have a fundamental influence on our satellite based services, so we have to evaluate the risks. Space weather is strongly influenced by the sunspot activity of our Sun, so accurate forecasting of the activity can be highly valuable.\n",
        "\n",
        "More information on the phenomena itself can be found [here](https://en.wikipedia.org/wiki/Sunspot#Application).\n",
        "\n",
        "## Primary datasource\n",
        "\n",
        "During modeling we use the [Sunspot Index and Long-term Solar Observations](http://www.sidc.be/silso/datafiles) dataset.\n",
        "\n",
        "Monthly mean total sunspot number data [here](http://www.sidc.be/silso/INFO/snmtotcsv.php)\n",
        "\n",
        "Attached description [here](http://www.sidc.be/silso/infosnmtot)\n",
        "\n",
        "Daily total sunspot number data [here](http://www.sidc.be/silso/INFO/sndtotcsv.php)\n",
        "\n",
        "Attached description [here](http://www.sidc.be/silso/infosndtot)\n"
      ]
    },
    {
      "cell_type": "markdown",
      "source": [
        "## Monthly modeling"
      ],
      "metadata": {
        "id": "RNuZwCG_ez5z"
      }
    },
    {
      "cell_type": "markdown",
      "metadata": {
        "id": "gXqb0d2rdHzF"
      },
      "source": [
        "### Task 1:\n",
        "\n",
        "Download and load the dataset into a DataFrame (make use of the description of the dataset!)."
      ]
    },
    {
      "cell_type": "code",
      "execution_count": null,
      "metadata": {
        "id": "RmGtpRfcdHzH"
      },
      "outputs": [],
      "source": []
    },
    {
      "cell_type": "markdown",
      "metadata": {
        "id": "dmef_5YDdHzI"
      },
      "source": [
        "### Task 2:\n",
        "\n",
        "Do \"explorative\" analysis on the data, produce basic descriptors and graphs, describe its basic features."
      ]
    },
    {
      "cell_type": "code",
      "execution_count": null,
      "metadata": {
        "id": "vtAec5HidHzJ"
      },
      "outputs": [],
      "source": []
    },
    {
      "cell_type": "markdown",
      "metadata": {
        "id": "HnOmGtNrdHzK"
      },
      "source": [
        "### Task 3:\n",
        "\n",
        "Please formulate modeling assumptions on the data, like: what methods you would try, what modeling window, why?"
      ]
    },
    {
      "cell_type": "code",
      "execution_count": null,
      "metadata": {
        "id": "_SXc-ijgdHzL"
      },
      "outputs": [],
      "source": []
    },
    {
      "cell_type": "markdown",
      "metadata": {
        "id": "fPEJZdqldHzM"
      },
      "source": [
        "### Task 4:\n",
        "\n",
        "Fit a linear model to the data, evaluate its performance, draw conclusions."
      ]
    },
    {
      "cell_type": "code",
      "execution_count": null,
      "metadata": {
        "id": "ccq5zVdPdHzN"
      },
      "outputs": [],
      "source": []
    },
    {
      "cell_type": "markdown",
      "metadata": {
        "id": "UppPJe_QdHzO"
      },
      "source": [
        "### Task 5:\n",
        "\n",
        "Use an autoregressive model for forecasting, evaluate its performance."
      ]
    },
    {
      "cell_type": "code",
      "execution_count": null,
      "metadata": {
        "id": "2kxE88GCdHzP"
      },
      "outputs": [],
      "source": []
    },
    {
      "cell_type": "markdown",
      "metadata": {
        "id": "O52H4o_bdHzQ"
      },
      "source": [
        "### Task 6:\n",
        "\n",
        "Use any complex modeling approach, maximize predictive accuracy."
      ]
    },
    {
      "cell_type": "code",
      "execution_count": null,
      "metadata": {
        "id": "5OyO7ffxdHzR"
      },
      "outputs": [],
      "source": []
    },
    {
      "cell_type": "markdown",
      "metadata": {
        "id": "NPMD6AsQdHzS"
      },
      "source": [
        "### Task 7:\n",
        "\n",
        "Choose the most appropriate modeling method, describe its pro's and con's."
      ]
    },
    {
      "cell_type": "code",
      "execution_count": null,
      "metadata": {
        "id": "dsIsEeEcdHzT"
      },
      "outputs": [],
      "source": []
    },
    {
      "cell_type": "markdown",
      "metadata": {
        "id": "2ADH4hKgdHzT"
      },
      "source": [
        "## Optional task: Daily modeling\n",
        "\n",
        "Try to apply the above elaborated approach to daily data."
      ]
    },
    {
      "cell_type": "code",
      "execution_count": null,
      "metadata": {
        "id": "_7noCO1OdHzU"
      },
      "outputs": [],
      "source": []
    }
  ],
  "metadata": {
    "kernelspec": {
      "display_name": "Python 3",
      "language": "python",
      "name": "python3"
    },
    "language_info": {
      "codemirror_mode": {
        "name": "ipython",
        "version": 3
      },
      "file_extension": ".py",
      "mimetype": "text/x-python",
      "name": "python",
      "nbconvert_exporter": "python",
      "pygments_lexer": "ipython3",
      "version": "3.6.8"
    },
    "toc": {
      "base_numbering": 1,
      "nav_menu": {},
      "number_sections": true,
      "sideBar": true,
      "skip_h1_title": false,
      "title_cell": "Table of Contents",
      "title_sidebar": "Contents",
      "toc_cell": false,
      "toc_position": {},
      "toc_section_display": true,
      "toc_window_display": false
    },
    "varInspector": {
      "cols": {
        "lenName": 16,
        "lenType": 16,
        "lenVar": 40
      },
      "kernels_config": {
        "python": {
          "delete_cmd_postfix": "",
          "delete_cmd_prefix": "del ",
          "library": "var_list.py",
          "varRefreshCmd": "print(var_dic_list())"
        },
        "r": {
          "delete_cmd_postfix": ") ",
          "delete_cmd_prefix": "rm(",
          "library": "var_list.r",
          "varRefreshCmd": "cat(var_dic_list()) "
        }
      },
      "types_to_exclude": [
        "module",
        "function",
        "builtin_function_or_method",
        "instance",
        "_Feature"
      ],
      "window_display": false
    },
    "colab": {
      "provenance": [],
      "toc_visible": true
    }
  },
  "nbformat": 4,
  "nbformat_minor": 0
}