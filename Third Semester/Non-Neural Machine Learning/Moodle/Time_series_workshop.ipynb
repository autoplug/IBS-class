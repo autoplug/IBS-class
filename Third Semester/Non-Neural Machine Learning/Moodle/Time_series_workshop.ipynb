{
  "nbformat": 4,
  "nbformat_minor": 0,
  "metadata": {
    "colab": {
      "provenance": [],
      "toc_visible": true
    },
    "kernelspec": {
      "name": "python3",
      "display_name": "Python 3"
    },
    "language_info": {
      "name": "python"
    }
  },
  "cells": [
    {
      "cell_type": "markdown",
      "metadata": {
        "id": "gST3VFIOzjk7"
      },
      "source": [
        "#New extended hemispheric sunspot numbers\n",
        "\n",
        "\n",
        "<img src=\"https://drive.google.com/uc?export=download&id=17ks2_EZdf9loAqjiQg9L-GV4lPoNuLgo\" width=\"40%\">"
      ]
    },
    {
      "cell_type": "markdown",
      "metadata": {
        "id": "iS2PWEVszXD4"
      },
      "source": [
        "#Task1\n",
        "\n",
        "Download and load the monthly data!"
      ]
    },
    {
      "cell_type": "code",
      "metadata": {
        "colab": {
          "base_uri": "https://localhost:8080/"
        },
        "id": "1YKfV6COzUi_",
        "outputId": "22d4d7ba-5398-4587-ca1c-3cda388c2b4a"
      },
      "source": [
        "!wget -O sunspot.csv http://www.sidc.be/silso/INFO/snmtotcsv.php"
      ],
      "execution_count": null,
      "outputs": [
        {
          "output_type": "stream",
          "text": [
            "--2021-07-28 15:48:27--  http://www.sidc.be/silso/INFO/snmtotcsv.php\n",
            "Resolving www.sidc.be (www.sidc.be)... 193.190.230.45\n",
            "Connecting to www.sidc.be (www.sidc.be)|193.190.230.45|:80... connected.\n",
            "HTTP request sent, awaiting response... 302 Found\n",
            "Location: https://wwwbis.sidc.be/silso/INFO/snmtotcsv.php [following]\n",
            "--2021-07-28 15:48:28--  https://wwwbis.sidc.be/silso/INFO/snmtotcsv.php\n",
            "Resolving wwwbis.sidc.be (wwwbis.sidc.be)... 193.190.230.16\n",
            "Connecting to wwwbis.sidc.be (wwwbis.sidc.be)|193.190.230.16|:443... connected.\n",
            "HTTP request sent, awaiting response... 200 OK\n",
            "Length: unspecified [text/csv]\n",
            "Saving to: ‘sunspot.csv’\n",
            "\n",
            "sunspot.csv             [  <=>               ] 121.35K   468KB/s    in 0.3s    \n",
            "\n",
            "2021-07-28 15:48:29 (468 KB/s) - ‘sunspot.csv’ saved [124260]\n",
            "\n"
          ],
          "name": "stdout"
        }
      ]
    },
    {
      "cell_type": "markdown",
      "metadata": {
        "id": "oMnIhkv72d5F"
      },
      "source": [
        "#Task 2\n",
        "\n",
        "Perform \"exploratory\" analysis on the data, using descriptors and graphs to present its main features!"
      ]
    },
    {
      "cell_type": "code",
      "metadata": {
        "id": "tK-BvDfxPD4b"
      },
      "source": [],
      "execution_count": null,
      "outputs": []
    },
    {
      "cell_type": "markdown",
      "metadata": {
        "id": "99Brh2Or2dtZ"
      },
      "source": [
        "# Task 3\n",
        "\n",
        "Split the data, for the modeling."
      ]
    },
    {
      "cell_type": "code",
      "metadata": {
        "id": "A8I6dJLZ9D3R"
      },
      "source": [],
      "execution_count": null,
      "outputs": []
    },
    {
      "cell_type": "markdown",
      "metadata": {
        "id": "8FMxB2ry2dV8"
      },
      "source": [
        "# Task 4\n",
        "\n",
        "Fit a basic linear regression model on the data."
      ]
    },
    {
      "cell_type": "code",
      "metadata": {
        "id": "yygFwnKY9CkI"
      },
      "source": [],
      "execution_count": null,
      "outputs": []
    },
    {
      "cell_type": "markdown",
      "metadata": {
        "id": "dd3Rgmtf9ID9"
      },
      "source": [
        "# Task 5\n",
        "\n",
        "Use an autoregressive model for forecasting, evaluate its performance! (ARIMA)\n",
        "\n",
        "Note: using tqdm is an elegant thing, it automatically generates a progressbar based on the cycle ..."
      ]
    },
    {
      "cell_type": "code",
      "metadata": {
        "id": "EJeZXPVq-xKE"
      },
      "source": [],
      "execution_count": null,
      "outputs": []
    },
    {
      "cell_type": "markdown",
      "metadata": {
        "id": "x399hscC-yUU"
      },
      "source": [
        "# Task 6\n",
        "\n",
        "Apply complex modeling method, maximize predictive performance!\n",
        "\n",
        "“Make a rolling window after shifting the variable by 1 to have X and y” is a very frustrating activity by manually. This should not be done manually, not least because of possible sources of error.\n",
        "\n",
        "This is where seglearn comes into, which does it all for us."
      ]
    },
    {
      "cell_type": "code",
      "metadata": {
        "id": "tfnxc0Cl_pHd"
      },
      "source": [
        "!pip install seglearn"
      ],
      "execution_count": null,
      "outputs": []
    },
    {
      "cell_type": "code",
      "metadata": {
        "id": "vQtw2F6C_aZ_"
      },
      "source": [
        "TIME_WINDOW=30\n",
        "FORECAST_DISTANCE=1"
      ],
      "execution_count": null,
      "outputs": []
    },
    {
      "cell_type": "code",
      "metadata": {
        "id": "z7dGO4lL_a4m"
      },
      "source": [
        "from seglearn.transform import SegmentXYForecast, last"
      ],
      "execution_count": null,
      "outputs": []
    },
    {
      "cell_type": "code",
      "metadata": {
        "id": "cFF8wU8v_eBa"
      },
      "source": [
        "from sklearn.ensemble import RandomForestRegressor\n",
        "\n",
        "N_ESTIMATORS = 30\n",
        "RANDOM_STATE = 452543634"
      ],
      "execution_count": null,
      "outputs": []
    }
  ]
}