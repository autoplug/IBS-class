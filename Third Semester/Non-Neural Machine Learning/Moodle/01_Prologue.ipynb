{
  "nbformat": 4,
  "nbformat_minor": 0,
  "metadata": {
    "colab": {
      "provenance": [],
      "collapsed_sections": [
        "iICKE4bm3MYG"
      ]
    },
    "kernelspec": {
      "name": "python3",
      "display_name": "Python 3"
    },
    "language_info": {
      "name": "python"
    }
  },
  "cells": [
    {
      "cell_type": "markdown",
      "metadata": {
        "id": "KLRdrEUd-vwf"
      },
      "source": [
        "# Prologue - Welcome to the course!"
      ]
    },
    {
      "cell_type": "markdown",
      "metadata": {
        "id": "08w_ienAEBJB"
      },
      "source": [
        "Course name: Non-Neural Machine Learning"
      ]
    },
    {
      "cell_type": "markdown",
      "metadata": {
        "id": "myicPEmND9aS"
      },
      "source": [
        "## Goals of the course\n",
        "\n",
        "This course aims to give an introduction to **big data**, **statistical** and **classical machine learning**. The primary objective is to provide participants with a **theoretical** overview and equip them with key **intuitions** and basic **technical skills** to start their work in applied modeling. \n",
        "\n",
        "Due to time limitations, the vast size of this field and the dynamically evolving nature of our scientific understanding and of the available tools, a considerable amount of **further work** is needed by the participants later on to hone their skills and understanding. The course material contains frequent pointers to further readings and information sources that can guide the students on their later journey.\n",
        "\n",
        "Note: big data is covered in the present Non-neural ML course, while the next DL course will be dedicated entirely to artificial neural networks."
      ]
    },
    {
      "cell_type": "markdown",
      "metadata": {
        "id": "O5WcINYHFvux"
      },
      "source": [
        "## Logistics\n",
        "\n",
        "The different topics covered involve **Theory**, **Practical implementation** and **\"Task\"** session, alternately. The Theory and Practical implementation parts serve to lay the theoretical foundations for understanding the topic, and to impart the practical knowledge for the implementation of the relevant solutions. The Task part of sessions centers on tasks relevant for the theoretical material and the course participants themselves must implement the solutions in Python (and its multitude of libraries) based on the Practical implementations presented and discussed.\n",
        "\n",
        "The completion of the in-class tasks can be either individual or cooperative. **Interaction with the instructors about the problems is always** strongly **encouraged** (in both the practical, as well as the theoretical parts of the sessions)."
      ]
    },
    {
      "cell_type": "markdown",
      "metadata": {
        "id": "BmaF1a9kHPYy"
      },
      "source": [
        "###  Course requirements and assessment\n",
        "\n",
        "Assessment is based on course work in the form of a home assignment.\n",
        "\n",
        "#### Home assignment\n",
        "\n",
        "Course participants will need to submit a home assignment in the form of an **individual mini-project** the end of the course. The mini-project will be based on the regular lab-like practice assignments in class, but will necessitate the incorporation of multiple solutions and considerations relating to data pipelines. The assignment will have to be **prepared and submitted in a jupyter notebook**, as well as a **PDF version** of the notebook in addition.\n"
      ]
    },
    {
      "cell_type": "markdown",
      "metadata": {
        "id": "iICKE4bm3MYG"
      },
      "source": [
        "##### The random generator for the A and B groups:"
      ]
    },
    {
      "cell_type": "code",
      "metadata": {
        "id": "4C5Q7Hb34ffa"
      },
      "source": [
        "import numpy as np\n",
        "import pandas as pd"
      ],
      "execution_count": null,
      "outputs": []
    },
    {
      "cell_type": "code",
      "metadata": {
        "id": "s8PorkBI3SWm"
      },
      "source": [
        "# A group equal 0\n",
        "# B group equal 1\n",
        "\n",
        "participants = [\"Ben Ayada Ghassen\",\n",
        "                \"Bolhassani Alireza\",\n",
        "                \"Ashley Nicole Honeycutt\",\n",
        "                \"Khezri Asa\",\n",
        "                \"Gokul Kiliyara Murikkinchery\",\n",
        "                \"Latonio Elaine Marie\",\n",
        "                \"Chiemeka Adeboye Madufor\",\n",
        "                \"Makvandi Davood\",\n",
        "                \"Schin Lotar Csaba\",\n",
        "                \"Seyed Iman Seyedi Tabari\",\n",
        "                \"Horvath Laszlo\"]\n",
        "\n",
        "df = pd.DataFrame(participants, columns=[\"Names\"])"
      ],
      "execution_count": null,
      "outputs": []
    },
    {
      "cell_type": "code",
      "metadata": {
        "id": "yuDDO0JY4cX_"
      },
      "source": [
        "# Random generator\n",
        "A = 0\n",
        "B = 0\n",
        "\n",
        "groups = []\n",
        "\n",
        "for i in range(0,len(participants)):\n",
        "  result = np.random.randint(2, size=1)[0]\n",
        "  groups.append(result)\n",
        "\n",
        "  if result == 0:\n",
        "    A +=1\n",
        "\n",
        "  if result == 1:\n",
        "    B += 1\n",
        "\n",
        "  if A == len(participants)/2:\n",
        "    for j in range(0, (len(participants) - i) - 1):\n",
        "      groups.append(1)\n",
        "    break\n",
        "  if B == len(participants)/2:\n",
        "    for j in range(0, (len(participants) - i) - 1):\n",
        "      groups.append(0)\n",
        "    break"
      ],
      "execution_count": null,
      "outputs": []
    },
    {
      "cell_type": "code",
      "metadata": {
        "colab": {
          "base_uri": "https://localhost:8080/",
          "height": 383
        },
        "id": "ejQhqi3U8ZMp",
        "outputId": "41c10444-2c66-421b-f5f7-3b23173ba640"
      },
      "source": [
        "df[\"Groups\"] = groups\n",
        "df.replace(0, 'A', inplace=True)\n",
        "df.replace(1, 'B', inplace=True)\n",
        "df"
      ],
      "execution_count": null,
      "outputs": [
        {
          "output_type": "execute_result",
          "data": {
            "text/plain": [
              "                           Names Groups\n",
              "0              Ben Ayada Ghassen      B\n",
              "1             Bolhassani Alireza      B\n",
              "2        Ashley Nicole Honeycutt      B\n",
              "3                     Khezri Asa      A\n",
              "4   Gokul Kiliyara Murikkinchery      A\n",
              "5           Latonio Elaine Marie      B\n",
              "6       Chiemeka Adeboye Madufor      A\n",
              "7                Makvandi Davood      B\n",
              "8              Schin Lotar Csaba      A\n",
              "9       Seyed Iman Seyedi Tabari      A\n",
              "10                Horvath Laszlo      B"
            ],
            "text/html": [
              "\n",
              "  <div id=\"df-e038d690-b002-4525-8092-5a9988883f39\">\n",
              "    <div class=\"colab-df-container\">\n",
              "      <div>\n",
              "<style scoped>\n",
              "    .dataframe tbody tr th:only-of-type {\n",
              "        vertical-align: middle;\n",
              "    }\n",
              "\n",
              "    .dataframe tbody tr th {\n",
              "        vertical-align: top;\n",
              "    }\n",
              "\n",
              "    .dataframe thead th {\n",
              "        text-align: right;\n",
              "    }\n",
              "</style>\n",
              "<table border=\"1\" class=\"dataframe\">\n",
              "  <thead>\n",
              "    <tr style=\"text-align: right;\">\n",
              "      <th></th>\n",
              "      <th>Names</th>\n",
              "      <th>Groups</th>\n",
              "    </tr>\n",
              "  </thead>\n",
              "  <tbody>\n",
              "    <tr>\n",
              "      <th>0</th>\n",
              "      <td>Ben Ayada Ghassen</td>\n",
              "      <td>B</td>\n",
              "    </tr>\n",
              "    <tr>\n",
              "      <th>1</th>\n",
              "      <td>Bolhassani Alireza</td>\n",
              "      <td>B</td>\n",
              "    </tr>\n",
              "    <tr>\n",
              "      <th>2</th>\n",
              "      <td>Ashley Nicole Honeycutt</td>\n",
              "      <td>B</td>\n",
              "    </tr>\n",
              "    <tr>\n",
              "      <th>3</th>\n",
              "      <td>Khezri Asa</td>\n",
              "      <td>A</td>\n",
              "    </tr>\n",
              "    <tr>\n",
              "      <th>4</th>\n",
              "      <td>Gokul Kiliyara Murikkinchery</td>\n",
              "      <td>A</td>\n",
              "    </tr>\n",
              "    <tr>\n",
              "      <th>5</th>\n",
              "      <td>Latonio Elaine Marie</td>\n",
              "      <td>B</td>\n",
              "    </tr>\n",
              "    <tr>\n",
              "      <th>6</th>\n",
              "      <td>Chiemeka Adeboye Madufor</td>\n",
              "      <td>A</td>\n",
              "    </tr>\n",
              "    <tr>\n",
              "      <th>7</th>\n",
              "      <td>Makvandi Davood</td>\n",
              "      <td>B</td>\n",
              "    </tr>\n",
              "    <tr>\n",
              "      <th>8</th>\n",
              "      <td>Schin Lotar Csaba</td>\n",
              "      <td>A</td>\n",
              "    </tr>\n",
              "    <tr>\n",
              "      <th>9</th>\n",
              "      <td>Seyed Iman Seyedi Tabari</td>\n",
              "      <td>A</td>\n",
              "    </tr>\n",
              "    <tr>\n",
              "      <th>10</th>\n",
              "      <td>Horvath Laszlo</td>\n",
              "      <td>B</td>\n",
              "    </tr>\n",
              "  </tbody>\n",
              "</table>\n",
              "</div>\n",
              "      <button class=\"colab-df-convert\" onclick=\"convertToInteractive('df-e038d690-b002-4525-8092-5a9988883f39')\"\n",
              "              title=\"Convert this dataframe to an interactive table.\"\n",
              "              style=\"display:none;\">\n",
              "        \n",
              "  <svg xmlns=\"http://www.w3.org/2000/svg\" height=\"24px\"viewBox=\"0 0 24 24\"\n",
              "       width=\"24px\">\n",
              "    <path d=\"M0 0h24v24H0V0z\" fill=\"none\"/>\n",
              "    <path d=\"M18.56 5.44l.94 2.06.94-2.06 2.06-.94-2.06-.94-.94-2.06-.94 2.06-2.06.94zm-11 1L8.5 8.5l.94-2.06 2.06-.94-2.06-.94L8.5 2.5l-.94 2.06-2.06.94zm10 10l.94 2.06.94-2.06 2.06-.94-2.06-.94-.94-2.06-.94 2.06-2.06.94z\"/><path d=\"M17.41 7.96l-1.37-1.37c-.4-.4-.92-.59-1.43-.59-.52 0-1.04.2-1.43.59L10.3 9.45l-7.72 7.72c-.78.78-.78 2.05 0 2.83L4 21.41c.39.39.9.59 1.41.59.51 0 1.02-.2 1.41-.59l7.78-7.78 2.81-2.81c.8-.78.8-2.07 0-2.86zM5.41 20L4 18.59l7.72-7.72 1.47 1.35L5.41 20z\"/>\n",
              "  </svg>\n",
              "      </button>\n",
              "      \n",
              "  <style>\n",
              "    .colab-df-container {\n",
              "      display:flex;\n",
              "      flex-wrap:wrap;\n",
              "      gap: 12px;\n",
              "    }\n",
              "\n",
              "    .colab-df-convert {\n",
              "      background-color: #E8F0FE;\n",
              "      border: none;\n",
              "      border-radius: 50%;\n",
              "      cursor: pointer;\n",
              "      display: none;\n",
              "      fill: #1967D2;\n",
              "      height: 32px;\n",
              "      padding: 0 0 0 0;\n",
              "      width: 32px;\n",
              "    }\n",
              "\n",
              "    .colab-df-convert:hover {\n",
              "      background-color: #E2EBFA;\n",
              "      box-shadow: 0px 1px 2px rgba(60, 64, 67, 0.3), 0px 1px 3px 1px rgba(60, 64, 67, 0.15);\n",
              "      fill: #174EA6;\n",
              "    }\n",
              "\n",
              "    [theme=dark] .colab-df-convert {\n",
              "      background-color: #3B4455;\n",
              "      fill: #D2E3FC;\n",
              "    }\n",
              "\n",
              "    [theme=dark] .colab-df-convert:hover {\n",
              "      background-color: #434B5C;\n",
              "      box-shadow: 0px 1px 3px 1px rgba(0, 0, 0, 0.15);\n",
              "      filter: drop-shadow(0px 1px 2px rgba(0, 0, 0, 0.3));\n",
              "      fill: #FFFFFF;\n",
              "    }\n",
              "  </style>\n",
              "\n",
              "      <script>\n",
              "        const buttonEl =\n",
              "          document.querySelector('#df-e038d690-b002-4525-8092-5a9988883f39 button.colab-df-convert');\n",
              "        buttonEl.style.display =\n",
              "          google.colab.kernel.accessAllowed ? 'block' : 'none';\n",
              "\n",
              "        async function convertToInteractive(key) {\n",
              "          const element = document.querySelector('#df-e038d690-b002-4525-8092-5a9988883f39');\n",
              "          const dataTable =\n",
              "            await google.colab.kernel.invokeFunction('convertToInteractive',\n",
              "                                                     [key], {});\n",
              "          if (!dataTable) return;\n",
              "\n",
              "          const docLinkHtml = 'Like what you see? Visit the ' +\n",
              "            '<a target=\"_blank\" href=https://colab.research.google.com/notebooks/data_table.ipynb>data table notebook</a>'\n",
              "            + ' to learn more about interactive tables.';\n",
              "          element.innerHTML = '';\n",
              "          dataTable['output_type'] = 'display_data';\n",
              "          await google.colab.output.renderOutput(dataTable, element);\n",
              "          const docLink = document.createElement('div');\n",
              "          docLink.innerHTML = docLinkHtml;\n",
              "          element.appendChild(docLink);\n",
              "        }\n",
              "      </script>\n",
              "    </div>\n",
              "  </div>\n",
              "  "
            ]
          },
          "metadata": {},
          "execution_count": 4
        }
      ]
    },
    {
      "cell_type": "markdown",
      "metadata": {
        "id": "VK5TxmnAIaEO"
      },
      "source": [
        "## Course structure\n",
        "\n",
        "* **Machine Learning:**\n",
        "  * Introduction and overview, Supervised, unsupervised, reinforcement learning\n",
        "  * Clustering, classification, regression, representation\n",
        "  * Ensembles learning\n",
        "  * Overfitting, validation\n"
      ]
    },
    {
      "cell_type": "markdown",
      "metadata": {
        "id": "IBgRV44mKDhz"
      },
      "source": [
        "## What you will need to successfully complete the course (and subsequently use what you've learned)\n",
        "\n",
        "* **attend the sessions**:\n",
        "    * you will get to know and understand the theory and see how it is applied in practice;\n",
        "    * you will get the chance to see how well you can practically implement the various solutions;\n",
        "    * you will get the chance to interact with the tutors and the other students, thereby gaining a deeper understanding of the material.\n",
        "        * You can and should take the opportunity to ask the tutors about _any_ points --- be they theoretical or practical --- about which you are unsure!\n",
        "\n",
        "* **practice**:\n",
        "    * The course is similar to a maths course inasmuch as you not only need to **understand the theory**, you must also be able to **apply it in practice**. It is one thing to **passively** understand the material, and a completely other thing to **actively** implement it!\n",
        "    * Just as in the case of maths, the practice that can fit into the sessions is just the **bare minimum** for being able to solve the kind of tasks the course is about. You are encouraged to practise relevant tasks as much as you can!\n",
        "\n",
        "* **develop the skill to independently discover solutions to your problems**\n",
        "    * checking the docstrings and/or the documentation (or even the github issues pages) of the functions and packages you use\n",
        "    * https://stackoverflow.com/ --- \"Every data scientist has a tab open to Stack Overflow\"\n",
        "    * perhaps _the_ most important skill as a data scientist you can have!"
      ]
    },
    {
      "cell_type": "markdown",
      "metadata": {
        "id": "rhbO-z57Kgkx"
      },
      "source": [
        "## Some further notes"
      ]
    },
    {
      "cell_type": "markdown",
      "metadata": {
        "id": "Legw37AsLm5r"
      },
      "source": [
        "### Primary channel of communication\n",
        "\n",
        "* By default, **communication is via the MS Teams team channel** --- you can post any questions you may have here, but of course you can direct message / email us tutors, too, if you feel more confident that way!\n",
        "* All **vital** announcements are made via **Moodle News**, so that you automatically get an email about it in your IBS inbox and so that it is archived at IBS even after semester end.\n"
      ]
    },
    {
      "cell_type": "markdown",
      "metadata": {
        "id": "KXAvJWJCNsMC"
      },
      "source": [
        "### Breaks (or lack thereof) during classes\n",
        "\n",
        "* According to the official schedule, after every 1 hour, there is a 20 minute break.\n",
        "* We can be flexible in this depending on your preferences. Less breaks -> earlier end / more breaks -> later end."
      ]
    },
    {
      "cell_type": "markdown",
      "metadata": {
        "id": "vpzQA01_Ob4P"
      },
      "source": [
        "### Bug hunting\n",
        "\n",
        "* You can compete for the **\"Bug Hunter of the Week\"** title by finding any bugs, mistakes, typos in the notebooks!"
      ]
    }
  ]
}