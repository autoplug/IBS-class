{
 "cells": [
  {
   "cell_type": "code",
   "execution_count": null,
   "metadata": {},
   "outputs": [],
   "source": [
    "import pandas as pd\n",
    "import matplotlib.pyplot as plt\n",
    "\n",
    "df = pd.read_csv(\"adult.csv\")\n",
    "df.head()"
   ]
  },
  {
   "cell_type": "code",
   "execution_count": null,
   "metadata": {},
   "outputs": [],
   "source": [
    "df.describe()"
   ]
  },
  {
   "cell_type": "code",
   "execution_count": null,
   "metadata": {},
   "outputs": [],
   "source": [
    "with open(\"report.txt\", \"w\") as file:\n",
    "    file.write(df.to_string())"
   ]
  },
  {
   "cell_type": "code",
   "execution_count": null,
   "metadata": {},
   "outputs": [],
   "source": [
    "# implement a histogram of the age variable with 30 bins for exploration\n",
    "plt.hist(df['age'], bins=30)\n",
    "plt.xlabel(\"Age\")\n",
    "plt.ylabel(\"Frequency\")\n",
    "plt.title(\"Histogram of Age\")\n",
    "plt.show()"
   ]
  },
  {
   "cell_type": "code",
   "execution_count": null,
   "metadata": {},
   "outputs": [],
   "source": [
    "# implement a histogram of the capital_gain and capital_loss variables with 30 bins for exploration\n",
    "\n",
    "# Create histograms with 30 bins\n",
    "fig, (ax1, ax2) = plt.subplots(1, 2, figsize=(12, 5))\n",
    "ax1.hist(df['capital_gain'], bins=30)\n",
    "ax2.hist(df['capital_loss'], bins=30)\n",
    "\n",
    "# Add labels and title\n",
    "ax1.set_xlabel(\"Capital Gain\")\n",
    "ax1.set_ylabel(\"Frequency\")\n",
    "ax1.set_title(\"Histogram of Capital Gain\")\n",
    "ax2.set_xlabel(\"Capital Loss\")\n",
    "ax2.set_ylabel(\"Frequency\")\n",
    "ax2.set_title(\"Histogram of Capital Loss\")\n",
    "\n",
    "# Adjust spacing between subplots\n",
    "plt.tight_layout()\n",
    "\n",
    "# Display the histograms\n",
    "plt.show()\n"
   ]
  },
  {
   "cell_type": "code",
   "execution_count": null,
   "metadata": {},
   "outputs": [],
   "source": [
    "# Try to find the relationship between the eduction and education_num variables \n",
    "# do a sorted and de-duplicated printout of a subset dataframe with the education and education_num\n",
    "# and observe the relationship between the values.\n",
    "# Is there a systematic mapping?\n",
    "# Take the DataFrame, subset it by columns, look into drop_duplicates and sort_values functions!\n",
    "# Bear in mind that these functions can be chained with . syntax\n",
    "edu_df = df[['education', 'education_num']]\n",
    "edu_df = edu_df.drop_duplicates()\n",
    "edu_df = edu_df.sort_values('education_num')\n",
    "edu_df\n"
   ]
  },
  {
   "cell_type": "code",
   "execution_count": null,
   "metadata": {},
   "outputs": [],
   "source": [
    "# get rid of the \"fnlwgt\", \"education\" columns, since we will not need them\n",
    "# drop the columns by name\n",
    "df = df.drop(columns=['fnlwgt', 'education'])\n",
    "df = df.loc[:, ['age', 'workclass', 'education_num', 'marital_status', 'occupation', 'relationship', 'race', 'sex', 'capital_gain', 'capital_loss', 'hours_per_week', 'native_country', 'income']]\n"
   ]
  },
  {
   "cell_type": "code",
   "execution_count": null,
   "metadata": {},
   "outputs": [],
   "source": [
    "# use the replace method of pandas to change the encoding \n",
    "# of male and female in the sex column to 1 for female and 0 for male \n",
    "\n",
    "# \n",
    "# do the same binary encoding for the income column with >50K and <=50K to 1 and 0\n",
    "# please encode >50K as 1 and <=50K as 0, and ensure that the resulting column consists\n",
    "# exclusively of integers (!)\n",
    "df['sex'] = df['sex'].replace({'male': 0, 'female': 1})\n",
    "df['income'] = df['income'].replace({'>50K': 1, '<=50K': 0})\n"
   ]
  },
  {
   "cell_type": "code",
   "execution_count": null,
   "metadata": {},
   "outputs": [],
   "source": [
    "# initialze a KMeans object with 2 clusters\n",
    "\n",
    "# put the predictions of the kmeans clustering based on \"age\" and \"education_num\" \n",
    "# (we use these two numerical features for easy 2d visualization)\n",
    "# into a new column of the df; don't do it in separate steps, only one go!\n",
    "from sklearn.cluster import KMeans\n",
    "kmeans = KMeans(n_clusters=2)\n",
    "df[\"kmeans_pred\"] = kmeans.fit_predict(df[[\"age\", \"education_num\"]])\n",
    "\n"
   ]
  }
 ],
 "metadata": {
  "kernelspec": {
   "display_name": "Python 3",
   "language": "python",
   "name": "python3"
  },
  "language_info": {
   "codemirror_mode": {
    "name": "ipython",
    "version": 3
   },
   "file_extension": ".py",
   "mimetype": "text/x-python",
   "name": "python",
   "nbconvert_exporter": "python",
   "pygments_lexer": "ipython3",
   "version": "3.10.2"
  },
  "orig_nbformat": 4,
  "vscode": {
   "interpreter": {
    "hash": "aee8b7b246df8f9039afb4144a1f6fd8d2ca17a180786b69acc140d282b71a49"
   }
  }
 },
 "nbformat": 4,
 "nbformat_minor": 2
}
