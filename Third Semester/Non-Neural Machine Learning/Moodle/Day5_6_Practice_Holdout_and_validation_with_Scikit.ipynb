{
  "cells": [
    {
      "cell_type": "markdown",
      "metadata": {
        "id": "8TML0aHJceop"
      },
      "source": [
        "# Problem setting"
      ]
    },
    {
      "cell_type": "markdown",
      "metadata": {
        "id": "qU1tMKY7ceos"
      },
      "source": [
        "The general problem we face in machine learning is a direct consequence of the paradigm we use, that of \"_empirical risk minimization_\". \n",
        "\n",
        "In frames of this, we consider the **observed dataset as a (hopefully unbiased) sample** from the distribution that gives rise to the data, and try to capture the meaningful relationships in these observations.\n",
        "\n",
        "We are thus directly facing the **problem of overfitting**, whereby we include **spurious relations** in our model, which **do not hold true on the unseen data of the whole distribution**, just happen to be true on our sample. Thus the **generalization** abilities of our models become very limited at best. "
      ]
    },
    {
      "cell_type": "markdown",
      "metadata": {
        "id": "K0LAy1V8ceot"
      },
      "source": [
        "## Methods for combating overfitting\n",
        "\n",
        "There are multiple approaches in trying to counteract the effect of spurious relationships in the observed data, thus preventing overfitting:\n",
        "\n",
        "- Changing the learning paradigm (to \"generative learning\" or \"vicinal risk minimization\")\n",
        "- Utilizing holdout sets\n",
        "- Doing crossvalidation\n",
        "\n",
        "Below we will try to investigate the latter two techniques in the context of ScikitLearn."
      ]
    },
    {
      "cell_type": "markdown",
      "metadata": {
        "id": "Z8s_1g55ceov"
      },
      "source": [
        "# Holdout method aka. train (valid) test split"
      ]
    },
    {
      "cell_type": "markdown",
      "metadata": {
        "id": "0-c8jx-Aceov"
      },
      "source": [
        "The concept of holdout is pretty basic: never show the full dataset you have to the training procedure, so that you have some parts of the data \"held out\".\n",
        "\n",
        "The main idea here is to try **to get to an (hopefully) unbiased estimate of future performance**."
      ]
    },
    {
      "cell_type": "markdown",
      "metadata": {
        "id": "fqz0H0dwceow"
      },
      "source": [
        "## Scikit demo\n",
        "\n",
        "This is such a standard procedure, that there is even a [\"oneliner\" for it in Scikit-learn](https://scikit-learn.org/stable/modules/generated/sklearn.model_selection.train_test_split.html):"
      ]
    },
    {
      "cell_type": "code",
      "execution_count": null,
      "metadata": {
        "ExecuteTime": {
          "end_time": "2020-09-01T16:13:51.586644Z",
          "start_time": "2020-09-01T16:13:51.265516Z"
        },
        "hide_input": true,
        "id": "iNZ0_wPVceox",
        "outputId": "4897d1f2-8aa7-4b39-d034-4f7a8997c8bf"
      },
      "outputs": [
        {
          "name": "stdout",
          "output_type": "stream",
          "text": [
            "X: [[0 1]\n",
            " [2 3]\n",
            " [4 5]\n",
            " [6 7]\n",
            " [8 9]]\n",
            "y: [0, 1, 2, 3, 4]\n"
          ]
        }
      ],
      "source": [
        "import numpy as np\n",
        "from sklearn.model_selection import train_test_split\n",
        "\n",
        "X, y = np.arange(10).reshape((5, 2)), range(5)\n",
        "\n",
        "print(\"X:\",X)\n",
        "print(\"y:\",list(y))\n"
      ]
    },
    {
      "cell_type": "code",
      "execution_count": null,
      "metadata": {
        "ExecuteTime": {
          "end_time": "2020-09-01T16:13:51.590089Z",
          "start_time": "2020-09-01T16:13:51.587820Z"
        },
        "hide_input": false,
        "id": "BChDgXoSceo0"
      },
      "outputs": [],
      "source": [
        "X_train, X_test, y_train, y_test = train_test_split(X, y, test_size=0.25)"
      ]
    },
    {
      "cell_type": "code",
      "execution_count": null,
      "metadata": {
        "ExecuteTime": {
          "end_time": "2020-09-01T16:13:51.595043Z",
          "start_time": "2020-09-01T16:13:51.591303Z"
        },
        "hide_input": true,
        "id": "z6nDUPsnceo1",
        "outputId": "1e26b40d-1d38-46cb-b298-bfbec18ee6d0"
      },
      "outputs": [
        {
          "name": "stdout",
          "output_type": "stream",
          "text": [
            "X_train:\t\n",
            "[[8 9]\n",
            " [2 3]\n",
            " [6 7]]\n",
            "----------\n",
            "X_test:\n",
            "[[0 1]\n",
            " [4 5]]\n",
            "----------\n",
            "y_train:\n",
            "[4, 1, 3]\n",
            "----------\n",
            "y_test:\n",
            "[0, 2]\n"
          ]
        }
      ],
      "source": [
        "print(\"X_train:\\t\")\n",
        "print(X_train)\n",
        "print(\"----------\")\n",
        "print(\"X_test:\")\n",
        "print(X_test)\n",
        "print(\"----------\")\n",
        "print(\"y_train:\")\n",
        "print(y_train)\n",
        "print(\"----------\")\n",
        "print(\"y_test:\")\n",
        "print(y_test)"
      ]
    },
    {
      "cell_type": "markdown",
      "metadata": {
        "id": "Hqsp9KlCceo3"
      },
      "source": [
        "We can easily set the size of the train or the test set either as **fixed number of points (int)** or as a **ratio (float)**."
      ]
    },
    {
      "cell_type": "markdown",
      "metadata": {
        "id": "vqKnogV6ceo4"
      },
      "source": [
        "## Reproducibility\n",
        "\n",
        "Now, one important thing to note is, that **the default setting of Scikit includes randomization of the split**!, so the full call signature is like:"
      ]
    },
    {
      "cell_type": "code",
      "execution_count": null,
      "metadata": {
        "ExecuteTime": {
          "end_time": "2020-09-01T16:13:51.598709Z",
          "start_time": "2020-09-01T16:13:51.596159Z"
        },
        "id": "C0xfAAXHceo4"
      },
      "outputs": [],
      "source": [
        "X_train, X_test, y_train, y_test = train_test_split(X, y, test_size=0.25, shuffle=True, random_state=13)"
      ]
    },
    {
      "cell_type": "code",
      "execution_count": null,
      "metadata": {
        "ExecuteTime": {
          "end_time": "2020-09-01T16:13:51.603397Z",
          "start_time": "2020-09-01T16:13:51.599754Z"
        },
        "hide_input": true,
        "id": "bvm8LP1jceo5",
        "outputId": "cf6b9685-6add-4540-b4cb-073b90b7859e"
      },
      "outputs": [
        {
          "name": "stdout",
          "output_type": "stream",
          "text": [
            "X_train:\t\n",
            "[[8 9]\n",
            " [0 1]\n",
            " [4 5]]\n",
            "----------\n",
            "X_test:\n",
            "[[2 3]\n",
            " [6 7]]\n",
            "----------\n",
            "y_train:\n",
            "[4, 0, 2]\n",
            "----------\n",
            "y_test:\n",
            "[1, 3]\n"
          ]
        }
      ],
      "source": [
        "print(\"X_train:\\t\")\n",
        "print(X_train)\n",
        "print(\"----------\")\n",
        "print(\"X_test:\")\n",
        "print(X_test)\n",
        "print(\"----------\")\n",
        "print(\"y_train:\")\n",
        "print(y_train)\n",
        "print(\"----------\")\n",
        "print(\"y_test:\")\n",
        "print(y_test)"
      ]
    },
    {
      "cell_type": "markdown",
      "metadata": {
        "id": "tXAKlj1yceo5"
      },
      "source": [
        "Where shuffle is by default `True`."
      ]
    },
    {
      "cell_type": "markdown",
      "metadata": {
        "id": "ok_llRypceo6"
      },
      "source": [
        "We can also observe, that for reproducibility, **we have to fix the seed for the pseudo-random generator**, so in case of repeated testing, we can compare results.\n",
        "\n",
        "**WARNING!!!**\n",
        "\n",
        "This is a necessary step, but we are also introducing bias into the system, so at a later stage trying out multiple seed values is essential practice!\n",
        "\n",
        "**WARNING 2!!!**\n",
        "\n",
        "`X_train, X_test, y_train, y_test = train_test_split(...)` is the right way!\n",
        "\n",
        "So **two Xs first, then the to ys!!!**\n",
        "\n",
        "Short summary of common mistakes [here](https://towardsdatascience.com/6-amateur-mistakes-ive-made-working-with-train-test-splits-916fabb421bb)."
      ]
    },
    {
      "cell_type": "markdown",
      "metadata": {
        "id": "LYXVgTQZceo6"
      },
      "source": [
        "## Stratification\n",
        "\n",
        "The main hope, on which this method hinges is, that the held out dataset is representative of future data, but since we do not have any assurance of this, we are in a bit of circular reasoning.\n",
        "\n",
        "On the other hand, we would not like to be unfairly \"punishing\" the model, that is, underestimating its performance. For this, we strive to ensure that the validation dataset is similar in its distribution to the training set. This is trickier, if there is eg. a strong class imbalance involved, so the concept of **\"stratification\"** comes into play.  \n",
        "\n",
        "\"Some classification problems do not have a balanced number of examples for each class label. As such, it is desirable **to split the dataset into train and test sets in a way that preserves the same proportions of examples in each class as observed in the original dataset.** This is called a stratified train-test split.\""
      ]
    },
    {
      "cell_type": "code",
      "execution_count": null,
      "metadata": {
        "ExecuteTime": {
          "end_time": "2020-09-01T16:13:51.607543Z",
          "start_time": "2020-09-01T16:13:51.604449Z"
        },
        "hide_input": true,
        "id": "cQtvpjgaceo7",
        "outputId": "9aa21f88-37c8-4f72-a8a0-6a52769a0b08"
      },
      "outputs": [
        {
          "name": "stdout",
          "output_type": "stream",
          "text": [
            "X: [[ 0  1]\n",
            " [ 2  3]\n",
            " [ 4  5]\n",
            " [ 6  7]\n",
            " [ 8  9]\n",
            " [10 11]\n",
            " [12 13]\n",
            " [14 15]\n",
            " [16 17]\n",
            " [18 19]\n",
            " [20 21]\n",
            " [22 23]\n",
            " [24 25]\n",
            " [26 27]\n",
            " [28 29]]\n",
            "y: [1, 1, 1, 1, 1, 1, 1, 1, 1, 1, 1, 1, 1, 0, 0]\n"
          ]
        }
      ],
      "source": [
        "import numpy as np\n",
        "from sklearn.model_selection import train_test_split\n",
        "\n",
        "X, y = np.arange(30).reshape((15, 2)), list([1]*13+[0]*2)\n",
        "\n",
        "print(\"X:\",X)\n",
        "print(\"y:\",list(y))\n"
      ]
    },
    {
      "cell_type": "code",
      "execution_count": null,
      "metadata": {
        "ExecuteTime": {
          "end_time": "2020-09-01T16:13:51.611055Z",
          "start_time": "2020-09-01T16:13:51.608433Z"
        },
        "hide_input": true,
        "id": "v4-flegMceo7"
      },
      "outputs": [],
      "source": [
        "X_train, X_test, y_train, y_test = train_test_split(X, y, test_size=0.25, shuffle=True, random_state=13)"
      ]
    },
    {
      "cell_type": "code",
      "execution_count": null,
      "metadata": {
        "ExecuteTime": {
          "end_time": "2020-09-01T16:13:51.616140Z",
          "start_time": "2020-09-01T16:13:51.612299Z"
        },
        "hide_input": true,
        "id": "qgWlZOUnceo7",
        "outputId": "78fa5def-2d63-4f43-894a-56e7878adc8c"
      },
      "outputs": [
        {
          "name": "stdout",
          "output_type": "stream",
          "text": [
            "X_train:\t\n",
            "[[ 6  7]\n",
            " [18 19]\n",
            " [16 17]\n",
            " [ 2  3]\n",
            " [ 8  9]\n",
            " [28 29]\n",
            " [12 13]\n",
            " [26 27]\n",
            " [20 21]\n",
            " [ 0  1]\n",
            " [ 4  5]]\n",
            "----------\n",
            "X_test:\n",
            "[[14 15]\n",
            " [24 25]\n",
            " [22 23]\n",
            " [10 11]]\n",
            "----------\n",
            "y_train:\n",
            "[1, 1, 1, 1, 1, 0, 1, 0, 1, 1, 1]\n",
            "----------\n",
            "y_test:\n",
            "[1, 1, 1, 1]\n",
            "\n",
            "Ratio of 1 in y in train: 81.82%\n",
            "Ratio of 1 in y in test: 100.00%\n"
          ]
        }
      ],
      "source": [
        "print(\"X_train:\\t\")\n",
        "print(X_train)\n",
        "print(\"----------\")\n",
        "print(\"X_test:\")\n",
        "print(X_test)\n",
        "print(\"----------\")\n",
        "print(\"y_train:\")\n",
        "print(y_train)\n",
        "print(\"----------\")\n",
        "print(\"y_test:\")\n",
        "print(y_test)\n",
        "print()\n",
        "print(\"Ratio of 1 in y in train: {0:.2f}%\".format(sum(y_train)/len(y_train)*100))\n",
        "print(\"Ratio of 1 in y in test: {0:.2f}%\".format(sum(y_test)/len(y_test)*100))"
      ]
    },
    {
      "cell_type": "code",
      "execution_count": null,
      "metadata": {
        "ExecuteTime": {
          "end_time": "2020-09-01T16:13:51.621257Z",
          "start_time": "2020-09-01T16:13:51.617309Z"
        },
        "id": "P-ZNP3xLceo8"
      },
      "outputs": [],
      "source": [
        "X_train, X_test, y_train, y_test = train_test_split(X, y, stratify=y, test_size=0.25, shuffle=True, random_state=13)"
      ]
    },
    {
      "cell_type": "code",
      "execution_count": null,
      "metadata": {
        "ExecuteTime": {
          "end_time": "2020-09-01T16:13:51.625623Z",
          "start_time": "2020-09-01T16:13:51.622450Z"
        },
        "hide_input": true,
        "id": "-aJxv2Kcceo8",
        "outputId": "8c2ad91e-3d2a-4cd4-8ff3-f3b3d9053c74"
      },
      "outputs": [
        {
          "name": "stdout",
          "output_type": "stream",
          "text": [
            "Ratio of 1 in y in train: 90.91%\n",
            "Ratio of 1 in y in test: 75.00%\n"
          ]
        }
      ],
      "source": [
        "print(\"Ratio of 1 in y in train: {0:.2f}%\".format(sum(y_train)/len(y_train)*100))\n",
        "print(\"Ratio of 1 in y in test: {0:.2f}%\".format(sum(y_test)/len(y_test)*100))"
      ]
    },
    {
      "cell_type": "markdown",
      "metadata": {
        "id": "PbM38zItceo9"
      },
      "source": [
        "As we see, if we \"stratify\" on `y` at least we can try to counteract the detrimental effects of imbalance."
      ]
    },
    {
      "cell_type": "markdown",
      "metadata": {
        "id": "vgagqjiEceo9"
      },
      "source": [
        "## Holdout split and contamination"
      ]
    },
    {
      "cell_type": "code",
      "execution_count": null,
      "metadata": {
        "ExecuteTime": {
          "end_time": "2020-09-01T16:13:51.799267Z",
          "start_time": "2020-09-01T16:13:51.644596Z"
        },
        "id": "XW1TIU7hceo9"
      },
      "outputs": [],
      "source": [
        "import numpy as np\n",
        "import matplotlib.pyplot as plt\n",
        "from sklearn.model_selection import train_test_split\n",
        "from sklearn.preprocessing import MinMaxScaler"
      ]
    },
    {
      "cell_type": "code",
      "execution_count": null,
      "metadata": {
        "ExecuteTime": {
          "end_time": "2020-09-01T16:13:51.950894Z",
          "start_time": "2020-09-01T16:13:51.801284Z"
        },
        "id": "TF46arQTceo9",
        "outputId": "af064e00-aa2e-45cb-e1f3-56c8f0b0cf3a"
      },
      "outputs": [
        {
          "data": {
            "image/png": "[encoded data removed]",
            "text/plain": [
              "<Figure size 432x288 with 1 Axes>"
            ]
          },
          "metadata": {
            "needs_background": "light"
          },
          "output_type": "display_data"
        }
      ],
      "source": [
        "arr = np.random.random_sample(100)\n",
        "plt.scatter(np.linspace(0,len(arr),len(arr)),arr)\n",
        "plt.title(\"Original random data\")\n",
        "plt.hlines(0,0,100, color='red')\n",
        "plt.hlines(1,0,100, color='red')#X_train, X_test, y_train, y_test\n",
        "plt.show()"
      ]
    },
    {
      "cell_type": "code",
      "execution_count": null,
      "metadata": {
        "ExecuteTime": {
          "end_time": "2020-09-01T16:13:52.093451Z",
          "start_time": "2020-09-01T16:13:51.952605Z"
        },
        "id": "9l7oSV4Pceo-",
        "outputId": "01be13ea-ef0f-47e8-fbe9-69f5aeb8e8af"
      },
      "outputs": [
        {
          "data": {
            "image/png": "[encoded data removed]",
            "text/plain": [
              "<Figure size 432x288 with 1 Axes>"
            ]
          },
          "metadata": {
            "needs_background": "light"
          },
          "output_type": "display_data"
        }
      ],
      "source": [
        "arr[95] = 10*arr[95]\n",
        "plt.scatter(np.linspace(0,len(arr),len(arr)),arr)\n",
        "plt.title(\"Introducing outlier in the latter part we will use for testing\")\n",
        "plt.hlines(0,0,100, color='red')\n",
        "plt.hlines(1,0,100, color='red')\n",
        "plt.show()"
      ]
    },
    {
      "cell_type": "code",
      "execution_count": null,
      "metadata": {
        "ExecuteTime": {
          "end_time": "2020-09-01T16:13:52.100500Z",
          "start_time": "2020-09-01T16:13:52.094645Z"
        },
        "id": "UBz7CZmpceo-",
        "outputId": "b9c28426-0f0e-400c-df7f-7746202ae72a"
      },
      "outputs": [
        {
          "name": "stdout",
          "output_type": "stream",
          "text": [
            "Doing train test split...\n",
            "Train shape: (90, 1) Test shape: (10, 1)\n",
            "Fitting scaler on train, using it to transform test...\n",
            "Scale: [1.01383145]\n"
          ]
        }
      ],
      "source": [
        "arr = arr.reshape(-1,1)\n",
        "print(\"Doing train test split...\")\n",
        "X_train, X_test = train_test_split(arr, test_size=0.1, random_state=123, shuffle=False)\n",
        "\n",
        "print(\"Train shape:\",X_train.shape, \"Test shape:\",X_test.shape)\n",
        "\n",
        "scaler = MinMaxScaler()\n",
        "print(\"Fitting scaler on train, using it to transform test...\")\n",
        "scaler.fit(X_train)\n",
        "X_train = scaler.transform(X_train)\n",
        "X_test = scaler.transform(X_test)\n",
        "#print(\"Mean:\",scaler.mean_)\n",
        "print(\"Scale:\",scaler.scale_)"
      ]
    },
    {
      "cell_type": "code",
      "execution_count": null,
      "metadata": {
        "ExecuteTime": {
          "end_time": "2020-09-01T16:13:52.254827Z",
          "start_time": "2020-09-01T16:13:52.103380Z"
        },
        "id": "LpmlB27Xceo-",
        "outputId": "21470580-58d0-478c-9c97-878993924fa1"
      },
      "outputs": [
        {
          "data": {
            "image/png": "[encoded data removed]",
            "text/plain": [
              "<Figure size 432x288 with 1 Axes>"
            ]
          },
          "metadata": {
            "needs_background": "light"
          },
          "output_type": "display_data"
        }
      ],
      "source": [
        "plt.scatter(np.linspace(0,len(X_train),len(X_train)),X_train)\n",
        "plt.scatter(np.linspace(90,len(X_test)+90,len(X_test)),X_test)\n",
        "plt.hlines(0,0,100, color='red')\n",
        "plt.hlines(1,0,100, color='red')\n",
        "plt.show()"
      ]
    },
    {
      "cell_type": "code",
      "execution_count": null,
      "metadata": {
        "ExecuteTime": {
          "end_time": "2020-09-01T16:13:52.263241Z",
          "start_time": "2020-09-01T16:13:52.258821Z"
        },
        "id": "Yb1xFqqXceo_",
        "outputId": "57903dd9-8eee-4904-ab74-6fd87591ec3f"
      },
      "outputs": [
        {
          "name": "stdout",
          "output_type": "stream",
          "text": [
            "Fitting scaler on train, _re-fitting_ on test...\n",
            "Scale: [0.30230329]\n"
          ]
        }
      ],
      "source": [
        "X_train, X_test = train_test_split(arr, test_size=0.1, random_state=123, shuffle=False)\n",
        "\n",
        "scaler_test = MinMaxScaler()\n",
        "print(\"Fitting scaler on train, _re-fitting_ on test...\")\n",
        "scaler_test.fit(X_test)\n",
        "X_train = scaler.transform(X_train)\n",
        "X_test = scaler_test.transform(X_test)\n",
        "\n",
        "#print(\"Mean:\",scaler_test.mean_)\n",
        "print(\"Scale:\",scaler_test.scale_)"
      ]
    },
    {
      "cell_type": "code",
      "execution_count": null,
      "metadata": {
        "ExecuteTime": {
          "end_time": "2020-09-01T16:13:52.378800Z",
          "start_time": "2020-09-01T16:13:52.264369Z"
        },
        "id": "L6DYf8Ibceo_",
        "outputId": "7efbc9c2-e06f-43d5-e574-43fd906ff33d"
      },
      "outputs": [
        {
          "data": {
            "image/png": "[encoded data removed]",
            "text/plain": [
              "<Figure size 432x288 with 1 Axes>"
            ]
          },
          "metadata": {
            "needs_background": "light"
          },
          "output_type": "display_data"
        }
      ],
      "source": [
        "plt.scatter(np.linspace(0,len(X_train),len(X_train)),X_train)\n",
        "plt.scatter(np.linspace(90,len(X_test)+90,len(X_test)),X_test)\n",
        "plt.hlines(0,0,100, color='red')\n",
        "plt.hlines(1,0,100, color='red')\n",
        "plt.show()"
      ]
    },
    {
      "cell_type": "code",
      "execution_count": null,
      "metadata": {
        "ExecuteTime": {
          "end_time": "2020-09-01T16:13:52.384158Z",
          "start_time": "2020-09-01T16:13:52.380569Z"
        },
        "id": "us1CyG3Eceo_",
        "outputId": "0efa6b80-3df0-4770-c4c7-1d0e94d8673e"
      },
      "outputs": [
        {
          "name": "stdout",
          "output_type": "stream",
          "text": [
            "Fitting scaler on the whole data and using it to normalize train and test...\n",
            "Scale: [0.29963866]\n"
          ]
        }
      ],
      "source": [
        "X_train, X_test = train_test_split(arr, test_size=0.1, random_state=123, shuffle=False)\n",
        "\n",
        "scaler_full = MinMaxScaler()\n",
        "print(\"Fitting scaler on the whole data and using it to normalize train and test...\")\n",
        "scaler_full.fit(arr)\n",
        "X_train = scaler_full.transform(X_train)\n",
        "X_test = scaler_full.transform(X_test)\n",
        "\n",
        "#print(\"Mean:\",scaler_full.mean_)\n",
        "print(\"Scale:\",scaler_full.scale_)"
      ]
    },
    {
      "cell_type": "code",
      "execution_count": null,
      "metadata": {
        "ExecuteTime": {
          "end_time": "2020-09-01T16:13:52.501847Z",
          "start_time": "2020-09-01T16:13:52.385435Z"
        },
        "id": "L0v7pddFcepA",
        "outputId": "182b94c9-76ca-4d01-ac90-1cf193e618f0"
      },
      "outputs": [
        {
          "data": {
            "image/png": "[encoded data removed]",
            "text/plain": [
              "<Figure size 432x288 with 1 Axes>"
            ]
          },
          "metadata": {
            "needs_background": "light"
          },
          "output_type": "display_data"
        }
      ],
      "source": [
        "plt.scatter(np.linspace(0,len(X_train),len(X_train)),X_train)\n",
        "plt.scatter(np.linspace(90,len(X_test)+90,len(X_test)),X_test)\n",
        "plt.hlines(0,0,100, color='red')\n",
        "plt.hlines(1,0,100, color='red')\n",
        "plt.show()"
      ]
    },
    {
      "cell_type": "markdown",
      "metadata": {
        "id": "AJXxnASzcepA"
      },
      "source": [
        "# Crossvalidation in Scikit\n",
        "\n",
        "> It is recommended that you consult [sklearn's excellent user guide on cross-validation](https://scikit-learn.org/stable/modules/cross_validation.html) for the kinds of CV splitters available.\n",
        "\n",
        "> *One* CV is for *one* specific model! For *hyperparameter tuning* (finding the optimal settings for your model), you would want to use [grid or randomized search CV](https://scikit-learn.org/stable/modules/grid_search.html)."
      ]
    },
    {
      "cell_type": "markdown",
      "metadata": {
        "id": "hwo9ha6_cepA"
      },
      "source": [
        "The general idea of crossvalidation serves the purpose to minimize the usage of the validation split. In this approach, we still produce a test set, but on the training set, we repeatedly run the training, always leaving out a randomly chosen part or _\"fold\"_ of the train data. We then measure the performance of the different training runs on this \"fold\", and finally produce an estimate of the out of sample performance typically by averaging over the different test runs."
      ]
    },
    {
      "cell_type": "markdown",
      "metadata": {
        "id": "R_ZkyXR7cepA"
      },
      "source": [
        "<img src=\"https://scikit-learn.org/stable/_images/grid_search_cross_validation.png\" width=55%>"
      ]
    },
    {
      "cell_type": "markdown",
      "metadata": {
        "id": "OktdPslQcepA"
      },
      "source": [
        "This can be generally seen as an efficient way to ensure that the maximum amount of training data is used, but we still have an estimate of out of sample performance.\n",
        "\n",
        "One of the extreme cases of crossvalidation is [leave one out crossvalidation](https://en.wikipedia.org/wiki/Cross-validation_(statistics)#Leave-one-out_cross-validation).\n",
        "\n",
        "<img src=\"https://upload.wikimedia.org/wikipedia/commons/thumb/c/c7/LOOCV.gif/450px-LOOCV.gif\" width=45%>"
      ]
    },
    {
      "cell_type": "markdown",
      "metadata": {
        "id": "RGOzivStcepB"
      },
      "source": [
        "**WARNING!!!**\n",
        "\n",
        "Crossvalidation as a method is used mainly for model **hyperparameter tuning**, that is, for the evaluation of a given training procedure (since it can give a \"sample\" of possible validation results, thus a confidence estimate is possible). \n",
        "\n",
        "It is thus customary, after we choose a given learning method / setting to re-run the model training on the whole train data, **to obtain the final model**. (It should still be tested on a test dataset.)\n",
        "\n",
        "(See some nice answers [here](https://stats.stackexchange.com/questions/11602/training-on-the-full-dataset-after-cross-validation) and [here](https://datascience.stackexchange.com/questions/56804/sckit-learn-cross-validation-and-model-retrain).\n",
        "\n",
        "Thus in Scikit, **crossvalidation only returns \"scores\", not a final model.** You have to fit the model on the entire train data yourself!\n",
        "\n",
        "(**Sub Warning:** Confusingly enough, if you use GridsearchCV, that is a kind of hyperparameter search that DOES give back a \"best_model\". It is the model with the best parameter setup refitted on the whole dataset you provide it with.)"
      ]
    },
    {
      "cell_type": "code",
      "execution_count": null,
      "metadata": {
        "ExecuteTime": {
          "end_time": "2020-09-01T16:13:52.538172Z",
          "start_time": "2020-09-01T16:13:52.502933Z"
        },
        "id": "oh4G_RkZcepB"
      },
      "outputs": [],
      "source": [
        "from sklearn import svm ## for now, we will just fit an SVM\n",
        "from sklearn.datasets import load_iris  ## the well-known iris dataset to use as sample data\n",
        "from sklearn.model_selection import train_test_split  ## to do an initial train-test split\n",
        "## to check test set performance:\n",
        "from sklearn.metrics import confusion_matrix, ConfusionMatrixDisplay, classification_report \n",
        "\n",
        "## the most simple splitter we will use on the train data:\n",
        "from sklearn.model_selection import KFold\n",
        "## the most simple way to just get a cross-validation score for one metric:\n",
        "from sklearn.model_selection import cross_val_score\n",
        "\n",
        "# Load the sample Data\n",
        "iris = load_iris()\n",
        "\n",
        "# Carry out train-test split\n",
        "X_train, X_test, y_train, y_test = train_test_split(iris.data, iris.target, stratify=iris.target, test_size=0.1, random_state=123, shuffle=True)\n"
      ]
    },
    {
      "cell_type": "code",
      "execution_count": null,
      "metadata": {
        "ExecuteTime": {
          "end_time": "2020-09-01T16:13:52.545836Z",
          "start_time": "2020-09-01T16:13:52.539060Z"
        },
        "id": "1UQeNM7WcepB",
        "outputId": "0d4b2a90-db79-4767-ac17-5e19a7aa9a77",
        "colab": {
          "base_uri": "https://localhost:8080/"
        }
      },
      "outputs": [
        {
          "output_type": "stream",
          "name": "stdout",
          "text": [
            "-------- Training ---------\n",
            "\n",
            "Mean accuracy in crossvalidation:  0.9483099209833188 \n",
            "\n"
          ]
        }
      ],
      "source": [
        "print(\"-------- Training ---------\\n\")\n",
        "\n",
        "#Build a svm classifier model\n",
        "model_svm = svm.SVC(C=100, gamma=1)\n",
        "#Note, that C and gamma are the \"settings\" (hyperparameters) we are testing here\n",
        "\n",
        "#Initialise the number of folds k for doing CV\n",
        "kfold = KFold(n_splits=2, random_state=13, shuffle=True)\n",
        "# Here the shuffle means: \n",
        "#\"Whether to shuffle the data before splitting into batches. \n",
        "#Note that the samples within each split will not be shuffled.\"\n",
        "\n",
        "#Evaluate the model using k-fold CV\n",
        "cross_val_scores = cross_val_score(model_svm, X_train, y_train, cv=kfold, scoring='accuracy')\n",
        "\n",
        "#Get the model performance metrics\n",
        "print(\"Mean accuracy in crossvalidation: \", str(cross_val_scores.mean()),\"\\n\")\n",
        "\n",
        "# We are satisfied, so we proceed..."
      ]
    },
    {
      "cell_type": "code",
      "execution_count": null,
      "metadata": {
        "ExecuteTime": {
          "end_time": "2020-09-01T16:13:52.560538Z",
          "start_time": "2020-09-01T16:13:52.548617Z"
        },
        "id": "WYTj8XrxcepB",
        "outputId": "9ecf0861-cbe4-4a8d-92e4-c8667f0f3805",
        "colab": {
          "base_uri": "https://localhost:8080/"
        }
      },
      "outputs": [
        {
          "output_type": "stream",
          "name": "stdout",
          "text": [
            "------------- Test scores ---------\n",
            "\n",
            "              precision    recall  f1-score   support\n",
            "\n",
            "      setosa       1.00      1.00      1.00         5\n",
            "  versicolor       0.75      0.60      0.67         5\n",
            "   virginica       0.67      0.80      0.73         5\n",
            "\n",
            "    accuracy                           0.80        15\n",
            "   macro avg       0.81      0.80      0.80        15\n",
            "weighted avg       0.81      0.80      0.80        15\n",
            "\n"
          ]
        }
      ],
      "source": [
        "#Now fit on the whole train dataset\n",
        "model_svm.fit(X_train, y_train)\n",
        "\n",
        "#Predict on the test set\n",
        "test_predictions = model_svm.predict(X_test)\n",
        "\n",
        "print(\"------------- Test scores ---------\\n\")\n",
        "print(classification_report(y_test, test_predictions, target_names=iris.target_names))"
      ]
    },
    {
      "cell_type": "code",
      "execution_count": null,
      "metadata": {
        "ExecuteTime": {
          "end_time": "2020-09-01T16:13:52.737468Z",
          "start_time": "2020-09-01T16:13:52.561873Z"
        },
        "id": "72A9zS_bcepC",
        "outputId": "8769dfab-080c-4da1-c815-4abdfade6c65",
        "colab": {
          "base_uri": "https://localhost:8080/",
          "height": 283
        }
      },
      "outputs": [
        {
          "output_type": "display_data",
          "data": {
            "text/plain": [
              "<Figure size 432x288 with 2 Axes>"
            ],
            "image/png": "[encoded data removed]"
          },
          "metadata": {
            "needs_background": "light"
          }
        }
      ],
      "source": [
        "# plotting nice confusion matrix for the test set\n",
        "#plot_confusion_matrix(model_svm, X_test, y_test, display_labels=iris.target_names);\n",
        "\n",
        "cm = confusion_matrix(y_test, test_predictions)\n",
        "disp = ConfusionMatrixDisplay(confusion_matrix=cm,\n",
        "                               display_labels=iris.target_names)\n",
        "disp.plot();"
      ]
    },
    {
      "cell_type": "markdown",
      "source": [
        "#### Extra: multiple metrics, fit times..."
      ],
      "metadata": {
        "id": "NTlle3r4QRQS"
      }
    },
    {
      "cell_type": "code",
      "source": [
        "## cross_validate allows us to use multiple metrics and know the time it takes to fit a model\n",
        "from sklearn.model_selection import cross_validate\n",
        "## make_scorer for using custom metrics, like f1_macro\n",
        "from sklearn.metrics import f1_score, make_scorer"
      ],
      "metadata": {
        "id": "kHE_5YYqQDBR"
      },
      "execution_count": null,
      "outputs": []
    },
    {
      "cell_type": "code",
      "source": [
        "print(\"-------- Training ---------\\n\")\n",
        "\n",
        "#Build a svm classifier model\n",
        "model_svm = svm.SVC(C=100, gamma=1)\n",
        "#Note, that C and gamma are the \"settings\" (hyperparameters) we are testing here\n",
        "\n",
        "#Initialise the number of folds k for doing CV\n",
        "kfold = KFold(n_splits=2, random_state=13, shuffle=True)\n",
        "# Here the shuffle means: \n",
        "#\"Whether to shuffle the data before splitting into batches. \n",
        "#Note that the samples within each split will not be shuffled.\"\n",
        "\n",
        "#Evaluate the model using k-fold CV\n",
        "cross_val_scores = cross_validate(model_svm, \n",
        "                                  X_train, \n",
        "                                  y_train, \n",
        "                                  cv=kfold, \n",
        "                                  scoring={'accuracy': 'accuracy', \n",
        "                                           'f1_weighted': make_scorer(f1_score, greater_is_better=True, average=\"weighted\"),\n",
        "                                           'f1_macro': make_scorer(f1_score, greater_is_better=True, average=\"macro\"),\n",
        "                                           } )\n",
        "\n",
        "#Get the model performance metrics\n",
        "print(\"Mean metrics in crossvalidation:\\n\")\n",
        "display({k: cross_val_scores[k].mean() for k in cross_val_scores.keys()})\n"
      ],
      "metadata": {
        "id": "vU8vkyV8Qbec",
        "outputId": "d7f5547b-ba3e-43d6-96df-0c04ab98ed16",
        "colab": {
          "base_uri": "https://localhost:8080/",
          "height": 173
        }
      },
      "execution_count": null,
      "outputs": [
        {
          "output_type": "stream",
          "name": "stdout",
          "text": [
            "-------- Training ---------\n",
            "\n",
            "Mean metrics in crossvalidation:\n",
            "\n"
          ]
        },
        {
          "output_type": "display_data",
          "data": {
            "text/plain": [
              "{'fit_time': 0.0020238161087036133,\n",
              " 'score_time': 0.0035704374313354492,\n",
              " 'test_accuracy': 0.9483099209833188,\n",
              " 'test_f1_macro': 0.9492525749703764,\n",
              " 'test_f1_weighted': 0.9483715808673981}"
            ]
          },
          "metadata": {}
        }
      ]
    },
    {
      "cell_type": "markdown",
      "source": [
        "#### Extra: the train and test samples in CV\n",
        "\n",
        "Use the `.split()` method of the CV splitter, which iterates over train, test *indices*."
      ],
      "metadata": {
        "id": "gEXvwTSCSsIO"
      }
    },
    {
      "cell_type": "code",
      "source": [
        "import pandas as pd ## just to make displaying nicer"
      ],
      "metadata": {
        "id": "BBf298o2T8gu"
      },
      "execution_count": null,
      "outputs": []
    },
    {
      "cell_type": "code",
      "source": [
        "## two splits, shuffle the samples before splitting\n",
        "kfold = KFold(n_splits=2, random_state=13, shuffle=True)\n",
        "\n",
        "## i is just used to keep track of which fold we're in\n",
        "i = 0\n",
        "for train_index, test_index in kfold.split(X_train):\n",
        "    \n",
        "    i+=1\n",
        "    print(\"--- Fold\", i, \"---\")\n",
        "\n",
        "    ## use train and test indices to get the train and test (=for us, validation) samples in EACH FOLD\n",
        "    X_tr, X_val = X_train[train_index], X_train[test_index]\n",
        "    y_tr, y_val = y_train[train_index], y_train[test_index]\n",
        "    \n",
        "    ## display the samples in a pandas dataframe\n",
        "    print(\"...train set:\")\n",
        "    tmp = pd.concat([pd.DataFrame(X_tr, index=train_index), pd.Series(y_tr, index=train_index, name=\"target\")], axis=1)\n",
        "    tmp.index.name = \"sample index\"\n",
        "    display(tmp)\n",
        "    print(\"...validation set:\")\n",
        "    tmp = pd.concat([pd.DataFrame(X_val, index=test_index), pd.Series(y_val, index=test_index, name=\"target\")], axis=1)\n",
        "    tmp.index.name = \"sample index\"\n",
        "    display(tmp)\n",
        "    print()"
      ],
      "metadata": {
        "id": "gIrR82hWRtl-",
        "outputId": "b21494db-f777-492e-fc73-003872a7a687",
        "colab": {
          "base_uri": "https://localhost:8080/",
          "height": 1000
        }
      },
      "execution_count": null,
      "outputs": [
        {
          "output_type": "stream",
          "name": "stdout",
          "text": [
            "--- Fold 1 ---\n",
            "...train set:\n"
          ]
        },
        {
          "output_type": "display_data",
          "data": {
            "text/plain": [
              "                0    1    2    3  target\n",
              "sample index                            \n",
              "0             5.0  3.2  1.2  0.2       0\n",
              "1             5.1  3.8  1.9  0.4       0\n",
              "2             6.4  2.8  5.6  2.2       2\n",
              "5             6.1  3.0  4.6  1.4       1\n",
              "6             5.6  2.5  3.9  1.1       1\n",
              "...           ...  ...  ...  ...     ...\n",
              "127           6.4  2.8  5.6  2.1       2\n",
              "130           5.1  3.8  1.6  0.2       0\n",
              "131           6.0  2.7  5.1  1.6       1\n",
              "133           4.5  2.3  1.3  0.3       0\n",
              "134           5.8  2.7  5.1  1.9       2\n",
              "\n",
              "[67 rows x 5 columns]"
            ],
            "text/html": [
              "\n",
              "  <div id=\"df-a33c9b12-70d2-4ce6-8b1f-4f769750226b\">\n",
              "    <div class=\"colab-df-container\">\n",
              "      <div>\n",
              "<style scoped>\n",
              "    .dataframe tbody tr th:only-of-type {\n",
              "        vertical-align: middle;\n",
              "    }\n",
              "\n",
              "    .dataframe tbody tr th {\n",
              "        vertical-align: top;\n",
              "    }\n",
              "\n",
              "    .dataframe thead th {\n",
              "        text-align: right;\n",
              "    }\n",
              "</style>\n",
              "<table border=\"1\" class=\"dataframe\">\n",
              "  <thead>\n",
              "    <tr style=\"text-align: right;\">\n",
              "      <th></th>\n",
              "      <th>0</th>\n",
              "      <th>1</th>\n",
              "      <th>2</th>\n",
              "      <th>3</th>\n",
              "      <th>target</th>\n",
              "    </tr>\n",
              "    <tr>\n",
              "      <th>sample index</th>\n",
              "      <th></th>\n",
              "      <th></th>\n",
              "      <th></th>\n",
              "      <th></th>\n",
              "      <th></th>\n",
              "    </tr>\n",
              "  </thead>\n",
              "  <tbody>\n",
              "    <tr>\n",
              "      <th>0</th>\n",
              "      <td>5.0</td>\n",
              "      <td>3.2</td>\n",
              "      <td>1.2</td>\n",
              "      <td>0.2</td>\n",
              "      <td>0</td>\n",
              "    </tr>\n",
              "    <tr>\n",
              "      <th>1</th>\n",
              "      <td>5.1</td>\n",
              "      <td>3.8</td>\n",
              "      <td>1.9</td>\n",
              "      <td>0.4</td>\n",
              "      <td>0</td>\n",
              "    </tr>\n",
              "    <tr>\n",
              "      <th>2</th>\n",
              "      <td>6.4</td>\n",
              "      <td>2.8</td>\n",
              "      <td>5.6</td>\n",
              "      <td>2.2</td>\n",
              "      <td>2</td>\n",
              "    </tr>\n",
              "    <tr>\n",
              "      <th>5</th>\n",
              "      <td>6.1</td>\n",
              "      <td>3.0</td>\n",
              "      <td>4.6</td>\n",
              "      <td>1.4</td>\n",
              "      <td>1</td>\n",
              "    </tr>\n",
              "    <tr>\n",
              "      <th>6</th>\n",
              "      <td>5.6</td>\n",
              "      <td>2.5</td>\n",
              "      <td>3.9</td>\n",
              "      <td>1.1</td>\n",
              "      <td>1</td>\n",
              "    </tr>\n",
              "    <tr>\n",
              "      <th>...</th>\n",
              "      <td>...</td>\n",
              "      <td>...</td>\n",
              "      <td>...</td>\n",
              "      <td>...</td>\n",
              "      <td>...</td>\n",
              "    </tr>\n",
              "    <tr>\n",
              "      <th>127</th>\n",
              "      <td>6.4</td>\n",
              "      <td>2.8</td>\n",
              "      <td>5.6</td>\n",
              "      <td>2.1</td>\n",
              "      <td>2</td>\n",
              "    </tr>\n",
              "    <tr>\n",
              "      <th>130</th>\n",
              "      <td>5.1</td>\n",
              "      <td>3.8</td>\n",
              "      <td>1.6</td>\n",
              "      <td>0.2</td>\n",
              "      <td>0</td>\n",
              "    </tr>\n",
              "    <tr>\n",
              "      <th>131</th>\n",
              "      <td>6.0</td>\n",
              "      <td>2.7</td>\n",
              "      <td>5.1</td>\n",
              "      <td>1.6</td>\n",
              "      <td>1</td>\n",
              "    </tr>\n",
              "    <tr>\n",
              "      <th>133</th>\n",
              "      <td>4.5</td>\n",
              "      <td>2.3</td>\n",
              "      <td>1.3</td>\n",
              "      <td>0.3</td>\n",
              "      <td>0</td>\n",
              "    </tr>\n",
              "    <tr>\n",
              "      <th>134</th>\n",
              "      <td>5.8</td>\n",
              "      <td>2.7</td>\n",
              "      <td>5.1</td>\n",
              "      <td>1.9</td>\n",
              "      <td>2</td>\n",
              "    </tr>\n",
              "  </tbody>\n",
              "</table>\n",
              "<p>67 rows × 5 columns</p>\n",
              "</div>\n",
              "      <button class=\"colab-df-convert\" onclick=\"convertToInteractive('df-a33c9b12-70d2-4ce6-8b1f-4f769750226b')\"\n",
              "              title=\"Convert this dataframe to an interactive table.\"\n",
              "              style=\"display:none;\">\n",
              "        \n",
              "  <svg xmlns=\"http://www.w3.org/2000/svg\" height=\"24px\"viewBox=\"0 0 24 24\"\n",
              "       width=\"24px\">\n",
              "    <path d=\"M0 0h24v24H0V0z\" fill=\"none\"/>\n",
              "    <path d=\"M18.56 5.44l.94 2.06.94-2.06 2.06-.94-2.06-.94-.94-2.06-.94 2.06-2.06.94zm-11 1L8.5 8.5l.94-2.06 2.06-.94-2.06-.94L8.5 2.5l-.94 2.06-2.06.94zm10 10l.94 2.06.94-2.06 2.06-.94-2.06-.94-.94-2.06-.94 2.06-2.06.94z\"/><path d=\"M17.41 7.96l-1.37-1.37c-.4-.4-.92-.59-1.43-.59-.52 0-1.04.2-1.43.59L10.3 9.45l-7.72 7.72c-.78.78-.78 2.05 0 2.83L4 21.41c.39.39.9.59 1.41.59.51 0 1.02-.2 1.41-.59l7.78-7.78 2.81-2.81c.8-.78.8-2.07 0-2.86zM5.41 20L4 18.59l7.72-7.72 1.47 1.35L5.41 20z\"/>\n",
              "  </svg>\n",
              "      </button>\n",
              "      \n",
              "  <style>\n",
              "    .colab-df-container {\n",
              "      display:flex;\n",
              "      flex-wrap:wrap;\n",
              "      gap: 12px;\n",
              "    }\n",
              "\n",
              "    .colab-df-convert {\n",
              "      background-color: #E8F0FE;\n",
              "      border: none;\n",
              "      border-radius: 50%;\n",
              "      cursor: pointer;\n",
              "      display: none;\n",
              "      fill: #1967D2;\n",
              "      height: 32px;\n",
              "      padding: 0 0 0 0;\n",
              "      width: 32px;\n",
              "    }\n",
              "\n",
              "    .colab-df-convert:hover {\n",
              "      background-color: #E2EBFA;\n",
              "      box-shadow: 0px 1px 2px rgba(60, 64, 67, 0.3), 0px 1px 3px 1px rgba(60, 64, 67, 0.15);\n",
              "      fill: #174EA6;\n",
              "    }\n",
              "\n",
              "    [theme=dark] .colab-df-convert {\n",
              "      background-color: #3B4455;\n",
              "      fill: #D2E3FC;\n",
              "    }\n",
              "\n",
              "    [theme=dark] .colab-df-convert:hover {\n",
              "      background-color: #434B5C;\n",
              "      box-shadow: 0px 1px 3px 1px rgba(0, 0, 0, 0.15);\n",
              "      filter: drop-shadow(0px 1px 2px rgba(0, 0, 0, 0.3));\n",
              "      fill: #FFFFFF;\n",
              "    }\n",
              "  </style>\n",
              "\n",
              "      <script>\n",
              "        const buttonEl =\n",
              "          document.querySelector('#df-a33c9b12-70d2-4ce6-8b1f-4f769750226b button.colab-df-convert');\n",
              "        buttonEl.style.display =\n",
              "          google.colab.kernel.accessAllowed ? 'block' : 'none';\n",
              "\n",
              "        async function convertToInteractive(key) {\n",
              "          const element = document.querySelector('#df-a33c9b12-70d2-4ce6-8b1f-4f769750226b');\n",
              "          const dataTable =\n",
              "            await google.colab.kernel.invokeFunction('convertToInteractive',\n",
              "                                                     [key], {});\n",
              "          if (!dataTable) return;\n",
              "\n",
              "          const docLinkHtml = 'Like what you see? Visit the ' +\n",
              "            '<a target=\"_blank\" href=https://colab.research.google.com/notebooks/data_table.ipynb>data table notebook</a>'\n",
              "            + ' to learn more about interactive tables.';\n",
              "          element.innerHTML = '';\n",
              "          dataTable['output_type'] = 'display_data';\n",
              "          await google.colab.output.renderOutput(dataTable, element);\n",
              "          const docLink = document.createElement('div');\n",
              "          docLink.innerHTML = docLinkHtml;\n",
              "          element.appendChild(docLink);\n",
              "        }\n",
              "      </script>\n",
              "    </div>\n",
              "  </div>\n",
              "  "
            ]
          },
          "metadata": {}
        },
        {
          "output_type": "stream",
          "name": "stdout",
          "text": [
            "...validation set:\n"
          ]
        },
        {
          "output_type": "display_data",
          "data": {
            "text/plain": [
              "                0    1    2    3  target\n",
              "sample index                            \n",
              "3             6.4  3.2  4.5  1.5       1\n",
              "4             4.8  3.4  1.6  0.2       0\n",
              "8             6.7  3.3  5.7  2.5       2\n",
              "9             7.0  3.2  4.7  1.4       1\n",
              "12            6.3  2.9  5.6  1.8       2\n",
              "...           ...  ...  ...  ...     ...\n",
              "122           6.7  2.5  5.8  1.8       2\n",
              "124           6.9  3.1  5.4  2.1       2\n",
              "128           6.7  3.0  5.0  1.7       1\n",
              "129           5.2  3.5  1.5  0.2       0\n",
              "132           4.3  3.0  1.1  0.1       0\n",
              "\n",
              "[68 rows x 5 columns]"
            ],
            "text/html": [
              "\n",
              "  <div id=\"df-515e822d-888b-49d8-8d15-8e914fbe40f7\">\n",
              "    <div class=\"colab-df-container\">\n",
              "      <div>\n",
              "<style scoped>\n",
              "    .dataframe tbody tr th:only-of-type {\n",
              "        vertical-align: middle;\n",
              "    }\n",
              "\n",
              "    .dataframe tbody tr th {\n",
              "        vertical-align: top;\n",
              "    }\n",
              "\n",
              "    .dataframe thead th {\n",
              "        text-align: right;\n",
              "    }\n",
              "</style>\n",
              "<table border=\"1\" class=\"dataframe\">\n",
              "  <thead>\n",
              "    <tr style=\"text-align: right;\">\n",
              "      <th></th>\n",
              "      <th>0</th>\n",
              "      <th>1</th>\n",
              "      <th>2</th>\n",
              "      <th>3</th>\n",
              "      <th>target</th>\n",
              "    </tr>\n",
              "    <tr>\n",
              "      <th>sample index</th>\n",
              "      <th></th>\n",
              "      <th></th>\n",
              "      <th></th>\n",
              "      <th></th>\n",
              "      <th></th>\n",
              "    </tr>\n",
              "  </thead>\n",
              "  <tbody>\n",
              "    <tr>\n",
              "      <th>3</th>\n",
              "      <td>6.4</td>\n",
              "      <td>3.2</td>\n",
              "      <td>4.5</td>\n",
              "      <td>1.5</td>\n",
              "      <td>1</td>\n",
              "    </tr>\n",
              "    <tr>\n",
              "      <th>4</th>\n",
              "      <td>4.8</td>\n",
              "      <td>3.4</td>\n",
              "      <td>1.6</td>\n",
              "      <td>0.2</td>\n",
              "      <td>0</td>\n",
              "    </tr>\n",
              "    <tr>\n",
              "      <th>8</th>\n",
              "      <td>6.7</td>\n",
              "      <td>3.3</td>\n",
              "      <td>5.7</td>\n",
              "      <td>2.5</td>\n",
              "      <td>2</td>\n",
              "    </tr>\n",
              "    <tr>\n",
              "      <th>9</th>\n",
              "      <td>7.0</td>\n",
              "      <td>3.2</td>\n",
              "      <td>4.7</td>\n",
              "      <td>1.4</td>\n",
              "      <td>1</td>\n",
              "    </tr>\n",
              "    <tr>\n",
              "      <th>12</th>\n",
              "      <td>6.3</td>\n",
              "      <td>2.9</td>\n",
              "      <td>5.6</td>\n",
              "      <td>1.8</td>\n",
              "      <td>2</td>\n",
              "    </tr>\n",
              "    <tr>\n",
              "      <th>...</th>\n",
              "      <td>...</td>\n",
              "      <td>...</td>\n",
              "      <td>...</td>\n",
              "      <td>...</td>\n",
              "      <td>...</td>\n",
              "    </tr>\n",
              "    <tr>\n",
              "      <th>122</th>\n",
              "      <td>6.7</td>\n",
              "      <td>2.5</td>\n",
              "      <td>5.8</td>\n",
              "      <td>1.8</td>\n",
              "      <td>2</td>\n",
              "    </tr>\n",
              "    <tr>\n",
              "      <th>124</th>\n",
              "      <td>6.9</td>\n",
              "      <td>3.1</td>\n",
              "      <td>5.4</td>\n",
              "      <td>2.1</td>\n",
              "      <td>2</td>\n",
              "    </tr>\n",
              "    <tr>\n",
              "      <th>128</th>\n",
              "      <td>6.7</td>\n",
              "      <td>3.0</td>\n",
              "      <td>5.0</td>\n",
              "      <td>1.7</td>\n",
              "      <td>1</td>\n",
              "    </tr>\n",
              "    <tr>\n",
              "      <th>129</th>\n",
              "      <td>5.2</td>\n",
              "      <td>3.5</td>\n",
              "      <td>1.5</td>\n",
              "      <td>0.2</td>\n",
              "      <td>0</td>\n",
              "    </tr>\n",
              "    <tr>\n",
              "      <th>132</th>\n",
              "      <td>4.3</td>\n",
              "      <td>3.0</td>\n",
              "      <td>1.1</td>\n",
              "      <td>0.1</td>\n",
              "      <td>0</td>\n",
              "    </tr>\n",
              "  </tbody>\n",
              "</table>\n",
              "<p>68 rows × 5 columns</p>\n",
              "</div>\n",
              "      <button class=\"colab-df-convert\" onclick=\"convertToInteractive('df-515e822d-888b-49d8-8d15-8e914fbe40f7')\"\n",
              "              title=\"Convert this dataframe to an interactive table.\"\n",
              "              style=\"display:none;\">\n",
              "        \n",
              "  <svg xmlns=\"http://www.w3.org/2000/svg\" height=\"24px\"viewBox=\"0 0 24 24\"\n",
              "       width=\"24px\">\n",
              "    <path d=\"M0 0h24v24H0V0z\" fill=\"none\"/>\n",
              "    <path d=\"M18.56 5.44l.94 2.06.94-2.06 2.06-.94-2.06-.94-.94-2.06-.94 2.06-2.06.94zm-11 1L8.5 8.5l.94-2.06 2.06-.94-2.06-.94L8.5 2.5l-.94 2.06-2.06.94zm10 10l.94 2.06.94-2.06 2.06-.94-2.06-.94-.94-2.06-.94 2.06-2.06.94z\"/><path d=\"M17.41 7.96l-1.37-1.37c-.4-.4-.92-.59-1.43-.59-.52 0-1.04.2-1.43.59L10.3 9.45l-7.72 7.72c-.78.78-.78 2.05 0 2.83L4 21.41c.39.39.9.59 1.41.59.51 0 1.02-.2 1.41-.59l7.78-7.78 2.81-2.81c.8-.78.8-2.07 0-2.86zM5.41 20L4 18.59l7.72-7.72 1.47 1.35L5.41 20z\"/>\n",
              "  </svg>\n",
              "      </button>\n",
              "      \n",
              "  <style>\n",
              "    .colab-df-container {\n",
              "      display:flex;\n",
              "      flex-wrap:wrap;\n",
              "      gap: 12px;\n",
              "    }\n",
              "\n",
              "    .colab-df-convert {\n",
              "      background-color: #E8F0FE;\n",
              "      border: none;\n",
              "      border-radius: 50%;\n",
              "      cursor: pointer;\n",
              "      display: none;\n",
              "      fill: #1967D2;\n",
              "      height: 32px;\n",
              "      padding: 0 0 0 0;\n",
              "      width: 32px;\n",
              "    }\n",
              "\n",
              "    .colab-df-convert:hover {\n",
              "      background-color: #E2EBFA;\n",
              "      box-shadow: 0px 1px 2px rgba(60, 64, 67, 0.3), 0px 1px 3px 1px rgba(60, 64, 67, 0.15);\n",
              "      fill: #174EA6;\n",
              "    }\n",
              "\n",
              "    [theme=dark] .colab-df-convert {\n",
              "      background-color: #3B4455;\n",
              "      fill: #D2E3FC;\n",
              "    }\n",
              "\n",
              "    [theme=dark] .colab-df-convert:hover {\n",
              "      background-color: #434B5C;\n",
              "      box-shadow: 0px 1px 3px 1px rgba(0, 0, 0, 0.15);\n",
              "      filter: drop-shadow(0px 1px 2px rgba(0, 0, 0, 0.3));\n",
              "      fill: #FFFFFF;\n",
              "    }\n",
              "  </style>\n",
              "\n",
              "      <script>\n",
              "        const buttonEl =\n",
              "          document.querySelector('#df-515e822d-888b-49d8-8d15-8e914fbe40f7 button.colab-df-convert');\n",
              "        buttonEl.style.display =\n",
              "          google.colab.kernel.accessAllowed ? 'block' : 'none';\n",
              "\n",
              "        async function convertToInteractive(key) {\n",
              "          const element = document.querySelector('#df-515e822d-888b-49d8-8d15-8e914fbe40f7');\n",
              "          const dataTable =\n",
              "            await google.colab.kernel.invokeFunction('convertToInteractive',\n",
              "                                                     [key], {});\n",
              "          if (!dataTable) return;\n",
              "\n",
              "          const docLinkHtml = 'Like what you see? Visit the ' +\n",
              "            '<a target=\"_blank\" href=https://colab.research.google.com/notebooks/data_table.ipynb>data table notebook</a>'\n",
              "            + ' to learn more about interactive tables.';\n",
              "          element.innerHTML = '';\n",
              "          dataTable['output_type'] = 'display_data';\n",
              "          await google.colab.output.renderOutput(dataTable, element);\n",
              "          const docLink = document.createElement('div');\n",
              "          docLink.innerHTML = docLinkHtml;\n",
              "          element.appendChild(docLink);\n",
              "        }\n",
              "      </script>\n",
              "    </div>\n",
              "  </div>\n",
              "  "
            ]
          },
          "metadata": {}
        },
        {
          "output_type": "stream",
          "name": "stdout",
          "text": [
            "\n",
            "--- Fold 2 ---\n",
            "...train set:\n"
          ]
        },
        {
          "output_type": "display_data",
          "data": {
            "text/plain": [
              "                0    1    2    3  target\n",
              "sample index                            \n",
              "3             6.4  3.2  4.5  1.5       1\n",
              "4             4.8  3.4  1.6  0.2       0\n",
              "8             6.7  3.3  5.7  2.5       2\n",
              "9             7.0  3.2  4.7  1.4       1\n",
              "12            6.3  2.9  5.6  1.8       2\n",
              "...           ...  ...  ...  ...     ...\n",
              "122           6.7  2.5  5.8  1.8       2\n",
              "124           6.9  3.1  5.4  2.1       2\n",
              "128           6.7  3.0  5.0  1.7       1\n",
              "129           5.2  3.5  1.5  0.2       0\n",
              "132           4.3  3.0  1.1  0.1       0\n",
              "\n",
              "[68 rows x 5 columns]"
            ],
            "text/html": [
              "\n",
              "  <div id=\"df-0c7d3973-f916-46f7-b876-ef4d23b53e78\">\n",
              "    <div class=\"colab-df-container\">\n",
              "      <div>\n",
              "<style scoped>\n",
              "    .dataframe tbody tr th:only-of-type {\n",
              "        vertical-align: middle;\n",
              "    }\n",
              "\n",
              "    .dataframe tbody tr th {\n",
              "        vertical-align: top;\n",
              "    }\n",
              "\n",
              "    .dataframe thead th {\n",
              "        text-align: right;\n",
              "    }\n",
              "</style>\n",
              "<table border=\"1\" class=\"dataframe\">\n",
              "  <thead>\n",
              "    <tr style=\"text-align: right;\">\n",
              "      <th></th>\n",
              "      <th>0</th>\n",
              "      <th>1</th>\n",
              "      <th>2</th>\n",
              "      <th>3</th>\n",
              "      <th>target</th>\n",
              "    </tr>\n",
              "    <tr>\n",
              "      <th>sample index</th>\n",
              "      <th></th>\n",
              "      <th></th>\n",
              "      <th></th>\n",
              "      <th></th>\n",
              "      <th></th>\n",
              "    </tr>\n",
              "  </thead>\n",
              "  <tbody>\n",
              "    <tr>\n",
              "      <th>3</th>\n",
              "      <td>6.4</td>\n",
              "      <td>3.2</td>\n",
              "      <td>4.5</td>\n",
              "      <td>1.5</td>\n",
              "      <td>1</td>\n",
              "    </tr>\n",
              "    <tr>\n",
              "      <th>4</th>\n",
              "      <td>4.8</td>\n",
              "      <td>3.4</td>\n",
              "      <td>1.6</td>\n",
              "      <td>0.2</td>\n",
              "      <td>0</td>\n",
              "    </tr>\n",
              "    <tr>\n",
              "      <th>8</th>\n",
              "      <td>6.7</td>\n",
              "      <td>3.3</td>\n",
              "      <td>5.7</td>\n",
              "      <td>2.5</td>\n",
              "      <td>2</td>\n",
              "    </tr>\n",
              "    <tr>\n",
              "      <th>9</th>\n",
              "      <td>7.0</td>\n",
              "      <td>3.2</td>\n",
              "      <td>4.7</td>\n",
              "      <td>1.4</td>\n",
              "      <td>1</td>\n",
              "    </tr>\n",
              "    <tr>\n",
              "      <th>12</th>\n",
              "      <td>6.3</td>\n",
              "      <td>2.9</td>\n",
              "      <td>5.6</td>\n",
              "      <td>1.8</td>\n",
              "      <td>2</td>\n",
              "    </tr>\n",
              "    <tr>\n",
              "      <th>...</th>\n",
              "      <td>...</td>\n",
              "      <td>...</td>\n",
              "      <td>...</td>\n",
              "      <td>...</td>\n",
              "      <td>...</td>\n",
              "    </tr>\n",
              "    <tr>\n",
              "      <th>122</th>\n",
              "      <td>6.7</td>\n",
              "      <td>2.5</td>\n",
              "      <td>5.8</td>\n",
              "      <td>1.8</td>\n",
              "      <td>2</td>\n",
              "    </tr>\n",
              "    <tr>\n",
              "      <th>124</th>\n",
              "      <td>6.9</td>\n",
              "      <td>3.1</td>\n",
              "      <td>5.4</td>\n",
              "      <td>2.1</td>\n",
              "      <td>2</td>\n",
              "    </tr>\n",
              "    <tr>\n",
              "      <th>128</th>\n",
              "      <td>6.7</td>\n",
              "      <td>3.0</td>\n",
              "      <td>5.0</td>\n",
              "      <td>1.7</td>\n",
              "      <td>1</td>\n",
              "    </tr>\n",
              "    <tr>\n",
              "      <th>129</th>\n",
              "      <td>5.2</td>\n",
              "      <td>3.5</td>\n",
              "      <td>1.5</td>\n",
              "      <td>0.2</td>\n",
              "      <td>0</td>\n",
              "    </tr>\n",
              "    <tr>\n",
              "      <th>132</th>\n",
              "      <td>4.3</td>\n",
              "      <td>3.0</td>\n",
              "      <td>1.1</td>\n",
              "      <td>0.1</td>\n",
              "      <td>0</td>\n",
              "    </tr>\n",
              "  </tbody>\n",
              "</table>\n",
              "<p>68 rows × 5 columns</p>\n",
              "</div>\n",
              "      <button class=\"colab-df-convert\" onclick=\"convertToInteractive('df-0c7d3973-f916-46f7-b876-ef4d23b53e78')\"\n",
              "              title=\"Convert this dataframe to an interactive table.\"\n",
              "              style=\"display:none;\">\n",
              "        \n",
              "  <svg xmlns=\"http://www.w3.org/2000/svg\" height=\"24px\"viewBox=\"0 0 24 24\"\n",
              "       width=\"24px\">\n",
              "    <path d=\"M0 0h24v24H0V0z\" fill=\"none\"/>\n",
              "    <path d=\"M18.56 5.44l.94 2.06.94-2.06 2.06-.94-2.06-.94-.94-2.06-.94 2.06-2.06.94zm-11 1L8.5 8.5l.94-2.06 2.06-.94-2.06-.94L8.5 2.5l-.94 2.06-2.06.94zm10 10l.94 2.06.94-2.06 2.06-.94-2.06-.94-.94-2.06-.94 2.06-2.06.94z\"/><path d=\"M17.41 7.96l-1.37-1.37c-.4-.4-.92-.59-1.43-.59-.52 0-1.04.2-1.43.59L10.3 9.45l-7.72 7.72c-.78.78-.78 2.05 0 2.83L4 21.41c.39.39.9.59 1.41.59.51 0 1.02-.2 1.41-.59l7.78-7.78 2.81-2.81c.8-.78.8-2.07 0-2.86zM5.41 20L4 18.59l7.72-7.72 1.47 1.35L5.41 20z\"/>\n",
              "  </svg>\n",
              "      </button>\n",
              "      \n",
              "  <style>\n",
              "    .colab-df-container {\n",
              "      display:flex;\n",
              "      flex-wrap:wrap;\n",
              "      gap: 12px;\n",
              "    }\n",
              "\n",
              "    .colab-df-convert {\n",
              "      background-color: #E8F0FE;\n",
              "      border: none;\n",
              "      border-radius: 50%;\n",
              "      cursor: pointer;\n",
              "      display: none;\n",
              "      fill: #1967D2;\n",
              "      height: 32px;\n",
              "      padding: 0 0 0 0;\n",
              "      width: 32px;\n",
              "    }\n",
              "\n",
              "    .colab-df-convert:hover {\n",
              "      background-color: #E2EBFA;\n",
              "      box-shadow: 0px 1px 2px rgba(60, 64, 67, 0.3), 0px 1px 3px 1px rgba(60, 64, 67, 0.15);\n",
              "      fill: #174EA6;\n",
              "    }\n",
              "\n",
              "    [theme=dark] .colab-df-convert {\n",
              "      background-color: #3B4455;\n",
              "      fill: #D2E3FC;\n",
              "    }\n",
              "\n",
              "    [theme=dark] .colab-df-convert:hover {\n",
              "      background-color: #434B5C;\n",
              "      box-shadow: 0px 1px 3px 1px rgba(0, 0, 0, 0.15);\n",
              "      filter: drop-shadow(0px 1px 2px rgba(0, 0, 0, 0.3));\n",
              "      fill: #FFFFFF;\n",
              "    }\n",
              "  </style>\n",
              "\n",
              "      <script>\n",
              "        const buttonEl =\n",
              "          document.querySelector('#df-0c7d3973-f916-46f7-b876-ef4d23b53e78 button.colab-df-convert');\n",
              "        buttonEl.style.display =\n",
              "          google.colab.kernel.accessAllowed ? 'block' : 'none';\n",
              "\n",
              "        async function convertToInteractive(key) {\n",
              "          const element = document.querySelector('#df-0c7d3973-f916-46f7-b876-ef4d23b53e78');\n",
              "          const dataTable =\n",
              "            await google.colab.kernel.invokeFunction('convertToInteractive',\n",
              "                                                     [key], {});\n",
              "          if (!dataTable) return;\n",
              "\n",
              "          const docLinkHtml = 'Like what you see? Visit the ' +\n",
              "            '<a target=\"_blank\" href=https://colab.research.google.com/notebooks/data_table.ipynb>data table notebook</a>'\n",
              "            + ' to learn more about interactive tables.';\n",
              "          element.innerHTML = '';\n",
              "          dataTable['output_type'] = 'display_data';\n",
              "          await google.colab.output.renderOutput(dataTable, element);\n",
              "          const docLink = document.createElement('div');\n",
              "          docLink.innerHTML = docLinkHtml;\n",
              "          element.appendChild(docLink);\n",
              "        }\n",
              "      </script>\n",
              "    </div>\n",
              "  </div>\n",
              "  "
            ]
          },
          "metadata": {}
        },
        {
          "output_type": "stream",
          "name": "stdout",
          "text": [
            "...validation set:\n"
          ]
        },
        {
          "output_type": "display_data",
          "data": {
            "text/plain": [
              "                0    1    2    3  target\n",
              "sample index                            \n",
              "0             5.0  3.2  1.2  0.2       0\n",
              "1             5.1  3.8  1.9  0.4       0\n",
              "2             6.4  2.8  5.6  2.2       2\n",
              "5             6.1  3.0  4.6  1.4       1\n",
              "6             5.6  2.5  3.9  1.1       1\n",
              "...           ...  ...  ...  ...     ...\n",
              "127           6.4  2.8  5.6  2.1       2\n",
              "130           5.1  3.8  1.6  0.2       0\n",
              "131           6.0  2.7  5.1  1.6       1\n",
              "133           4.5  2.3  1.3  0.3       0\n",
              "134           5.8  2.7  5.1  1.9       2\n",
              "\n",
              "[67 rows x 5 columns]"
            ],
            "text/html": [
              "\n",
              "  <div id=\"df-d8a5dcde-8b96-4edb-a3a1-d845d4ff29a5\">\n",
              "    <div class=\"colab-df-container\">\n",
              "      <div>\n",
              "<style scoped>\n",
              "    .dataframe tbody tr th:only-of-type {\n",
              "        vertical-align: middle;\n",
              "    }\n",
              "\n",
              "    .dataframe tbody tr th {\n",
              "        vertical-align: top;\n",
              "    }\n",
              "\n",
              "    .dataframe thead th {\n",
              "        text-align: right;\n",
              "    }\n",
              "</style>\n",
              "<table border=\"1\" class=\"dataframe\">\n",
              "  <thead>\n",
              "    <tr style=\"text-align: right;\">\n",
              "      <th></th>\n",
              "      <th>0</th>\n",
              "      <th>1</th>\n",
              "      <th>2</th>\n",
              "      <th>3</th>\n",
              "      <th>target</th>\n",
              "    </tr>\n",
              "    <tr>\n",
              "      <th>sample index</th>\n",
              "      <th></th>\n",
              "      <th></th>\n",
              "      <th></th>\n",
              "      <th></th>\n",
              "      <th></th>\n",
              "    </tr>\n",
              "  </thead>\n",
              "  <tbody>\n",
              "    <tr>\n",
              "      <th>0</th>\n",
              "      <td>5.0</td>\n",
              "      <td>3.2</td>\n",
              "      <td>1.2</td>\n",
              "      <td>0.2</td>\n",
              "      <td>0</td>\n",
              "    </tr>\n",
              "    <tr>\n",
              "      <th>1</th>\n",
              "      <td>5.1</td>\n",
              "      <td>3.8</td>\n",
              "      <td>1.9</td>\n",
              "      <td>0.4</td>\n",
              "      <td>0</td>\n",
              "    </tr>\n",
              "    <tr>\n",
              "      <th>2</th>\n",
              "      <td>6.4</td>\n",
              "      <td>2.8</td>\n",
              "      <td>5.6</td>\n",
              "      <td>2.2</td>\n",
              "      <td>2</td>\n",
              "    </tr>\n",
              "    <tr>\n",
              "      <th>5</th>\n",
              "      <td>6.1</td>\n",
              "      <td>3.0</td>\n",
              "      <td>4.6</td>\n",
              "      <td>1.4</td>\n",
              "      <td>1</td>\n",
              "    </tr>\n",
              "    <tr>\n",
              "      <th>6</th>\n",
              "      <td>5.6</td>\n",
              "      <td>2.5</td>\n",
              "      <td>3.9</td>\n",
              "      <td>1.1</td>\n",
              "      <td>1</td>\n",
              "    </tr>\n",
              "    <tr>\n",
              "      <th>...</th>\n",
              "      <td>...</td>\n",
              "      <td>...</td>\n",
              "      <td>...</td>\n",
              "      <td>...</td>\n",
              "      <td>...</td>\n",
              "    </tr>\n",
              "    <tr>\n",
              "      <th>127</th>\n",
              "      <td>6.4</td>\n",
              "      <td>2.8</td>\n",
              "      <td>5.6</td>\n",
              "      <td>2.1</td>\n",
              "      <td>2</td>\n",
              "    </tr>\n",
              "    <tr>\n",
              "      <th>130</th>\n",
              "      <td>5.1</td>\n",
              "      <td>3.8</td>\n",
              "      <td>1.6</td>\n",
              "      <td>0.2</td>\n",
              "      <td>0</td>\n",
              "    </tr>\n",
              "    <tr>\n",
              "      <th>131</th>\n",
              "      <td>6.0</td>\n",
              "      <td>2.7</td>\n",
              "      <td>5.1</td>\n",
              "      <td>1.6</td>\n",
              "      <td>1</td>\n",
              "    </tr>\n",
              "    <tr>\n",
              "      <th>133</th>\n",
              "      <td>4.5</td>\n",
              "      <td>2.3</td>\n",
              "      <td>1.3</td>\n",
              "      <td>0.3</td>\n",
              "      <td>0</td>\n",
              "    </tr>\n",
              "    <tr>\n",
              "      <th>134</th>\n",
              "      <td>5.8</td>\n",
              "      <td>2.7</td>\n",
              "      <td>5.1</td>\n",
              "      <td>1.9</td>\n",
              "      <td>2</td>\n",
              "    </tr>\n",
              "  </tbody>\n",
              "</table>\n",
              "<p>67 rows × 5 columns</p>\n",
              "</div>\n",
              "      <button class=\"colab-df-convert\" onclick=\"convertToInteractive('df-d8a5dcde-8b96-4edb-a3a1-d845d4ff29a5')\"\n",
              "              title=\"Convert this dataframe to an interactive table.\"\n",
              "              style=\"display:none;\">\n",
              "        \n",
              "  <svg xmlns=\"http://www.w3.org/2000/svg\" height=\"24px\"viewBox=\"0 0 24 24\"\n",
              "       width=\"24px\">\n",
              "    <path d=\"M0 0h24v24H0V0z\" fill=\"none\"/>\n",
              "    <path d=\"M18.56 5.44l.94 2.06.94-2.06 2.06-.94-2.06-.94-.94-2.06-.94 2.06-2.06.94zm-11 1L8.5 8.5l.94-2.06 2.06-.94-2.06-.94L8.5 2.5l-.94 2.06-2.06.94zm10 10l.94 2.06.94-2.06 2.06-.94-2.06-.94-.94-2.06-.94 2.06-2.06.94z\"/><path d=\"M17.41 7.96l-1.37-1.37c-.4-.4-.92-.59-1.43-.59-.52 0-1.04.2-1.43.59L10.3 9.45l-7.72 7.72c-.78.78-.78 2.05 0 2.83L4 21.41c.39.39.9.59 1.41.59.51 0 1.02-.2 1.41-.59l7.78-7.78 2.81-2.81c.8-.78.8-2.07 0-2.86zM5.41 20L4 18.59l7.72-7.72 1.47 1.35L5.41 20z\"/>\n",
              "  </svg>\n",
              "      </button>\n",
              "      \n",
              "  <style>\n",
              "    .colab-df-container {\n",
              "      display:flex;\n",
              "      flex-wrap:wrap;\n",
              "      gap: 12px;\n",
              "    }\n",
              "\n",
              "    .colab-df-convert {\n",
              "      background-color: #E8F0FE;\n",
              "      border: none;\n",
              "      border-radius: 50%;\n",
              "      cursor: pointer;\n",
              "      display: none;\n",
              "      fill: #1967D2;\n",
              "      height: 32px;\n",
              "      padding: 0 0 0 0;\n",
              "      width: 32px;\n",
              "    }\n",
              "\n",
              "    .colab-df-convert:hover {\n",
              "      background-color: #E2EBFA;\n",
              "      box-shadow: 0px 1px 2px rgba(60, 64, 67, 0.3), 0px 1px 3px 1px rgba(60, 64, 67, 0.15);\n",
              "      fill: #174EA6;\n",
              "    }\n",
              "\n",
              "    [theme=dark] .colab-df-convert {\n",
              "      background-color: #3B4455;\n",
              "      fill: #D2E3FC;\n",
              "    }\n",
              "\n",
              "    [theme=dark] .colab-df-convert:hover {\n",
              "      background-color: #434B5C;\n",
              "      box-shadow: 0px 1px 3px 1px rgba(0, 0, 0, 0.15);\n",
              "      filter: drop-shadow(0px 1px 2px rgba(0, 0, 0, 0.3));\n",
              "      fill: #FFFFFF;\n",
              "    }\n",
              "  </style>\n",
              "\n",
              "      <script>\n",
              "        const buttonEl =\n",
              "          document.querySelector('#df-d8a5dcde-8b96-4edb-a3a1-d845d4ff29a5 button.colab-df-convert');\n",
              "        buttonEl.style.display =\n",
              "          google.colab.kernel.accessAllowed ? 'block' : 'none';\n",
              "\n",
              "        async function convertToInteractive(key) {\n",
              "          const element = document.querySelector('#df-d8a5dcde-8b96-4edb-a3a1-d845d4ff29a5');\n",
              "          const dataTable =\n",
              "            await google.colab.kernel.invokeFunction('convertToInteractive',\n",
              "                                                     [key], {});\n",
              "          if (!dataTable) return;\n",
              "\n",
              "          const docLinkHtml = 'Like what you see? Visit the ' +\n",
              "            '<a target=\"_blank\" href=https://colab.research.google.com/notebooks/data_table.ipynb>data table notebook</a>'\n",
              "            + ' to learn more about interactive tables.';\n",
              "          element.innerHTML = '';\n",
              "          dataTable['output_type'] = 'display_data';\n",
              "          await google.colab.output.renderOutput(dataTable, element);\n",
              "          const docLink = document.createElement('div');\n",
              "          docLink.innerHTML = docLinkHtml;\n",
              "          element.appendChild(docLink);\n",
              "        }\n",
              "      </script>\n",
              "    </div>\n",
              "  </div>\n",
              "  "
            ]
          },
          "metadata": {}
        },
        {
          "output_type": "stream",
          "name": "stdout",
          "text": [
            "\n"
          ]
        }
      ]
    },
    {
      "cell_type": "markdown",
      "source": [
        "#### Hyperparameter tuning using grid search CV"
      ],
      "metadata": {
        "id": "9Zyab6DNU--N"
      }
    },
    {
      "cell_type": "code",
      "source": [
        "## for an exhaustive search of specified parameter grid using cross-validation\n",
        "from sklearn.model_selection import GridSearchCV"
      ],
      "metadata": {
        "id": "nzhKRsSoVGDU"
      },
      "execution_count": null,
      "outputs": []
    },
    {
      "cell_type": "code",
      "source": [
        "## we define the hyperparameters we want to check\n",
        "parameter_space = [\n",
        "    {\"kernel\": [\"linear\"]},\n",
        "    {\"kernel\": [\"poly\"], \"degree\": [2,3,4],},\n",
        "    ]\n",
        "\n",
        "## instantiate then fit a grid search with KFold cross-validation\n",
        "gridsearch = GridSearchCV(estimator =svm.SVC(), \n",
        "                          param_grid = parameter_space, \n",
        "                          scoring = {\"accuracy\": \"accuracy\",\n",
        "                                     \"f1_macro\": make_scorer(f1_score, greater_is_better=True, average=\"macro\")},\n",
        "                          refit = \"f1_macro\", ## if we use multiple scorers, we have to choose which one will decide what the best metric is\n",
        "                          cv = 5, ## if we use KFold, we can simply specify the number of splits instead of the CV splitter\n",
        "                          )\n",
        "gridsearch.fit(X_train, y_train)\n"
      ],
      "metadata": {
        "id": "dIP2x7IOWUuz",
        "outputId": "685197b1-26a6-4861-e117-78395f27f0a4",
        "colab": {
          "base_uri": "https://localhost:8080/"
        }
      },
      "execution_count": null,
      "outputs": [
        {
          "output_type": "execute_result",
          "data": {
            "text/plain": [
              "GridSearchCV(cv=5, estimator=SVC(),\n",
              "             param_grid=[{'kernel': ['linear']},\n",
              "                         {'degree': [2, 3, 4], 'kernel': ['poly']}],\n",
              "             refit='f1_macro',\n",
              "             scoring={'accuracy': 'accuracy',\n",
              "                      'f1_macro': make_scorer(f1_score, average=macro)})"
            ]
          },
          "metadata": {},
          "execution_count": 10
        }
      ]
    },
    {
      "cell_type": "code",
      "source": [
        "print(\"Best parameters:\")\n",
        "print(gridsearch.best_params_)"
      ],
      "metadata": {
        "id": "nHAQMhNpXMBj",
        "outputId": "1d77b41c-95dc-4ef0-fe63-03a5ff0b4e4a",
        "colab": {
          "base_uri": "https://localhost:8080/"
        }
      },
      "execution_count": null,
      "outputs": [
        {
          "output_type": "stream",
          "name": "stdout",
          "text": [
            "Best parameters:\n",
            "{'kernel': 'linear'}\n"
          ]
        }
      ]
    },
    {
      "cell_type": "code",
      "source": [
        "gridsearch.cv_results_"
      ],
      "metadata": {
        "id": "jsJdj77UY0xB",
        "outputId": "e5519e5c-adfd-4d7f-e6f9-d89c3026286f",
        "colab": {
          "base_uri": "https://localhost:8080/"
        }
      },
      "execution_count": null,
      "outputs": [
        {
          "output_type": "execute_result",
          "data": {
            "text/plain": [
              "{'mean_fit_time': array([0.00094776, 0.00072451, 0.00073218, 0.00140023]),\n",
              " 'mean_score_time': array([0.00126114, 0.00103526, 0.00101995, 0.00186496]),\n",
              " 'mean_test_accuracy': array([0.98518519, 0.98518519, 0.97777778, 0.97777778]),\n",
              " 'mean_test_f1_macro': array([0.98513932, 0.98513932, 0.97756966, 0.97770898]),\n",
              " 'param_degree': masked_array(data=[--, 2, 3, 4],\n",
              "              mask=[ True, False, False, False],\n",
              "        fill_value='?',\n",
              "             dtype=object),\n",
              " 'param_kernel': masked_array(data=['linear', 'poly', 'poly', 'poly'],\n",
              "              mask=[False, False, False, False],\n",
              "        fill_value='?',\n",
              "             dtype=object),\n",
              " 'params': [{'kernel': 'linear'},\n",
              "  {'degree': 2, 'kernel': 'poly'},\n",
              "  {'degree': 3, 'kernel': 'poly'},\n",
              "  {'degree': 4, 'kernel': 'poly'}],\n",
              " 'rank_test_accuracy': array([1, 1, 3, 3], dtype=int32),\n",
              " 'rank_test_f1_macro': array([1, 1, 4, 3], dtype=int32),\n",
              " 'split0_test_accuracy': array([1., 1., 1., 1.]),\n",
              " 'split0_test_f1_macro': array([1., 1., 1., 1.]),\n",
              " 'split1_test_accuracy': array([0.96296296, 1.        , 0.96296296, 0.96296296]),\n",
              " 'split1_test_f1_macro': array([0.9628483, 1.       , 0.9628483, 0.9628483]),\n",
              " 'split2_test_accuracy': array([1., 1., 1., 1.]),\n",
              " 'split2_test_f1_macro': array([1., 1., 1., 1.]),\n",
              " 'split3_test_accuracy': array([1.        , 0.96296296, 1.        , 0.96296296]),\n",
              " 'split3_test_f1_macro': array([1.       , 0.9628483, 1.       , 0.9628483]),\n",
              " 'split4_test_accuracy': array([0.96296296, 0.96296296, 0.92592593, 0.96296296]),\n",
              " 'split4_test_f1_macro': array([0.9628483, 0.9628483, 0.925    , 0.9628483]),\n",
              " 'std_fit_time': array([2.90765720e-04, 2.66006762e-05, 1.62621746e-05, 3.27287180e-04]),\n",
              " 'std_score_time': array([3.56411506e-04, 1.35386489e-05, 1.02680657e-05, 7.78936105e-04]),\n",
              " 'std_test_accuracy': array([0.01814437, 0.01814437, 0.02962963, 0.01814437]),\n",
              " 'std_test_f1_macro': array([0.01820054, 0.01820054, 0.02996547, 0.01820054])}"
            ]
          },
          "metadata": {},
          "execution_count": 12
        }
      ]
    },
    {
      "cell_type": "code",
      "source": [
        "## to display results in a nice, pandas dataframe:\n",
        "resultsdf = pd.DataFrame(gridsearch.cv_results_)\n",
        "with pd.option_context(\"display.max_columns\", 30):\n",
        "  display(resultsdf)"
      ],
      "metadata": {
        "id": "MRBXlVoDXSit",
        "outputId": "ab63ec7f-3d12-4778-a387-81a3119f65a3",
        "colab": {
          "base_uri": "https://localhost:8080/",
          "height": 412
        }
      },
      "execution_count": null,
      "outputs": [
        {
          "output_type": "display_data",
          "data": {
            "text/plain": [
              "   mean_fit_time  std_fit_time  mean_score_time  std_score_time param_kernel  \\\n",
              "0       0.000948      0.000291         0.001261        0.000356       linear   \n",
              "1       0.000725      0.000027         0.001035        0.000014         poly   \n",
              "2       0.000732      0.000016         0.001020        0.000010         poly   \n",
              "3       0.001400      0.000327         0.001865        0.000779         poly   \n",
              "\n",
              "  param_degree                           params  split0_test_accuracy  \\\n",
              "0          NaN             {'kernel': 'linear'}                   1.0   \n",
              "1            2  {'degree': 2, 'kernel': 'poly'}                   1.0   \n",
              "2            3  {'degree': 3, 'kernel': 'poly'}                   1.0   \n",
              "3            4  {'degree': 4, 'kernel': 'poly'}                   1.0   \n",
              "\n",
              "   split1_test_accuracy  split2_test_accuracy  split3_test_accuracy  \\\n",
              "0              0.962963                   1.0              1.000000   \n",
              "1              1.000000                   1.0              0.962963   \n",
              "2              0.962963                   1.0              1.000000   \n",
              "3              0.962963                   1.0              0.962963   \n",
              "\n",
              "   split4_test_accuracy  mean_test_accuracy  std_test_accuracy  \\\n",
              "0              0.962963            0.985185           0.018144   \n",
              "1              0.962963            0.985185           0.018144   \n",
              "2              0.925926            0.977778           0.029630   \n",
              "3              0.962963            0.977778           0.018144   \n",
              "\n",
              "   rank_test_accuracy  split0_test_f1_macro  split1_test_f1_macro  \\\n",
              "0                   1                   1.0              0.962848   \n",
              "1                   1                   1.0              1.000000   \n",
              "2                   3                   1.0              0.962848   \n",
              "3                   3                   1.0              0.962848   \n",
              "\n",
              "   split2_test_f1_macro  split3_test_f1_macro  split4_test_f1_macro  \\\n",
              "0                   1.0              1.000000              0.962848   \n",
              "1                   1.0              0.962848              0.962848   \n",
              "2                   1.0              1.000000              0.925000   \n",
              "3                   1.0              0.962848              0.962848   \n",
              "\n",
              "   mean_test_f1_macro  std_test_f1_macro  rank_test_f1_macro  \n",
              "0            0.985139           0.018201                   1  \n",
              "1            0.985139           0.018201                   1  \n",
              "2            0.977570           0.029965                   4  \n",
              "3            0.977709           0.018201                   3  "
            ],
            "text/html": [
              "\n",
              "  <div id=\"df-2a8bda69-bda9-4c3a-b38d-bb12a88d0eaf\">\n",
              "    <div class=\"colab-df-container\">\n",
              "      <div>\n",
              "<style scoped>\n",
              "    .dataframe tbody tr th:only-of-type {\n",
              "        vertical-align: middle;\n",
              "    }\n",
              "\n",
              "    .dataframe tbody tr th {\n",
              "        vertical-align: top;\n",
              "    }\n",
              "\n",
              "    .dataframe thead th {\n",
              "        text-align: right;\n",
              "    }\n",
              "</style>\n",
              "<table border=\"1\" class=\"dataframe\">\n",
              "  <thead>\n",
              "    <tr style=\"text-align: right;\">\n",
              "      <th></th>\n",
              "      <th>mean_fit_time</th>\n",
              "      <th>std_fit_time</th>\n",
              "      <th>mean_score_time</th>\n",
              "      <th>std_score_time</th>\n",
              "      <th>param_kernel</th>\n",
              "      <th>param_degree</th>\n",
              "      <th>params</th>\n",
              "      <th>split0_test_accuracy</th>\n",
              "      <th>split1_test_accuracy</th>\n",
              "      <th>split2_test_accuracy</th>\n",
              "      <th>split3_test_accuracy</th>\n",
              "      <th>split4_test_accuracy</th>\n",
              "      <th>mean_test_accuracy</th>\n",
              "      <th>std_test_accuracy</th>\n",
              "      <th>rank_test_accuracy</th>\n",
              "      <th>split0_test_f1_macro</th>\n",
              "      <th>split1_test_f1_macro</th>\n",
              "      <th>split2_test_f1_macro</th>\n",
              "      <th>split3_test_f1_macro</th>\n",
              "      <th>split4_test_f1_macro</th>\n",
              "      <th>mean_test_f1_macro</th>\n",
              "      <th>std_test_f1_macro</th>\n",
              "      <th>rank_test_f1_macro</th>\n",
              "    </tr>\n",
              "  </thead>\n",
              "  <tbody>\n",
              "    <tr>\n",
              "      <th>0</th>\n",
              "      <td>0.000948</td>\n",
              "      <td>0.000291</td>\n",
              "      <td>0.001261</td>\n",
              "      <td>0.000356</td>\n",
              "      <td>linear</td>\n",
              "      <td>NaN</td>\n",
              "      <td>{'kernel': 'linear'}</td>\n",
              "      <td>1.0</td>\n",
              "      <td>0.962963</td>\n",
              "      <td>1.0</td>\n",
              "      <td>1.000000</td>\n",
              "      <td>0.962963</td>\n",
              "      <td>0.985185</td>\n",
              "      <td>0.018144</td>\n",
              "      <td>1</td>\n",
              "      <td>1.0</td>\n",
              "      <td>0.962848</td>\n",
              "      <td>1.0</td>\n",
              "      <td>1.000000</td>\n",
              "      <td>0.962848</td>\n",
              "      <td>0.985139</td>\n",
              "      <td>0.018201</td>\n",
              "      <td>1</td>\n",
              "    </tr>\n",
              "    <tr>\n",
              "      <th>1</th>\n",
              "      <td>0.000725</td>\n",
              "      <td>0.000027</td>\n",
              "      <td>0.001035</td>\n",
              "      <td>0.000014</td>\n",
              "      <td>poly</td>\n",
              "      <td>2</td>\n",
              "      <td>{'degree': 2, 'kernel': 'poly'}</td>\n",
              "      <td>1.0</td>\n",
              "      <td>1.000000</td>\n",
              "      <td>1.0</td>\n",
              "      <td>0.962963</td>\n",
              "      <td>0.962963</td>\n",
              "      <td>0.985185</td>\n",
              "      <td>0.018144</td>\n",
              "      <td>1</td>\n",
              "      <td>1.0</td>\n",
              "      <td>1.000000</td>\n",
              "      <td>1.0</td>\n",
              "      <td>0.962848</td>\n",
              "      <td>0.962848</td>\n",
              "      <td>0.985139</td>\n",
              "      <td>0.018201</td>\n",
              "      <td>1</td>\n",
              "    </tr>\n",
              "    <tr>\n",
              "      <th>2</th>\n",
              "      <td>0.000732</td>\n",
              "      <td>0.000016</td>\n",
              "      <td>0.001020</td>\n",
              "      <td>0.000010</td>\n",
              "      <td>poly</td>\n",
              "      <td>3</td>\n",
              "      <td>{'degree': 3, 'kernel': 'poly'}</td>\n",
              "      <td>1.0</td>\n",
              "      <td>0.962963</td>\n",
              "      <td>1.0</td>\n",
              "      <td>1.000000</td>\n",
              "      <td>0.925926</td>\n",
              "      <td>0.977778</td>\n",
              "      <td>0.029630</td>\n",
              "      <td>3</td>\n",
              "      <td>1.0</td>\n",
              "      <td>0.962848</td>\n",
              "      <td>1.0</td>\n",
              "      <td>1.000000</td>\n",
              "      <td>0.925000</td>\n",
              "      <td>0.977570</td>\n",
              "      <td>0.029965</td>\n",
              "      <td>4</td>\n",
              "    </tr>\n",
              "    <tr>\n",
              "      <th>3</th>\n",
              "      <td>0.001400</td>\n",
              "      <td>0.000327</td>\n",
              "      <td>0.001865</td>\n",
              "      <td>0.000779</td>\n",
              "      <td>poly</td>\n",
              "      <td>4</td>\n",
              "      <td>{'degree': 4, 'kernel': 'poly'}</td>\n",
              "      <td>1.0</td>\n",
              "      <td>0.962963</td>\n",
              "      <td>1.0</td>\n",
              "      <td>0.962963</td>\n",
              "      <td>0.962963</td>\n",
              "      <td>0.977778</td>\n",
              "      <td>0.018144</td>\n",
              "      <td>3</td>\n",
              "      <td>1.0</td>\n",
              "      <td>0.962848</td>\n",
              "      <td>1.0</td>\n",
              "      <td>0.962848</td>\n",
              "      <td>0.962848</td>\n",
              "      <td>0.977709</td>\n",
              "      <td>0.018201</td>\n",
              "      <td>3</td>\n",
              "    </tr>\n",
              "  </tbody>\n",
              "</table>\n",
              "</div>\n",
              "      <button class=\"colab-df-convert\" onclick=\"convertToInteractive('df-2a8bda69-bda9-4c3a-b38d-bb12a88d0eaf')\"\n",
              "              title=\"Convert this dataframe to an interactive table.\"\n",
              "              style=\"display:none;\">\n",
              "        \n",
              "  <svg xmlns=\"http://www.w3.org/2000/svg\" height=\"24px\"viewBox=\"0 0 24 24\"\n",
              "       width=\"24px\">\n",
              "    <path d=\"M0 0h24v24H0V0z\" fill=\"none\"/>\n",
              "    <path d=\"M18.56 5.44l.94 2.06.94-2.06 2.06-.94-2.06-.94-.94-2.06-.94 2.06-2.06.94zm-11 1L8.5 8.5l.94-2.06 2.06-.94-2.06-.94L8.5 2.5l-.94 2.06-2.06.94zm10 10l.94 2.06.94-2.06 2.06-.94-2.06-.94-.94-2.06-.94 2.06-2.06.94z\"/><path d=\"M17.41 7.96l-1.37-1.37c-.4-.4-.92-.59-1.43-.59-.52 0-1.04.2-1.43.59L10.3 9.45l-7.72 7.72c-.78.78-.78 2.05 0 2.83L4 21.41c.39.39.9.59 1.41.59.51 0 1.02-.2 1.41-.59l7.78-7.78 2.81-2.81c.8-.78.8-2.07 0-2.86zM5.41 20L4 18.59l7.72-7.72 1.47 1.35L5.41 20z\"/>\n",
              "  </svg>\n",
              "      </button>\n",
              "      \n",
              "  <style>\n",
              "    .colab-df-container {\n",
              "      display:flex;\n",
              "      flex-wrap:wrap;\n",
              "      gap: 12px;\n",
              "    }\n",
              "\n",
              "    .colab-df-convert {\n",
              "      background-color: #E8F0FE;\n",
              "      border: none;\n",
              "      border-radius: 50%;\n",
              "      cursor: pointer;\n",
              "      display: none;\n",
              "      fill: #1967D2;\n",
              "      height: 32px;\n",
              "      padding: 0 0 0 0;\n",
              "      width: 32px;\n",
              "    }\n",
              "\n",
              "    .colab-df-convert:hover {\n",
              "      background-color: #E2EBFA;\n",
              "      box-shadow: 0px 1px 2px rgba(60, 64, 67, 0.3), 0px 1px 3px 1px rgba(60, 64, 67, 0.15);\n",
              "      fill: #174EA6;\n",
              "    }\n",
              "\n",
              "    [theme=dark] .colab-df-convert {\n",
              "      background-color: #3B4455;\n",
              "      fill: #D2E3FC;\n",
              "    }\n",
              "\n",
              "    [theme=dark] .colab-df-convert:hover {\n",
              "      background-color: #434B5C;\n",
              "      box-shadow: 0px 1px 3px 1px rgba(0, 0, 0, 0.15);\n",
              "      filter: drop-shadow(0px 1px 2px rgba(0, 0, 0, 0.3));\n",
              "      fill: #FFFFFF;\n",
              "    }\n",
              "  </style>\n",
              "\n",
              "      <script>\n",
              "        const buttonEl =\n",
              "          document.querySelector('#df-2a8bda69-bda9-4c3a-b38d-bb12a88d0eaf button.colab-df-convert');\n",
              "        buttonEl.style.display =\n",
              "          google.colab.kernel.accessAllowed ? 'block' : 'none';\n",
              "\n",
              "        async function convertToInteractive(key) {\n",
              "          const element = document.querySelector('#df-2a8bda69-bda9-4c3a-b38d-bb12a88d0eaf');\n",
              "          const dataTable =\n",
              "            await google.colab.kernel.invokeFunction('convertToInteractive',\n",
              "                                                     [key], {});\n",
              "          if (!dataTable) return;\n",
              "\n",
              "          const docLinkHtml = 'Like what you see? Visit the ' +\n",
              "            '<a target=\"_blank\" href=https://colab.research.google.com/notebooks/data_table.ipynb>data table notebook</a>'\n",
              "            + ' to learn more about interactive tables.';\n",
              "          element.innerHTML = '';\n",
              "          dataTable['output_type'] = 'display_data';\n",
              "          await google.colab.output.renderOutput(dataTable, element);\n",
              "          const docLink = document.createElement('div');\n",
              "          docLink.innerHTML = docLinkHtml;\n",
              "          element.appendChild(docLink);\n",
              "        }\n",
              "      </script>\n",
              "    </div>\n",
              "  </div>\n",
              "  "
            ]
          },
          "metadata": {}
        }
      ]
    },
    {
      "cell_type": "code",
      "source": [
        "## make the parameters the index, and just display the means and ranks\n",
        "resultsdf.set_index([c for c in resultsdf if c.startswith(\"param_\")])[[c for c in resultsdf.columns if (\"mean_test\" in c) or (\"rank_test\" in c)]]"
      ],
      "metadata": {
        "id": "NciNENbqXvOS",
        "outputId": "88d9d9a3-ca98-415e-a0f6-69cd4820c75d",
        "colab": {
          "base_uri": "https://localhost:8080/",
          "height": 206
        }
      },
      "execution_count": null,
      "outputs": [
        {
          "output_type": "execute_result",
          "data": {
            "text/plain": [
              "                           mean_test_accuracy  rank_test_accuracy  \\\n",
              "param_kernel param_degree                                           \n",
              "linear       NaN                     0.985185                   1   \n",
              "poly         2                       0.985185                   1   \n",
              "             3                       0.977778                   3   \n",
              "             4                       0.977778                   3   \n",
              "\n",
              "                           mean_test_f1_macro  rank_test_f1_macro  \n",
              "param_kernel param_degree                                          \n",
              "linear       NaN                     0.985139                   1  \n",
              "poly         2                       0.985139                   1  \n",
              "             3                       0.977570                   4  \n",
              "             4                       0.977709                   3  "
            ],
            "text/html": [
              "\n",
              "  <div id=\"df-a3505274-5e81-4450-8de1-d37126b12892\">\n",
              "    <div class=\"colab-df-container\">\n",
              "      <div>\n",
              "<style scoped>\n",
              "    .dataframe tbody tr th:only-of-type {\n",
              "        vertical-align: middle;\n",
              "    }\n",
              "\n",
              "    .dataframe tbody tr th {\n",
              "        vertical-align: top;\n",
              "    }\n",
              "\n",
              "    .dataframe thead th {\n",
              "        text-align: right;\n",
              "    }\n",
              "</style>\n",
              "<table border=\"1\" class=\"dataframe\">\n",
              "  <thead>\n",
              "    <tr style=\"text-align: right;\">\n",
              "      <th></th>\n",
              "      <th></th>\n",
              "      <th>mean_test_accuracy</th>\n",
              "      <th>rank_test_accuracy</th>\n",
              "      <th>mean_test_f1_macro</th>\n",
              "      <th>rank_test_f1_macro</th>\n",
              "    </tr>\n",
              "    <tr>\n",
              "      <th>param_kernel</th>\n",
              "      <th>param_degree</th>\n",
              "      <th></th>\n",
              "      <th></th>\n",
              "      <th></th>\n",
              "      <th></th>\n",
              "    </tr>\n",
              "  </thead>\n",
              "  <tbody>\n",
              "    <tr>\n",
              "      <th>linear</th>\n",
              "      <th>NaN</th>\n",
              "      <td>0.985185</td>\n",
              "      <td>1</td>\n",
              "      <td>0.985139</td>\n",
              "      <td>1</td>\n",
              "    </tr>\n",
              "    <tr>\n",
              "      <th rowspan=\"3\" valign=\"top\">poly</th>\n",
              "      <th>2</th>\n",
              "      <td>0.985185</td>\n",
              "      <td>1</td>\n",
              "      <td>0.985139</td>\n",
              "      <td>1</td>\n",
              "    </tr>\n",
              "    <tr>\n",
              "      <th>3</th>\n",
              "      <td>0.977778</td>\n",
              "      <td>3</td>\n",
              "      <td>0.977570</td>\n",
              "      <td>4</td>\n",
              "    </tr>\n",
              "    <tr>\n",
              "      <th>4</th>\n",
              "      <td>0.977778</td>\n",
              "      <td>3</td>\n",
              "      <td>0.977709</td>\n",
              "      <td>3</td>\n",
              "    </tr>\n",
              "  </tbody>\n",
              "</table>\n",
              "</div>\n",
              "      <button class=\"colab-df-convert\" onclick=\"convertToInteractive('df-a3505274-5e81-4450-8de1-d37126b12892')\"\n",
              "              title=\"Convert this dataframe to an interactive table.\"\n",
              "              style=\"display:none;\">\n",
              "        \n",
              "  <svg xmlns=\"http://www.w3.org/2000/svg\" height=\"24px\"viewBox=\"0 0 24 24\"\n",
              "       width=\"24px\">\n",
              "    <path d=\"M0 0h24v24H0V0z\" fill=\"none\"/>\n",
              "    <path d=\"M18.56 5.44l.94 2.06.94-2.06 2.06-.94-2.06-.94-.94-2.06-.94 2.06-2.06.94zm-11 1L8.5 8.5l.94-2.06 2.06-.94-2.06-.94L8.5 2.5l-.94 2.06-2.06.94zm10 10l.94 2.06.94-2.06 2.06-.94-2.06-.94-.94-2.06-.94 2.06-2.06.94z\"/><path d=\"M17.41 7.96l-1.37-1.37c-.4-.4-.92-.59-1.43-.59-.52 0-1.04.2-1.43.59L10.3 9.45l-7.72 7.72c-.78.78-.78 2.05 0 2.83L4 21.41c.39.39.9.59 1.41.59.51 0 1.02-.2 1.41-.59l7.78-7.78 2.81-2.81c.8-.78.8-2.07 0-2.86zM5.41 20L4 18.59l7.72-7.72 1.47 1.35L5.41 20z\"/>\n",
              "  </svg>\n",
              "      </button>\n",
              "      \n",
              "  <style>\n",
              "    .colab-df-container {\n",
              "      display:flex;\n",
              "      flex-wrap:wrap;\n",
              "      gap: 12px;\n",
              "    }\n",
              "\n",
              "    .colab-df-convert {\n",
              "      background-color: #E8F0FE;\n",
              "      border: none;\n",
              "      border-radius: 50%;\n",
              "      cursor: pointer;\n",
              "      display: none;\n",
              "      fill: #1967D2;\n",
              "      height: 32px;\n",
              "      padding: 0 0 0 0;\n",
              "      width: 32px;\n",
              "    }\n",
              "\n",
              "    .colab-df-convert:hover {\n",
              "      background-color: #E2EBFA;\n",
              "      box-shadow: 0px 1px 2px rgba(60, 64, 67, 0.3), 0px 1px 3px 1px rgba(60, 64, 67, 0.15);\n",
              "      fill: #174EA6;\n",
              "    }\n",
              "\n",
              "    [theme=dark] .colab-df-convert {\n",
              "      background-color: #3B4455;\n",
              "      fill: #D2E3FC;\n",
              "    }\n",
              "\n",
              "    [theme=dark] .colab-df-convert:hover {\n",
              "      background-color: #434B5C;\n",
              "      box-shadow: 0px 1px 3px 1px rgba(0, 0, 0, 0.15);\n",
              "      filter: drop-shadow(0px 1px 2px rgba(0, 0, 0, 0.3));\n",
              "      fill: #FFFFFF;\n",
              "    }\n",
              "  </style>\n",
              "\n",
              "      <script>\n",
              "        const buttonEl =\n",
              "          document.querySelector('#df-a3505274-5e81-4450-8de1-d37126b12892 button.colab-df-convert');\n",
              "        buttonEl.style.display =\n",
              "          google.colab.kernel.accessAllowed ? 'block' : 'none';\n",
              "\n",
              "        async function convertToInteractive(key) {\n",
              "          const element = document.querySelector('#df-a3505274-5e81-4450-8de1-d37126b12892');\n",
              "          const dataTable =\n",
              "            await google.colab.kernel.invokeFunction('convertToInteractive',\n",
              "                                                     [key], {});\n",
              "          if (!dataTable) return;\n",
              "\n",
              "          const docLinkHtml = 'Like what you see? Visit the ' +\n",
              "            '<a target=\"_blank\" href=https://colab.research.google.com/notebooks/data_table.ipynb>data table notebook</a>'\n",
              "            + ' to learn more about interactive tables.';\n",
              "          element.innerHTML = '';\n",
              "          dataTable['output_type'] = 'display_data';\n",
              "          await google.colab.output.renderOutput(dataTable, element);\n",
              "          const docLink = document.createElement('div');\n",
              "          docLink.innerHTML = docLinkHtml;\n",
              "          element.appendChild(docLink);\n",
              "        }\n",
              "      </script>\n",
              "    </div>\n",
              "  </div>\n",
              "  "
            ]
          },
          "metadata": {},
          "execution_count": 14
        }
      ]
    },
    {
      "cell_type": "markdown",
      "source": [
        "##### Using the best model"
      ],
      "metadata": {
        "id": "6hbmQ12Bc_re"
      }
    },
    {
      "cell_type": "code",
      "source": [
        "from sklearn.metrics import classification_report\n",
        "\n",
        "print(\"Results on test set using the best model (was refitted on whole train data)\")\n",
        "ypred = gridsearch.predict(X_test)\n",
        "print(classification_report(y_test, ypred))"
      ],
      "metadata": {
        "id": "lK4QeGFaZSCI",
        "outputId": "500ca46c-c591-443b-88f0-f430557b668a",
        "colab": {
          "base_uri": "https://localhost:8080/"
        }
      },
      "execution_count": null,
      "outputs": [
        {
          "output_type": "stream",
          "name": "stdout",
          "text": [
            "Results on test set using the best model (was refitted on whole train data)\n",
            "              precision    recall  f1-score   support\n",
            "\n",
            "           0       1.00      1.00      1.00         5\n",
            "           1       1.00      0.80      0.89         5\n",
            "           2       0.83      1.00      0.91         5\n",
            "\n",
            "    accuracy                           0.93        15\n",
            "   macro avg       0.94      0.93      0.93        15\n",
            "weighted avg       0.94      0.93      0.93        15\n",
            "\n"
          ]
        }
      ]
    },
    {
      "cell_type": "markdown",
      "source": [
        "##### Model from parameter dictionary"
      ],
      "metadata": {
        "id": "rnuFGpKTc5mG"
      }
    },
    {
      "cell_type": "code",
      "source": [
        "second_best_params = resultsdf.sort_values(\"mean_test_f1_macro\", ascending=False)[\"params\"].iloc[1]\n",
        "print(\"Second best params:\", second_best_params)"
      ],
      "metadata": {
        "id": "0Jl0Y033ZqM4",
        "outputId": "5ceb6208-c803-4edf-85ae-e8f86e0c723c",
        "colab": {
          "base_uri": "https://localhost:8080/"
        }
      },
      "execution_count": null,
      "outputs": [
        {
          "output_type": "stream",
          "name": "stdout",
          "text": [
            "Second best params: {'degree': 2, 'kernel': 'poly'}\n"
          ]
        }
      ]
    },
    {
      "cell_type": "code",
      "source": [
        "## instantiate a new classifier with the parameters used \n",
        "## (note the ** to feed the key:value pairs of our dictionary one-by-one!)\n",
        "clf = svm.SVC(**second_best_params)\n",
        "\n",
        "## fit the classifier\n",
        "clf.fit(X_train, y_train)\n",
        "\n",
        "print(\"Results on test set using the second best model\")\n",
        "ypred = clf.predict(X_test)\n",
        "print(classification_report(y_test, ypred))"
      ],
      "metadata": {
        "id": "u-kRF858ZlnA",
        "outputId": "d4c04fa7-1246-4f87-a87a-8288a4f1624e",
        "colab": {
          "base_uri": "https://localhost:8080/"
        }
      },
      "execution_count": null,
      "outputs": [
        {
          "output_type": "stream",
          "name": "stdout",
          "text": [
            "Results on test set using the second best model\n",
            "              precision    recall  f1-score   support\n",
            "\n",
            "           0       1.00      1.00      1.00         5\n",
            "           1       0.83      1.00      0.91         5\n",
            "           2       1.00      0.80      0.89         5\n",
            "\n",
            "    accuracy                           0.93        15\n",
            "   macro avg       0.94      0.93      0.93        15\n",
            "weighted avg       0.94      0.93      0.93        15\n",
            "\n"
          ]
        }
      ]
    }
  ],
  "metadata": {
    "celltoolbar": "Slideshow",
    "kernelspec": {
      "display_name": "Python 3",
      "language": "python",
      "name": "python3"
    },
    "language_info": {
      "codemirror_mode": {
        "name": "ipython",
        "version": 3
      },
      "file_extension": ".py",
      "mimetype": "text/x-python",
      "name": "python",
      "nbconvert_exporter": "python",
      "pygments_lexer": "ipython3",
      "version": "3.7.9"
    },
    "toc": {
      "base_numbering": 1,
      "nav_menu": {},
      "number_sections": true,
      "sideBar": true,
      "skip_h1_title": false,
      "title_cell": "Table of Contents",
      "title_sidebar": "Contents",
      "toc_cell": false,
      "toc_position": {},
      "toc_section_display": true,
      "toc_window_display": false
    },
    "varInspector": {
      "cols": {
        "lenName": 16,
        "lenType": 16,
        "lenVar": 40
      },
      "kernels_config": {
        "python": {
          "delete_cmd_postfix": "",
          "delete_cmd_prefix": "del ",
          "library": "var_list.py",
          "varRefreshCmd": "print(var_dic_list())"
        },
        "r": {
          "delete_cmd_postfix": ") ",
          "delete_cmd_prefix": "rm(",
          "library": "var_list.r",
          "varRefreshCmd": "cat(var_dic_list()) "
        }
      },
      "types_to_exclude": [
        "module",
        "function",
        "builtin_function_or_method",
        "instance",
        "_Feature"
      ],
      "window_display": false
    },
    "colab": {
      "provenance": [],
      "toc_visible": true
    }
  },
  "nbformat": 4,
  "nbformat_minor": 0
}