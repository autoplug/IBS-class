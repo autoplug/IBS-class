{
 "cells": [
  {
   "cell_type": "code",
   "execution_count": null,
   "metadata": {},
   "outputs": [],
   "source": [
    "import numpy as np\n",
    "import matplotlib.pyplot as plt"
   ]
  },
  {
   "cell_type": "code",
   "execution_count": null,
   "metadata": {},
   "outputs": [],
   "source": [
    "colors = [\"r\",\"g\",\"b\",\"y\"]\n",
    "seeds = [1,2,3,4]\n",
    "\n",
    "for counter in range(len(seeds)):\n",
    "    state = np.random.RandomState(seeds[counter])\n",
    "    random_array = state.choice([0,1],(100))\n",
    "    c = np.concatenate([np.cumsum(c) if c[0] == 1 else c for c in np.split(random_array, 1 + np.where(np.diff(random_array))[0])])\n",
    "    counts = {}\n",
    "    previous_zero = True\n",
    "\n",
    "    for i in c[::-1]:\n",
    "        if i !=0:\n",
    "            if previous_zero == True:\n",
    "                try:\n",
    "                    counts[i]+=1\n",
    "                except:\n",
    "                    counts[i]=1\n",
    "            previous_zero = False\n",
    "        else:\n",
    "            previous_zero = True\n",
    "\n",
    "    x = list(counts.keys())\n",
    "    y = list(counts.values())\n",
    "\n",
    "    plt.scatter(x,y,c=colors[counter])\n",
    "    \n",
    "    #Watch the list comprehension at work! http://www.pythonforbeginners.com/basics/list-comprehensions-in-python\n",
    "    plt.legend([\"Draw \"+str(i) for i in seeds])\n",
    "\n",
    "print()\n",
    "print(\"Length of draws: \",len(random_array))\n",
    "    \n",
    "plt.title(\"Number of consecutive zeros from a random draw\")\n",
    "plt.show()\n",
    "\n",
    "plt.title(\"Proportion of ones and zeros\")\n",
    "plt.hist(random_array)\n",
    "plt.show()\n",
    "\n",
    "print(\"2 raised to the 7 is 128 times the original bet amount - and I may get even more unlucky...\")\n"
   ]
  }
 ],
 "metadata": {
  "kernelspec": {
   "display_name": "Python 3",
   "language": "python",
   "name": "python3"
  },
  "language_info": {
   "codemirror_mode": {
    "name": "ipython",
    "version": 3
   },
   "file_extension": ".py",
   "mimetype": "text/x-python",
   "name": "python",
   "nbconvert_exporter": "python",
   "pygments_lexer": "ipython3",
   "version": "3.10.2"
  },
  "orig_nbformat": 4,
  "vscode": {
   "interpreter": {
    "hash": "aee8b7b246df8f9039afb4144a1f6fd8d2ca17a180786b69acc140d282b71a49"
   }
  }
 },
 "nbformat": 4,
 "nbformat_minor": 2
}
