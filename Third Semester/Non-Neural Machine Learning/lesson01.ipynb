{
 "cells": [
  {
   "cell_type": "code",
   "execution_count": null,
   "metadata": {},
   "outputs": [],
   "source": [
    "import pandas as pd\n",
    "from sklearn import datasets # datasets is a package\n",
    "\n",
    "import numpy as np # General numaric library underlying the whole python scientific stack\n",
    "np.random.seed(254) # Set the seed for reproducibility \n",
    "\n",
    "# Default method of Scikit to generate datasets randomly see: http://scikit-learn.org/stable/modules/generated/sklearn.datasets.make_classification.html\n",
    "X, y = datasets.make_classification(1000, n_features=2, n_informative=2, n_redundant=0, n_repeated=0, n_classes=3,\n",
    "                                    n_clusters_per_class=1)\n",
    "\n",
    "df = pd.DataFrame({\"feature_1\": X[:,0], \"feature_2\": X[:,1], \"category\":y},\n",
    "                  columns=[\"feature_1\", \"feature_2\", \"category\"]) # to have columns in this order and not lex. sorted\n",
    "df.shape"
   ]
  },
  {
   "cell_type": "code",
   "execution_count": null,
   "metadata": {},
   "outputs": [],
   "source": [
    "df.head()"
   ]
  },
  {
   "cell_type": "code",
   "execution_count": null,
   "metadata": {},
   "outputs": [],
   "source": [
    "df.describe()"
   ]
  },
  {
   "cell_type": "code",
   "execution_count": null,
   "metadata": {},
   "outputs": [],
   "source": [
    "df.category.value_counts()"
   ]
  },
  {
   "cell_type": "code",
   "execution_count": null,
   "metadata": {},
   "outputs": [],
   "source": [
    "import matplotlib.pyplot as plt\n",
    "from matplotlib import pylab\n",
    "\n",
    "df.plot.box()\n",
    "plt.show()"
   ]
  },
  {
   "cell_type": "code",
   "execution_count": null,
   "metadata": {},
   "outputs": [],
   "source": [
    "# We use the \"c\" argument of the plot to add coloring to the chart - in this case, based on the classes\n",
    "# cmap is the \"color map scheme\" we use \n",
    "df.plot.scatter(\"feature_1\", \"feature_2\", c=\"category\", cmap=pylab.cm.cool, figsize=(10,8), colorbar=False)\n",
    "plt.show()"
   ]
  }
 ],
 "metadata": {
  "kernelspec": {
   "display_name": "Python 3",
   "language": "python",
   "name": "python3"
  },
  "language_info": {
   "codemirror_mode": {
    "name": "ipython",
    "version": 3
   },
   "file_extension": ".py",
   "mimetype": "text/x-python",
   "name": "python",
   "nbconvert_exporter": "python",
   "pygments_lexer": "ipython3",
   "version": "3.10.2"
  },
  "orig_nbformat": 4,
  "vscode": {
   "interpreter": {
    "hash": "aee8b7b246df8f9039afb4144a1f6fd8d2ca17a180786b69acc140d282b71a49"
   }
  }
 },
 "nbformat": 4,
 "nbformat_minor": 2
}
