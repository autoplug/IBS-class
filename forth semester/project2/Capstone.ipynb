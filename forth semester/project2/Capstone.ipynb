{
  "cells": [
    {
      "cell_type": "markdown",
      "metadata": {
        "id": "hG4SKZcmuzSa"
      },
      "source": [
        "#Coding project"
      ]
    },
    {
      "cell_type": "markdown",
      "metadata": {
        "id": "MDsZ6eocu3ll"
      },
      "source": [
        "> The coding project (alternatively, “dissertation” or “capstone project”) is a major piece of written work\n",
        "that concludes a graduate degree study programme. This does not mean however that you would be\n",
        "required to write a dissertation identical to the written piece of work to be submitted by students on\n",
        "the other MSc programmes. In effect, instead of a classic theory-based dissertation, the purpose of the\n",
        "Coding Project should rather be to test your ability to resolve a problem with data analysis and data\n",
        "science tools based on relevant input data, with the output of the project including the relevant codes,\n",
        "their explanation, and a reflective account on how you completed the project."
      ]
    },
    {
      "cell_type": "markdown",
      "metadata": {
        "id": "zRm3a1ahLAtU"
      },
      "source": [
        " ## Task description"
      ]
    },
    {
      "cell_type": "markdown",
      "metadata": {
        "id": "tS8aa2X7MMCY"
      },
      "source": [
        "The project will be based on the regular lab-like practice assignments and home assignments in data preparation, non-neural machine learning and deep learning, but will necessitate the incorporation of multiple solutions and considerations relating to data pipelines. Like in real life data science project, you need to use tools, pipelines which we interiorized previous courses. From analysing the data through classical machine learning models until deep learning models, you need to use these tools for analysis and prediction.\n",
        "\n",
        "The task is open-ended, which means that, e.g., it's up to you decide which variables you use and how, of course, and how you encode them, what models to use, etc.\n",
        "\n",
        "Please make sure to at least browse through the Coding Project Handbook (on Moodle). You will see that you are required to not simply do the modelling, but reflect on the steps you take and the results you get, and ideally not just on the final performance."
      ]
    },
    {
      "cell_type": "markdown",
      "metadata": {
        "id": "Cdm_-y7lRA4y"
      },
      "source": [
        "Formal requirements and other information can be found on Moodle in the \"Coding Project Handbook\"."
      ]
    },
    {
      "cell_type": "markdown",
      "metadata": {
        "id": "K34il0eUAcdH"
      },
      "source": [
        "## Dataset\n",
        "\n",
        "You have the choice to work on **either the dataset and task provided** (soil moisture modelling), **or on data from and task for a company** you are working for.\n",
        "\n",
        "If you choose to work on a company project, please make sure to clarify with your company if they need a confidentiality agreement (there is a sample on the Moodle page, but you can use your company's own NDA, instead, ofcourse), and get consent to use it in your project (you can find a template for a letter of confirmation and consent in Appendix 1 of the Coding Project Handbook on Moodle).\n",
        "\n",
        "> Important: **You DON'T have to upload any data or models** to Moodle or anywhere. You only have to submit the thesis (in PDF format), which should contain your code and your reflections on the results of the steps you take.\n",
        "\n"
      ]
    },
    {
      "cell_type": "markdown",
      "metadata": {
        "id": "NYy4JrvSL2w2"
      },
      "source": [
        "### Predicting successfulness of advertisments\n",
        "\n",
        "Your task is to arrive at a model that is suitable for predicting based on data about users of a website and their initial cursor movements _whether or not they clicked on an ad_. (The original data source is https://gitlab.com/iarapakis/the-attentive-cursor-dataset.)\n",
        "\n",
        "> You should approach the task as a real-life data science project, that is, explore and analyse the data, clean and prepare it for analysis and modelling, train a set of suitable models and evaluate their performance."
      ]
    },
    {
      "cell_type": "markdown",
      "metadata": {
        "id": "tzEI_FUuL7DA"
      },
      "source": [
        "\n",
        "#### Task: prediction target and allowable information\n",
        "\n",
        "* Your target is the **ad_clicked** variable in the `groundtruth.tsv` file. You can use any and all information for predicting this binary target _except_ for the variables and times specified below.\n",
        "\n",
        "* Filter your data to **users who spent at least 5 seconds** on the webpage.\n",
        "\n",
        "* You are **NOT allowed to use the following variables for the prediction** (but if you like, you may include them in your EDA or in predictive models to check their effects and interactions):\n",
        "\n",
        "  * participants.tsv\n",
        "    * user_id\n",
        "    * education\n",
        "    * age\n",
        "    * income\n",
        "    * gender\n",
        "  * groundtruth.tsv\n",
        "    * attention\n",
        "  * logs\n",
        "    * You may only use the **first 5 seconds** of the cursor flow data for the `ad_clicked` prediction."
      ]
    },
    {
      "cell_type": "markdown",
      "metadata": {
        "id": "8kwDlFSonmhX"
      },
      "source": [
        "#### Variables\n",
        "\n",
        "* **participants.tsv** file\n",
        "  * `user_id`: (string) Participant's ID.\n",
        "  * `country`: (string) Participant's country, in ISO-3 format.\n",
        "  * `education`: (int) Level of education, according to 6 bins (see table below).\n",
        "  * `age`: (int) Participant's age, according to 9 bins (see table below).\n",
        "  * `income`: (int) Level of income, according to 8 bins (see table below).\n",
        "  * `gender`: (string) Participant's gender.\n",
        "  * `ad_position`: (string) Ad stimulus position.\n",
        "  * `ad_type`: (string) Ad stimulus type.\n",
        "  * `ad_category`: (string) Ad stimulus category.\n",
        "  * `serp_id`: (string) Ad SERP identifier.\n",
        "  * `query`: (string) Ad stimulus query.\n",
        "  * `log_id`: (string) Mouse tracking log ID.\n",
        "* **groundtruth.tsv** file\n",
        "  * `user_id`: (string) Participant's ID.\n",
        "  * `ad_clicked`: (int) Whether the participant clicked on the ad (1) or not (0).\n",
        "  * `attention`: (int) Self-reported attention score, in 1-5 Likert-type scale (1 denotes no attention).\n",
        "  * `log_id`: (string) Mouse tracking log ID.\n",
        "* The **logs/** folder _has all the log files, as recorded by the evtrack software.\n",
        "Here you can find space-delimited files (CSV) with information about each event type\n",
        "and XML files with information about the user’s browser metadata (e.g. viewport size, user agent string). (Note: For events that do not relate to any mouse event (e.g. load or blur), the xpos and ypos column values are 0.)\n",
        " Each CSV file has 8 columns:_\n",
        "  * `cursor`: (int) This column is always 0 because all participants used a regular * computer mouse.\n",
        "  * `timestamp`: (int) Timestamp of the event, with millisecond precision.\n",
        "  * `xpos`: (float) X position of the mouse cursor.\n",
        "  * `ypos`: (float) Y position of the mouse cursor.\n",
        "  * `event`: (string) Browser's event name; e.g. load, mousemove, click, etc.\n",
        "  * `xpath`: (string) Target element that relates to the event, in XPath notation.\n",
        "  * `attrs`: (string) Optional. Element attributes, if any.\n",
        "  * `extras`: (string) Optional. A JSON string with Euclidean distances to different reference points of the ad's bounding box.\n"
      ]
    },
    {
      "cell_type": "markdown",
      "metadata": {
        "id": "Sz9U0Ti2OMlI"
      },
      "source": [
        "#### Data location\n",
        "\n",
        "The data can be downloaded from: https://drive.google.com/file/d/1woOqHNNHLqAZc4QE6CmoedDrFndT1LDA/view?usp=drive_link\n",
        "\n",
        "The above link points to a zip file containing:\n",
        "* participants.tsv\n",
        "* groundtruth.tsv\n",
        "* logs folder"
      ]
    },
    {
      "cell_type": "markdown",
      "metadata": {
        "id": "IlmTD-hdnsRJ"
      },
      "source": [
        "## Scheduled consultations"
      ]
    },
    {
      "cell_type": "markdown",
      "metadata": {
        "id": "oYDma5GLns9_"
      },
      "source": [
        "* There will be 4 consultation sessions on MS Teams. Invitations to these sessions will be sent to you.\n",
        "* Participation in the sessions is optional.\n",
        "* The first consultation session will be dedicated to an overview of the formal requirements and of how to structure your project."
      ]
    }
  ],
  "metadata": {
    "colab": {
      "provenance": [],
      "toc_visible": true
    },
    "kernelspec": {
      "display_name": "Python 3",
      "name": "python3"
    },
    "language_info": {
      "name": "python"
    }
  },
  "nbformat": 4,
  "nbformat_minor": 0
}
