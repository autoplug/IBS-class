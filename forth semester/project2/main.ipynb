{
 "cells": [
  {
   "cell_type": "markdown",
   "metadata": {},
   "source": [
    "\n",
    "\n",
    "\n",
    "# ***Click Prediction***\n",
    "\n",
    "----\n",
    "\n",
    "# Abstract\n",
    "\n",
    "In online advertising, predicting whether a user will click on an ad is crucial for optimizing ad placement and maximizing revenue. In this project, we propose a novel approach to click prediction using Convolutional Neural Networks (CNNs). We use three datasets: the groundtruth dataset containing information about ad clicks, the participants dataset containing information about ad characteristics and user interactions, and the user behavior dataset containing detailed user interactions on a webpage. By merging these datasets, we create a comprehensive dataset for training our CNN model.\n",
    "\n",
    "We preprocess the data and reshape it to fit the CNN input shape. We then build and train a CNN model using Keras with TensorFlow backend. The model learns to extract relevant features from the user behavior data and predicts whether a user will click on an ad. We evaluate the model using standard classification metrics such as accuracy, precision, recall, and F1-score.\n",
    "\n",
    "Our experimental results demonstrate that the proposed CNN model outperforms traditional machine learning models for click prediction. The model's ability to learn from raw user behavior data makes it a promising approach for click prediction in online advertising.\n",
    "\n",
    "# Table of Contents\n",
    "\n",
    "1. Data Collection\n",
    "    1. Groundtruth Dataset\n",
    "    2. Participants Dataset\n",
    "    3. User Behavior Dataset\n",
    "        - Extract width and height of web page\n",
    "        - Load CSV file into pandas dataframe\n",
    "        - Extract Time Spent And Date\n",
    "        - Temporal Features\n",
    "        - Maximum Time Spent\n",
    "        - Extract CSV data consist of User Behavior\n",
    "\n",
    "2. Data Preprocessing\n",
    "    1. Merge Data frames\n",
    "    2. Country Parameter\n",
    "    3. Category Parameter\n",
    "    4. Convert Categorical Values To Numeral Values\n",
    "    5. Check For Missing Values\n",
    "    6. Filter Data Based On Time Spent\n",
    "    7. Check Value Count Ad Click\n",
    "\n",
    "3. Feature Selection\n",
    "    1. Remove Unnecessary Columns\n",
    "    2. Correlation Between Features\n",
    "    3. Correlation Between Features And Target\n",
    "    4. Mutual Information\n",
    "\n",
    "4. Machine Learning\n",
    "    1. Functions\n",
    "        - Confusion plot function\n",
    "        - AUC curve plot function\n",
    "\n",
    "    2. One Hot Encoding\n",
    "    3. Handling Imbalanced Data\n",
    "    4. Data Train/Test Split\n",
    "    5. Data Scaling\n",
    "    6. Naive Bayes\n",
    "    7. Random Forest Classifier\n",
    "    8. Logistic Regression Model\n",
    "    9. Support Vector Regression (SVR) \n",
    "    10. Convolutional Neural Network Model\n",
    "        - Plot Learning Curve\n",
    "\n",
    "5. Evaluation\n",
    "\n",
    "6. Visualizing User Behavior Data\n",
    "\n",
    "7. Conclusion\n",
    "\n",
    "8. Refrences"
   ]
  },
  {
   "cell_type": "markdown",
   "metadata": {},
   "source": [
    "----\n",
    "# 1. Data Collection\n",
    "## 1.1 Groundtruth Dataset\n",
    "\n",
    "This dataset contains information about ad clicks. It includes whether a user clicked on an ad or not (ad_clicked) and a unique identifier for each log entry (log_id).\n",
    "\n",
    "Based on the definition of the project, a series of data cannot be used in the project. We will remove them at this initial stage, although some of them could have effective parameters in the prediction.\n",
    "\n",
    "***Parameters :***\n",
    "- `ad_clicked`: (int) Whether the participant clicked on the ad (1) or not (0).\n",
    "- `log_id`: (string) Mouse tracking log ID.\n"
   ]
  },
  {
   "cell_type": "code",
   "execution_count": 191,
   "metadata": {},
   "outputs": [
    {
     "data": {
      "text/html": [
       "<div>\n",
       "<style scoped>\n",
       "    .dataframe tbody tr th:only-of-type {\n",
       "        vertical-align: middle;\n",
       "    }\n",
       "\n",
       "    .dataframe tbody tr th {\n",
       "        vertical-align: top;\n",
       "    }\n",
       "\n",
       "    .dataframe thead th {\n",
       "        text-align: right;\n",
       "    }\n",
       "</style>\n",
       "<table border=\"1\" class=\"dataframe\">\n",
       "  <thead>\n",
       "    <tr style=\"text-align: right;\">\n",
       "      <th></th>\n",
       "      <th>ad_clicked</th>\n",
       "      <th>log_id</th>\n",
       "    </tr>\n",
       "  </thead>\n",
       "  <tbody>\n",
       "    <tr>\n",
       "      <th>0</th>\n",
       "      <td>0</td>\n",
       "      <td>20181002033126</td>\n",
       "    </tr>\n",
       "    <tr>\n",
       "      <th>1</th>\n",
       "      <td>1</td>\n",
       "      <td>20181001211223</td>\n",
       "    </tr>\n",
       "    <tr>\n",
       "      <th>2</th>\n",
       "      <td>0</td>\n",
       "      <td>20181001170952</td>\n",
       "    </tr>\n",
       "  </tbody>\n",
       "</table>\n",
       "</div>"
      ],
      "text/plain": [
       "   ad_clicked          log_id\n",
       "0           0  20181002033126\n",
       "1           1  20181001211223\n",
       "2           0  20181001170952"
      ]
     },
     "execution_count": 191,
     "metadata": {},
     "output_type": "execute_result"
    }
   ],
   "source": [
    "# Read the dataframe in pandas format\n",
    "import pandas as pd\n",
    "\n",
    "groundtruth = pd.read_csv(\"groundtruth.tsv\", delimiter=\"\\t\")\n",
    "groundtruth = groundtruth.drop([\"attention\",\"user_id\"], axis=1)\n",
    "groundtruth.head(3) "
   ]
  },
  {
   "cell_type": "markdown",
   "metadata": {},
   "source": [
    "## 1.2 Participants Dataset\n",
    "This dataset contains information about ad characteristics and user interactions. It includes details such as the country of the participant (country), ad position (ad_position), ad type (ad_type), ad category (ad_category), SERP (Search Engine Results Page) ID (serp_id), search query (query), and a unique identifier for each log entry (log_id).\n",
    "\n",
    "***Parameters***\n",
    "- `country`: (string) Participant's country, in ISO-3 format.\n",
    "\n",
    "- `ad_position`: (string) Ad stimulus position.\n",
    "\n",
    "- `ad_type`: (string) Ad stimulus type.\n",
    "\n",
    "- `ad_category`: (string) Ad stimulus category.\n",
    "\n",
    "- `serp_id`: (string) Ad SERP identifier.\n",
    "\n",
    "- `query`: (string) Ad stimulus query.\n",
    "\n",
    "- `log_id`: (string) Mouse tracking log ID."
   ]
  },
  {
   "cell_type": "code",
   "execution_count": 192,
   "metadata": {},
   "outputs": [
    {
     "data": {
      "text/html": [
       "<div>\n",
       "<style scoped>\n",
       "    .dataframe tbody tr th:only-of-type {\n",
       "        vertical-align: middle;\n",
       "    }\n",
       "\n",
       "    .dataframe tbody tr th {\n",
       "        vertical-align: top;\n",
       "    }\n",
       "\n",
       "    .dataframe thead th {\n",
       "        text-align: right;\n",
       "    }\n",
       "</style>\n",
       "<table border=\"1\" class=\"dataframe\">\n",
       "  <thead>\n",
       "    <tr style=\"text-align: right;\">\n",
       "      <th></th>\n",
       "      <th>country</th>\n",
       "      <th>ad_position</th>\n",
       "      <th>ad_type</th>\n",
       "      <th>ad_category</th>\n",
       "      <th>serp_id</th>\n",
       "      <th>query</th>\n",
       "      <th>log_id</th>\n",
       "    </tr>\n",
       "  </thead>\n",
       "  <tbody>\n",
       "    <tr>\n",
       "      <th>0</th>\n",
       "      <td>PHL</td>\n",
       "      <td>top-left</td>\n",
       "      <td>dd</td>\n",
       "      <td>Computers &amp; Electronics</td>\n",
       "      <td>tablets</td>\n",
       "      <td>tablets</td>\n",
       "      <td>20181002033126</td>\n",
       "    </tr>\n",
       "    <tr>\n",
       "      <th>1</th>\n",
       "      <td>VEN</td>\n",
       "      <td>top-right</td>\n",
       "      <td>dd</td>\n",
       "      <td>Shop - Luxury Goods</td>\n",
       "      <td>casio-watches</td>\n",
       "      <td>casio watches</td>\n",
       "      <td>20181001211223</td>\n",
       "    </tr>\n",
       "    <tr>\n",
       "      <th>2</th>\n",
       "      <td>VEN</td>\n",
       "      <td>top-left</td>\n",
       "      <td>native</td>\n",
       "      <td>Shop - Luxury Goods</td>\n",
       "      <td>chivas-regal</td>\n",
       "      <td>chivas regal</td>\n",
       "      <td>20181001170952</td>\n",
       "    </tr>\n",
       "  </tbody>\n",
       "</table>\n",
       "</div>"
      ],
      "text/plain": [
       "  country ad_position ad_type              ad_category        serp_id  \\\n",
       "0     PHL    top-left      dd  Computers & Electronics        tablets   \n",
       "1     VEN   top-right      dd      Shop - Luxury Goods  casio-watches   \n",
       "2     VEN    top-left  native      Shop - Luxury Goods   chivas-regal   \n",
       "\n",
       "           query          log_id  \n",
       "0        tablets  20181002033126  \n",
       "1  casio watches  20181001211223  \n",
       "2   chivas regal  20181001170952  "
      ]
     },
     "execution_count": 192,
     "metadata": {},
     "output_type": "execute_result"
    }
   ],
   "source": [
    "participants = pd.read_csv(\"participants.tsv\", delimiter=\"\\t\")\n",
    "participants = participants.drop([\"user_id\",\"education\",\"age\",\"income\",\"gender\"], axis=1)\n",
    "participants.head(3)"
   ]
  },
  {
   "cell_type": "markdown",
   "metadata": {},
   "source": [
    "## 1.3 User Behavior Dataset\n",
    "This dataset contains detailed user interactions on a webpage. It includes information such as cursor timestamp (cursor), timestamp (timestamp), cursor position (xpos and ypos), event type (event), XPath of the element (xpath), attributes of the element (attrs), and extra information about the event (extras). The unique identifier for each log entry is the name of the file (log_id).\n",
    "\n",
    "We store this information in the log folder in the ‍‍`user_behavior` data frame."
   ]
  },
  {
   "cell_type": "markdown",
   "metadata": {},
   "source": [
    "- ### `Extract width and height of web page`\n",
    "\n",
    "In the XML file, there is information about the width and length of the document, which we need for normalization. On the other hand, it is better to include this parameter to make each point similar."
   ]
  },
  {
   "cell_type": "code",
   "execution_count": 193,
   "metadata": {},
   "outputs": [
    {
     "data": {
      "text/html": [
       "<div>\n",
       "<style scoped>\n",
       "    .dataframe tbody tr th:only-of-type {\n",
       "        vertical-align: middle;\n",
       "    }\n",
       "\n",
       "    .dataframe tbody tr th {\n",
       "        vertical-align: top;\n",
       "    }\n",
       "\n",
       "    .dataframe thead th {\n",
       "        text-align: right;\n",
       "    }\n",
       "</style>\n",
       "<table border=\"1\" class=\"dataframe\">\n",
       "  <thead>\n",
       "    <tr style=\"text-align: right;\">\n",
       "      <th></th>\n",
       "      <th>log_id</th>\n",
       "      <th>doc_width</th>\n",
       "      <th>doc_height</th>\n",
       "    </tr>\n",
       "  </thead>\n",
       "  <tbody>\n",
       "    <tr>\n",
       "      <th>0</th>\n",
       "      <td>20181002033126</td>\n",
       "      <td>1366</td>\n",
       "      <td>2064</td>\n",
       "    </tr>\n",
       "    <tr>\n",
       "      <th>1</th>\n",
       "      <td>20181001211223</td>\n",
       "      <td>1366</td>\n",
       "      <td>1611</td>\n",
       "    </tr>\n",
       "    <tr>\n",
       "      <th>2</th>\n",
       "      <td>20181001170952</td>\n",
       "      <td>1366</td>\n",
       "      <td>2284</td>\n",
       "    </tr>\n",
       "  </tbody>\n",
       "</table>\n",
       "</div>"
      ],
      "text/plain": [
       "           log_id  doc_width  doc_height\n",
       "0  20181002033126       1366        2064\n",
       "1  20181001211223       1366        1611\n",
       "2  20181001170952       1366        2284"
      ]
     },
     "execution_count": 193,
     "metadata": {},
     "output_type": "execute_result"
    }
   ],
   "source": [
    "import xml.etree.ElementTree as ET\n",
    "\n",
    "user_behavior = pd.DataFrame(participants[\"log_id\"])\n",
    "\n",
    "user_behavior[\"doc_width\"] = 0\n",
    "user_behavior[\"doc_height\"] = 0\n",
    "\n",
    "for index,row in user_behavior.iterrows():\n",
    "    tree = ET.parse(f\"logs/{row['log_id']}.xml\")\n",
    "    root = tree.getroot()\n",
    "\n",
    "    doc_w, doc_h = root.find(\"document\").text.split(\"x\")\n",
    "    scr_w, scr_h = root.find(\"screen\").text.split(\"x\")\n",
    "    user_behavior.at[index,\"doc_width\"] = max(int(doc_w),int(scr_w))\n",
    "    user_behavior.at[index,\"doc_height\"] = max(int(doc_h),int(scr_h))    \n",
    "\n",
    "user_behavior.head(3)"
   ]
  },
  {
   "cell_type": "markdown",
   "metadata": {},
   "source": [
    "- ### `Load CSV File Into DataFrame`\n",
    "\n",
    "Since we need this information in several steps, we load and store it in a variable.\n",
    "\n"
   ]
  },
  {
   "cell_type": "code",
   "execution_count": 194,
   "metadata": {},
   "outputs": [],
   "source": [
    "import os\n",
    "log_csv_df = {}\n",
    "\n",
    "for index,row in user_behavior.iterrows():\n",
    "    file_path = f\"logs/{row['log_id']}.csv\"\n",
    "    if not os.path.exists(file_path):\n",
    "        continue    \n",
    "    log_csv_df[row['log_id']] = pd.read_csv(file_path, delimiter=\" \")"
   ]
  },
  {
   "cell_type": "markdown",
   "metadata": {},
   "source": [
    "- ### `Extract Time Spent And Date`\n",
    "\n",
    "One of the important parameters in log files is the time spent on pages. This parameter is not only useful for filtering data, but it can also be used as a prediction parameter.\n",
    "\n",
    "- ‍‍‍‍`time_spent` : Since the given time is in milliseconds, we divide it by thousands.\n",
    "- `date` : The Unix Epoch date format is a single number value, representing the number of seconds that have elapsed since 1/1/1970. This is not compatible with Boomi date masking, so converting to and from this date format requires a small script."
   ]
  },
  {
   "cell_type": "code",
   "execution_count": 195,
   "metadata": {},
   "outputs": [
    {
     "data": {
      "text/html": [
       "<div>\n",
       "<style scoped>\n",
       "    .dataframe tbody tr th:only-of-type {\n",
       "        vertical-align: middle;\n",
       "    }\n",
       "\n",
       "    .dataframe tbody tr th {\n",
       "        vertical-align: top;\n",
       "    }\n",
       "\n",
       "    .dataframe thead th {\n",
       "        text-align: right;\n",
       "    }\n",
       "</style>\n",
       "<table border=\"1\" class=\"dataframe\">\n",
       "  <thead>\n",
       "    <tr style=\"text-align: right;\">\n",
       "      <th></th>\n",
       "      <th>log_id</th>\n",
       "      <th>doc_width</th>\n",
       "      <th>doc_height</th>\n",
       "      <th>time_spent</th>\n",
       "      <th>date</th>\n",
       "    </tr>\n",
       "  </thead>\n",
       "  <tbody>\n",
       "    <tr>\n",
       "      <th>0</th>\n",
       "      <td>20181002033126</td>\n",
       "      <td>1366</td>\n",
       "      <td>2064</td>\n",
       "      <td>96</td>\n",
       "      <td>1538444060776</td>\n",
       "    </tr>\n",
       "    <tr>\n",
       "      <th>1</th>\n",
       "      <td>20181001211223</td>\n",
       "      <td>1366</td>\n",
       "      <td>1611</td>\n",
       "      <td>18</td>\n",
       "      <td>1538421318262</td>\n",
       "    </tr>\n",
       "    <tr>\n",
       "      <th>2</th>\n",
       "      <td>20181001170952</td>\n",
       "      <td>1366</td>\n",
       "      <td>2284</td>\n",
       "      <td>54</td>\n",
       "      <td>1538406739854</td>\n",
       "    </tr>\n",
       "  </tbody>\n",
       "</table>\n",
       "</div>"
      ],
      "text/plain": [
       "           log_id  doc_width  doc_height  time_spent           date\n",
       "0  20181002033126       1366        2064          96  1538444060776\n",
       "1  20181001211223       1366        1611          18  1538421318262\n",
       "2  20181001170952       1366        2284          54  1538406739854"
      ]
     },
     "execution_count": 195,
     "metadata": {},
     "output_type": "execute_result"
    }
   ],
   "source": [
    "user_behavior[\"time_spent\"] = 0\n",
    "user_behavior[\"date\"] = 0\n",
    "\n",
    "for index,row in user_behavior.iterrows():\n",
    "    df2 = log_csv_df[row['log_id']]\n",
    "    time_spent = df2[\"timestamp\"].iloc[-1] - df2[\"timestamp\"].iloc[0]\n",
    "\n",
    "    user_behavior.at[index,\"time_spent\"] = int(time_spent/1000)\n",
    "    user_behavior.at[index,\"date\"] = df2[\"timestamp\"].iloc[0]\n",
    "\n",
    "user_behavior.head(3)"
   ]
  },
  {
   "cell_type": "markdown",
   "metadata": {},
   "source": [
    "- ### `Temporal Features`\n",
    "Time-related features such as `time of day` and `day of week` can provide valuable insights into when users are most likely to click on ads. These features are typically one-hot encoded to capture their cyclic nature."
   ]
  },
  {
   "cell_type": "code",
   "execution_count": 196,
   "metadata": {},
   "outputs": [
    {
     "data": {
      "text/html": [
       "<div>\n",
       "<style scoped>\n",
       "    .dataframe tbody tr th:only-of-type {\n",
       "        vertical-align: middle;\n",
       "    }\n",
       "\n",
       "    .dataframe tbody tr th {\n",
       "        vertical-align: top;\n",
       "    }\n",
       "\n",
       "    .dataframe thead th {\n",
       "        text-align: right;\n",
       "    }\n",
       "</style>\n",
       "<table border=\"1\" class=\"dataframe\">\n",
       "  <thead>\n",
       "    <tr style=\"text-align: right;\">\n",
       "      <th></th>\n",
       "      <th>log_id</th>\n",
       "      <th>doc_width</th>\n",
       "      <th>doc_height</th>\n",
       "      <th>time_spent</th>\n",
       "      <th>date</th>\n",
       "      <th>week_day</th>\n",
       "      <th>hour</th>\n",
       "    </tr>\n",
       "  </thead>\n",
       "  <tbody>\n",
       "    <tr>\n",
       "      <th>0</th>\n",
       "      <td>20181002033126</td>\n",
       "      <td>1366</td>\n",
       "      <td>2064</td>\n",
       "      <td>96</td>\n",
       "      <td>1538444060776</td>\n",
       "      <td>1</td>\n",
       "      <td>1</td>\n",
       "    </tr>\n",
       "    <tr>\n",
       "      <th>1</th>\n",
       "      <td>20181001211223</td>\n",
       "      <td>1366</td>\n",
       "      <td>1611</td>\n",
       "      <td>18</td>\n",
       "      <td>1538421318262</td>\n",
       "      <td>0</td>\n",
       "      <td>19</td>\n",
       "    </tr>\n",
       "    <tr>\n",
       "      <th>2</th>\n",
       "      <td>20181001170952</td>\n",
       "      <td>1366</td>\n",
       "      <td>2284</td>\n",
       "      <td>54</td>\n",
       "      <td>1538406739854</td>\n",
       "      <td>0</td>\n",
       "      <td>15</td>\n",
       "    </tr>\n",
       "  </tbody>\n",
       "</table>\n",
       "</div>"
      ],
      "text/plain": [
       "           log_id  doc_width  doc_height  time_spent           date  week_day  \\\n",
       "0  20181002033126       1366        2064          96  1538444060776         1   \n",
       "1  20181001211223       1366        1611          18  1538421318262         0   \n",
       "2  20181001170952       1366        2284          54  1538406739854         0   \n",
       "\n",
       "   hour  \n",
       "0     1  \n",
       "1    19  \n",
       "2    15  "
      ]
     },
     "execution_count": 196,
     "metadata": {},
     "output_type": "execute_result"
    }
   ],
   "source": [
    "import time\n",
    "\n",
    "user_behavior[\"week_day\"] = 0\n",
    "user_behavior[\"hour\"] = 0\n",
    "\n",
    "for index,row in user_behavior.iterrows():\n",
    "    epoch = int(row[\"date\"]) / 1000\n",
    "    user_behavior.at[index,\"week_day\"] = time.gmtime(epoch).tm_wday\n",
    "    user_behavior.at[index,\"hour\"] = time.gmtime(epoch).tm_hour\n",
    "\n",
    "user_behavior.head(3)"
   ]
  },
  {
   "cell_type": "markdown",
   "metadata": {},
   "source": [
    "- ### `Maximum Time Spent`"
   ]
  },
  {
   "cell_type": "code",
   "execution_count": 197,
   "metadata": {},
   "outputs": [
    {
     "data": {
      "text/plain": [
       "5356927"
      ]
     },
     "execution_count": 197,
     "metadata": {},
     "output_type": "execute_result"
    }
   ],
   "source": [
    "max_time_spent = max(user_behavior[\"time_spent\"])\n",
    "max_time_spent"
   ]
  },
  {
   "cell_type": "markdown",
   "metadata": {},
   "source": [
    "- ### `Extract CSV Data Consist Of User Behavior`\n",
    "\n",
    "In this step, we modeled the user's behavior such as clicking into a two-dimensional array.\n",
    "\n",
    "We are faced with six different event models, including ‍`click` , `mouseup`, `mouseover`, `mousedown`, `mousemove`, `contextmenu`, `scroll` which we have tested four types to record as effective data."
   ]
  },
  {
   "cell_type": "code",
   "execution_count": 198,
   "metadata": {},
   "outputs": [
    {
     "data": {
      "text/html": [
       "<div>\n",
       "<style scoped>\n",
       "    .dataframe tbody tr th:only-of-type {\n",
       "        vertical-align: middle;\n",
       "    }\n",
       "\n",
       "    .dataframe tbody tr th {\n",
       "        vertical-align: top;\n",
       "    }\n",
       "\n",
       "    .dataframe thead th {\n",
       "        text-align: right;\n",
       "    }\n",
       "</style>\n",
       "<table border=\"1\" class=\"dataframe\">\n",
       "  <thead>\n",
       "    <tr style=\"text-align: right;\">\n",
       "      <th></th>\n",
       "      <th>log_id</th>\n",
       "      <th>doc_width</th>\n",
       "      <th>doc_height</th>\n",
       "      <th>time_spent</th>\n",
       "      <th>date</th>\n",
       "      <th>week_day</th>\n",
       "      <th>hour</th>\n",
       "      <th>event0</th>\n",
       "      <th>event1</th>\n",
       "      <th>event2</th>\n",
       "      <th>...</th>\n",
       "      <th>event190</th>\n",
       "      <th>event191</th>\n",
       "      <th>event192</th>\n",
       "      <th>event193</th>\n",
       "      <th>event194</th>\n",
       "      <th>event195</th>\n",
       "      <th>event196</th>\n",
       "      <th>event197</th>\n",
       "      <th>event198</th>\n",
       "      <th>event199</th>\n",
       "    </tr>\n",
       "  </thead>\n",
       "  <tbody>\n",
       "    <tr>\n",
       "      <th>0</th>\n",
       "      <td>20181002033126</td>\n",
       "      <td>1366</td>\n",
       "      <td>2064</td>\n",
       "      <td>96</td>\n",
       "      <td>1538444060776</td>\n",
       "      <td>1</td>\n",
       "      <td>1</td>\n",
       "      <td>0</td>\n",
       "      <td>96</td>\n",
       "      <td>0</td>\n",
       "      <td>...</td>\n",
       "      <td>0</td>\n",
       "      <td>0</td>\n",
       "      <td>0</td>\n",
       "      <td>0</td>\n",
       "      <td>0</td>\n",
       "      <td>0</td>\n",
       "      <td>0</td>\n",
       "      <td>0</td>\n",
       "      <td>0</td>\n",
       "      <td>0</td>\n",
       "    </tr>\n",
       "    <tr>\n",
       "      <th>1</th>\n",
       "      <td>20181001211223</td>\n",
       "      <td>1366</td>\n",
       "      <td>1611</td>\n",
       "      <td>18</td>\n",
       "      <td>1538421318262</td>\n",
       "      <td>0</td>\n",
       "      <td>19</td>\n",
       "      <td>0</td>\n",
       "      <td>18</td>\n",
       "      <td>0</td>\n",
       "      <td>...</td>\n",
       "      <td>0</td>\n",
       "      <td>0</td>\n",
       "      <td>0</td>\n",
       "      <td>0</td>\n",
       "      <td>0</td>\n",
       "      <td>0</td>\n",
       "      <td>0</td>\n",
       "      <td>0</td>\n",
       "      <td>0</td>\n",
       "      <td>0</td>\n",
       "    </tr>\n",
       "    <tr>\n",
       "      <th>2</th>\n",
       "      <td>20181001170952</td>\n",
       "      <td>1366</td>\n",
       "      <td>2284</td>\n",
       "      <td>54</td>\n",
       "      <td>1538406739854</td>\n",
       "      <td>0</td>\n",
       "      <td>15</td>\n",
       "      <td>0</td>\n",
       "      <td>54</td>\n",
       "      <td>0</td>\n",
       "      <td>...</td>\n",
       "      <td>0</td>\n",
       "      <td>0</td>\n",
       "      <td>0</td>\n",
       "      <td>0</td>\n",
       "      <td>0</td>\n",
       "      <td>0</td>\n",
       "      <td>0</td>\n",
       "      <td>0</td>\n",
       "      <td>0</td>\n",
       "      <td>0</td>\n",
       "    </tr>\n",
       "  </tbody>\n",
       "</table>\n",
       "<p>3 rows × 207 columns</p>\n",
       "</div>"
      ],
      "text/plain": [
       "           log_id  doc_width  doc_height  time_spent           date  week_day  \\\n",
       "0  20181002033126       1366        2064          96  1538444060776         1   \n",
       "1  20181001211223       1366        1611          18  1538421318262         0   \n",
       "2  20181001170952       1366        2284          54  1538406739854         0   \n",
       "\n",
       "   hour  event0  event1  event2  ...  event190  event191  event192  event193  \\\n",
       "0     1       0      96       0  ...         0         0         0         0   \n",
       "1    19       0      18       0  ...         0         0         0         0   \n",
       "2    15       0      54       0  ...         0         0         0         0   \n",
       "\n",
       "   event194  event195  event196  event197  event198  event199  \n",
       "0         0         0         0         0         0         0  \n",
       "1         0         0         0         0         0         0  \n",
       "2         0         0         0         0         0         0  \n",
       "\n",
       "[3 rows x 207 columns]"
      ]
     },
     "execution_count": 198,
     "metadata": {},
     "output_type": "execute_result"
    }
   ],
   "source": [
    "import numpy as np\n",
    "\n",
    "event = {\"click\":1, \"mouseup\":2, \"mouseover\":3, \"mousedown\":4}\n",
    "w = 10\n",
    "h = 10\n",
    "matrix1 = []\n",
    "\n",
    "for index1,row1 in user_behavior.iterrows():\n",
    "\n",
    "    matrix_event = np.array([[(0,0) for x in range(w)] for y in range(h)])\n",
    "\n",
    "    df2 = log_csv_df[row1['log_id']]\n",
    "    start_time = df2.at[0,\"timestamp\"]\n",
    "\n",
    "    for index, row in df2.iterrows():\n",
    "        xpos = (int(row[\"xpos\"])/row1[\"doc_width\"]) * w\n",
    "        xpos = min(w-1,int(xpos))\n",
    "\n",
    "        ypos = (int(row[\"ypos\"])/row1[\"doc_height\"]) * h\n",
    "        ypos = min(h-1,int(ypos))\n",
    "\n",
    "        event_type = event.get(row[\"event\"]) or 0 \n",
    "        event_time = int((row[\"timestamp\"] - start_time)/1000)\n",
    "        # event type: click, mouseup, mouseover, mousedown     event time\n",
    "        matrix_event[xpos][ypos] = (event_type,  event_time)\n",
    "\n",
    "\n",
    "    matrix_event = matrix_event.flatten()\n",
    "    matrix1.append(matrix_event)\n",
    "\n",
    "\n",
    "# dimension of matrix\n",
    "dim = len(matrix1[0])\n",
    "matrix1 = pd.DataFrame(matrix1, columns=[f\"event{i}\" for i in range(dim)])\n",
    "\n",
    "\n",
    "user_dataset = pd.concat([user_behavior, matrix1], axis=1)\n",
    "\n",
    "user_dataset.head(3)"
   ]
  },
  {
   "cell_type": "markdown",
   "metadata": {},
   "source": [
    "----\n",
    "# 2. Data Preprocessing\n",
    "\n",
    "Data preprocessing is a crucial step in machine learning projects, as it involves transforming raw data into a format that is suitable for modeling. The quality and structure of the data greatly influence the performance of the machine learning models."
   ]
  },
  {
   "cell_type": "markdown",
   "metadata": {},
   "source": [
    "## 2.1 Merge Data frames\n",
    "\n",
    "Merging two dataframes is a fundamental operation in data manipulation, allowing you to combine data from different sources based on common columns. In Python, you can achieve this using the merge() function provided by the Pandas library. "
   ]
  },
  {
   "cell_type": "code",
   "execution_count": 199,
   "metadata": {},
   "outputs": [
    {
     "name": "stdout",
     "output_type": "stream",
     "text": [
      "<class 'pandas.core.frame.DataFrame'>\n",
      "RangeIndex: 2909 entries, 0 to 2908\n",
      "Columns: 214 entries, country to event199\n",
      "dtypes: int64(208), object(6)\n",
      "memory usage: 4.7+ MB\n"
     ]
    }
   ],
   "source": [
    "dataset = participants.merge(groundtruth, on=\"log_id\", how=\"inner\")\n",
    "dataset = dataset.merge(user_dataset, on=\"log_id\", how=\"inner\")\n",
    "dataset.info()"
   ]
  },
  {
   "cell_type": "markdown",
   "metadata": {},
   "source": [
    "## 2.2 Country Parameter\n",
    "\n",
    "In this code snippet, I aimed to address the issue of low-value countries in the dataset. Here's what I did:\n",
    "\n",
    " I identified the countries with low occurrences in the dataset. To do this, I counted the occurrences of each country using the value_counts() function and stored the indices of countries with fewer than 50 occurrences in the low_value_countries variable.\n",
    "\n",
    "After that, I replaced the low-value country names with \"OTHER\" in the DataFrame to combine them. I accomplished this using boolean indexing to locate the rows where the country was one of the low-value countries and then replacing those country names with \"Other\".\n",
    "\n",
    "This preprocessing step ensures that countries with sparse data are combined into a single category, simplifying the dataset and making it easier to analyze."
   ]
  },
  {
   "cell_type": "code",
   "execution_count": 200,
   "metadata": {},
   "outputs": [
    {
     "data": {
      "text/plain": [
       "country\n",
       "USA    1768\n",
       "VEN     368\n",
       "GBR     209\n",
       "CAN      77\n",
       "EGY      38\n",
       "       ... \n",
       "BOL       1\n",
       "DNK       1\n",
       "MYS       1\n",
       "KWT       1\n",
       "HUN       1\n",
       "Name: count, Length: 69, dtype: int64"
      ]
     },
     "execution_count": 200,
     "metadata": {},
     "output_type": "execute_result"
    }
   ],
   "source": [
    "dataset[\"country\"].value_counts()"
   ]
  },
  {
   "cell_type": "code",
   "execution_count": 201,
   "metadata": {},
   "outputs": [
    {
     "data": {
      "text/plain": [
       "country\n",
       "USA      1768\n",
       "OTHER     487\n",
       "VEN       368\n",
       "GBR       209\n",
       "CAN        77\n",
       "Name: count, dtype: int64"
      ]
     },
     "execution_count": 201,
     "metadata": {},
     "output_type": "execute_result"
    }
   ],
   "source": [
    "temp = dataset[\"country\"].value_counts()\n",
    "low_rep = temp[temp < 50].index\n",
    "dataset[\"country\"] = dataset[\"country\"].replace(low_rep, \"OTHER\")\n",
    "dataset[\"country\"].value_counts()"
   ]
  },
  {
   "cell_type": "code",
   "execution_count": 202,
   "metadata": {},
   "outputs": [
    {
     "data": {
      "text/plain": [
       "country\n",
       "USA      1768\n",
       "OTHER     487\n",
       "VEN       368\n",
       "GBR       209\n",
       "CAN        77\n",
       "Name: count, dtype: int64"
      ]
     },
     "execution_count": 202,
     "metadata": {},
     "output_type": "execute_result"
    },
    {
     "data": {
      "image/png": "[encoded data removed]",
      "text/plain": [
       "<Figure size 1200x200 with 1 Axes>"
      ]
     },
     "metadata": {},
     "output_type": "display_data"
    }
   ],
   "source": [
    "import seaborn as sns\n",
    "import matplotlib.pyplot as plt\n",
    "\n",
    "fig = plt.figure(figsize = (12,2))\n",
    "sns.countplot(y =\"country\", data = dataset)\n",
    "dataset[\"country\"].value_counts()"
   ]
  },
  {
   "cell_type": "code",
   "execution_count": 203,
   "metadata": {},
   "outputs": [
    {
     "data": {
      "text/plain": [
       "<Axes: xlabel='country'>"
      ]
     },
     "execution_count": 203,
     "metadata": {},
     "output_type": "execute_result"
    },
    {
     "data": {
      "image/png": "[encoded data removed]",
      "text/plain": [
       "<Figure size 640x480 with 1 Axes>"
      ]
     },
     "metadata": {},
     "output_type": "display_data"
    }
   ],
   "source": [
    "dataset[\"country\"][dataset[\"ad_clicked\"] == 1].value_counts().sort_index().plot()"
   ]
  },
  {
   "cell_type": "markdown",
   "metadata": {},
   "source": [
    "## 2.3 Category Parameter\n",
    "\n",
    "Just like the country classification, the categories with low values were combined with each other. We did the same here."
   ]
  },
  {
   "cell_type": "code",
   "execution_count": 204,
   "metadata": {},
   "outputs": [
    {
     "data": {
      "text/plain": [
       "ad_category\n",
       "Computers & Electronics           805\n",
       "Shop - Apparel                    479\n",
       "Shop - Luxury Goods               440\n",
       "Travel                            231\n",
       "Shop - Sporting Goods             213\n",
       "Shop - Photo & Video Services     207\n",
       "Shop - Toys                       126\n",
       "Games                             110\n",
       "Shop - Wholesalers & Liquidatr     87\n",
       "Shop - Event Ticket Sales          76\n",
       "Autos & Vehicles                   62\n",
       "Shop - Gifts & Special Event       38\n",
       "Food & Drink                       18\n",
       "Real Estate                        17\n",
       "Name: count, dtype: int64"
      ]
     },
     "execution_count": 204,
     "metadata": {},
     "output_type": "execute_result"
    }
   ],
   "source": [
    "dataset[\"ad_category\"].value_counts()"
   ]
  },
  {
   "cell_type": "code",
   "execution_count": 205,
   "metadata": {},
   "outputs": [
    {
     "data": {
      "text/plain": [
       "ad_category\n",
       "Computers & Electronics          805\n",
       "Shop - Apparel                   479\n",
       "Shop - Luxury Goods              440\n",
       "OTHER                            298\n",
       "Travel                           231\n",
       "Shop - Sporting Goods            213\n",
       "Shop - Photo & Video Services    207\n",
       "Shop - Toys                      126\n",
       "Games                            110\n",
       "Name: count, dtype: int64"
      ]
     },
     "execution_count": 205,
     "metadata": {},
     "output_type": "execute_result"
    }
   ],
   "source": [
    "temp = dataset[\"ad_category\"].value_counts()\n",
    "low_rep = temp[temp < 100].index\n",
    "dataset[\"ad_category\"] = dataset[\"ad_category\"].replace(low_rep, \"OTHER\")\n",
    "dataset[\"ad_category\"].value_counts()"
   ]
  },
  {
   "cell_type": "code",
   "execution_count": 206,
   "metadata": {},
   "outputs": [
    {
     "data": {
      "text/plain": [
       "ad_category\n",
       "Computers & Electronics          805\n",
       "Shop - Apparel                   479\n",
       "Shop - Luxury Goods              440\n",
       "OTHER                            298\n",
       "Travel                           231\n",
       "Shop - Sporting Goods            213\n",
       "Shop - Photo & Video Services    207\n",
       "Shop - Toys                      126\n",
       "Games                            110\n",
       "Name: count, dtype: int64"
      ]
     },
     "execution_count": 206,
     "metadata": {},
     "output_type": "execute_result"
    },
    {
     "data": {
      "image/png": "[encoded data removed]",
      "text/plain": [
       "<Figure size 1200x300 with 1 Axes>"
      ]
     },
     "metadata": {},
     "output_type": "display_data"
    }
   ],
   "source": [
    "import seaborn as sns\n",
    "import matplotlib.pyplot as plt\n",
    "\n",
    "fig = plt.figure(figsize = (12,3))\n",
    "sns.countplot(y =\"ad_category\", data = dataset)\n",
    "dataset[\"ad_category\"].value_counts()"
   ]
  },
  {
   "cell_type": "markdown",
   "metadata": {},
   "source": [
    "## 2.4 Convert Categorical Values To Numeral Values\n",
    "To convert categorical values to numerical values, we can use techniques like Label Encoding."
   ]
  },
  {
   "cell_type": "code",
   "execution_count": 207,
   "metadata": {},
   "outputs": [],
   "source": [
    "from sklearn.preprocessing import LabelEncoder\n",
    "\n",
    "# Initialize LabelEncoder\n",
    "label_encoder = LabelEncoder()\n",
    "\n",
    "categories = [\"query\", \"country\", \"ad_type\", \"ad_position\", \"ad_category\", \"serp_id\"]\n",
    "\n",
    "for cat_name in categories:\n",
    "    dataset[cat_name] = label_encoder.fit_transform(dataset[cat_name])"
   ]
  },
  {
   "cell_type": "markdown",
   "metadata": {},
   "source": [
    "## 2.5 Check For Missing Values\n",
    "\n",
    "In data analysis, null values represent missing or undefined data. Dealing with null values is crucial because they can impact the accuracy and reliability of your analysis.\n",
    "\n",
    "Handling null values correctly is essential for accurate analysis and modeling.\n",
    "\n",
    "Fortunately, we don't have an null values in the data and it can remain unchanged."
   ]
  },
  {
   "cell_type": "code",
   "execution_count": 208,
   "metadata": {},
   "outputs": [
    {
     "data": {
      "text/html": [
       "<div>\n",
       "<style scoped>\n",
       "    .dataframe tbody tr th:only-of-type {\n",
       "        vertical-align: middle;\n",
       "    }\n",
       "\n",
       "    .dataframe tbody tr th {\n",
       "        vertical-align: top;\n",
       "    }\n",
       "\n",
       "    .dataframe thead th {\n",
       "        text-align: right;\n",
       "    }\n",
       "</style>\n",
       "<table border=\"1\" class=\"dataframe\">\n",
       "  <thead>\n",
       "    <tr style=\"text-align: right;\">\n",
       "      <th></th>\n",
       "      <th>num of nulls</th>\n",
       "      <th>num of unique</th>\n",
       "    </tr>\n",
       "  </thead>\n",
       "  <tbody>\n",
       "    <tr>\n",
       "      <th>country</th>\n",
       "      <td>0</td>\n",
       "      <td>5</td>\n",
       "    </tr>\n",
       "    <tr>\n",
       "      <th>ad_position</th>\n",
       "      <td>0</td>\n",
       "      <td>2</td>\n",
       "    </tr>\n",
       "    <tr>\n",
       "      <th>ad_type</th>\n",
       "      <td>0</td>\n",
       "      <td>2</td>\n",
       "    </tr>\n",
       "    <tr>\n",
       "      <th>ad_category</th>\n",
       "      <td>0</td>\n",
       "      <td>9</td>\n",
       "    </tr>\n",
       "    <tr>\n",
       "      <th>serp_id</th>\n",
       "      <td>0</td>\n",
       "      <td>63</td>\n",
       "    </tr>\n",
       "    <tr>\n",
       "      <th>query</th>\n",
       "      <td>0</td>\n",
       "      <td>55</td>\n",
       "    </tr>\n",
       "    <tr>\n",
       "      <th>log_id</th>\n",
       "      <td>0</td>\n",
       "      <td>2909</td>\n",
       "    </tr>\n",
       "  </tbody>\n",
       "</table>\n",
       "</div>"
      ],
      "text/plain": [
       "             num of nulls  num of unique\n",
       "country                 0              5\n",
       "ad_position             0              2\n",
       "ad_type                 0              2\n",
       "ad_category             0              9\n",
       "serp_id                 0             63\n",
       "query                   0             55\n",
       "log_id                  0           2909"
      ]
     },
     "execution_count": 208,
     "metadata": {},
     "output_type": "execute_result"
    }
   ],
   "source": [
    "# Count the number of null values in each feature\n",
    "num_null_value = dataset.isnull().sum()\n",
    "\n",
    "# Determine the number of unique values in each feature\n",
    "num_unique_value = dataset.nunique()\n",
    "\n",
    "# Create a summary dataframe combining null and unique value counts\n",
    "df_summary = pd.concat([num_null_value,num_unique_value], axis='columns', keys= ['num of nulls', 'num of unique'])\n",
    "df_summary[:7]"
   ]
  },
  {
   "cell_type": "markdown",
   "metadata": {},
   "source": [
    "## 2.6 Filter Data Based On Time Spent\n",
    "To filter users who spent less than 5 seconds on the website, we can use the timestamp and cursor timestamp columns in the user behavior dataset. We'll calculate the time spent by each user on the website and filter out users who spent less than 5 seconds."
   ]
  },
  {
   "cell_type": "code",
   "execution_count": 209,
   "metadata": {},
   "outputs": [
    {
     "data": {
      "text/html": [
       "<div>\n",
       "<style scoped>\n",
       "    .dataframe tbody tr th:only-of-type {\n",
       "        vertical-align: middle;\n",
       "    }\n",
       "\n",
       "    .dataframe tbody tr th {\n",
       "        vertical-align: top;\n",
       "    }\n",
       "\n",
       "    .dataframe thead th {\n",
       "        text-align: right;\n",
       "    }\n",
       "</style>\n",
       "<table border=\"1\" class=\"dataframe\">\n",
       "  <thead>\n",
       "    <tr style=\"text-align: right;\">\n",
       "      <th></th>\n",
       "      <th>country</th>\n",
       "      <th>ad_position</th>\n",
       "      <th>ad_type</th>\n",
       "      <th>ad_category</th>\n",
       "      <th>serp_id</th>\n",
       "      <th>query</th>\n",
       "      <th>log_id</th>\n",
       "      <th>ad_clicked</th>\n",
       "      <th>doc_width</th>\n",
       "      <th>doc_height</th>\n",
       "      <th>...</th>\n",
       "      <th>event190</th>\n",
       "      <th>event191</th>\n",
       "      <th>event192</th>\n",
       "      <th>event193</th>\n",
       "      <th>event194</th>\n",
       "      <th>event195</th>\n",
       "      <th>event196</th>\n",
       "      <th>event197</th>\n",
       "      <th>event198</th>\n",
       "      <th>event199</th>\n",
       "    </tr>\n",
       "  </thead>\n",
       "  <tbody>\n",
       "    <tr>\n",
       "      <th>0</th>\n",
       "      <td>2</td>\n",
       "      <td>0</td>\n",
       "      <td>0</td>\n",
       "      <td>0</td>\n",
       "      <td>61</td>\n",
       "      <td>53</td>\n",
       "      <td>20181002033126</td>\n",
       "      <td>0</td>\n",
       "      <td>1366</td>\n",
       "      <td>2064</td>\n",
       "      <td>...</td>\n",
       "      <td>0</td>\n",
       "      <td>0</td>\n",
       "      <td>0</td>\n",
       "      <td>0</td>\n",
       "      <td>0</td>\n",
       "      <td>0</td>\n",
       "      <td>0</td>\n",
       "      <td>0</td>\n",
       "      <td>0</td>\n",
       "      <td>0</td>\n",
       "    </tr>\n",
       "    <tr>\n",
       "      <th>1</th>\n",
       "      <td>4</td>\n",
       "      <td>1</td>\n",
       "      <td>0</td>\n",
       "      <td>4</td>\n",
       "      <td>15</td>\n",
       "      <td>14</td>\n",
       "      <td>20181001211223</td>\n",
       "      <td>1</td>\n",
       "      <td>1366</td>\n",
       "      <td>1611</td>\n",
       "      <td>...</td>\n",
       "      <td>0</td>\n",
       "      <td>0</td>\n",
       "      <td>0</td>\n",
       "      <td>0</td>\n",
       "      <td>0</td>\n",
       "      <td>0</td>\n",
       "      <td>0</td>\n",
       "      <td>0</td>\n",
       "      <td>0</td>\n",
       "      <td>0</td>\n",
       "    </tr>\n",
       "    <tr>\n",
       "      <th>2</th>\n",
       "      <td>4</td>\n",
       "      <td>0</td>\n",
       "      <td>1</td>\n",
       "      <td>4</td>\n",
       "      <td>16</td>\n",
       "      <td>15</td>\n",
       "      <td>20181001170952</td>\n",
       "      <td>0</td>\n",
       "      <td>1366</td>\n",
       "      <td>2284</td>\n",
       "      <td>...</td>\n",
       "      <td>0</td>\n",
       "      <td>0</td>\n",
       "      <td>0</td>\n",
       "      <td>0</td>\n",
       "      <td>0</td>\n",
       "      <td>0</td>\n",
       "      <td>0</td>\n",
       "      <td>0</td>\n",
       "      <td>0</td>\n",
       "      <td>0</td>\n",
       "    </tr>\n",
       "  </tbody>\n",
       "</table>\n",
       "<p>3 rows × 214 columns</p>\n",
       "</div>"
      ],
      "text/plain": [
       "   country  ad_position  ad_type  ad_category  serp_id  query          log_id  \\\n",
       "0        2            0        0            0       61     53  20181002033126   \n",
       "1        4            1        0            4       15     14  20181001211223   \n",
       "2        4            0        1            4       16     15  20181001170952   \n",
       "\n",
       "   ad_clicked  doc_width  doc_height  ...  event190  event191  event192  \\\n",
       "0           0       1366        2064  ...         0         0         0   \n",
       "1           1       1366        1611  ...         0         0         0   \n",
       "2           0       1366        2284  ...         0         0         0   \n",
       "\n",
       "   event193  event194  event195  event196  event197  event198  event199  \n",
       "0         0         0         0         0         0         0         0  \n",
       "1         0         0         0         0         0         0         0  \n",
       "2         0         0         0         0         0         0         0  \n",
       "\n",
       "[3 rows x 214 columns]"
      ]
     },
     "execution_count": 209,
     "metadata": {},
     "output_type": "execute_result"
    }
   ],
   "source": [
    "dataset = dataset[dataset[\"time_spent\"] > 5]\n",
    "dataset = dataset.reset_index(drop=True)\n",
    "dataset.head(3)"
   ]
  },
  {
   "cell_type": "markdown",
   "metadata": {},
   "source": [
    "## 2.7 Check Value Count Ad Click\n",
    "\n",
    "the class imbalance in the `ad_clicked` data could potentially affect the model's performance. With 1861 rows labeled as 0 and only 557 rows labeled as 1, the model may become biased toward predicting the majority class (0)."
   ]
  },
  {
   "cell_type": "code",
   "execution_count": 210,
   "metadata": {},
   "outputs": [
    {
     "data": {
      "text/plain": [
       "ad_clicked\n",
       "0    1861\n",
       "1     557\n",
       "Name: count, dtype: int64"
      ]
     },
     "execution_count": 210,
     "metadata": {},
     "output_type": "execute_result"
    },
    {
     "data": {
      "image/png": "[encoded data removed]",
      "text/plain": [
       "<Figure size 1200x100 with 1 Axes>"
      ]
     },
     "metadata": {},
     "output_type": "display_data"
    }
   ],
   "source": [
    "fig = plt.figure(figsize = (12,1))\n",
    "sns.countplot(y =\"ad_clicked\", data = dataset)\n",
    "dataset[\"ad_clicked\"].value_counts()"
   ]
  },
  {
   "cell_type": "markdown",
   "metadata": {},
   "source": [
    "----\n",
    "# 3. Feature Selection\n",
    "\n",
    "Feature Selection is the process of selecting a subset of relevant features for use in machine learning model building.\n",
    "\n",
    "It is not always the truth that the more data, the better the result will be. Including irrelevant features (the ones that are just unhelpful to the prediction) and redundant features (irrelevant in the presence of others) will only make the learning process overwhelmed and easy to cause overfitting.\n",
    "\n",
    "By reducing the number of features, we can improve the performance of the machine learning models, while reducing training time and creating more interpretable machine learning models."
   ]
  },
  {
   "cell_type": "markdown",
   "metadata": {},
   "source": [
    "## 3.1 Remove Unnecessary Columns\n",
    "\n",
    "In this step, we preprocess the datasets to remove unnecessary features and prepare them for further analysis."
   ]
  },
  {
   "cell_type": "code",
   "execution_count": 211,
   "metadata": {},
   "outputs": [
    {
     "data": {
      "text/plain": [
       "211"
      ]
     },
     "execution_count": 211,
     "metadata": {},
     "output_type": "execute_result"
    }
   ],
   "source": [
    "\n",
    "dataset_final = dataset.drop([\"doc_width\", \"doc_height\", \"log_id\"], axis=1)\n",
    "len(dataset_final.columns)"
   ]
  },
  {
   "cell_type": "markdown",
   "metadata": {},
   "source": [
    "## 3.2 Correlation Between Features\n",
    "A correlation coefficient of 1 indicates a perfect positive linear relationship between two variables. In other words, when one variable increases, the other variable also increases proportionally."
   ]
  },
  {
   "cell_type": "code",
   "execution_count": 212,
   "metadata": {},
   "outputs": [
    {
     "data": {
      "text/html": [
       "<div>\n",
       "<style scoped>\n",
       "    .dataframe tbody tr th:only-of-type {\n",
       "        vertical-align: middle;\n",
       "    }\n",
       "\n",
       "    .dataframe tbody tr th {\n",
       "        vertical-align: top;\n",
       "    }\n",
       "\n",
       "    .dataframe thead th {\n",
       "        text-align: right;\n",
       "    }\n",
       "</style>\n",
       "<table border=\"1\" class=\"dataframe\">\n",
       "  <thead>\n",
       "    <tr style=\"text-align: right;\">\n",
       "      <th></th>\n",
       "      <th>ad_clicked</th>\n",
       "      <th>country</th>\n",
       "      <th>ad_position</th>\n",
       "      <th>ad_type</th>\n",
       "      <th>ad_category</th>\n",
       "      <th>serp_id</th>\n",
       "      <th>query</th>\n",
       "      <th>time_spent</th>\n",
       "      <th>week_day</th>\n",
       "      <th>hour</th>\n",
       "    </tr>\n",
       "  </thead>\n",
       "  <tbody>\n",
       "    <tr>\n",
       "      <th>ad_clicked</th>\n",
       "      <td>1.000000</td>\n",
       "      <td>0.093932</td>\n",
       "      <td>-0.177069</td>\n",
       "      <td>0.069452</td>\n",
       "      <td>-0.063096</td>\n",
       "      <td>0.056782</td>\n",
       "      <td>0.060100</td>\n",
       "      <td>0.037232</td>\n",
       "      <td>-0.011474</td>\n",
       "      <td>-0.001041</td>\n",
       "    </tr>\n",
       "    <tr>\n",
       "      <th>country</th>\n",
       "      <td>0.093932</td>\n",
       "      <td>1.000000</td>\n",
       "      <td>0.002907</td>\n",
       "      <td>0.004842</td>\n",
       "      <td>0.024643</td>\n",
       "      <td>0.002144</td>\n",
       "      <td>0.004591</td>\n",
       "      <td>0.006500</td>\n",
       "      <td>-0.134246</td>\n",
       "      <td>0.017579</td>\n",
       "    </tr>\n",
       "    <tr>\n",
       "      <th>ad_position</th>\n",
       "      <td>-0.177069</td>\n",
       "      <td>0.002907</td>\n",
       "      <td>1.000000</td>\n",
       "      <td>-0.487027</td>\n",
       "      <td>0.243832</td>\n",
       "      <td>-0.258858</td>\n",
       "      <td>-0.258887</td>\n",
       "      <td>-0.014017</td>\n",
       "      <td>-0.033001</td>\n",
       "      <td>0.029131</td>\n",
       "    </tr>\n",
       "    <tr>\n",
       "      <th>ad_type</th>\n",
       "      <td>0.069452</td>\n",
       "      <td>0.004842</td>\n",
       "      <td>-0.487027</td>\n",
       "      <td>1.000000</td>\n",
       "      <td>0.167319</td>\n",
       "      <td>-0.060023</td>\n",
       "      <td>-0.062236</td>\n",
       "      <td>0.028772</td>\n",
       "      <td>0.009073</td>\n",
       "      <td>0.045971</td>\n",
       "    </tr>\n",
       "    <tr>\n",
       "      <th>ad_category</th>\n",
       "      <td>-0.063096</td>\n",
       "      <td>0.024643</td>\n",
       "      <td>0.243832</td>\n",
       "      <td>0.167319</td>\n",
       "      <td>1.000000</td>\n",
       "      <td>-0.407683</td>\n",
       "      <td>-0.418692</td>\n",
       "      <td>-0.000238</td>\n",
       "      <td>-0.030711</td>\n",
       "      <td>0.059191</td>\n",
       "    </tr>\n",
       "    <tr>\n",
       "      <th>serp_id</th>\n",
       "      <td>0.056782</td>\n",
       "      <td>0.002144</td>\n",
       "      <td>-0.258858</td>\n",
       "      <td>-0.060023</td>\n",
       "      <td>-0.407683</td>\n",
       "      <td>1.000000</td>\n",
       "      <td>0.997231</td>\n",
       "      <td>0.016445</td>\n",
       "      <td>0.035811</td>\n",
       "      <td>-0.001528</td>\n",
       "    </tr>\n",
       "    <tr>\n",
       "      <th>query</th>\n",
       "      <td>0.060100</td>\n",
       "      <td>0.004591</td>\n",
       "      <td>-0.258887</td>\n",
       "      <td>-0.062236</td>\n",
       "      <td>-0.418692</td>\n",
       "      <td>0.997231</td>\n",
       "      <td>1.000000</td>\n",
       "      <td>0.016892</td>\n",
       "      <td>0.035628</td>\n",
       "      <td>-0.000571</td>\n",
       "    </tr>\n",
       "    <tr>\n",
       "      <th>time_spent</th>\n",
       "      <td>0.037232</td>\n",
       "      <td>0.006500</td>\n",
       "      <td>-0.014017</td>\n",
       "      <td>0.028772</td>\n",
       "      <td>-0.000238</td>\n",
       "      <td>0.016445</td>\n",
       "      <td>0.016892</td>\n",
       "      <td>1.000000</td>\n",
       "      <td>-0.001437</td>\n",
       "      <td>0.016220</td>\n",
       "    </tr>\n",
       "    <tr>\n",
       "      <th>week_day</th>\n",
       "      <td>-0.011474</td>\n",
       "      <td>-0.134246</td>\n",
       "      <td>-0.033001</td>\n",
       "      <td>0.009073</td>\n",
       "      <td>-0.030711</td>\n",
       "      <td>0.035811</td>\n",
       "      <td>0.035628</td>\n",
       "      <td>-0.001437</td>\n",
       "      <td>1.000000</td>\n",
       "      <td>-0.106229</td>\n",
       "    </tr>\n",
       "    <tr>\n",
       "      <th>hour</th>\n",
       "      <td>-0.001041</td>\n",
       "      <td>0.017579</td>\n",
       "      <td>0.029131</td>\n",
       "      <td>0.045971</td>\n",
       "      <td>0.059191</td>\n",
       "      <td>-0.001528</td>\n",
       "      <td>-0.000571</td>\n",
       "      <td>0.016220</td>\n",
       "      <td>-0.106229</td>\n",
       "      <td>1.000000</td>\n",
       "    </tr>\n",
       "  </tbody>\n",
       "</table>\n",
       "</div>"
      ],
      "text/plain": [
       "             ad_clicked   country  ad_position   ad_type  ad_category  \\\n",
       "ad_clicked     1.000000  0.093932    -0.177069  0.069452    -0.063096   \n",
       "country        0.093932  1.000000     0.002907  0.004842     0.024643   \n",
       "ad_position   -0.177069  0.002907     1.000000 -0.487027     0.243832   \n",
       "ad_type        0.069452  0.004842    -0.487027  1.000000     0.167319   \n",
       "ad_category   -0.063096  0.024643     0.243832  0.167319     1.000000   \n",
       "serp_id        0.056782  0.002144    -0.258858 -0.060023    -0.407683   \n",
       "query          0.060100  0.004591    -0.258887 -0.062236    -0.418692   \n",
       "time_spent     0.037232  0.006500    -0.014017  0.028772    -0.000238   \n",
       "week_day      -0.011474 -0.134246    -0.033001  0.009073    -0.030711   \n",
       "hour          -0.001041  0.017579     0.029131  0.045971     0.059191   \n",
       "\n",
       "              serp_id     query  time_spent  week_day      hour  \n",
       "ad_clicked   0.056782  0.060100    0.037232 -0.011474 -0.001041  \n",
       "country      0.002144  0.004591    0.006500 -0.134246  0.017579  \n",
       "ad_position -0.258858 -0.258887   -0.014017 -0.033001  0.029131  \n",
       "ad_type     -0.060023 -0.062236    0.028772  0.009073  0.045971  \n",
       "ad_category -0.407683 -0.418692   -0.000238 -0.030711  0.059191  \n",
       "serp_id      1.000000  0.997231    0.016445  0.035811 -0.001528  \n",
       "query        0.997231  1.000000    0.016892  0.035628 -0.000571  \n",
       "time_spent   0.016445  0.016892    1.000000 -0.001437  0.016220  \n",
       "week_day     0.035811  0.035628   -0.001437  1.000000 -0.106229  \n",
       "hour        -0.001528 -0.000571    0.016220 -0.106229  1.000000  "
      ]
     },
     "metadata": {},
     "output_type": "display_data"
    },
    {
     "data": {
      "image/png": "[encoded data removed]",
      "text/plain": [
       "<Figure size 800x600 with 2 Axes>"
      ]
     },
     "metadata": {},
     "output_type": "display_data"
    }
   ],
   "source": [
    "# pip3 install matplotlib\n",
    "import matplotlib.pyplot as plt\n",
    "# pip3 install seaborn\n",
    "import seaborn as sns\n",
    "\n",
    "# Create correlation matrix for features\n",
    "features_df = dataset_final[[\"ad_clicked\", \"country\", \"ad_position\", \"ad_type\", \"ad_category\", \"serp_id\", \"query\", \"time_spent\", \"week_day\", \"hour\"]]\n",
    "feature_corr = features_df.corr(numeric_only=True)\n",
    "\n",
    "# Display correlation matrix\n",
    "display(feature_corr)\n",
    "\n",
    "# Plot correlation matrix\n",
    "plt.figure(figsize=(8,6))\n",
    "sns.heatmap(feature_corr, annot=True, fmt='0.2f', linewidths=0.5, linecolor='Black', cmap='Spectral')\n",
    "plt.show()"
   ]
  },
  {
   "cell_type": "markdown",
   "metadata": {},
   "source": [
    "Having two parameters with a correlation of 1 can lead to multicollinearity issues when building a predictive model. Multicollinearity occurs when two or more independent variables are highly correlated with each other. This can cause issues in interpreting the model coefficients and can affect the stability and reliability of the model.\n",
    "\n",
    "In such cases, it's often necessary to remove one of the highly correlated features to address multicollinearity."
   ]
  },
  {
   "cell_type": "code",
   "execution_count": 213,
   "metadata": {},
   "outputs": [],
   "source": [
    "dataset_final = dataset_final.drop(\"serp_id\", axis=1)"
   ]
  },
  {
   "cell_type": "markdown",
   "metadata": {},
   "source": [
    "## 3.3 Correlation Between Features And Target\n",
    "\n",
    "If two parameters have a correlation of 1 with the target variable (ad_clicked), it means they are highly correlated and have a strong linear relationship with the target variable. This suggests that these parameters are good predictors of whether an ad will be clicked or not."
   ]
  },
  {
   "cell_type": "code",
   "execution_count": 214,
   "metadata": {},
   "outputs": [
    {
     "data": {
      "text/html": [
       "<div>\n",
       "<style scoped>\n",
       "    .dataframe tbody tr th:only-of-type {\n",
       "        vertical-align: middle;\n",
       "    }\n",
       "\n",
       "    .dataframe tbody tr th {\n",
       "        vertical-align: top;\n",
       "    }\n",
       "\n",
       "    .dataframe thead th {\n",
       "        text-align: right;\n",
       "    }\n",
       "</style>\n",
       "<table border=\"1\" class=\"dataframe\">\n",
       "  <thead>\n",
       "    <tr style=\"text-align: right;\">\n",
       "      <th></th>\n",
       "      <th>Corr</th>\n",
       "    </tr>\n",
       "  </thead>\n",
       "  <tbody>\n",
       "    <tr>\n",
       "      <th>ad_position</th>\n",
       "      <td>0.177069</td>\n",
       "    </tr>\n",
       "    <tr>\n",
       "      <th>country</th>\n",
       "      <td>0.093932</td>\n",
       "    </tr>\n",
       "    <tr>\n",
       "      <th>ad_type</th>\n",
       "      <td>0.069452</td>\n",
       "    </tr>\n",
       "    <tr>\n",
       "      <th>ad_category</th>\n",
       "      <td>0.063096</td>\n",
       "    </tr>\n",
       "    <tr>\n",
       "      <th>query</th>\n",
       "      <td>0.060100</td>\n",
       "    </tr>\n",
       "    <tr>\n",
       "      <th>time_spent</th>\n",
       "      <td>0.037232</td>\n",
       "    </tr>\n",
       "    <tr>\n",
       "      <th>week_day</th>\n",
       "      <td>0.011474</td>\n",
       "    </tr>\n",
       "    <tr>\n",
       "      <th>hour</th>\n",
       "      <td>0.001041</td>\n",
       "    </tr>\n",
       "  </tbody>\n",
       "</table>\n",
       "</div>"
      ],
      "text/plain": [
       "                 Corr\n",
       "ad_position  0.177069\n",
       "country      0.093932\n",
       "ad_type      0.069452\n",
       "ad_category  0.063096\n",
       "query        0.060100\n",
       "time_spent   0.037232\n",
       "week_day     0.011474\n",
       "hour         0.001041"
      ]
     },
     "execution_count": 214,
     "metadata": {},
     "output_type": "execute_result"
    }
   ],
   "source": [
    "# Calculate the correlation of features to target variable\n",
    "features_df = dataset_final[[\"ad_clicked\", \"country\", \"ad_position\", \"ad_type\", \"ad_category\", \"query\", \"time_spent\", \"week_day\", \"hour\"]]\n",
    "corr_to_target = features_df.corr(numeric_only=True)['ad_clicked']\n",
    "\n",
    "# Show results in Descending order\n",
    "cor_matrix_df = pd.DataFrame(corr_to_target.abs()).sort_values( 'ad_clicked', ascending=False)\n",
    "cor_matrix_df.drop('ad_clicked', axis=0, inplace=True)\n",
    "cor_matrix_df.rename(columns={'ad_clicked':'Corr'}, inplace=True)\n",
    "cor_matrix_df"
   ]
  },
  {
   "cell_type": "markdown",
   "metadata": {},
   "source": [
    "Since the visit time according to calculations has very little relationship with the target, it is better to remove this parameter."
   ]
  },
  {
   "cell_type": "code",
   "execution_count": 215,
   "metadata": {},
   "outputs": [],
   "source": [
    "dataset_final = dataset_final.drop(\"hour\", axis=1)"
   ]
  },
  {
   "cell_type": "markdown",
   "metadata": {},
   "source": [
    "## 3.4 Mutual Information\n",
    "Mutual information is a measure of the amount of information obtained about one random variable through the other random variable. It measures the amount of information gained about one variable through the other variable.\n",
    "\n",
    "In the context of feature selection, mutual information can be used to measure the dependency between a feature and the target variable. Features with high mutual information are considered to be more informative for predicting the target variable.\n",
    "\n",
    "Two benefits to using Mutual Information as feature selector:\n",
    "- The MI is model neutral, which means the solution can be applied to various kinds of ML models.\n",
    "- MI solution is fast. \n",
    "https://towardsdatascience.com/select-features-for-machine-learning-model-with-mutual-information-534fe387d5c8\n",
    "\n",
    "In our project, we can use mutual information to select the most relevant features for predicting whether an ad will be clicked or not."
   ]
  },
  {
   "cell_type": "code",
   "execution_count": 216,
   "metadata": {},
   "outputs": [
    {
     "name": "stdout",
     "output_type": "stream",
     "text": [
      "             Mutual Information\n",
      "ad_position            0.009604\n",
      "ad_type                0.009041\n",
      "country                0.007597\n",
      "week_day               0.006375\n",
      "query                  0.003690\n",
      "ad_category            0.000736\n",
      "time_spent             0.000000\n"
     ]
    }
   ],
   "source": [
    "from sklearn.feature_selection import mutual_info_classif\n",
    "\n",
    "# Selecting features and target variable\n",
    "df = dataset_final[[\"ad_clicked\",\"country\",\"ad_position\",\"ad_type\",\"ad_category\",\"query\",\"time_spent\", \"week_day\"]]\n",
    "\n",
    "X = df.drop(\"ad_clicked\", axis=1)  # Features\n",
    "y = df[\"ad_clicked\"]  # Target variable\n",
    "\n",
    "# Calculate mutual information\n",
    "mutual_info = mutual_info_classif(X, y)\n",
    "\n",
    "# Create a DataFrame to display mutual information scores\n",
    "mutual_info_df = pd.DataFrame(mutual_info, index=X.columns, columns=[\"Mutual Information\"])\n",
    "mutual_info_df = mutual_info_df.sort_values(by=\"Mutual Information\", ascending=False)\n",
    "\n",
    "# Display mutual information scores\n",
    "print(mutual_info_df)"
   ]
  },
  {
   "cell_type": "markdown",
   "metadata": {},
   "source": [
    "This code will calculate the mutual information between each feature and the target variable (ad_clicked) and display the mutual information scores for each feature. Features with higher mutual information scores are more informative for predicting whether an ad will be clicked or not."
   ]
  },
  {
   "cell_type": "code",
   "execution_count": 217,
   "metadata": {},
   "outputs": [],
   "source": [
    "dataset_final = dataset_final.drop(\"week_day\", axis=1)"
   ]
  },
  {
   "cell_type": "markdown",
   "metadata": {},
   "source": [
    "----"
   ]
  },
  {
   "cell_type": "markdown",
   "metadata": {},
   "source": [
    "# 4. Machine Learning\n",
    "\n",
    "In this section, we applied several machine learning models to predict whether a user will click on an advertisement based on their behavior on the website. The dataset was preprocessed to handle missing values, encode categorical variables, and address class imbalance."
   ]
  },
  {
   "cell_type": "markdown",
   "metadata": {},
   "source": [
    "## 4.1 Functions\n",
    "\n",
    "We have defined the useful functions that we need in the following sections here."
   ]
  },
  {
   "cell_type": "markdown",
   "metadata": {},
   "source": [
    "- ### `Confusion plot function`\n",
    "\n",
    "A confusion matrix is a table that is often used to describe the performance of a classification model on a set of test data for which the true values are known.\n",
    "\n",
    "[[TN  FP]\n",
    " [FN  TP]]\n",
    "\n",
    "TN, FP, FN, and TP represent the counts of true negatives, false positives, false negatives, and true positives, respectively."
   ]
  },
  {
   "cell_type": "code",
   "execution_count": 218,
   "metadata": {},
   "outputs": [],
   "source": [
    "import seaborn as sns\n",
    "import matplotlib.pyplot as plt\n",
    "from sklearn.metrics import confusion_matrix\n",
    "\n",
    "def confusion_plot(y_true, y_pred):\n",
    "    # Assuming y_true and y_pred are your actual and predicted binary labels\n",
    "    conf_matrix = confusion_matrix(y_true, y_pred)\n",
    "\n",
    "    # Plotting the confusion matrix as a heatmap\n",
    "    sns.heatmap(conf_matrix, annot=True, cmap='Blues', fmt='g')\n",
    "\n",
    "    plt.xlabel('Predicted labels')\n",
    "    plt.ylabel('True labels')\n",
    "    plt.title('Confusion Matrix')\n",
    "    plt.show()\n"
   ]
  },
  {
   "cell_type": "markdown",
   "metadata": {},
   "source": [
    "- ### `AUC curve plot function`\n",
    "\n",
    "AUC (Area Under the Curve) is a popular metric used to evaluate the performance of a classification model. The ROC (Receiver Operating Characteristic) curve is a plot of the true positive rate (TPR) against the false positive rate (FPR) for different threshold values. AUC represents the area under the ROC curve.\n",
    "\n",
    "AUC can be calculated using the trapezoidal rule or by summing the areas of individual trapezoids formed by adjacent points on the ROC curve."
   ]
  },
  {
   "cell_type": "code",
   "execution_count": 219,
   "metadata": {},
   "outputs": [],
   "source": [
    "import matplotlib.pyplot as plt\n",
    "from sklearn.metrics import auc\n",
    "\n",
    "def AUC_plot(y_true, y_scores, curve_func):\n",
    "    # Assuming y_true and y_scores are your actual binary labels and predicted probabilities\n",
    "    precision, recall, _ = curve_func(y_true, y_scores)\n",
    "    auc_score = auc(recall, precision)\n",
    "\n",
    "    # Plot precision-recall curve\n",
    "    plt.plot(recall, precision, label=f'Precision-Recall curve (AUC = {auc_score:.2f})', color='b')\n",
    "    plt.xlabel('Recall')\n",
    "    plt.ylabel('Precision')\n",
    "    plt.title('Precision-Recall Curve')\n",
    "    plt.legend(loc='best')\n",
    "    plt.show()\n"
   ]
  },
  {
   "cell_type": "markdown",
   "metadata": {},
   "source": [
    "## 4.2 One Hot Encoding\n",
    "**Utilizing Categorical Value Encoding Techniques**  \n",
    "In our project, we employed two common techniques for handling categorical data: converting categorical values to numerical values and one-hot encoding.\n",
    "\n",
    "- **Converting Categorical Values to Numerical Values:**  \n",
    "One of the initial steps in preprocessing our data involved converting categorical values to numerical representations. While this step is not always necessary, it can be beneficial for certain machine learning algorithms that require numerical input. By assigning a unique numerical value to each category, we ensured that the model could interpret and learn from the data effectively.\n",
    "\n",
    "- **One-Hot Encoding:**  \n",
    "However, converting categorical values to numerical representations might introduce unintended ordinal relationships between categories. To avoid this issue and ensure that the model treats each category as independent, we used one-hot encoding. This technique converts categorical variables into a binary matrix where each category is represented by a binary vector. This way, we preserved the categorical nature of the data without introducing any ordinal relationships.\n",
    "\n",
    "- **The Benefits of One-Hot Encoding:**  \n",
    "One-hot encoding not only prevents the model from misinterpreting categorical variables as ordinal but also allows us to include categorical data without biasing the model towards any particular category. It ensures that the model treats all categories equally during training and enables the model to learn complex patterns without any inherent assumptions about the relationships between categories.\n",
    "\n",
    "- **Conclusion:**  \n",
    "By converting categorical values to numerical representations and employing one-hot encoding, we ensured that our machine learning models could effectively utilize categorical data without introducing biases or misinterpretations. These preprocessing techniques were crucial for improving the performance and interpretability of our models, ultimately leading to more accurate predictions."
   ]
  },
  {
   "cell_type": "code",
   "execution_count": 220,
   "metadata": {},
   "outputs": [],
   "source": [
    "dataset_dummies = dataset_final\n",
    "dataset_dummies = pd.get_dummies(data=dataset_final, columns=[\"country\",\"ad_category\",\"query\"])\n",
    "\n",
    "y = dataset_dummies[\"ad_clicked\"]\n",
    "X = dataset_dummies.drop(\"ad_clicked\", axis=1)\n",
    "\n",
    "X = X.astype(int)"
   ]
  },
  {
   "cell_type": "markdown",
   "metadata": {},
   "source": [
    "## 4.3 Handling Imbalanced Data\n",
    "- **Handling Imbalanced Data for Better Model Performance** \n",
    "In our project, we encountered the challenge of imbalanced data, where one class of data significantly outnumbered the other. This is a common issue in many machine learning problems, including ours, where the target variable (click/no-click) was highly imbalanced.\n",
    "\n",
    "- **The Imbalance Issue:**  \n",
    "The imbalance in our data could have led to biased model performance, where the model might have favored the majority class, resulting in poor prediction accuracy for the minority class. For example, in our case, a model might have predicted \"no-click\" for most instances, ignoring the \"click\" instances altogether.\n",
    "\n",
    "- **The Solution:**  \n",
    "To address this issue, we employed various techniques for handling imbalanced data. One such technique was oversampling the minority class, where we increased the number of instances in the minority class to match the number of instances in the majority class. This ensured that the model was trained on a more balanced dataset.\n",
    "\n",
    "- **The Impact:**  \n",
    "Handling imbalanced data significantly improved the performance of our machine learning models. By ensuring that the model was trained on a balanced dataset, we prevented it from being biased towards the majority class. As a result, our models were able to make more accurate predictions for both the majority and minority classes.\n"
   ]
  },
  {
   "cell_type": "code",
   "execution_count": 221,
   "metadata": {},
   "outputs": [
    {
     "name": "stdout",
     "output_type": "stream",
     "text": [
      "After SMOTE:\n",
      "ad_clicked\n",
      "0    1861\n",
      "1    1861\n",
      "Name: count, dtype: int64\n"
     ]
    },
    {
     "data": {
      "text/html": [
       "<div>\n",
       "<style scoped>\n",
       "    .dataframe tbody tr th:only-of-type {\n",
       "        vertical-align: middle;\n",
       "    }\n",
       "\n",
       "    .dataframe tbody tr th {\n",
       "        vertical-align: top;\n",
       "    }\n",
       "\n",
       "    .dataframe thead th {\n",
       "        text-align: right;\n",
       "    }\n",
       "</style>\n",
       "<table border=\"1\" class=\"dataframe\">\n",
       "  <thead>\n",
       "    <tr style=\"text-align: right;\">\n",
       "      <th></th>\n",
       "      <th>ad_position</th>\n",
       "      <th>ad_type</th>\n",
       "      <th>time_spent</th>\n",
       "      <th>date</th>\n",
       "      <th>event0</th>\n",
       "      <th>event1</th>\n",
       "      <th>event2</th>\n",
       "      <th>event3</th>\n",
       "      <th>event4</th>\n",
       "      <th>event5</th>\n",
       "      <th>...</th>\n",
       "      <th>query_45</th>\n",
       "      <th>query_46</th>\n",
       "      <th>query_47</th>\n",
       "      <th>query_48</th>\n",
       "      <th>query_49</th>\n",
       "      <th>query_50</th>\n",
       "      <th>query_51</th>\n",
       "      <th>query_52</th>\n",
       "      <th>query_53</th>\n",
       "      <th>query_54</th>\n",
       "    </tr>\n",
       "  </thead>\n",
       "  <tbody>\n",
       "    <tr>\n",
       "      <th>0</th>\n",
       "      <td>0</td>\n",
       "      <td>0</td>\n",
       "      <td>96</td>\n",
       "      <td>1538444060776</td>\n",
       "      <td>0</td>\n",
       "      <td>96</td>\n",
       "      <td>0</td>\n",
       "      <td>0</td>\n",
       "      <td>0</td>\n",
       "      <td>0</td>\n",
       "      <td>...</td>\n",
       "      <td>0</td>\n",
       "      <td>0</td>\n",
       "      <td>0</td>\n",
       "      <td>0</td>\n",
       "      <td>0</td>\n",
       "      <td>0</td>\n",
       "      <td>0</td>\n",
       "      <td>0</td>\n",
       "      <td>1</td>\n",
       "      <td>0</td>\n",
       "    </tr>\n",
       "    <tr>\n",
       "      <th>1</th>\n",
       "      <td>1</td>\n",
       "      <td>0</td>\n",
       "      <td>18</td>\n",
       "      <td>1538421318262</td>\n",
       "      <td>0</td>\n",
       "      <td>18</td>\n",
       "      <td>0</td>\n",
       "      <td>0</td>\n",
       "      <td>0</td>\n",
       "      <td>0</td>\n",
       "      <td>...</td>\n",
       "      <td>0</td>\n",
       "      <td>0</td>\n",
       "      <td>0</td>\n",
       "      <td>0</td>\n",
       "      <td>0</td>\n",
       "      <td>0</td>\n",
       "      <td>0</td>\n",
       "      <td>0</td>\n",
       "      <td>0</td>\n",
       "      <td>0</td>\n",
       "    </tr>\n",
       "    <tr>\n",
       "      <th>2</th>\n",
       "      <td>0</td>\n",
       "      <td>1</td>\n",
       "      <td>54</td>\n",
       "      <td>1538406739854</td>\n",
       "      <td>0</td>\n",
       "      <td>54</td>\n",
       "      <td>0</td>\n",
       "      <td>0</td>\n",
       "      <td>0</td>\n",
       "      <td>0</td>\n",
       "      <td>...</td>\n",
       "      <td>0</td>\n",
       "      <td>0</td>\n",
       "      <td>0</td>\n",
       "      <td>0</td>\n",
       "      <td>0</td>\n",
       "      <td>0</td>\n",
       "      <td>0</td>\n",
       "      <td>0</td>\n",
       "      <td>0</td>\n",
       "      <td>0</td>\n",
       "    </tr>\n",
       "    <tr>\n",
       "      <th>3</th>\n",
       "      <td>1</td>\n",
       "      <td>0</td>\n",
       "      <td>56</td>\n",
       "      <td>1538395858574</td>\n",
       "      <td>0</td>\n",
       "      <td>53</td>\n",
       "      <td>0</td>\n",
       "      <td>49</td>\n",
       "      <td>0</td>\n",
       "      <td>0</td>\n",
       "      <td>...</td>\n",
       "      <td>0</td>\n",
       "      <td>0</td>\n",
       "      <td>0</td>\n",
       "      <td>0</td>\n",
       "      <td>0</td>\n",
       "      <td>0</td>\n",
       "      <td>0</td>\n",
       "      <td>0</td>\n",
       "      <td>0</td>\n",
       "      <td>0</td>\n",
       "    </tr>\n",
       "    <tr>\n",
       "      <th>4</th>\n",
       "      <td>0</td>\n",
       "      <td>1</td>\n",
       "      <td>7</td>\n",
       "      <td>1538393256694</td>\n",
       "      <td>0</td>\n",
       "      <td>7</td>\n",
       "      <td>0</td>\n",
       "      <td>0</td>\n",
       "      <td>0</td>\n",
       "      <td>0</td>\n",
       "      <td>...</td>\n",
       "      <td>0</td>\n",
       "      <td>0</td>\n",
       "      <td>0</td>\n",
       "      <td>0</td>\n",
       "      <td>0</td>\n",
       "      <td>0</td>\n",
       "      <td>0</td>\n",
       "      <td>0</td>\n",
       "      <td>0</td>\n",
       "      <td>0</td>\n",
       "    </tr>\n",
       "  </tbody>\n",
       "</table>\n",
       "<p>5 rows × 273 columns</p>\n",
       "</div>"
      ],
      "text/plain": [
       "   ad_position  ad_type  time_spent           date  event0  event1  event2  \\\n",
       "0            0        0          96  1538444060776       0      96       0   \n",
       "1            1        0          18  1538421318262       0      18       0   \n",
       "2            0        1          54  1538406739854       0      54       0   \n",
       "3            1        0          56  1538395858574       0      53       0   \n",
       "4            0        1           7  1538393256694       0       7       0   \n",
       "\n",
       "   event3  event4  event5  ...  query_45  query_46  query_47  query_48  \\\n",
       "0       0       0       0  ...         0         0         0         0   \n",
       "1       0       0       0  ...         0         0         0         0   \n",
       "2       0       0       0  ...         0         0         0         0   \n",
       "3      49       0       0  ...         0         0         0         0   \n",
       "4       0       0       0  ...         0         0         0         0   \n",
       "\n",
       "   query_49  query_50  query_51  query_52  query_53  query_54  \n",
       "0         0         0         0         0         1         0  \n",
       "1         0         0         0         0         0         0  \n",
       "2         0         0         0         0         0         0  \n",
       "3         0         0         0         0         0         0  \n",
       "4         0         0         0         0         0         0  \n",
       "\n",
       "[5 rows x 273 columns]"
      ]
     },
     "execution_count": 221,
     "metadata": {},
     "output_type": "execute_result"
    }
   ],
   "source": [
    "# pip3 install imbalanced-learn\n",
    "from imblearn.over_sampling import SMOTE\n",
    "\n",
    "# Instantiate SMOTE\n",
    "smote = SMOTE(random_state=42)\n",
    "\n",
    "# Resample the dataset\n",
    "X, y = smote.fit_resample(X, y)\n",
    "\n",
    "# Check the class distribution after resampling\n",
    "print(\"After SMOTE:\")\n",
    "print(pd.Series(y).value_counts())\n",
    "X.head(5)\n"
   ]
  },
  {
   "cell_type": "markdown",
   "metadata": {},
   "source": [
    "## 4.4 Data Train/Test Split\n",
    "\n",
    "Before training a machine learning model, the data is typically split into training and testing sets. This allows the model to be trained on one set of data and evaluated on another set to assess its performance. Cross-validation techniques may also be used to further validate the model."
   ]
  },
  {
   "cell_type": "code",
   "execution_count": 222,
   "metadata": {},
   "outputs": [
    {
     "name": "stdout",
     "output_type": "stream",
     "text": [
      "Shape of features data set for ML models => (3722, 273)\n",
      "Shape of target for ML models => (3722,)\n"
     ]
    }
   ],
   "source": [
    "from sklearn.model_selection import train_test_split\n",
    "\n",
    "X_train, X_test, y_train, y_test = train_test_split(X, y, test_size=0.20, random_state=42)\n",
    "\n",
    "print(f'Shape of features data set for ML models => {X.shape}')\n",
    "print(f'Shape of target for ML models => {y.shape}')"
   ]
  },
  {
   "cell_type": "markdown",
   "metadata": {},
   "source": [
    "## 4.5 Data Scaling\n",
    "\n",
    "Scaling the data is a crucial preprocessing step in machine learning for several reasons:\n",
    "\n",
    "1. **`Consistent Scale:`** Features with different scales might cause issues during model training. By scaling the features, we ensure that all features have the same scale, which can improve the convergence speed of some machine learning algorithms.\n",
    "\n",
    "2. **`Preventing Dominance:`** Features with larger scales might dominate those with smaller scales. Scaling prevents this dominance and ensures that each feature contributes equally to the model training process.\n",
    "\n",
    "3. **`Regularization:`** Some machine learning algorithms, such as gradient descent-based optimization algorithms, are sensitive to the scale of the input features. Scaling the features can help these algorithms converge more quickly.\n",
    "\n",
    "4. **`Interpretability:`** Scaling does not change the relationship between features, but it can make the interpretation of coefficients or feature importance more intuitive.\n",
    "\n",
    "In our case, we used ***StandardScaler*** from scikit-learn to scale our features. It standardizes features by removing the mean and scaling to unit variance.\n",
    "\n",
    "***Since scaling the data should only be implemented on numerical parameters, we only applied it to the time spent parameter.***"
   ]
  },
  {
   "cell_type": "code",
   "execution_count": 223,
   "metadata": {},
   "outputs": [],
   "source": [
    "from sklearn.preprocessing import StandardScaler\n",
    "\n",
    "# Feature scaling\n",
    "scaler = StandardScaler()\n",
    "X_train_scaled = scaler.fit_transform(X_train)\n",
    "X_test_scaled = scaler.transform(X_test)"
   ]
  },
  {
   "cell_type": "markdown",
   "metadata": {},
   "source": [
    "## 4.6 Naive Bayes \n",
    "\n",
    "Naive Bayes is a family of probabilistic algorithms based on Bayes' Theorem with the \"naive\" assumption of independence between every pair of features. Despite this simplifying assumption, Naive Bayes classifiers have been very successful in many real-world situations, famously in text classification problems such as spam filtering.\n",
    "\n",
    "**`Advantages`**\n",
    "- Naive Bayes is simple and easy to implement.\n",
    "- It performs well in many complex real-world situations.\n",
    "- It requires a small amount of training data to estimate the necessary parameters.\n",
    "\n",
    "**`Limitations`**\n",
    "- Naive Bayes assumes that features are independent, which is not always the case in real-world data.\n",
    "- It can be outperformed by more complex models.\n",
    "- It's sensitive to the presence of irrelevant features."
   ]
  },
  {
   "cell_type": "code",
   "execution_count": 224,
   "metadata": {},
   "outputs": [
    {
     "name": "stdout",
     "output_type": "stream",
     "text": [
      "Accuracy: 0.5785234899328859\n",
      "\n",
      "Classification Report:\n",
      "              precision    recall  f1-score   support\n",
      "\n",
      "           0       0.85      0.18      0.30       369\n",
      "           1       0.55      0.97      0.70       376\n",
      "\n",
      "    accuracy                           0.58       745\n",
      "   macro avg       0.70      0.57      0.50       745\n",
      "weighted avg       0.70      0.58      0.50       745\n",
      "\n"
     ]
    }
   ],
   "source": [
    "from sklearn.naive_bayes import GaussianNB\n",
    "from sklearn.metrics import accuracy_score, classification_report\n",
    "\n",
    "# Create a Gaussian Naive Bayes classifier\n",
    "nb_classifier = GaussianNB()\n",
    "\n",
    "# Train the classifier\n",
    "nb_classifier.fit(X_train_scaled, y_train)\n",
    "\n",
    "# Predict on the test set\n",
    "y_pred = nb_classifier.predict(X_test_scaled)\n",
    "\n",
    "# Calculate accuracy\n",
    "accuracy = accuracy_score(y_test, y_pred)\n",
    "print(\"Accuracy:\", accuracy)\n",
    "\n",
    "# Classification report\n",
    "print(\"\\nClassification Report:\")\n",
    "print(classification_report(y_test, y_pred))\n",
    "\n",
    "\n",
    "# print(confusion_matrix(y_test, y_pred))\n"
   ]
  },
  {
   "cell_type": "markdown",
   "metadata": {},
   "source": [
    "The Naive Bayes model achieved an accuracy of 57%, indicating that it correctly classified 57% of all instances in the dataset.\n",
    "\n",
    "The precision of the Naive Bayes model varied for different classes. For class 0 (indicating no-click), the model achieved a precision of 85%. This means that when the model predicted no-click, it was correct 85% of the time. On the other hand, for class 1 (indicating click), the precision was 55%, indicating that the model correctly predicted click 55% of the time.\n",
    "\n",
    "While the Naive Bayes model achieved relatively high precision for class 0, its precision for class 1 was lower. This indicates that the model was better at predicting instances where users did not click on the ads compared to instances where users clicked on the ads."
   ]
  },
  {
   "cell_type": "code",
   "execution_count": 225,
   "metadata": {},
   "outputs": [
    {
     "data": {
      "image/png": "[encoded data removed]",
      "text/plain": [
       "<Figure size 640x480 with 2 Axes>"
      ]
     },
     "metadata": {},
     "output_type": "display_data"
    }
   ],
   "source": [
    "confusion_plot(y_test, y_pred)"
   ]
  },
  {
   "cell_type": "markdown",
   "metadata": {},
   "source": [
    "## 4.7 Random Forest Classifier\n",
    "\n",
    "Random Forest is a popular ensemble learning method used for both classification and regression tasks. It operates by constructing a multitude of decision trees during training time and outputting the mode of the classes (classification) or the average prediction (regression) of the individual trees."
   ]
  },
  {
   "cell_type": "code",
   "execution_count": 226,
   "metadata": {},
   "outputs": [],
   "source": [
    "from sklearn.ensemble import RandomForestClassifier\n",
    "from sklearn.metrics import accuracy_score, classification_report\n",
    "\n",
    "# Initializing the RandomForestClassifier\n",
    "rf_classifier = RandomForestClassifier(n_estimators=100, random_state=42)\n",
    "\n",
    "# Training the model\n",
    "rf_classifier.fit(X_train_scaled, y_train)\n",
    "\n",
    "# Making predictions\n",
    "y_pred = rf_classifier.predict(X_test_scaled)\n"
   ]
  },
  {
   "cell_type": "markdown",
   "metadata": {},
   "source": [
    "The random forest model, as shown below , with a prediction accuracy of 82% on training data.  "
   ]
  },
  {
   "cell_type": "code",
   "execution_count": 227,
   "metadata": {},
   "outputs": [
    {
     "name": "stdout",
     "output_type": "stream",
     "text": [
      "Accuracy: 0.87248322147651\n",
      "\n",
      "Classification Report:\n",
      "              precision    recall  f1-score   support\n",
      "\n",
      "           0       0.85      0.91      0.88       369\n",
      "           1       0.90      0.84      0.87       376\n",
      "\n",
      "    accuracy                           0.87       745\n",
      "   macro avg       0.87      0.87      0.87       745\n",
      "weighted avg       0.87      0.87      0.87       745\n",
      "\n"
     ]
    }
   ],
   "source": [
    "# Evaluating the model\n",
    "accuracy = accuracy_score(y_test, y_pred)\n",
    "print(\"Accuracy:\", accuracy)\n",
    "\n",
    "print(\"\\nClassification Report:\")\n",
    "print(classification_report(y_test, y_pred))"
   ]
  },
  {
   "cell_type": "markdown",
   "metadata": {},
   "source": [
    "The Random Forest model achieved an accuracy of 87%, indicating that it correctly classified 87% of all instances in the dataset.\n",
    "\n",
    "The precision of the Random Forest model varied for different classes. For class 0 (indicating no-click), the model achieved a precision of 85%. This means that when the model predicted no-click, it was correct 85% of the time. On the other hand, for class 1 (indicating click), the precision was 90%, indicating that the model correctly predicted click 90% of the time.\n",
    "\n",
    "The Random Forest model showed high precision for both classes, with a slightly higher precision for class 1 compared to class 0. This indicates that the model was effective at predicting both instances where users did not click on the ads and instances where users clicked on the ads.\n",
    "\n",
    "Overall, the Random Forest model demonstrated strong performance in predicting user clicks on ads. With an accuracy of 87% and high precision for both classes, the model effectively differentiated between instances of user clicks and no-clicks on the ads."
   ]
  },
  {
   "cell_type": "code",
   "execution_count": 228,
   "metadata": {},
   "outputs": [
    {
     "data": {
      "image/png": "[encoded data removed]",
      "text/plain": [
       "<Figure size 640x480 with 2 Axes>"
      ]
     },
     "metadata": {},
     "output_type": "display_data"
    }
   ],
   "source": [
    "confusion_plot(y_test, y_pred)"
   ]
  },
  {
   "cell_type": "code",
   "execution_count": 229,
   "metadata": {},
   "outputs": [
    {
     "data": {
      "image/png": "[encoded data removed]",
      "text/plain": [
       "<Figure size 640x480 with 1 Axes>"
      ]
     },
     "metadata": {},
     "output_type": "display_data"
    }
   ],
   "source": [
    "from sklearn.metrics import precision_recall_curve\n",
    "\n",
    "# Calculate y scores\n",
    "y_scores = rf_classifier.predict_proba(X_test_scaled)[:, 1]\n",
    "AUC_plot(y_test, y_scores, precision_recall_curve)"
   ]
  },
  {
   "cell_type": "markdown",
   "metadata": {},
   "source": [
    "## 4.8 Logistic Regression Model\n",
    "\n",
    "Logistic regression is a statistical method used for binary classification tasks. Unlike linear regression, which predicts continuous values, logistic regression predicts the probability of an instance belonging to a particular class. It models the probability of the default class (usually labeled as 1) using the logistic function, also known as the sigmoid function."
   ]
  },
  {
   "cell_type": "code",
   "execution_count": 230,
   "metadata": {},
   "outputs": [
    {
     "name": "stdout",
     "output_type": "stream",
     "text": [
      "Accuracy: 0.8040268456375839\n",
      "Classification Report:\n",
      "              precision    recall  f1-score   support\n",
      "\n",
      "           0       0.76      0.88      0.82       369\n",
      "           1       0.86      0.73      0.79       376\n",
      "\n",
      "    accuracy                           0.80       745\n",
      "   macro avg       0.81      0.80      0.80       745\n",
      "weighted avg       0.81      0.80      0.80       745\n",
      "\n"
     ]
    }
   ],
   "source": [
    "from sklearn.linear_model import LogisticRegression\n",
    "from sklearn.metrics import accuracy_score, classification_report\n",
    "\n",
    "# Initialize the model\n",
    "logestic_model = LogisticRegression()\n",
    "\n",
    "# Train the model\n",
    "logestic_model.fit(X_train_scaled, y_train)\n",
    "\n",
    "# Make predictions\n",
    "y_pred = logestic_model.predict(X_test_scaled)\n",
    "\n",
    "# Evaluate the model\n",
    "accuracy = accuracy_score(y_test, y_pred)\n",
    "print(\"Accuracy:\", accuracy)\n",
    "\n",
    "print(\"Classification Report:\")\n",
    "print(classification_report(y_test, y_pred))"
   ]
  },
  {
   "cell_type": "markdown",
   "metadata": {},
   "source": [
    "The Logistic Regression model achieved an accuracy of 80%, indicating that it correctly classified 80% of all instances in the dataset.\n",
    "\n",
    "The precision of the Logistic Regression model varied for different classes. For class 0 (indicating no-click), the model achieved a precision of 76%. This means that when the model predicted no-click, it was correct 76% of the time. On the other hand, for class 1 (indicating click), the precision was 86%, indicating that the model correctly predicted click 86% of the time.\n",
    "\n",
    "The Logistic Regression model demonstrated high precision for both classes, with a slightly higher precision for class 1 compared to class 0. This indicates that the model was effective at predicting both instances where users did not click on the ads and instances where users clicked on the ads.\n",
    "\n",
    "In conclusion, the Logistic Regression model showed strong performance in predicting user clicks on ads. With an accuracy of 80% and high precision for both classes, the model effectively differentiated between instances of user clicks and no-clicks on the ads."
   ]
  },
  {
   "cell_type": "code",
   "execution_count": 231,
   "metadata": {},
   "outputs": [
    {
     "data": {
      "image/png": "[encoded data removed]",
      "text/plain": [
       "<Figure size 640x480 with 2 Axes>"
      ]
     },
     "metadata": {},
     "output_type": "display_data"
    }
   ],
   "source": [
    "confusion_plot(y_test, y_pred)"
   ]
  },
  {
   "cell_type": "code",
   "execution_count": 232,
   "metadata": {},
   "outputs": [
    {
     "data": {
      "image/png": "[encoded data removed]",
      "text/plain": [
       "<Figure size 640x480 with 1 Axes>"
      ]
     },
     "metadata": {},
     "output_type": "display_data"
    }
   ],
   "source": [
    "from sklearn.metrics import roc_curve\n",
    "\n",
    "# Calculate y scores\n",
    "y_scores = logestic_model.predict_proba(X_test_scaled)[:, 1]\n",
    "AUC_plot(y_test, y_scores, roc_curve)"
   ]
  },
  {
   "cell_type": "markdown",
   "metadata": {},
   "source": [
    "## 4.9 Support Vector Regression (SVR) \n",
    "\n",
    "Support Vector Regression (SVR) is a type of support vector machine (SVM) algorithm that is used for regression analysis. Similar to SVM for classification, SVR is based on the concept of finding a hyperplane that best fits the data. However, instead of finding the hyperplane that best separates the classes, SVR finds the hyperplane that best fits the data points within a specified margin, called ε-insensitive tube.\n",
    "\n",
    "In this code, we implement a Support Vector Machine (SVM) model using the sigmoid kernel for binary classification. SVMs are powerful supervised learning models used for classification and regression tasks. The sigmoid kernel is particularly useful when the data is not linearly separable."
   ]
  },
  {
   "cell_type": "code",
   "execution_count": 233,
   "metadata": {},
   "outputs": [
    {
     "name": "stdout",
     "output_type": "stream",
     "text": [
      "Accuracy: 0.7731543624161074\n",
      "Classification Report:\n",
      "              precision    recall  f1-score   support\n",
      "\n",
      "           0       0.72      0.88      0.79       369\n",
      "           1       0.85      0.67      0.75       376\n",
      "\n",
      "    accuracy                           0.77       745\n",
      "   macro avg       0.79      0.77      0.77       745\n",
      "weighted avg       0.79      0.77      0.77       745\n",
      "\n"
     ]
    }
   ],
   "source": [
    "from sklearn.svm import SVC\n",
    "from sklearn.metrics import accuracy_score, classification_report\n",
    "\n",
    "# Create SVC model\n",
    "model = SVC(kernel='sigmoid')\n",
    "\n",
    "# Train the model\n",
    "model.fit(X_train_scaled, y_train)\n",
    "\n",
    "# Make predictions\n",
    "y_test_pred = model.predict(X_test_scaled)\n",
    "\n",
    "# Evaluate the model\n",
    "test_accuracy = accuracy_score(y_test, y_test_pred)\n",
    "\n",
    "print(\"Accuracy:\", test_accuracy)\n",
    "\n",
    "print(\"Classification Report:\")\n",
    "print(classification_report(y_test, y_test_pred))\n"
   ]
  },
  {
   "cell_type": "markdown",
   "metadata": {},
   "source": [
    "The SVR model achieved an accuracy of 77%, indicating that it correctly classified 77% of all instances in the dataset.\n",
    "\n",
    "The precision of the SVR model varied for different classes. For class 0 (indicating no-click), the model achieved a precision of 72%. This means that when the model predicted no-click, it was correct 72% of the time. Conversely, for class 1 (indicating click), the precision was 85%, indicating that the model correctly predicted click 85% of the time.\n",
    "\n",
    "The SVR model demonstrated a relatively balanced precision for both classes, although it showed a slightly higher precision for class 1 compared to class 0. This suggests that the model was effective at predicting instances where users clicked on the ads, with a slightly lower precision for instances where users did not click."
   ]
  },
  {
   "cell_type": "code",
   "execution_count": 234,
   "metadata": {},
   "outputs": [
    {
     "data": {
      "image/png": "[encoded data removed]",
      "text/plain": [
       "<Figure size 640x480 with 2 Axes>"
      ]
     },
     "metadata": {},
     "output_type": "display_data"
    }
   ],
   "source": [
    "confusion_plot(y_test, y_test_pred)"
   ]
  },
  {
   "cell_type": "markdown",
   "metadata": {},
   "source": [
    "## 4.10 Convolutional Neural Network Model\n",
    "\n",
    "A Convolutional Neural Network (CNN) is a type of deep learning model that is widely used for image classification, object detection, and other tasks related to image analysis.\n",
    "\n",
    "Structure of a CNN\n",
    "1. Convolutional Layers: These layers consist of a set of filters (kernels) that are convolved with the input data to produce feature maps. Each filter captures different features from the input image.\n",
    "\n",
    "2. Pooling Layers: Pooling layers are used to reduce the spatial dimensions of the feature maps while retaining important information. The most common type of pooling is max pooling, where the maximum value within a small window is retained.\n",
    "\n",
    "3. Fully Connected Layers: After several convolutional and pooling layers, the feature maps are flattened and passed through one or more fully connected layers. These layers act as a classifier and make predictions based on the features extracted by the convolutional layers.\n",
    "\n",
    "4. Activation Functions: Activation functions introduce non-linearity to the model. Common activation functions include ReLU (Rectified Linear Unit) and Sigmoid.\n",
    "\n",
    "***in this project :***\n",
    "\n",
    "- We create a Sequential model.\n",
    "\n",
    "- We add two convolutional layers with ReLU activation and max pooling layers to extract features from the input images.\n",
    "\n",
    "- We add a flatten layer to convert the 2D features into a 1D vector.\n",
    "\n",
    "- We add a dense layer with ReLU activation and a dropout layer to prevent overfitting.\n",
    "\n",
    "- Finally, we add an output layer with one neuron and a sigmoid activation function for binary classification.\n"
   ]
  },
  {
   "cell_type": "code",
   "execution_count": 235,
   "metadata": {},
   "outputs": [
    {
     "data": {
      "text/html": [
       "<pre style=\"white-space:pre;overflow-x:auto;line-height:normal;font-family:Menlo,'DejaVu Sans Mono',consolas,'Courier New',monospace\"><span style=\"font-weight: bold\">Model: \"sequential_1\"</span>\n",
       "</pre>\n"
      ],
      "text/plain": [
       "\u001b[1mModel: \"sequential_1\"\u001b[0m\n"
      ]
     },
     "metadata": {},
     "output_type": "display_data"
    },
    {
     "data": {
      "text/html": [
       "<pre style=\"white-space:pre;overflow-x:auto;line-height:normal;font-family:Menlo,'DejaVu Sans Mono',consolas,'Courier New',monospace\">┏━━━━━━━━━━━━━━━━━━━━━━━━━━━━━━━━━┳━━━━━━━━━━━━━━━━━━━━━━━━┳━━━━━━━━━━━━━━━┓\n",
       "┃<span style=\"font-weight: bold\"> Layer (type)                    </span>┃<span style=\"font-weight: bold\"> Output Shape           </span>┃<span style=\"font-weight: bold\">       Param # </span>┃\n",
       "┡━━━━━━━━━━━━━━━━━━━━━━━━━━━━━━━━━╇━━━━━━━━━━━━━━━━━━━━━━━━╇━━━━━━━━━━━━━━━┩\n",
       "│ conv1d (<span style=\"color: #0087ff; text-decoration-color: #0087ff\">Conv1D</span>)                 │ (<span style=\"color: #00d7ff; text-decoration-color: #00d7ff\">None</span>, <span style=\"color: #00af00; text-decoration-color: #00af00\">271</span>, <span style=\"color: #00af00; text-decoration-color: #00af00\">32</span>)        │           <span style=\"color: #00af00; text-decoration-color: #00af00\">128</span> │\n",
       "├─────────────────────────────────┼────────────────────────┼───────────────┤\n",
       "│ max_pooling1d (<span style=\"color: #0087ff; text-decoration-color: #0087ff\">MaxPooling1D</span>)    │ (<span style=\"color: #00d7ff; text-decoration-color: #00d7ff\">None</span>, <span style=\"color: #00af00; text-decoration-color: #00af00\">135</span>, <span style=\"color: #00af00; text-decoration-color: #00af00\">32</span>)        │             <span style=\"color: #00af00; text-decoration-color: #00af00\">0</span> │\n",
       "├─────────────────────────────────┼────────────────────────┼───────────────┤\n",
       "│ flatten_1 (<span style=\"color: #0087ff; text-decoration-color: #0087ff\">Flatten</span>)             │ (<span style=\"color: #00d7ff; text-decoration-color: #00d7ff\">None</span>, <span style=\"color: #00af00; text-decoration-color: #00af00\">4320</span>)           │             <span style=\"color: #00af00; text-decoration-color: #00af00\">0</span> │\n",
       "├─────────────────────────────────┼────────────────────────┼───────────────┤\n",
       "│ dense_2 (<span style=\"color: #0087ff; text-decoration-color: #0087ff\">Dense</span>)                 │ (<span style=\"color: #00d7ff; text-decoration-color: #00d7ff\">None</span>, <span style=\"color: #00af00; text-decoration-color: #00af00\">128</span>)            │       <span style=\"color: #00af00; text-decoration-color: #00af00\">553,088</span> │\n",
       "├─────────────────────────────────┼────────────────────────┼───────────────┤\n",
       "│ dropout (<span style=\"color: #0087ff; text-decoration-color: #0087ff\">Dropout</span>)               │ (<span style=\"color: #00d7ff; text-decoration-color: #00d7ff\">None</span>, <span style=\"color: #00af00; text-decoration-color: #00af00\">128</span>)            │             <span style=\"color: #00af00; text-decoration-color: #00af00\">0</span> │\n",
       "├─────────────────────────────────┼────────────────────────┼───────────────┤\n",
       "│ dense_3 (<span style=\"color: #0087ff; text-decoration-color: #0087ff\">Dense</span>)                 │ (<span style=\"color: #00d7ff; text-decoration-color: #00d7ff\">None</span>, <span style=\"color: #00af00; text-decoration-color: #00af00\">1</span>)              │           <span style=\"color: #00af00; text-decoration-color: #00af00\">129</span> │\n",
       "└─────────────────────────────────┴────────────────────────┴───────────────┘\n",
       "</pre>\n"
      ],
      "text/plain": [
       "┏━━━━━━━━━━━━━━━━━━━━━━━━━━━━━━━━━┳━━━━━━━━━━━━━━━━━━━━━━━━┳━━━━━━━━━━━━━━━┓\n",
       "┃\u001b[1m \u001b[0m\u001b[1mLayer (type)                   \u001b[0m\u001b[1m \u001b[0m┃\u001b[1m \u001b[0m\u001b[1mOutput Shape          \u001b[0m\u001b[1m \u001b[0m┃\u001b[1m \u001b[0m\u001b[1m      Param #\u001b[0m\u001b[1m \u001b[0m┃\n",
       "┡━━━━━━━━━━━━━━━━━━━━━━━━━━━━━━━━━╇━━━━━━━━━━━━━━━━━━━━━━━━╇━━━━━━━━━━━━━━━┩\n",
       "│ conv1d (\u001b[38;5;33mConv1D\u001b[0m)                 │ (\u001b[38;5;45mNone\u001b[0m, \u001b[38;5;34m271\u001b[0m, \u001b[38;5;34m32\u001b[0m)        │           \u001b[38;5;34m128\u001b[0m │\n",
       "├─────────────────────────────────┼────────────────────────┼───────────────┤\n",
       "│ max_pooling1d (\u001b[38;5;33mMaxPooling1D\u001b[0m)    │ (\u001b[38;5;45mNone\u001b[0m, \u001b[38;5;34m135\u001b[0m, \u001b[38;5;34m32\u001b[0m)        │             \u001b[38;5;34m0\u001b[0m │\n",
       "├─────────────────────────────────┼────────────────────────┼───────────────┤\n",
       "│ flatten_1 (\u001b[38;5;33mFlatten\u001b[0m)             │ (\u001b[38;5;45mNone\u001b[0m, \u001b[38;5;34m4320\u001b[0m)           │             \u001b[38;5;34m0\u001b[0m │\n",
       "├─────────────────────────────────┼────────────────────────┼───────────────┤\n",
       "│ dense_2 (\u001b[38;5;33mDense\u001b[0m)                 │ (\u001b[38;5;45mNone\u001b[0m, \u001b[38;5;34m128\u001b[0m)            │       \u001b[38;5;34m553,088\u001b[0m │\n",
       "├─────────────────────────────────┼────────────────────────┼───────────────┤\n",
       "│ dropout (\u001b[38;5;33mDropout\u001b[0m)               │ (\u001b[38;5;45mNone\u001b[0m, \u001b[38;5;34m128\u001b[0m)            │             \u001b[38;5;34m0\u001b[0m │\n",
       "├─────────────────────────────────┼────────────────────────┼───────────────┤\n",
       "│ dense_3 (\u001b[38;5;33mDense\u001b[0m)                 │ (\u001b[38;5;45mNone\u001b[0m, \u001b[38;5;34m1\u001b[0m)              │           \u001b[38;5;34m129\u001b[0m │\n",
       "└─────────────────────────────────┴────────────────────────┴───────────────┘\n"
      ]
     },
     "metadata": {},
     "output_type": "display_data"
    },
    {
     "data": {
      "text/html": [
       "<pre style=\"white-space:pre;overflow-x:auto;line-height:normal;font-family:Menlo,'DejaVu Sans Mono',consolas,'Courier New',monospace\"><span style=\"font-weight: bold\"> Total params: </span><span style=\"color: #00af00; text-decoration-color: #00af00\">553,345</span> (2.11 MB)\n",
       "</pre>\n"
      ],
      "text/plain": [
       "\u001b[1m Total params: \u001b[0m\u001b[38;5;34m553,345\u001b[0m (2.11 MB)\n"
      ]
     },
     "metadata": {},
     "output_type": "display_data"
    },
    {
     "data": {
      "text/html": [
       "<pre style=\"white-space:pre;overflow-x:auto;line-height:normal;font-family:Menlo,'DejaVu Sans Mono',consolas,'Courier New',monospace\"><span style=\"font-weight: bold\"> Trainable params: </span><span style=\"color: #00af00; text-decoration-color: #00af00\">553,345</span> (2.11 MB)\n",
       "</pre>\n"
      ],
      "text/plain": [
       "\u001b[1m Trainable params: \u001b[0m\u001b[38;5;34m553,345\u001b[0m (2.11 MB)\n"
      ]
     },
     "metadata": {},
     "output_type": "display_data"
    },
    {
     "data": {
      "text/html": [
       "<pre style=\"white-space:pre;overflow-x:auto;line-height:normal;font-family:Menlo,'DejaVu Sans Mono',consolas,'Courier New',monospace\"><span style=\"font-weight: bold\"> Non-trainable params: </span><span style=\"color: #00af00; text-decoration-color: #00af00\">0</span> (0.00 B)\n",
       "</pre>\n"
      ],
      "text/plain": [
       "\u001b[1m Non-trainable params: \u001b[0m\u001b[38;5;34m0\u001b[0m (0.00 B)\n"
      ]
     },
     "metadata": {},
     "output_type": "display_data"
    }
   ],
   "source": [
    "from tensorflow.keras.models import Sequential\n",
    "from tensorflow.keras.layers import Conv1D, MaxPooling1D, Flatten, Dense, Dropout, Input\n",
    "from tensorflow.keras.callbacks import ModelCheckpoint\n",
    "from tensorflow.keras.callbacks import EarlyStopping\n",
    "\n",
    "\n",
    "# Reshape the input data to 3D (batch_size, timesteps, input_dim)\n",
    "X_train_reshaped = X_train_scaled.reshape(X_train_scaled.shape[0], X_train_scaled.shape[1], 1)\n",
    "\n",
    "# Define input shape\n",
    "input_shape = (X_train_reshaped.shape[1], X_train_reshaped.shape[2])\n",
    "\n",
    "# Create CNN model     , input_shape=(X_trainVal_reshaped.shape[1], 1))\n",
    "model = Sequential()\n",
    "model.add(Input(shape=input_shape))\n",
    "model.add(Conv1D(32, kernel_size=3, activation='relu'))\n",
    "model.add(MaxPooling1D(pool_size=2))\n",
    "model.add(Flatten())\n",
    "model.add(Dense(128, activation='relu'))\n",
    "model.add(Dropout(0.5))\n",
    "model.add(Dense(1, activation='sigmoid'))\n",
    "\n",
    "# Compile the model\n",
    "model.compile(optimizer='adam', loss='binary_crossentropy', metrics=['accuracy'])\n",
    "\n",
    "\n",
    "model.summary()"
   ]
  },
  {
   "cell_type": "code",
   "execution_count": 236,
   "metadata": {},
   "outputs": [
    {
     "name": "stdout",
     "output_type": "stream",
     "text": [
      "Epoch 1/10\n",
      "\u001b[1m75/75\u001b[0m \u001b[32m━━━━━━━━━━━━━━━━━━━━\u001b[0m\u001b[37m\u001b[0m \u001b[1m0s\u001b[0m 20ms/step - accuracy: 0.6781 - loss: 0.6048\n",
      "Epoch 1: val_accuracy improved from -inf to 0.81376, saving model to my_model.keras\n",
      "\u001b[1m75/75\u001b[0m \u001b[32m━━━━━━━━━━━━━━━━━━━━\u001b[0m\u001b[37m\u001b[0m \u001b[1m6s\u001b[0m 31ms/step - accuracy: 0.6789 - loss: 0.6039 - val_accuracy: 0.8138 - val_loss: 0.4182\n",
      "Epoch 2/10\n",
      "\u001b[1m60/75\u001b[0m \u001b[32m━━━━━━━━━━━━━━━━\u001b[0m\u001b[37m━━━━\u001b[0m \u001b[1m0s\u001b[0m 19ms/step - accuracy: 0.8068 - loss: 0.4274"
     ]
    },
    {
     "name": "stdout",
     "output_type": "stream",
     "text": [
      "\u001b[1m74/75\u001b[0m \u001b[32m━━━━━━━━━━━━━━━━━━━\u001b[0m\u001b[37m━\u001b[0m \u001b[1m0s\u001b[0m 19ms/step - accuracy: 0.8081 - loss: 0.4238\n",
      "Epoch 2: val_accuracy improved from 0.81376 to 0.82886, saving model to my_model.keras\n",
      "\u001b[1m75/75\u001b[0m \u001b[32m━━━━━━━━━━━━━━━━━━━━\u001b[0m\u001b[37m\u001b[0m \u001b[1m2s\u001b[0m 27ms/step - accuracy: 0.8082 - loss: 0.4234 - val_accuracy: 0.8289 - val_loss: 0.3869\n",
      "Epoch 3/10\n",
      "\u001b[1m75/75\u001b[0m \u001b[32m━━━━━━━━━━━━━━━━━━━━\u001b[0m\u001b[37m\u001b[0m \u001b[1m0s\u001b[0m 17ms/step - accuracy: 0.8249 - loss: 0.3772\n",
      "Epoch 3: val_accuracy did not improve from 0.82886\n",
      "\u001b[1m75/75\u001b[0m \u001b[32m━━━━━━━━━━━━━━━━━━━━\u001b[0m\u001b[37m\u001b[0m \u001b[1m2s\u001b[0m 18ms/step - accuracy: 0.8250 - loss: 0.3769 - val_accuracy: 0.8289 - val_loss: 0.3842\n",
      "Epoch 4/10\n",
      "\u001b[1m75/75\u001b[0m \u001b[32m━━━━━━━━━━━━━━━━━━━━\u001b[0m\u001b[37m\u001b[0m \u001b[1m0s\u001b[0m 21ms/step - accuracy: 0.8373 - loss: 0.3649\n",
      "Epoch 4: val_accuracy improved from 0.82886 to 0.83893, saving model to my_model.keras\n",
      "\u001b[1m75/75\u001b[0m \u001b[32m━━━━━━━━━━━━━━━━━━━━\u001b[0m\u001b[37m\u001b[0m \u001b[1m2s\u001b[0m 24ms/step - accuracy: 0.8374 - loss: 0.3646 - val_accuracy: 0.8389 - val_loss: 0.3637\n",
      "Epoch 5/10\n",
      "\u001b[1m73/75\u001b[0m \u001b[32m━━━━━━━━━━━━━━━━━━━\u001b[0m\u001b[37m━\u001b[0m \u001b[1m0s\u001b[0m 19ms/step - accuracy: 0.8433 - loss: 0.3433\n",
      "Epoch 5: val_accuracy improved from 0.83893 to 0.84396, saving model to my_model.keras\n",
      "\u001b[1m75/75\u001b[0m \u001b[32m━━━━━━━━━━━━━━━━━━━━\u001b[0m\u001b[37m\u001b[0m \u001b[1m2s\u001b[0m 22ms/step - accuracy: 0.8435 - loss: 0.3424 - val_accuracy: 0.8440 - val_loss: 0.3712\n",
      "Epoch 6/10\n",
      "\u001b[1m72/75\u001b[0m \u001b[32m━━━━━━━━━━━━━━━━━━━\u001b[0m\u001b[37m━\u001b[0m \u001b[1m0s\u001b[0m 19ms/step - accuracy: 0.8649 - loss: 0.3152\n",
      "Epoch 6: val_accuracy improved from 0.84396 to 0.84732, saving model to my_model.keras\n",
      "\u001b[1m75/75\u001b[0m \u001b[32m━━━━━━━━━━━━━━━━━━━━\u001b[0m\u001b[37m\u001b[0m \u001b[1m2s\u001b[0m 21ms/step - accuracy: 0.8648 - loss: 0.3148 - val_accuracy: 0.8473 - val_loss: 0.3610\n",
      "Epoch 7/10\n",
      "\u001b[1m74/75\u001b[0m \u001b[32m━━━━━━━━━━━━━━━━━━━\u001b[0m\u001b[37m━\u001b[0m \u001b[1m0s\u001b[0m 14ms/step - accuracy: 0.8639 - loss: 0.3081\n",
      "Epoch 7: val_accuracy did not improve from 0.84732\n",
      "\u001b[1m75/75\u001b[0m \u001b[32m━━━━━━━━━━━━━━━━━━━━\u001b[0m\u001b[37m\u001b[0m \u001b[1m1s\u001b[0m 16ms/step - accuracy: 0.8642 - loss: 0.3076 - val_accuracy: 0.8473 - val_loss: 0.3669\n",
      "Epoch 8/10\n",
      "\u001b[1m74/75\u001b[0m \u001b[32m━━━━━━━━━━━━━━━━━━━\u001b[0m\u001b[37m━\u001b[0m \u001b[1m0s\u001b[0m 15ms/step - accuracy: 0.8673 - loss: 0.2929\n",
      "Epoch 8: val_accuracy improved from 0.84732 to 0.84899, saving model to my_model.keras\n",
      "\u001b[1m75/75\u001b[0m \u001b[32m━━━━━━━━━━━━━━━━━━━━\u001b[0m\u001b[37m\u001b[0m \u001b[1m1s\u001b[0m 18ms/step - accuracy: 0.8677 - loss: 0.2922 - val_accuracy: 0.8490 - val_loss: 0.3638\n",
      "Epoch 9/10\n",
      "\u001b[1m73/75\u001b[0m \u001b[32m━━━━━━━━━━━━━━━━━━━\u001b[0m\u001b[37m━\u001b[0m \u001b[1m0s\u001b[0m 13ms/step - accuracy: 0.8782 - loss: 0.2699\n",
      "Epoch 9: val_accuracy did not improve from 0.84899\n",
      "\u001b[1m75/75\u001b[0m \u001b[32m━━━━━━━━━━━━━━━━━━━━\u001b[0m\u001b[37m\u001b[0m \u001b[1m1s\u001b[0m 15ms/step - accuracy: 0.8786 - loss: 0.2694 - val_accuracy: 0.8406 - val_loss: 0.3578\n",
      "Epoch 10/10\n",
      "\u001b[1m72/75\u001b[0m \u001b[32m━━━━━━━━━━━━━━━━━━━\u001b[0m\u001b[37m━\u001b[0m \u001b[1m0s\u001b[0m 16ms/step - accuracy: 0.8877 - loss: 0.2528\n",
      "Epoch 10: val_accuracy improved from 0.84899 to 0.85235, saving model to my_model.keras\n",
      "\u001b[1m75/75\u001b[0m \u001b[32m━━━━━━━━━━━━━━━━━━━━\u001b[0m\u001b[37m\u001b[0m \u001b[1m1s\u001b[0m 18ms/step - accuracy: 0.8878 - loss: 0.2523 - val_accuracy: 0.8523 - val_loss: 0.3617\n"
     ]
    }
   ],
   "source": [
    "checking = ModelCheckpoint('my_model.keras', save_best_only=True, monitor='val_accuracy', mode='max', verbose=1)\n",
    "\n",
    "early_stop = EarlyStopping(monitor='val_loss', patience=3, restore_best_weights=True)\n",
    "\n",
    "# Train the model\n",
    "history = model.fit(X_train_reshaped, y_train, epochs=10, batch_size=32, validation_split=0.2, callbacks=[early_stop, checking])"
   ]
  },
  {
   "cell_type": "code",
   "execution_count": 237,
   "metadata": {},
   "outputs": [
    {
     "name": "stdout",
     "output_type": "stream",
     "text": [
      "\u001b[1m23/24\u001b[0m \u001b[32m━━━━━━━━━━━━━━━━━━━\u001b[0m\u001b[37m━\u001b[0m \u001b[1m0s\u001b[0m 5ms/step"
     ]
    },
    {
     "name": "stdout",
     "output_type": "stream",
     "text": [
      "\u001b[1m24/24\u001b[0m \u001b[32m━━━━━━━━━━━━━━━━━━━━\u001b[0m\u001b[37m\u001b[0m \u001b[1m0s\u001b[0m 9ms/step\n",
      "Test Accuracy: 0.8402684563758389\n",
      "              precision    recall  f1-score   support\n",
      "\n",
      "           0       0.81      0.89      0.85       369\n",
      "           1       0.88      0.80      0.83       376\n",
      "\n",
      "    accuracy                           0.84       745\n",
      "   macro avg       0.84      0.84      0.84       745\n",
      "weighted avg       0.84      0.84      0.84       745\n",
      "\n"
     ]
    }
   ],
   "source": [
    "X_test_reshaped = X_test_scaled.reshape(X_test_scaled.shape[0], X_test_scaled.shape[1], 1)\n",
    "\n",
    "# Evaluate the model\n",
    "y_test_pred = model.predict(X_test_reshaped)\n",
    "y_test_pred = (y_test_pred > 0.5).astype(\"int32\")\n",
    "\n",
    "accuracy = accuracy_score(y_test, y_test_pred)\n",
    "\n",
    "print(\"Test Accuracy:\", accuracy)\n",
    "print(classification_report(y_test, y_test_pred))"
   ]
  },
  {
   "cell_type": "markdown",
   "metadata": {},
   "source": [
    "The CNN model achieved an accuracy of 82%, indicating that it correctly classified 82% of all instances in the dataset.\n",
    "\n",
    "The precision of the CNN model varied for different classes. For class 0 (indicating no-click), the model achieved a precision of 72%. This means that when the model predicted no-click, it was correct 72% of the time. Conversely, for class 1 (indicating click), the precision was 85%, indicating that the model correctly predicted click 85% of the time.\n",
    "\n",
    "The CNN model demonstrated a slightly higher precision for class 1 (click) compared to class 0 (no-click). This suggests that the model was more effective at predicting instances where users clicked on the ads compared to instances where users did not click."
   ]
  },
  {
   "cell_type": "code",
   "execution_count": 238,
   "metadata": {},
   "outputs": [
    {
     "data": {
      "image/png": "[encoded data removed]",
      "text/plain": [
       "<Figure size 640x480 with 2 Axes>"
      ]
     },
     "metadata": {},
     "output_type": "display_data"
    }
   ],
   "source": [
    "confusion_plot(y_test, y_test_pred)"
   ]
  },
  {
   "cell_type": "markdown",
   "metadata": {},
   "source": [
    "- ### `Plot Learning Curve`\n",
    "In this project, we implemented a learning curve plot to visualize the performance of our machine learning model. A learning curve shows the training and validation scores (e.g., accuracy, loss) of a model on the training dataset as a function of the number of training examples. This helps us understand how well our model is learning as we increase the size of the training dataset.\n",
    "\n",
    "To create the learning curve, we used the learning_curve function from scikit-learn. However, since our model is implemented using Keras, we encountered an error because the Sequential model does not have a score method required by the learning_curve function.\n",
    "\n",
    "To resolve this issue, we modified the code to use the history object returned by the fit method of our Keras model. The history object contains the training and validation metrics for each epoch. We then plotted the training and validation accuracy against the number of epochs using matplotlib.\n",
    "\n",
    "By visualizing the learning curve, we gained insights into how well our model is learning from the training data and whether it is overfitting or underfitting. This helps us make informed decisions about model training and optimization."
   ]
  },
  {
   "cell_type": "code",
   "execution_count": 239,
   "metadata": {},
   "outputs": [
    {
     "data": {
      "image/png": "[encoded data removed]",
      "text/plain": [
       "<Figure size 1000x600 with 1 Axes>"
      ]
     },
     "metadata": {},
     "output_type": "display_data"
    }
   ],
   "source": [
    "import matplotlib.pyplot as plt\n",
    "\n",
    "train_scores = history.history['accuracy']\n",
    "validation_scores = history.history['val_accuracy']\n",
    "epochs = range(1, len(train_scores) + 1)\n",
    "\n",
    "plt.figure(figsize=(10, 6))\n",
    "plt.plot(epochs, train_scores, label='Training accuracy')\n",
    "plt.plot(epochs, validation_scores, label='Validation accuracy')\n",
    "plt.xlabel('Epochs')\n",
    "plt.ylabel('Accuracy')\n",
    "plt.title('Learning Curve')\n",
    "plt.legend(loc='best')\n",
    "plt.grid()\n",
    "plt.show()\n"
   ]
  },
  {
   "cell_type": "markdown",
   "metadata": {},
   "source": [
    "----\n",
    "# 5. Evaluation\n",
    "\n",
    "In this project i use 5 different method to predict the target:\n",
    "\n",
    "| Models                                | Accuracy % | Precision 0 | Precision 1 |\n",
    "| :-------                              | :----:     | :----:      | :----:      |\n",
    "| 1. Naive Bayes                        | 57         | 85          | 55          |\n",
    "| 2. Random Forest Classifier           | 87         | 85          | 90          |\n",
    "| 3. Logistic Regression Model          | 80         | 76          | 86          |\n",
    "| 4. Support Vector Regression (SVR)    | 77         | 72          | 85           |\n",
    "| 5. Convolutional Neural Network Model | 82         | 72          | 85           |\n",
    "\n",
    "Accuracy is a commonly used metric to evaluate the performance of machine learning models. However, it may not always provide a comprehensive understanding of a model's performance, especially when dealing with imbalanced datasets, like in our case.\n",
    "\n",
    "Therefore, we must consider other metrics such as precision, recall, and F1-score, which provide insights into a model's ability to correctly classify both classes. Precision measures the number of true positives divided by the total number of true positives and false positives. Recall, on the other hand, measures the number of true positives divided by the total number of true positives and false negatives. The F1-score is the harmonic mean of precision and recall.\n",
    "\n",
    "In our project, we used five different models to predict clicks on ads: Naive Bayes, Random Forest, Logistic Regression, Support Vector Regression (SVR), and Convolutional Neural Network (CNN). While accuracy is a valuable metric, it doesn't tell the full story. For example, in an imbalanced dataset where one class is significantly more prevalent than the other, a model that predicts the majority class for every instance might achieve a high accuracy, but it fails to predict the minority class.\n",
    "\n",
    "***`Naive Bayes`*** The Naive Bayes classifier achieved an accuracy of 57%, with a precision of 85% for class 0 (no-click) and 55% for class 1 (click). Despite its simplicity, this model performed reasonably well, particularly in predicting instances where users did not click on the ads.\n",
    "\n",
    "***`The Random Forest Classifier`*** The Random Forest classifier demonstrated significant improvement over the Naive Bayes model, with an accuracy of 87%. It showed balanced precision for both classes, with 85% for class 0 and 90% for class 1, indicating a robust performance in predicting both click and no-click instances.\n",
    "\n",
    "***`Logistic Regression`*** The Logistic Regression model achieved an accuracy of 80%, with a precision of 76% for class 0 and 86% for class 1. While the precision for click instances was high, the model showed slightly lower precision for no-click instances compared to the Random Forest model.\n",
    "\n",
    "***`SVR`*** The Support Vector Regression (SVR) model achieved an accuracy of 77%, with a precision of 72% for class 0 and 85% for class 1. Despite its lower accuracy compared to other models, SVR showed a balanced precision for both classes, making it a reliable choice for predicting user clicks on ads.\n",
    "\n",
    "***`The CNN model`*** The CNN model demonstrated promising results, with an accuracy of 82%. It showed balanced precision for both click and no-click instances, with 72% for class 0 and 85% for class 1. The CNN model's performance suggests its effectiveness in distinguishing between click and no-click instances.\n",
    "\n",
    "In conclusion, the `Random Forest classifier` outperformed other models with an accuracy of 87% and balanced precision for both click and no-click instances. However, the `CNN model` also showed promising results, indicating the potential of deep learning approaches in predicting user clicks on ads."
   ]
  },
  {
   "cell_type": "markdown",
   "metadata": {},
   "source": [
    "----\n",
    "# 6. Visualizing User Behavior Data\n",
    "\n",
    "In this project, I created an image representation of user behavior data to visualize how users interact with online ads.\n",
    "\n",
    "To achieve this, I mapped user behavior data onto a two-dimensional grid representing the dimensions of the webpage. Each cell in the grid corresponds to a specific region on the webpage, and the intensity of the color in each cell indicates the time.\n",
    "\n",
    "Using the Python Imaging Library (PIL), I converted the grid into an image, which was then used as input for a Convolutional Neural Network (CNN) model.\n",
    "\n",
    "The CNN model was designed to learn patterns and features from these images to predict whether a user would click on an ad or not.\n",
    "\n",
    "By analyzing the CNN model's predictions, I gained valuable insights into how different regions of the webpage contribute to user engagement and ad click-through rates.\n",
    "\n",
    "***Visualizing user behavior data helps us:***\n",
    "- Identify common user paths and navigation patterns.\n",
    "\n",
    "- Detect areas of the website that receive the most attention.\n",
    "- Analyze the effectiveness of website features and layout.\n",
    "- Identify user interaction anomalies or usability issues.\n",
    "\n"
   ]
  },
  {
   "cell_type": "markdown",
   "metadata": {},
   "source": [
    "## 6.1 Functions\n",
    "\n",
    "We have defined the useful functions that we need in the following sections here."
   ]
  },
  {
   "cell_type": "markdown",
   "metadata": {},
   "source": [
    "- ### `Diplay Image Generated`\n",
    "\n",
    "At each stage, a feature is added to the image that we need to display with the help of this function."
   ]
  },
  {
   "cell_type": "code",
   "execution_count": 253,
   "metadata": {},
   "outputs": [],
   "source": [
    "import matplotlib.pyplot as plt\n",
    "\n",
    "def display_images(images,target):\n",
    "    names = [\"Success\", \"Fail\"]\n",
    "    keys = list(images.keys())\n",
    "    random = np.random.randint(len(images), size=5)\n",
    "    plt.figure(figsize=(12,8))\n",
    "    i = 1\n",
    "    for n in random:\n",
    "        plt.subplot(1, 5, i)\n",
    "        plt.xticks([])\n",
    "        plt.yticks([])\n",
    "        plt.grid(False)\n",
    "        plt.imshow(images[keys[n]], cmap=plt.cm.binary)\n",
    "        plt.xlabel(names[target[keys[n]]])\n",
    "        i += 1\n",
    "    plt.show()"
   ]
  },
  {
   "cell_type": "markdown",
   "metadata": {},
   "source": [
    "## 6.3 First Empty Image\n",
    "\n",
    "We're using the PIL (Python Imaging Library) to create images that represent user behavior. Each movement is plotted as a line on a white canvas, providing a visual representation of how users interact with the website."
   ]
  },
  {
   "cell_type": "code",
   "execution_count": 254,
   "metadata": {},
   "outputs": [],
   "source": [
    "from PIL import Image, ImageDraw\n",
    "\n",
    "# Create a new image with white background\n",
    "image_width = 800\n",
    "image_height = 800\n",
    "\n",
    "user_images = {}\n",
    "image_ad_clicked = {}\n",
    "\n",
    "for index,row in dataset.iterrows():\n",
    "    img = Image.new(\"RGB\", (image_width, image_height), \"white\")\n",
    "    draw = ImageDraw.Draw(img)\n",
    "    user_images[row[\"log_id\"]] = img\n",
    "    image_ad_clicked[row[\"log_id\"]] = row[\"ad_clicked\"]\n"
   ]
  },
  {
   "cell_type": "markdown",
   "metadata": {},
   "source": [
    "## 6.4 Draw mousemove As Line\n",
    "\n",
    "This code will create an image where each movement is represented by a line connecting consecutive points based on the sample user behavior data."
   ]
  },
  {
   "cell_type": "code",
   "execution_count": 255,
   "metadata": {},
   "outputs": [
    {
     "data": {
      "image/png": "[encoded data removed]",
      "text/plain": [
       "<Figure size 1200x800 with 5 Axes>"
      ]
     },
     "metadata": {},
     "output_type": "display_data"
    }
   ],
   "source": [
    "\n",
    "for index,row in dataset.iterrows():\n",
    "    log_id = row[\"log_id\"]\n",
    "    df = log_csv_df[log_id]\n",
    "    doc_width = row[\"doc_width\"]\n",
    "    doc_height = row[\"doc_height\"]\n",
    "    prev_point = False\n",
    "\n",
    "    img = user_images[row[\"log_id\"]]\n",
    "    # Draw a line\n",
    "    draw = ImageDraw.Draw(img)\n",
    "\n",
    "    for index2,row2 in df.iterrows():\n",
    "        xpos = int((row2[\"xpos\"]/doc_width) * image_width)\n",
    "        ypos = int((row2[\"ypos\"]/doc_height) * image_height)\n",
    "        if row2[\"event\"] == \"mousemove\":\n",
    "            if not prev_point:\n",
    "                prev_point = (xpos, ypos)\n",
    "            else:\n",
    "                point = (xpos, ypos)\n",
    "                draw.line([prev_point, point], fill=(100,0,220), width=3)\n",
    "                prev_point = point\n",
    "\n",
    "display_images(user_images,image_ad_clicked)"
   ]
  },
  {
   "cell_type": "markdown",
   "metadata": {},
   "source": [
    "## 6.5 Draw A Circle AS Click\n",
    "\n",
    " By visualizing user clicks, we can gain insights into which areas of the webpage are most attractive or engaging to users. \n",
    "\n",
    " We Draw every click position by a circle.\n",
    "\n",
    " Note that we have considered three different events such as `mousedown`, `mouseup`, `click` as clicks."
   ]
  },
  {
   "cell_type": "code",
   "execution_count": 256,
   "metadata": {},
   "outputs": [
    {
     "data": {
      "image/png": "[encoded data removed]",
      "text/plain": [
       "<Figure size 1200x800 with 5 Axes>"
      ]
     },
     "metadata": {},
     "output_type": "display_data"
    }
   ],
   "source": [
    "for index,row in dataset.iterrows():\n",
    "    log_id = row[\"log_id\"]\n",
    "    df = log_csv_df[log_id]\n",
    "    doc_width = row[\"doc_width\"]\n",
    "    doc_height = row[\"doc_height\"]\n",
    "    prev_point = False\n",
    "\n",
    "    img = user_images[row[\"log_id\"]]\n",
    "    # Draw a dot\n",
    "    draw = ImageDraw.Draw(img)\n",
    "    radius = 15\n",
    "    color = (51, 204, 51)\n",
    "    for index2,row2 in df.iterrows():\n",
    "        xpos = int((row2[\"xpos\"]/doc_width) * image_width)\n",
    "        ypos = int((row2[\"ypos\"]/doc_height) * image_height)\n",
    "        if row2[\"event\"] in [\"click\",\"mouseup\",\"mousedown\"]:\n",
    "            draw.ellipse((xpos-radius, ypos-radius, xpos+radius, ypos+radius), fill=color)\n",
    "\n",
    "\n",
    "display_images(user_images,image_ad_clicked)"
   ]
  },
  {
   "cell_type": "markdown",
   "metadata": {},
   "source": [
    "## 6.6 Draw A Square For `ad_position` And `ad_type`\n",
    "\n",
    "In our project, we aim to visualize the ad positions and types for each row. To achieve this, we utilize the ad_position and ad_type parameters from our Dataset.\n",
    "\n",
    "This code will draw a red square at the top-left position for the ad positions labeled \"top_left\" and at the top-right position for the ad positions labeled \"top_right\" in the dataset. \n",
    "\n",
    "To represent the ad positions, we draw squares on an image, where each square corresponds to an ad position. Additionally, we differentiate between different types of ads by assigning different colors to the squares.\n",
    "\n",
    " we change the color of the square based on the `ad_type` value.\n",
    "\n",
    " > **update**   \n",
    " I add ad_type to image but result was not good so i remove it from this step.\n"
   ]
  },
  {
   "cell_type": "code",
   "execution_count": 257,
   "metadata": {},
   "outputs": [
    {
     "data": {
      "image/png": "[encoded data removed]",
      "text/plain": [
       "<Figure size 1200x800 with 5 Axes>"
      ]
     },
     "metadata": {},
     "output_type": "display_data"
    }
   ],
   "source": [
    "for index,row in dataset.iterrows():\n",
    "\n",
    "    df = log_csv_df[row[\"log_id\"]]\n",
    "    img = user_images[row[\"log_id\"]]\n",
    "    # Draw a dot\n",
    "    draw = ImageDraw.Draw(img)\n",
    "    color = \"blue\" #(51, 153, 255) if row[\"ad_type\"] else (255, 0, 255)\n",
    "    for index2,row2 in df.iterrows():\n",
    "        space = int(image_width * 0.05)\n",
    "        square_size = int(image_width * 0.1)\n",
    "        if row[\"ad_position\"]:\n",
    "            # Draw the square\n",
    "            draw.rectangle([space, space, square_size, square_size], fill=color)\n",
    "        else:\n",
    "            # Draw the square\n",
    "            draw.rectangle([image_width - square_size - space, space, image_width - space, square_size], fill=color)\n",
    "\n",
    "\n",
    "display_images(user_images,image_ad_clicked)"
   ]
  },
  {
   "cell_type": "markdown",
   "metadata": {},
   "source": [
    "## 6.7 Convert Image To Numpy Array\n",
    "\n",
    "Converting an image to a NumPy array is essential when working with image data in machine learning and deep learning projects.\n",
    "\n",
    "Here are a few reasons why this conversion is necessary:\n",
    "\n",
    "1. Compatibility: Most deep learning libraries, such as TensorFlow and PyTorch, expect input data in the form of NumPy arrays.\n",
    "\n",
    "2. Data Manipulation: NumPy arrays offer efficient and convenient methods for data manipulation, such as normalization, resizing, and cropping.\n",
    "\n",
    "3. Data Preprocessing: NumPy arrays allow you to preprocess image data easily, including scaling pixel values, data augmentation, and converting image color channels.\n",
    "\n",
    "4. Integration with Other Libraries: NumPy arrays can be seamlessly integrated with other Python libraries, making it easier to work with image data alongside other data types."
   ]
  },
  {
   "cell_type": "code",
   "execution_count": 258,
   "metadata": {},
   "outputs": [],
   "source": [
    "import numpy as np\n",
    "\n",
    "new_image_width = 100\n",
    "new_image_height = 100\n",
    "\n",
    "X2 = []\n",
    "y2 = []\n",
    "\n",
    "for index,row in dataset.iterrows():\n",
    "    image = user_images[row[\"log_id\"]]\n",
    "    resized_image = image.resize((new_image_width, new_image_height))\n",
    "\n",
    "    # Convert the image to a numpy array\n",
    "    image_array = np.array(resized_image)\n",
    "\n",
    "    X2.append(image_array)\n",
    "    y2.append(row[\"ad_clicked\"])\n",
    "\n",
    "X2 = np.array([i for i in X2])\n",
    "y2 = np.array([i for i in y2])"
   ]
  },
  {
   "cell_type": "markdown",
   "metadata": {},
   "source": [
    "## 6.8 Clear Session\n",
    "\n",
    "In a Convolutional Neural Network (CNN) model, it's a good practice to clear the session before creating a new model.\n",
    "\n",
    "The Keras API runs on top of TensorFlow, and TensorFlow uses a static computation graph. When you create a new model in Keras without clearing the session, it might lead to memory leaks and slow down your training process."
   ]
  },
  {
   "cell_type": "code",
   "execution_count": 259,
   "metadata": {},
   "outputs": [],
   "source": [
    "from tensorflow.keras import backend \n",
    "import tensorflow as tf\n",
    "\n",
    "tf.random.set_seed(35)\n",
    "backend.clear_session()"
   ]
  },
  {
   "cell_type": "markdown",
   "metadata": {},
   "source": [
    "## 6.9 Split Data"
   ]
  },
  {
   "cell_type": "code",
   "execution_count": 260,
   "metadata": {},
   "outputs": [
    {
     "name": "stdout",
     "output_type": "stream",
     "text": [
      "Shape of features data set for ML models => (2418, 100, 100, 3)\n",
      "Shape of target for ML models => (2418,)\n"
     ]
    }
   ],
   "source": [
    "from sklearn.model_selection import train_test_split\n",
    "\n",
    "# Split the data into train and test sets\n",
    "X_train, X_test, y_train, y_test = train_test_split(X2, y2, test_size=0.2, random_state=42)\n",
    "\n",
    "print(f'Shape of features data set for ML models => {X2.shape}')\n",
    "print(f'Shape of target for ML models => {y2.shape}')"
   ]
  },
  {
   "cell_type": "markdown",
   "metadata": {},
   "source": [
    "## 6.10 CNN Model For Images\n",
    "\n",
    "To utilize user behavior data effectively, we convert it into images, allowing us to apply convolutional neural network (CNN) models for analysis. In this code, we design a CNN model using Keras. We start by defining the input shape based on the dimensions of the images we generated from user behavior data.\n",
    "\n",
    "Our model consists of convolutional layers, pooling layers, and fully connected layers. The convolutional layers use 3x3 filters with ReLU activation functions, followed by max-pooling layers to reduce dimensionality. We stack two pairs of convolutional and pooling layers to extract features from the images effectively.\n",
    "\n",
    "After the convolutional layers, we flatten the 3D arrays into a 1D array and add fully connected layers. Finally, we compile the model using the Adam optimizer and binary cross-entropy loss function. We also specify accuracy as the evaluation metric."
   ]
  },
  {
   "cell_type": "code",
   "execution_count": 261,
   "metadata": {},
   "outputs": [
    {
     "data": {
      "text/html": [
       "<pre style=\"white-space:pre;overflow-x:auto;line-height:normal;font-family:Menlo,'DejaVu Sans Mono',consolas,'Courier New',monospace\"><span style=\"font-weight: bold\">Model: \"sequential\"</span>\n",
       "</pre>\n"
      ],
      "text/plain": [
       "\u001b[1mModel: \"sequential\"\u001b[0m\n"
      ]
     },
     "metadata": {},
     "output_type": "display_data"
    },
    {
     "data": {
      "text/html": [
       "<pre style=\"white-space:pre;overflow-x:auto;line-height:normal;font-family:Menlo,'DejaVu Sans Mono',consolas,'Courier New',monospace\">┏━━━━━━━━━━━━━━━━━━━━━━━━━━━━━━━━━┳━━━━━━━━━━━━━━━━━━━━━━━━┳━━━━━━━━━━━━━━━┓\n",
       "┃<span style=\"font-weight: bold\"> Layer (type)                    </span>┃<span style=\"font-weight: bold\"> Output Shape           </span>┃<span style=\"font-weight: bold\">       Param # </span>┃\n",
       "┡━━━━━━━━━━━━━━━━━━━━━━━━━━━━━━━━━╇━━━━━━━━━━━━━━━━━━━━━━━━╇━━━━━━━━━━━━━━━┩\n",
       "│ conv2d (<span style=\"color: #0087ff; text-decoration-color: #0087ff\">Conv2D</span>)                 │ (<span style=\"color: #00d7ff; text-decoration-color: #00d7ff\">None</span>, <span style=\"color: #00af00; text-decoration-color: #00af00\">98</span>, <span style=\"color: #00af00; text-decoration-color: #00af00\">98</span>, <span style=\"color: #00af00; text-decoration-color: #00af00\">32</span>)     │           <span style=\"color: #00af00; text-decoration-color: #00af00\">896</span> │\n",
       "├─────────────────────────────────┼────────────────────────┼───────────────┤\n",
       "│ max_pooling2d (<span style=\"color: #0087ff; text-decoration-color: #0087ff\">MaxPooling2D</span>)    │ (<span style=\"color: #00d7ff; text-decoration-color: #00d7ff\">None</span>, <span style=\"color: #00af00; text-decoration-color: #00af00\">49</span>, <span style=\"color: #00af00; text-decoration-color: #00af00\">49</span>, <span style=\"color: #00af00; text-decoration-color: #00af00\">32</span>)     │             <span style=\"color: #00af00; text-decoration-color: #00af00\">0</span> │\n",
       "├─────────────────────────────────┼────────────────────────┼───────────────┤\n",
       "│ conv2d_1 (<span style=\"color: #0087ff; text-decoration-color: #0087ff\">Conv2D</span>)               │ (<span style=\"color: #00d7ff; text-decoration-color: #00d7ff\">None</span>, <span style=\"color: #00af00; text-decoration-color: #00af00\">47</span>, <span style=\"color: #00af00; text-decoration-color: #00af00\">47</span>, <span style=\"color: #00af00; text-decoration-color: #00af00\">64</span>)     │        <span style=\"color: #00af00; text-decoration-color: #00af00\">18,496</span> │\n",
       "├─────────────────────────────────┼────────────────────────┼───────────────┤\n",
       "│ max_pooling2d_1 (<span style=\"color: #0087ff; text-decoration-color: #0087ff\">MaxPooling2D</span>)  │ (<span style=\"color: #00d7ff; text-decoration-color: #00d7ff\">None</span>, <span style=\"color: #00af00; text-decoration-color: #00af00\">23</span>, <span style=\"color: #00af00; text-decoration-color: #00af00\">23</span>, <span style=\"color: #00af00; text-decoration-color: #00af00\">64</span>)     │             <span style=\"color: #00af00; text-decoration-color: #00af00\">0</span> │\n",
       "├─────────────────────────────────┼────────────────────────┼───────────────┤\n",
       "│ flatten (<span style=\"color: #0087ff; text-decoration-color: #0087ff\">Flatten</span>)               │ (<span style=\"color: #00d7ff; text-decoration-color: #00d7ff\">None</span>, <span style=\"color: #00af00; text-decoration-color: #00af00\">33856</span>)          │             <span style=\"color: #00af00; text-decoration-color: #00af00\">0</span> │\n",
       "├─────────────────────────────────┼────────────────────────┼───────────────┤\n",
       "│ dense (<span style=\"color: #0087ff; text-decoration-color: #0087ff\">Dense</span>)                   │ (<span style=\"color: #00d7ff; text-decoration-color: #00d7ff\">None</span>, <span style=\"color: #00af00; text-decoration-color: #00af00\">64</span>)             │     <span style=\"color: #00af00; text-decoration-color: #00af00\">2,166,848</span> │\n",
       "├─────────────────────────────────┼────────────────────────┼───────────────┤\n",
       "│ dense_1 (<span style=\"color: #0087ff; text-decoration-color: #0087ff\">Dense</span>)                 │ (<span style=\"color: #00d7ff; text-decoration-color: #00d7ff\">None</span>, <span style=\"color: #00af00; text-decoration-color: #00af00\">1</span>)              │            <span style=\"color: #00af00; text-decoration-color: #00af00\">65</span> │\n",
       "└─────────────────────────────────┴────────────────────────┴───────────────┘\n",
       "</pre>\n"
      ],
      "text/plain": [
       "┏━━━━━━━━━━━━━━━━━━━━━━━━━━━━━━━━━┳━━━━━━━━━━━━━━━━━━━━━━━━┳━━━━━━━━━━━━━━━┓\n",
       "┃\u001b[1m \u001b[0m\u001b[1mLayer (type)                   \u001b[0m\u001b[1m \u001b[0m┃\u001b[1m \u001b[0m\u001b[1mOutput Shape          \u001b[0m\u001b[1m \u001b[0m┃\u001b[1m \u001b[0m\u001b[1m      Param #\u001b[0m\u001b[1m \u001b[0m┃\n",
       "┡━━━━━━━━━━━━━━━━━━━━━━━━━━━━━━━━━╇━━━━━━━━━━━━━━━━━━━━━━━━╇━━━━━━━━━━━━━━━┩\n",
       "│ conv2d (\u001b[38;5;33mConv2D\u001b[0m)                 │ (\u001b[38;5;45mNone\u001b[0m, \u001b[38;5;34m98\u001b[0m, \u001b[38;5;34m98\u001b[0m, \u001b[38;5;34m32\u001b[0m)     │           \u001b[38;5;34m896\u001b[0m │\n",
       "├─────────────────────────────────┼────────────────────────┼───────────────┤\n",
       "│ max_pooling2d (\u001b[38;5;33mMaxPooling2D\u001b[0m)    │ (\u001b[38;5;45mNone\u001b[0m, \u001b[38;5;34m49\u001b[0m, \u001b[38;5;34m49\u001b[0m, \u001b[38;5;34m32\u001b[0m)     │             \u001b[38;5;34m0\u001b[0m │\n",
       "├─────────────────────────────────┼────────────────────────┼───────────────┤\n",
       "│ conv2d_1 (\u001b[38;5;33mConv2D\u001b[0m)               │ (\u001b[38;5;45mNone\u001b[0m, \u001b[38;5;34m47\u001b[0m, \u001b[38;5;34m47\u001b[0m, \u001b[38;5;34m64\u001b[0m)     │        \u001b[38;5;34m18,496\u001b[0m │\n",
       "├─────────────────────────────────┼────────────────────────┼───────────────┤\n",
       "│ max_pooling2d_1 (\u001b[38;5;33mMaxPooling2D\u001b[0m)  │ (\u001b[38;5;45mNone\u001b[0m, \u001b[38;5;34m23\u001b[0m, \u001b[38;5;34m23\u001b[0m, \u001b[38;5;34m64\u001b[0m)     │             \u001b[38;5;34m0\u001b[0m │\n",
       "├─────────────────────────────────┼────────────────────────┼───────────────┤\n",
       "│ flatten (\u001b[38;5;33mFlatten\u001b[0m)               │ (\u001b[38;5;45mNone\u001b[0m, \u001b[38;5;34m33856\u001b[0m)          │             \u001b[38;5;34m0\u001b[0m │\n",
       "├─────────────────────────────────┼────────────────────────┼───────────────┤\n",
       "│ dense (\u001b[38;5;33mDense\u001b[0m)                   │ (\u001b[38;5;45mNone\u001b[0m, \u001b[38;5;34m64\u001b[0m)             │     \u001b[38;5;34m2,166,848\u001b[0m │\n",
       "├─────────────────────────────────┼────────────────────────┼───────────────┤\n",
       "│ dense_1 (\u001b[38;5;33mDense\u001b[0m)                 │ (\u001b[38;5;45mNone\u001b[0m, \u001b[38;5;34m1\u001b[0m)              │            \u001b[38;5;34m65\u001b[0m │\n",
       "└─────────────────────────────────┴────────────────────────┴───────────────┘\n"
      ]
     },
     "metadata": {},
     "output_type": "display_data"
    },
    {
     "data": {
      "text/html": [
       "<pre style=\"white-space:pre;overflow-x:auto;line-height:normal;font-family:Menlo,'DejaVu Sans Mono',consolas,'Courier New',monospace\"><span style=\"font-weight: bold\"> Total params: </span><span style=\"color: #00af00; text-decoration-color: #00af00\">2,186,305</span> (8.34 MB)\n",
       "</pre>\n"
      ],
      "text/plain": [
       "\u001b[1m Total params: \u001b[0m\u001b[38;5;34m2,186,305\u001b[0m (8.34 MB)\n"
      ]
     },
     "metadata": {},
     "output_type": "display_data"
    },
    {
     "data": {
      "text/html": [
       "<pre style=\"white-space:pre;overflow-x:auto;line-height:normal;font-family:Menlo,'DejaVu Sans Mono',consolas,'Courier New',monospace\"><span style=\"font-weight: bold\"> Trainable params: </span><span style=\"color: #00af00; text-decoration-color: #00af00\">2,186,305</span> (8.34 MB)\n",
       "</pre>\n"
      ],
      "text/plain": [
       "\u001b[1m Trainable params: \u001b[0m\u001b[38;5;34m2,186,305\u001b[0m (8.34 MB)\n"
      ]
     },
     "metadata": {},
     "output_type": "display_data"
    },
    {
     "data": {
      "text/html": [
       "<pre style=\"white-space:pre;overflow-x:auto;line-height:normal;font-family:Menlo,'DejaVu Sans Mono',consolas,'Courier New',monospace\"><span style=\"font-weight: bold\"> Non-trainable params: </span><span style=\"color: #00af00; text-decoration-color: #00af00\">0</span> (0.00 B)\n",
       "</pre>\n"
      ],
      "text/plain": [
       "\u001b[1m Non-trainable params: \u001b[0m\u001b[38;5;34m0\u001b[0m (0.00 B)\n"
      ]
     },
     "metadata": {},
     "output_type": "display_data"
    }
   ],
   "source": [
    "from keras.models import Sequential\n",
    "from keras.layers import Conv2D, MaxPooling2D, Flatten, Dense\n",
    "\n",
    "# Define input shape\n",
    "input_shape = (new_image_width, new_image_height, 3)\n",
    "\n",
    "# Initialize the model\n",
    "model = Sequential()\n",
    "\n",
    "model.add(Input(shape=input_shape))\n",
    "\n",
    "# Add convolutional layer\n",
    "model.add(Conv2D(32, (3, 3), activation='relu'))\n",
    "\n",
    "# Add pooling layer\n",
    "model.add(MaxPooling2D((2, 2)))\n",
    "\n",
    "# Add another convolutional layer\n",
    "model.add(Conv2D(64, (3, 3), activation='relu'))\n",
    "\n",
    "# Add another pooling layer\n",
    "model.add(MaxPooling2D((2, 2)))\n",
    "\n",
    "# Flatten the 3D arrays to 1D array\n",
    "model.add(Flatten())\n",
    "\n",
    "# Add fully connected layers\n",
    "model.add(Dense(64, activation='relu'))\n",
    "model.add(Dense(1, activation='sigmoid'))\n",
    "\n",
    "# Compile the model\n",
    "model.compile(optimizer='adam', loss='binary_crossentropy', metrics=['accuracy'])\n",
    "\n",
    "# Print the model summary\n",
    "model.summary()"
   ]
  },
  {
   "cell_type": "code",
   "execution_count": 262,
   "metadata": {},
   "outputs": [
    {
     "name": "stdout",
     "output_type": "stream",
     "text": [
      "Epoch 1/8\n"
     ]
    },
    {
     "name": "stdout",
     "output_type": "stream",
     "text": [
      "\u001b[1m49/49\u001b[0m \u001b[32m━━━━━━━━━━━━━━━━━━━━\u001b[0m\u001b[37m\u001b[0m \u001b[1m0s\u001b[0m 392ms/step - accuracy: 0.6428 - loss: 142.5959\n",
      "Epoch 1: val_accuracy improved from -inf to 0.85530, saving model to best_model.keras\n",
      "\u001b[1m49/49\u001b[0m \u001b[32m━━━━━━━━━━━━━━━━━━━━\u001b[0m\u001b[37m\u001b[0m \u001b[1m23s\u001b[0m 420ms/step - accuracy: 0.6439 - loss: 140.6701 - val_accuracy: 0.8553 - val_loss: 0.4744\n",
      "Epoch 2/8\n",
      "\u001b[1m49/49\u001b[0m \u001b[32m━━━━━━━━━━━━━━━━━━━━\u001b[0m\u001b[37m\u001b[0m \u001b[1m0s\u001b[0m 302ms/step - accuracy: 0.7860 - loss: 0.5121\n",
      "Epoch 2: val_accuracy did not improve from 0.85530\n",
      "\u001b[1m49/49\u001b[0m \u001b[32m━━━━━━━━━━━━━━━━━━━━\u001b[0m\u001b[37m\u001b[0m \u001b[1m16s\u001b[0m 320ms/step - accuracy: 0.7859 - loss: 0.5117 - val_accuracy: 0.8527 - val_loss: 0.4021\n",
      "Epoch 3/8\n",
      "\u001b[1m49/49\u001b[0m \u001b[32m━━━━━━━━━━━━━━━━━━━━\u001b[0m\u001b[37m\u001b[0m \u001b[1m0s\u001b[0m 303ms/step - accuracy: 0.8682 - loss: 0.3633\n",
      "Epoch 3: val_accuracy improved from 0.85530 to 0.89664, saving model to best_model.keras\n",
      "\u001b[1m49/49\u001b[0m \u001b[32m━━━━━━━━━━━━━━━━━━━━\u001b[0m\u001b[37m\u001b[0m \u001b[1m16s\u001b[0m 324ms/step - accuracy: 0.8683 - loss: 0.3625 - val_accuracy: 0.8966 - val_loss: 0.3625\n",
      "Epoch 4/8\n",
      "\u001b[1m49/49\u001b[0m \u001b[32m━━━━━━━━━━━━━━━━━━━━\u001b[0m\u001b[37m\u001b[0m \u001b[1m0s\u001b[0m 327ms/step - accuracy: 0.8957 - loss: 0.2908\n",
      "Epoch 4: val_accuracy did not improve from 0.89664\n",
      "\u001b[1m49/49\u001b[0m \u001b[32m━━━━━━━━━━━━━━━━━━━━\u001b[0m\u001b[37m\u001b[0m \u001b[1m22s\u001b[0m 359ms/step - accuracy: 0.8957 - loss: 0.2903 - val_accuracy: 0.8966 - val_loss: 0.3432\n",
      "Epoch 5/8\n",
      "\u001b[1m49/49\u001b[0m \u001b[32m━━━━━━━━━━━━━━━━━━━━\u001b[0m\u001b[37m\u001b[0m \u001b[1m0s\u001b[0m 337ms/step - accuracy: 0.9034 - loss: 0.2765\n",
      "Epoch 5: val_accuracy did not improve from 0.89664\n",
      "\u001b[1m49/49\u001b[0m \u001b[32m━━━━━━━━━━━━━━━━━━━━\u001b[0m\u001b[37m\u001b[0m \u001b[1m20s\u001b[0m 354ms/step - accuracy: 0.9029 - loss: 0.2790 - val_accuracy: 0.7804 - val_loss: 0.5153\n",
      "Epoch 6/8\n",
      "\u001b[1m49/49\u001b[0m \u001b[32m━━━━━━━━━━━━━━━━━━━━\u001b[0m\u001b[37m\u001b[0m \u001b[1m0s\u001b[0m 275ms/step - accuracy: 0.7903 - loss: 0.5373\n",
      "Epoch 6: val_accuracy did not improve from 0.89664\n",
      "\u001b[1m49/49\u001b[0m \u001b[32m━━━━━━━━━━━━━━━━━━━━\u001b[0m\u001b[37m\u001b[0m \u001b[1m14s\u001b[0m 292ms/step - accuracy: 0.7903 - loss: 0.5368 - val_accuracy: 0.8475 - val_loss: 0.3626\n",
      "Epoch 7/8\n",
      "\u001b[1m49/49\u001b[0m \u001b[32m━━━━━━━━━━━━━━━━━━━━\u001b[0m\u001b[37m\u001b[0m \u001b[1m0s\u001b[0m 344ms/step - accuracy: 0.8708 - loss: 0.3188\n",
      "Epoch 7: val_accuracy did not improve from 0.89664\n",
      "\u001b[1m49/49\u001b[0m \u001b[32m━━━━━━━━━━━━━━━━━━━━\u001b[0m\u001b[37m\u001b[0m \u001b[1m19s\u001b[0m 382ms/step - accuracy: 0.8710 - loss: 0.3184 - val_accuracy: 0.8786 - val_loss: 0.3284\n",
      "Epoch 8/8\n",
      "\u001b[1m49/49\u001b[0m \u001b[32m━━━━━━━━━━━━━━━━━━━━\u001b[0m\u001b[37m\u001b[0m \u001b[1m0s\u001b[0m 381ms/step - accuracy: 0.9049 - loss: 0.2447\n",
      "Epoch 8: val_accuracy did not improve from 0.89664\n",
      "\u001b[1m49/49\u001b[0m \u001b[32m━━━━━━━━━━━━━━━━━━━━\u001b[0m\u001b[37m\u001b[0m \u001b[1m20s\u001b[0m 399ms/step - accuracy: 0.9049 - loss: 0.2446 - val_accuracy: 0.8889 - val_loss: 0.3216\n"
     ]
    }
   ],
   "source": [
    "# Define callbacks\n",
    "model_checkpoint = ModelCheckpoint('best_model.keras', save_best_only=True, monitor='val_accuracy', mode='max', verbose=1)\n",
    "early_stopping = EarlyStopping(monitor='val_loss', patience=3, restore_best_weights=True)\n",
    "\n",
    "# Train the model\n",
    "history = model.fit(X_train, y_train, epochs=8, batch_size=32, validation_split=0.2, callbacks=[model_checkpoint, early_stopping])"
   ]
  },
  {
   "cell_type": "code",
   "execution_count": 263,
   "metadata": {},
   "outputs": [
    {
     "name": "stdout",
     "output_type": "stream",
     "text": [
      "\u001b[1m 2/16\u001b[0m \u001b[32m━━\u001b[0m\u001b[37m━━━━━━━━━━━━━━━━━━\u001b[0m \u001b[1m1s\u001b[0m 85ms/step "
     ]
    },
    {
     "name": "stdout",
     "output_type": "stream",
     "text": [
      "\u001b[1m16/16\u001b[0m \u001b[32m━━━━━━━━━━━━━━━━━━━━\u001b[0m\u001b[37m\u001b[0m \u001b[1m2s\u001b[0m 123ms/step\n",
      "Test Accuracy: 0.9276859504132231\n",
      "              precision    recall  f1-score   support\n",
      "\n",
      "           0       0.94      0.97      0.96       387\n",
      "           1       0.86      0.76      0.81        97\n",
      "\n",
      "    accuracy                           0.93       484\n",
      "   macro avg       0.90      0.87      0.88       484\n",
      "weighted avg       0.93      0.93      0.93       484\n",
      "\n"
     ]
    }
   ],
   "source": [
    "# Evaluate the model\n",
    "y_pred = model.predict(X_test)\n",
    "y_pred_classes = (y_pred > 0.5).astype(\"int32\")\n",
    "\n",
    "accuracy = accuracy_score(y_test, y_pred_classes)\n",
    "\n",
    "print(\"Test Accuracy:\", accuracy)\n",
    "print(classification_report(y_test, y_pred_classes))"
   ]
  },
  {
   "cell_type": "markdown",
   "metadata": {},
   "source": [
    "**The Success of the CNN Model**\n",
    "\n",
    "- High Accuracy\n",
    "    + The CNN model achieved an accuracy of 92%, outperforming all other models developed in this project.\n",
    "\n",
    "- Impressive Precision\n",
    "    + The precision of the CNN model was outstanding, with 94% precision for class 0 and 86% precision for class 1.\n",
    "\n",
    "The success of the CNN model can be attributed to its ability to effectively capture and learn intricate patterns in user behavior data. By leveraging the power of deep learning, the CNN model provided highly accurate predictions, enabling us to better understand and anticipate user interactions with ads."
   ]
  },
  {
   "cell_type": "code",
   "execution_count": 264,
   "metadata": {},
   "outputs": [
    {
     "data": {
      "image/png": "[encoded data removed]",
      "text/plain": [
       "<Figure size 640x480 with 2 Axes>"
      ]
     },
     "metadata": {},
     "output_type": "display_data"
    }
   ],
   "source": [
    "confusion_plot(y_test, y_pred_classes)"
   ]
  },
  {
   "cell_type": "code",
   "execution_count": 265,
   "metadata": {},
   "outputs": [
    {
     "data": {
      "image/png": "[encoded data removed]",
      "text/plain": [
       "<Figure size 1000x600 with 1 Axes>"
      ]
     },
     "metadata": {},
     "output_type": "display_data"
    }
   ],
   "source": [
    "import matplotlib.pyplot as plt\n",
    "\n",
    "train_scores = history.history['accuracy']\n",
    "validation_scores = history.history['val_accuracy']\n",
    "epochs = range(1, len(train_scores) + 1)\n",
    "\n",
    "plt.figure(figsize=(10, 6))\n",
    "plt.plot(epochs, train_scores, label='Training accuracy')\n",
    "plt.plot(epochs, validation_scores, label='Validation accuracy')\n",
    "plt.xlabel('Epochs')\n",
    "plt.ylabel('Accuracy')\n",
    "plt.title('Learning Curve')\n",
    "plt.legend(loc='best')\n",
    "plt.grid()\n",
    "plt.show()"
   ]
  },
  {
   "cell_type": "markdown",
   "metadata": {},
   "source": [
    "----\n",
    "# 7. Conclusion\n",
    "## Utilizing Two Different Approaches for Predicting User Clicks\n",
    "In this project, we explored two distinct approaches to predict user clicks on ads.\n",
    "\n",
    "- ### Parametric Approach with Machine Learning Models:\n",
    "The first approach involved utilizing parametric machine learning models. We experimented with various algorithms such as Naive Bayes, Random Forest Classifier, Logistic Regression, and Support Vector Regression (SVR). These models were trained using features extracted from user behavior data, including ad position, ad type, and other relevant parameters. While these models provided reasonable accuracy, we found that they lacked the ability to capture intricate patterns within the data, limiting their predictive capabilities.\n",
    "\n",
    "- ### Visualizing User Behavior to Predict Clicks:\n",
    "Recognizing the limitations of parametric models, we adopted a second approach that involved visualizing user behavior data. By plotting user interactions on the webpage, including mouse movements and clicks, we were able to create a visual representation of user engagement with ads. This approach provided us with valuable insights into user behavior, allowing us to identify patterns and trends that were not apparent from the raw data alone.\n",
    "\n",
    "- ### The Success of Visual Approach:\n",
    "One of the most successful implementations of this visual approach was the use of Convolutional Neural Networks (CNNs). By converting user behavior data into image-like representations, we trained a CNN model to predict user clicks on ads. This model achieved an impressive accuracy of 92%, outperforming all other machine learning models developed in this project. Additionally, it demonstrated remarkable precision, with 94% precision for class 0 and 86% precision for class 1.\n",
    "\n",
    "- ### Conclusion:\n",
    "By leveraging both parametric machine learning models and visual representations of user behavior, we gained a comprehensive understanding of user interactions with ads. While parametric models provided a baseline level of accuracy, the visual approach enabled us to capture more nuanced patterns within the data, leading to significantly improved predictive performance. Moving forward, we can utilize the insights gained from both approaches to optimize ad placement and design, ultimately improving user engagement and ad performance.\n"
   ]
  },
  {
   "cell_type": "markdown",
   "metadata": {},
   "source": [
    "----\n",
    "# 8. References\n",
    "\n",
    "- Keras API reference / Optimizers(https://keras.io/api/optimizers/)\n",
    "\n",
    "- Building an Ad Click Prediction Machine Learning System: Problem Statement and Metrics (https://www.linkedin.com/pulse/building-ad-click-prediction-machine-learning-system-problem-shivam-s-1wvjf)\n",
    "\n",
    "- Predicting Click Behavior Based on Machine Learning Models (https://www.researchgate.net/publication/370570414_Predicting_Click_Behavior_Based_on_Machine_Learning_Models)\n",
    "\n",
    "- What is Mutual Information? (https://quantdare.com/what-is-mutual-information/)\n",
    "\n",
    "- Customer ad click prediction (https://www.kaggle.com/code/mafrojaakter/customer-ad-click-prediction)\n",
    "\n",
    "- sklearn.svm.SVR (https://scikit-learn.org/stable/modules/generated/sklearn.svm.SVR.html)\n",
    "\n",
    "- sklearn.ensemble.RandomForestRegressor(https://scikit-learn.org/stable/modules/generated/sklearn.ensemble.RandomForestRegressor.html)\n",
    "\n",
    "- Metrics and scoring: quantifying the quality of predictions(https://scikit-learn.org/stable/modules/model_evaluation.html)\n",
    "\n",
    "- Keras API reference / Callbacks API / ModelCheckpoint (https://keras.io/api/callbacks/model_checkpoint/)\n",
    "\n",
    "- Keras API reference / Callbacks API / EarlyStopping(https://keras.io/api/callbacks/early_stopping/)\n",
    "\n",
    "- Keras API reference / Optimizers(https://keras.io/api/optimizers/)"
   ]
  }
 ],
 "metadata": {
  "kernelspec": {
   "display_name": "Python 3",
   "language": "python",
   "name": "python3"
  },
  "language_info": {
   "codemirror_mode": {
    "name": "ipython",
    "version": 3
   },
   "file_extension": ".py",
   "mimetype": "text/x-python",
   "name": "python",
   "nbconvert_exporter": "python",
   "pygments_lexer": "ipython3",
   "version": "3.12.3"
  }
 },
 "nbformat": 4,
 "nbformat_minor": 2
}
