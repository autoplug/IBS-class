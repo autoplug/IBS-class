{
 "cells": [
  {
   "cell_type": "markdown",
   "metadata": {},
   "source": [
    "\n",
    "\n",
    "\n",
    "# ***Click Prediction using Convolutional Neural Networks***\n",
    "\n",
    "----\n",
    "\n",
    "# Abstract\n",
    "\n",
    "In online advertising, predicting whether a user will click on an ad is crucial for optimizing ad placement and maximizing revenue. In this project, we propose a novel approach to click prediction using Convolutional Neural Networks (CNNs). We use three datasets: the groundtruth dataset containing information about ad clicks, the participants dataset containing information about ad characteristics and user interactions, and the user behavior dataset containing detailed user interactions on a webpage. By merging these datasets, we create a comprehensive dataset for training our CNN model.\n",
    "\n",
    "We preprocess the data and reshape it to fit the CNN input shape. We then build and train a CNN model using Keras with TensorFlow backend. The model learns to extract relevant features from the user behavior data and predicts whether a user will click on an ad. We evaluate the model using standard classification metrics such as accuracy, precision, recall, and F1-score.\n",
    "\n",
    "Our experimental results demonstrate that the proposed CNN model outperforms traditional machine learning models for click prediction. The model's ability to learn from raw user behavior data makes it a promising approach for click prediction in online advertising.\n",
    "\n",
    "# Table of Contents\n",
    "\n",
    "1. Data Collection\n",
    "    1. Groundtruth Dataset\n",
    "    2. Participants Dataset\n",
    "    3. User Behavior Dataset\n",
    "        - Extract width and height of web page\n",
    "        - Load CSV file into pandas dataframe\n",
    "        - Extract Time Spent And Date\n",
    "        - Temporal Features\n",
    "        - Extract CSV data consist of User Behavior\n",
    "\n",
    "2. Data Preprocessing\n",
    "    1. Merge Data frames\n",
    "    2. Country Parameter\n",
    "    3. Category Parameter\n",
    "    4. Convert Categorical Values To Numeral Values\n",
    "    5. Check For Missing Values\n",
    "    6. Filter Data Based On Time Spent\n",
    "    7. Check Value Count Ad Click\n",
    "\n",
    "3. Feature Selection\n",
    "    1. Remove Unnecessary Columns\n",
    "    2. Correlation Between Features\n",
    "    3. Correlation Between Features And Target\n",
    "    4. Mutual Information\n",
    "\n",
    "4. Machine Learning\n",
    "    1. Functions\n",
    "        - Confusion plot function\n",
    "        - AUC curve plot function\n",
    "\n",
    "    2. One Hot Encoding\n",
    "    3. Data Train/Test Split\n",
    "    4. Data Scaling\n",
    "    5. Naive Bayes\n",
    "    6. Random Forest Classifier\n",
    "    7. Logistic Regression Model\n",
    "    8. Support Vector Regression (SVR) \n",
    "    9. Convolutional Neural Network Model\n",
    "        - Plot Learning Curve\n",
    "\n",
    "5. Evaluation"
   ]
  },
  {
   "cell_type": "markdown",
   "metadata": {},
   "source": [
    "----\n",
    "# 1. Data Collection\n",
    "## 1.1 Groundtruth Dataset\n",
    "\n",
    "This dataset contains information about ad clicks. It includes whether a user clicked on an ad or not (ad_clicked) and a unique identifier for each log entry (log_id).\n",
    "\n",
    "Based on the definition of the project, a series of data cannot be used in the project. We will remove them at this initial stage, although some of them could have effective parameters in the prediction.\n",
    "\n",
    "***Parameters :***\n",
    "- `ad_clicked`: (int) Whether the participant clicked on the ad (1) or not (0).\n",
    "- `log_id`: (string) Mouse tracking log ID.\n"
   ]
  },
  {
   "cell_type": "code",
   "execution_count": 147,
   "metadata": {},
   "outputs": [
    {
     "data": {
      "text/html": [
       "<div>\n",
       "<style scoped>\n",
       "    .dataframe tbody tr th:only-of-type {\n",
       "        vertical-align: middle;\n",
       "    }\n",
       "\n",
       "    .dataframe tbody tr th {\n",
       "        vertical-align: top;\n",
       "    }\n",
       "\n",
       "    .dataframe thead th {\n",
       "        text-align: right;\n",
       "    }\n",
       "</style>\n",
       "<table border=\"1\" class=\"dataframe\">\n",
       "  <thead>\n",
       "    <tr style=\"text-align: right;\">\n",
       "      <th></th>\n",
       "      <th>ad_clicked</th>\n",
       "      <th>log_id</th>\n",
       "    </tr>\n",
       "  </thead>\n",
       "  <tbody>\n",
       "    <tr>\n",
       "      <th>0</th>\n",
       "      <td>0</td>\n",
       "      <td>20181002033126</td>\n",
       "    </tr>\n",
       "    <tr>\n",
       "      <th>1</th>\n",
       "      <td>1</td>\n",
       "      <td>20181001211223</td>\n",
       "    </tr>\n",
       "    <tr>\n",
       "      <th>2</th>\n",
       "      <td>0</td>\n",
       "      <td>20181001170952</td>\n",
       "    </tr>\n",
       "  </tbody>\n",
       "</table>\n",
       "</div>"
      ],
      "text/plain": [
       "   ad_clicked          log_id\n",
       "0           0  20181002033126\n",
       "1           1  20181001211223\n",
       "2           0  20181001170952"
      ]
     },
     "execution_count": 147,
     "metadata": {},
     "output_type": "execute_result"
    }
   ],
   "source": [
    "# Read the dataframe in pandas format\n",
    "import pandas as pd\n",
    "\n",
    "groundtruth = pd.read_csv(\"groundtruth.tsv\", delimiter=\"\\t\")\n",
    "groundtruth = groundtruth.drop([\"attention\",\"user_id\"], axis=1)\n",
    "groundtruth.head(3) "
   ]
  },
  {
   "cell_type": "markdown",
   "metadata": {},
   "source": [
    "## 1.2 Participants Dataset\n",
    "This dataset contains information about ad characteristics and user interactions. It includes details such as the country of the participant (country), ad position (ad_position), ad type (ad_type), ad category (ad_category), SERP (Search Engine Results Page) ID (serp_id), search query (query), and a unique identifier for each log entry (log_id).\n",
    "\n",
    "***Parameters***\n",
    "- `country`: (string) Participant's country, in ISO-3 format.\n",
    "\n",
    "- `ad_position`: (string) Ad stimulus position.\n",
    "\n",
    "- `ad_type`: (string) Ad stimulus type.\n",
    "\n",
    "- `ad_category`: (string) Ad stimulus category.\n",
    "\n",
    "- `serp_id`: (string) Ad SERP identifier.\n",
    "\n",
    "- `query`: (string) Ad stimulus query.\n",
    "\n",
    "- `log_id`: (string) Mouse tracking log ID."
   ]
  },
  {
   "cell_type": "code",
   "execution_count": 148,
   "metadata": {},
   "outputs": [
    {
     "data": {
      "text/html": [
       "<div>\n",
       "<style scoped>\n",
       "    .dataframe tbody tr th:only-of-type {\n",
       "        vertical-align: middle;\n",
       "    }\n",
       "\n",
       "    .dataframe tbody tr th {\n",
       "        vertical-align: top;\n",
       "    }\n",
       "\n",
       "    .dataframe thead th {\n",
       "        text-align: right;\n",
       "    }\n",
       "</style>\n",
       "<table border=\"1\" class=\"dataframe\">\n",
       "  <thead>\n",
       "    <tr style=\"text-align: right;\">\n",
       "      <th></th>\n",
       "      <th>country</th>\n",
       "      <th>ad_position</th>\n",
       "      <th>ad_type</th>\n",
       "      <th>ad_category</th>\n",
       "      <th>serp_id</th>\n",
       "      <th>query</th>\n",
       "      <th>log_id</th>\n",
       "    </tr>\n",
       "  </thead>\n",
       "  <tbody>\n",
       "    <tr>\n",
       "      <th>0</th>\n",
       "      <td>PHL</td>\n",
       "      <td>top-left</td>\n",
       "      <td>dd</td>\n",
       "      <td>Computers &amp; Electronics</td>\n",
       "      <td>tablets</td>\n",
       "      <td>tablets</td>\n",
       "      <td>20181002033126</td>\n",
       "    </tr>\n",
       "    <tr>\n",
       "      <th>1</th>\n",
       "      <td>VEN</td>\n",
       "      <td>top-right</td>\n",
       "      <td>dd</td>\n",
       "      <td>Shop - Luxury Goods</td>\n",
       "      <td>casio-watches</td>\n",
       "      <td>casio watches</td>\n",
       "      <td>20181001211223</td>\n",
       "    </tr>\n",
       "    <tr>\n",
       "      <th>2</th>\n",
       "      <td>VEN</td>\n",
       "      <td>top-left</td>\n",
       "      <td>native</td>\n",
       "      <td>Shop - Luxury Goods</td>\n",
       "      <td>chivas-regal</td>\n",
       "      <td>chivas regal</td>\n",
       "      <td>20181001170952</td>\n",
       "    </tr>\n",
       "  </tbody>\n",
       "</table>\n",
       "</div>"
      ],
      "text/plain": [
       "  country ad_position ad_type              ad_category        serp_id  \\\n",
       "0     PHL    top-left      dd  Computers & Electronics        tablets   \n",
       "1     VEN   top-right      dd      Shop - Luxury Goods  casio-watches   \n",
       "2     VEN    top-left  native      Shop - Luxury Goods   chivas-regal   \n",
       "\n",
       "           query          log_id  \n",
       "0        tablets  20181002033126  \n",
       "1  casio watches  20181001211223  \n",
       "2   chivas regal  20181001170952  "
      ]
     },
     "execution_count": 148,
     "metadata": {},
     "output_type": "execute_result"
    }
   ],
   "source": [
    "participants = pd.read_csv(\"participants.tsv\", delimiter=\"\\t\")\n",
    "participants = participants.drop([\"user_id\",\"education\",\"age\",\"income\",\"gender\"], axis=1)\n",
    "participants.head(3)"
   ]
  },
  {
   "cell_type": "markdown",
   "metadata": {},
   "source": [
    "## 1.3 User Behavior Dataset\n",
    "This dataset contains detailed user interactions on a webpage. It includes information such as cursor timestamp (cursor), timestamp (timestamp), cursor position (xpos and ypos), event type (event), XPath of the element (xpath), attributes of the element (attrs), and extra information about the event (extras). The unique identifier for each log entry is the name of the file (log_id).\n",
    "\n",
    "We store this information in the log folder in the ‍‍`user_behavior` data frame."
   ]
  },
  {
   "cell_type": "markdown",
   "metadata": {},
   "source": [
    "- ### `Extract width and height of web page`\n",
    "\n",
    "In the XML file, there is information about the width and length of the document, which we need for normalization. On the other hand, it is better to include this parameter to make each point similar."
   ]
  },
  {
   "cell_type": "code",
   "execution_count": 149,
   "metadata": {},
   "outputs": [
    {
     "data": {
      "text/html": [
       "<div>\n",
       "<style scoped>\n",
       "    .dataframe tbody tr th:only-of-type {\n",
       "        vertical-align: middle;\n",
       "    }\n",
       "\n",
       "    .dataframe tbody tr th {\n",
       "        vertical-align: top;\n",
       "    }\n",
       "\n",
       "    .dataframe thead th {\n",
       "        text-align: right;\n",
       "    }\n",
       "</style>\n",
       "<table border=\"1\" class=\"dataframe\">\n",
       "  <thead>\n",
       "    <tr style=\"text-align: right;\">\n",
       "      <th></th>\n",
       "      <th>log_id</th>\n",
       "      <th>doc_width</th>\n",
       "      <th>doc_height</th>\n",
       "    </tr>\n",
       "  </thead>\n",
       "  <tbody>\n",
       "    <tr>\n",
       "      <th>0</th>\n",
       "      <td>20181002033126</td>\n",
       "      <td>1366</td>\n",
       "      <td>2064</td>\n",
       "    </tr>\n",
       "    <tr>\n",
       "      <th>1</th>\n",
       "      <td>20181001211223</td>\n",
       "      <td>1366</td>\n",
       "      <td>1611</td>\n",
       "    </tr>\n",
       "    <tr>\n",
       "      <th>2</th>\n",
       "      <td>20181001170952</td>\n",
       "      <td>1366</td>\n",
       "      <td>2284</td>\n",
       "    </tr>\n",
       "  </tbody>\n",
       "</table>\n",
       "</div>"
      ],
      "text/plain": [
       "           log_id  doc_width  doc_height\n",
       "0  20181002033126       1366        2064\n",
       "1  20181001211223       1366        1611\n",
       "2  20181001170952       1366        2284"
      ]
     },
     "execution_count": 149,
     "metadata": {},
     "output_type": "execute_result"
    }
   ],
   "source": [
    "import xml.etree.ElementTree as ET\n",
    "\n",
    "user_behavior = pd.DataFrame(participants[\"log_id\"])\n",
    "\n",
    "user_behavior[\"doc_width\"] = 0\n",
    "user_behavior[\"doc_height\"] = 0\n",
    "\n",
    "for index,row in user_behavior.iterrows():\n",
    "    tree = ET.parse(f\"logs/{row['log_id']}.xml\")\n",
    "    root = tree.getroot()\n",
    "\n",
    "    doc_w, doc_h = root.find(\"document\").text.split(\"x\")\n",
    "    scr_w, scr_h = root.find(\"screen\").text.split(\"x\")\n",
    "    user_behavior.at[index,\"doc_width\"] = max(int(doc_w),int(scr_w))\n",
    "    user_behavior.at[index,\"doc_height\"] = max(int(doc_h),int(scr_h))    \n",
    "\n",
    "user_behavior.head(3)"
   ]
  },
  {
   "cell_type": "markdown",
   "metadata": {},
   "source": [
    "- ### `Load CSV File Into DataFrame`\n",
    "\n",
    "Since we need this information in several steps, we load and store it in a variable."
   ]
  },
  {
   "cell_type": "code",
   "execution_count": 150,
   "metadata": {},
   "outputs": [],
   "source": [
    "import os\n",
    "log_csv_df = {}\n",
    "\n",
    "for index,row in user_behavior.iterrows():\n",
    "    file_path = f\"logs/{row['log_id']}.csv\"\n",
    "    if not os.path.exists(file_path):\n",
    "        continue    \n",
    "    log_csv_df[row['log_id']] = pd.read_csv(file_path, delimiter=\" \")"
   ]
  },
  {
   "cell_type": "markdown",
   "metadata": {},
   "source": [
    "- ### `Extract Time Spent And Date`\n",
    "\n",
    "One of the important parameters in log files is the time spent on pages. This parameter is not only useful for filtering data, but it can also be used as a prediction parameter.\n",
    "\n",
    "- ‍‍‍‍`time_spent` : Since the given time is in milliseconds, we divide it by thousands.\n",
    "- `date` : The Unix Epoch date format is a single number value, representing the number of seconds that have elapsed since 1/1/1970. This is not compatible with Boomi date masking, so converting to and from this date format requires a small script."
   ]
  },
  {
   "cell_type": "code",
   "execution_count": 151,
   "metadata": {},
   "outputs": [
    {
     "data": {
      "text/html": [
       "<div>\n",
       "<style scoped>\n",
       "    .dataframe tbody tr th:only-of-type {\n",
       "        vertical-align: middle;\n",
       "    }\n",
       "\n",
       "    .dataframe tbody tr th {\n",
       "        vertical-align: top;\n",
       "    }\n",
       "\n",
       "    .dataframe thead th {\n",
       "        text-align: right;\n",
       "    }\n",
       "</style>\n",
       "<table border=\"1\" class=\"dataframe\">\n",
       "  <thead>\n",
       "    <tr style=\"text-align: right;\">\n",
       "      <th></th>\n",
       "      <th>log_id</th>\n",
       "      <th>doc_width</th>\n",
       "      <th>doc_height</th>\n",
       "      <th>time_spent</th>\n",
       "      <th>date</th>\n",
       "    </tr>\n",
       "  </thead>\n",
       "  <tbody>\n",
       "    <tr>\n",
       "      <th>0</th>\n",
       "      <td>20181002033126</td>\n",
       "      <td>1366</td>\n",
       "      <td>2064</td>\n",
       "      <td>96</td>\n",
       "      <td>1538444060776</td>\n",
       "    </tr>\n",
       "    <tr>\n",
       "      <th>1</th>\n",
       "      <td>20181001211223</td>\n",
       "      <td>1366</td>\n",
       "      <td>1611</td>\n",
       "      <td>18</td>\n",
       "      <td>1538421318262</td>\n",
       "    </tr>\n",
       "    <tr>\n",
       "      <th>2</th>\n",
       "      <td>20181001170952</td>\n",
       "      <td>1366</td>\n",
       "      <td>2284</td>\n",
       "      <td>54</td>\n",
       "      <td>1538406739854</td>\n",
       "    </tr>\n",
       "  </tbody>\n",
       "</table>\n",
       "</div>"
      ],
      "text/plain": [
       "           log_id  doc_width  doc_height  time_spent           date\n",
       "0  20181002033126       1366        2064          96  1538444060776\n",
       "1  20181001211223       1366        1611          18  1538421318262\n",
       "2  20181001170952       1366        2284          54  1538406739854"
      ]
     },
     "execution_count": 151,
     "metadata": {},
     "output_type": "execute_result"
    }
   ],
   "source": [
    "import os\n",
    "\n",
    "user_behavior[\"time_spent\"] = 0\n",
    "user_behavior[\"date\"] = 0\n",
    "\n",
    "for index,row in user_behavior.iterrows():\n",
    "    df2 = log_csv_df[row['log_id']]\n",
    "    time_spent = df2[\"timestamp\"].iloc[-1] - df2[\"timestamp\"].iloc[0]\n",
    "\n",
    "    user_behavior.at[index,\"time_spent\"] = int(time_spent/1000)\n",
    "    user_behavior.at[index,\"date\"] = df2[\"timestamp\"].iloc[0]\n",
    "\n",
    "#in the next step for normalization we need this value\n",
    "max_time_spent = max(user_behavior[\"time_spent\"])\n",
    "\n",
    "user_behavior.head(3)"
   ]
  },
  {
   "cell_type": "markdown",
   "metadata": {},
   "source": [
    "- ### `Temporal Features`\n",
    "Time-related features such as `time of day` and `day of week` can provide valuable insights into when users are most likely to click on ads. These features are typically one-hot encoded to capture their cyclic nature."
   ]
  },
  {
   "cell_type": "code",
   "execution_count": 152,
   "metadata": {},
   "outputs": [
    {
     "data": {
      "text/html": [
       "<div>\n",
       "<style scoped>\n",
       "    .dataframe tbody tr th:only-of-type {\n",
       "        vertical-align: middle;\n",
       "    }\n",
       "\n",
       "    .dataframe tbody tr th {\n",
       "        vertical-align: top;\n",
       "    }\n",
       "\n",
       "    .dataframe thead th {\n",
       "        text-align: right;\n",
       "    }\n",
       "</style>\n",
       "<table border=\"1\" class=\"dataframe\">\n",
       "  <thead>\n",
       "    <tr style=\"text-align: right;\">\n",
       "      <th></th>\n",
       "      <th>log_id</th>\n",
       "      <th>doc_width</th>\n",
       "      <th>doc_height</th>\n",
       "      <th>time_spent</th>\n",
       "      <th>date</th>\n",
       "      <th>week_day</th>\n",
       "      <th>hour</th>\n",
       "    </tr>\n",
       "  </thead>\n",
       "  <tbody>\n",
       "    <tr>\n",
       "      <th>0</th>\n",
       "      <td>20181002033126</td>\n",
       "      <td>1366</td>\n",
       "      <td>2064</td>\n",
       "      <td>96</td>\n",
       "      <td>1538444060776</td>\n",
       "      <td>1</td>\n",
       "      <td>1</td>\n",
       "    </tr>\n",
       "    <tr>\n",
       "      <th>1</th>\n",
       "      <td>20181001211223</td>\n",
       "      <td>1366</td>\n",
       "      <td>1611</td>\n",
       "      <td>18</td>\n",
       "      <td>1538421318262</td>\n",
       "      <td>0</td>\n",
       "      <td>19</td>\n",
       "    </tr>\n",
       "    <tr>\n",
       "      <th>2</th>\n",
       "      <td>20181001170952</td>\n",
       "      <td>1366</td>\n",
       "      <td>2284</td>\n",
       "      <td>54</td>\n",
       "      <td>1538406739854</td>\n",
       "      <td>0</td>\n",
       "      <td>15</td>\n",
       "    </tr>\n",
       "  </tbody>\n",
       "</table>\n",
       "</div>"
      ],
      "text/plain": [
       "           log_id  doc_width  doc_height  time_spent           date  week_day  \\\n",
       "0  20181002033126       1366        2064          96  1538444060776         1   \n",
       "1  20181001211223       1366        1611          18  1538421318262         0   \n",
       "2  20181001170952       1366        2284          54  1538406739854         0   \n",
       "\n",
       "   hour  \n",
       "0     1  \n",
       "1    19  \n",
       "2    15  "
      ]
     },
     "execution_count": 152,
     "metadata": {},
     "output_type": "execute_result"
    }
   ],
   "source": [
    "import time\n",
    "\n",
    "user_behavior[\"week_day\"] = 0\n",
    "user_behavior[\"hour\"] = 0\n",
    "\n",
    "for index,row in user_behavior.iterrows():\n",
    "    epoch = int(row[\"date\"]) / 1000\n",
    "    user_behavior.at[index,\"week_day\"] = time.gmtime(epoch).tm_wday\n",
    "    user_behavior.at[index,\"hour\"] = time.gmtime(epoch).tm_hour\n",
    "\n",
    "user_behavior.head(3)"
   ]
  },
  {
   "cell_type": "markdown",
   "metadata": {},
   "source": [
    "- ### `Extract CSV Data Consist Of User Behavior`\n",
    "\n",
    "In this step, we modeled the user's behavior such as clicking into a two-dimensional array.\n",
    "\n",
    "We are faced with six different event models, including ‍`click` , `mouseup`, `mouseover`, `mousedown`, `mousemove`, `contextmenu`, `scroll` which we have tested four types to record as effective data."
   ]
  },
  {
   "cell_type": "code",
   "execution_count": 153,
   "metadata": {},
   "outputs": [
    {
     "data": {
      "text/html": [
       "<div>\n",
       "<style scoped>\n",
       "    .dataframe tbody tr th:only-of-type {\n",
       "        vertical-align: middle;\n",
       "    }\n",
       "\n",
       "    .dataframe tbody tr th {\n",
       "        vertical-align: top;\n",
       "    }\n",
       "\n",
       "    .dataframe thead th {\n",
       "        text-align: right;\n",
       "    }\n",
       "</style>\n",
       "<table border=\"1\" class=\"dataframe\">\n",
       "  <thead>\n",
       "    <tr style=\"text-align: right;\">\n",
       "      <th></th>\n",
       "      <th>log_id</th>\n",
       "      <th>doc_width</th>\n",
       "      <th>doc_height</th>\n",
       "      <th>time_spent</th>\n",
       "      <th>date</th>\n",
       "      <th>week_day</th>\n",
       "      <th>hour</th>\n",
       "      <th>event0</th>\n",
       "      <th>event1</th>\n",
       "      <th>event2</th>\n",
       "      <th>...</th>\n",
       "      <th>event190</th>\n",
       "      <th>event191</th>\n",
       "      <th>event192</th>\n",
       "      <th>event193</th>\n",
       "      <th>event194</th>\n",
       "      <th>event195</th>\n",
       "      <th>event196</th>\n",
       "      <th>event197</th>\n",
       "      <th>event198</th>\n",
       "      <th>event199</th>\n",
       "    </tr>\n",
       "  </thead>\n",
       "  <tbody>\n",
       "    <tr>\n",
       "      <th>0</th>\n",
       "      <td>20181002033126</td>\n",
       "      <td>1366</td>\n",
       "      <td>2064</td>\n",
       "      <td>96</td>\n",
       "      <td>1538444060776</td>\n",
       "      <td>1</td>\n",
       "      <td>1</td>\n",
       "      <td>0</td>\n",
       "      <td>96</td>\n",
       "      <td>0</td>\n",
       "      <td>...</td>\n",
       "      <td>0</td>\n",
       "      <td>0</td>\n",
       "      <td>0</td>\n",
       "      <td>0</td>\n",
       "      <td>0</td>\n",
       "      <td>0</td>\n",
       "      <td>0</td>\n",
       "      <td>0</td>\n",
       "      <td>0</td>\n",
       "      <td>0</td>\n",
       "    </tr>\n",
       "    <tr>\n",
       "      <th>1</th>\n",
       "      <td>20181001211223</td>\n",
       "      <td>1366</td>\n",
       "      <td>1611</td>\n",
       "      <td>18</td>\n",
       "      <td>1538421318262</td>\n",
       "      <td>0</td>\n",
       "      <td>19</td>\n",
       "      <td>0</td>\n",
       "      <td>18</td>\n",
       "      <td>0</td>\n",
       "      <td>...</td>\n",
       "      <td>0</td>\n",
       "      <td>0</td>\n",
       "      <td>0</td>\n",
       "      <td>0</td>\n",
       "      <td>0</td>\n",
       "      <td>0</td>\n",
       "      <td>0</td>\n",
       "      <td>0</td>\n",
       "      <td>0</td>\n",
       "      <td>0</td>\n",
       "    </tr>\n",
       "    <tr>\n",
       "      <th>2</th>\n",
       "      <td>20181001170952</td>\n",
       "      <td>1366</td>\n",
       "      <td>2284</td>\n",
       "      <td>54</td>\n",
       "      <td>1538406739854</td>\n",
       "      <td>0</td>\n",
       "      <td>15</td>\n",
       "      <td>0</td>\n",
       "      <td>54</td>\n",
       "      <td>0</td>\n",
       "      <td>...</td>\n",
       "      <td>0</td>\n",
       "      <td>0</td>\n",
       "      <td>0</td>\n",
       "      <td>0</td>\n",
       "      <td>0</td>\n",
       "      <td>0</td>\n",
       "      <td>0</td>\n",
       "      <td>0</td>\n",
       "      <td>0</td>\n",
       "      <td>0</td>\n",
       "    </tr>\n",
       "  </tbody>\n",
       "</table>\n",
       "<p>3 rows × 207 columns</p>\n",
       "</div>"
      ],
      "text/plain": [
       "           log_id  doc_width  doc_height  time_spent           date  week_day  \\\n",
       "0  20181002033126       1366        2064          96  1538444060776         1   \n",
       "1  20181001211223       1366        1611          18  1538421318262         0   \n",
       "2  20181001170952       1366        2284          54  1538406739854         0   \n",
       "\n",
       "   hour  event0  event1  event2  ...  event190  event191  event192  event193  \\\n",
       "0     1       0      96       0  ...         0         0         0         0   \n",
       "1    19       0      18       0  ...         0         0         0         0   \n",
       "2    15       0      54       0  ...         0         0         0         0   \n",
       "\n",
       "   event194  event195  event196  event197  event198  event199  \n",
       "0         0         0         0         0         0         0  \n",
       "1         0         0         0         0         0         0  \n",
       "2         0         0         0         0         0         0  \n",
       "\n",
       "[3 rows x 207 columns]"
      ]
     },
     "execution_count": 153,
     "metadata": {},
     "output_type": "execute_result"
    }
   ],
   "source": [
    "import numpy as np\n",
    "\n",
    "event = {\"click\":1, \"mouseup\":2, \"mouseover\":3, \"mousedown\":4}\n",
    "w = 10\n",
    "h = 10\n",
    "matrix1 = []\n",
    "\n",
    "for index1,row1 in user_behavior.iterrows():\n",
    "\n",
    "    matrix_event = np.array([[(0,0) for x in range(w)] for y in range(h)])\n",
    "\n",
    "    df2 = log_csv_df[row1['log_id']]\n",
    "    start_time = df2.at[0,\"timestamp\"]\n",
    "\n",
    "    for index, row in df2.iterrows():\n",
    "        xpos = (int(row[\"xpos\"])/row1[\"doc_width\"]) * w\n",
    "        xpos = min(w-1,int(xpos))\n",
    "\n",
    "        ypos = (int(row[\"ypos\"])/row1[\"doc_height\"]) * h\n",
    "        ypos = min(h-1,int(ypos))\n",
    "\n",
    "        event_type = event.get(row[\"event\"]) or 0 \n",
    "        event_time = int((row[\"timestamp\"] - start_time)/1000)\n",
    "        # event type: click, mouseup, mouseover, mousedown     event time\n",
    "        matrix_event[xpos][ypos] = (event_type,  event_time)\n",
    "\n",
    "\n",
    "    matrix_event = matrix_event.flatten()\n",
    "    matrix1.append(matrix_event)\n",
    "\n",
    "\n",
    "# dimension of matrix\n",
    "dim = h * w * 2\n",
    "matrix1 = pd.DataFrame(matrix1, columns=[f\"event{i}\" for i in range(dim)])\n",
    "\n",
    "\n",
    "user_dataset = pd.concat([user_behavior, matrix1], axis=1)\n",
    "\n",
    "user_dataset.head(3)"
   ]
  },
  {
   "cell_type": "markdown",
   "metadata": {},
   "source": [
    "----\n",
    "# 2. Data Preprocessing\n",
    "\n",
    "Data preprocessing is a crucial step in machine learning projects, as it involves transforming raw data into a format that is suitable for modeling. The quality and structure of the data greatly influence the performance of the machine learning models."
   ]
  },
  {
   "cell_type": "markdown",
   "metadata": {},
   "source": [
    "## 2.1 Merge Data frames\n",
    "\n",
    "Merging two dataframes is a fundamental operation in data manipulation, allowing you to combine data from different sources based on common columns. In Python, you can achieve this using the merge() function provided by the Pandas library. "
   ]
  },
  {
   "cell_type": "code",
   "execution_count": 154,
   "metadata": {},
   "outputs": [
    {
     "name": "stdout",
     "output_type": "stream",
     "text": [
      "<class 'pandas.core.frame.DataFrame'>\n",
      "RangeIndex: 2909 entries, 0 to 2908\n",
      "Columns: 214 entries, country to event199\n",
      "dtypes: int64(208), object(6)\n",
      "memory usage: 4.7+ MB\n"
     ]
    }
   ],
   "source": [
    "dataset = participants.merge(groundtruth, on=\"log_id\", how=\"inner\")\n",
    "dataset = dataset.merge(user_dataset, on=\"log_id\", how=\"inner\")\n",
    "dataset.info()"
   ]
  },
  {
   "cell_type": "markdown",
   "metadata": {},
   "source": [
    "## 2.2 Country Parameter\n",
    "\n",
    "In this code snippet, I aimed to address the issue of low-value countries in the dataset. Here's what I did:\n",
    "\n",
    " I identified the countries with low occurrences in the dataset. To do this, I counted the occurrences of each country using the value_counts() function and stored the indices of countries with fewer than 50 occurrences in the low_value_countries variable.\n",
    "\n",
    "After that, I replaced the low-value country names with \"OTHER\" in the DataFrame to combine them. I accomplished this using boolean indexing to locate the rows where the country was one of the low-value countries and then replacing those country names with \"Other\".\n",
    "\n",
    "This preprocessing step ensures that countries with sparse data are combined into a single category, simplifying the dataset and making it easier to analyze."
   ]
  },
  {
   "cell_type": "code",
   "execution_count": 155,
   "metadata": {},
   "outputs": [
    {
     "data": {
      "text/plain": [
       "country\n",
       "USA    1768\n",
       "VEN     368\n",
       "GBR     209\n",
       "CAN      77\n",
       "EGY      38\n",
       "       ... \n",
       "BOL       1\n",
       "DNK       1\n",
       "MYS       1\n",
       "KWT       1\n",
       "HUN       1\n",
       "Name: count, Length: 69, dtype: int64"
      ]
     },
     "execution_count": 155,
     "metadata": {},
     "output_type": "execute_result"
    }
   ],
   "source": [
    "dataset[\"country\"].value_counts()"
   ]
  },
  {
   "cell_type": "code",
   "execution_count": 156,
   "metadata": {},
   "outputs": [
    {
     "data": {
      "text/plain": [
       "country\n",
       "USA      1768\n",
       "OTHER     487\n",
       "VEN       368\n",
       "GBR       209\n",
       "CAN        77\n",
       "Name: count, dtype: int64"
      ]
     },
     "execution_count": 156,
     "metadata": {},
     "output_type": "execute_result"
    }
   ],
   "source": [
    "temp = dataset[\"country\"].value_counts()\n",
    "low_rep = temp[temp < 50].index\n",
    "dataset[\"country\"] = dataset[\"country\"].replace(low_rep, \"OTHER\")\n",
    "dataset[\"country\"].value_counts()"
   ]
  },
  {
   "cell_type": "markdown",
   "metadata": {},
   "source": [
    "## 2.3 Category Parameter\n",
    "\n",
    "Just like the country classification, the categories with low values were combined with each other. We did the same here."
   ]
  },
  {
   "cell_type": "code",
   "execution_count": 157,
   "metadata": {},
   "outputs": [
    {
     "data": {
      "text/plain": [
       "ad_category\n",
       "Computers & Electronics           805\n",
       "Shop - Apparel                    479\n",
       "Shop - Luxury Goods               440\n",
       "Travel                            231\n",
       "Shop - Sporting Goods             213\n",
       "Shop - Photo & Video Services     207\n",
       "Shop - Toys                       126\n",
       "Games                             110\n",
       "Shop - Wholesalers & Liquidatr     87\n",
       "Shop - Event Ticket Sales          76\n",
       "Autos & Vehicles                   62\n",
       "Shop - Gifts & Special Event       38\n",
       "Food & Drink                       18\n",
       "Real Estate                        17\n",
       "Name: count, dtype: int64"
      ]
     },
     "execution_count": 157,
     "metadata": {},
     "output_type": "execute_result"
    }
   ],
   "source": [
    "dataset[\"ad_category\"].value_counts()"
   ]
  },
  {
   "cell_type": "code",
   "execution_count": 158,
   "metadata": {},
   "outputs": [
    {
     "data": {
      "text/plain": [
       "ad_category\n",
       "Computers & Electronics          805\n",
       "Shop - Apparel                   479\n",
       "Shop - Luxury Goods              440\n",
       "OTHER                            298\n",
       "Travel                           231\n",
       "Shop - Sporting Goods            213\n",
       "Shop - Photo & Video Services    207\n",
       "Shop - Toys                      126\n",
       "Games                            110\n",
       "Name: count, dtype: int64"
      ]
     },
     "execution_count": 158,
     "metadata": {},
     "output_type": "execute_result"
    }
   ],
   "source": [
    "temp = dataset[\"ad_category\"].value_counts()\n",
    "low_rep = temp[temp < 100].index\n",
    "dataset[\"ad_category\"] = dataset[\"ad_category\"].replace(low_rep, \"OTHER\")\n",
    "dataset[\"ad_category\"].value_counts()"
   ]
  },
  {
   "cell_type": "markdown",
   "metadata": {},
   "source": [
    "## 2.4 Convert Categorical Values To Numeral Values\n",
    "To convert categorical values to numerical values, we can use techniques like Label Encoding."
   ]
  },
  {
   "cell_type": "code",
   "execution_count": 159,
   "metadata": {},
   "outputs": [],
   "source": [
    "from sklearn.preprocessing import LabelEncoder\n",
    "\n",
    "# Initialize LabelEncoder\n",
    "label_encoder = LabelEncoder()\n",
    "\n",
    "categories = [\"query\", \"country\", \"ad_type\", \"ad_position\", \"ad_category\", \"serp_id\"]\n",
    "\n",
    "for cat_name in categories:\n",
    "    dataset[cat_name] = label_encoder.fit_transform(dataset[cat_name])"
   ]
  },
  {
   "cell_type": "markdown",
   "metadata": {},
   "source": [
    "## 2.5 Check For Missing Values\n",
    "\n",
    "In data analysis, null values represent missing or undefined data. Dealing with null values is crucial because they can impact the accuracy and reliability of your analysis.\n",
    "\n",
    "Handling null values correctly is essential for accurate analysis and modeling.\n",
    "\n",
    "Fortunately, we don't have an null values in the data and it can remain unchanged."
   ]
  },
  {
   "cell_type": "code",
   "execution_count": 160,
   "metadata": {},
   "outputs": [
    {
     "data": {
      "text/html": [
       "<div>\n",
       "<style scoped>\n",
       "    .dataframe tbody tr th:only-of-type {\n",
       "        vertical-align: middle;\n",
       "    }\n",
       "\n",
       "    .dataframe tbody tr th {\n",
       "        vertical-align: top;\n",
       "    }\n",
       "\n",
       "    .dataframe thead th {\n",
       "        text-align: right;\n",
       "    }\n",
       "</style>\n",
       "<table border=\"1\" class=\"dataframe\">\n",
       "  <thead>\n",
       "    <tr style=\"text-align: right;\">\n",
       "      <th></th>\n",
       "      <th>num of nulls</th>\n",
       "      <th>num of unique</th>\n",
       "    </tr>\n",
       "  </thead>\n",
       "  <tbody>\n",
       "    <tr>\n",
       "      <th>country</th>\n",
       "      <td>0</td>\n",
       "      <td>5</td>\n",
       "    </tr>\n",
       "    <tr>\n",
       "      <th>ad_position</th>\n",
       "      <td>0</td>\n",
       "      <td>2</td>\n",
       "    </tr>\n",
       "    <tr>\n",
       "      <th>ad_type</th>\n",
       "      <td>0</td>\n",
       "      <td>2</td>\n",
       "    </tr>\n",
       "    <tr>\n",
       "      <th>ad_category</th>\n",
       "      <td>0</td>\n",
       "      <td>9</td>\n",
       "    </tr>\n",
       "    <tr>\n",
       "      <th>serp_id</th>\n",
       "      <td>0</td>\n",
       "      <td>63</td>\n",
       "    </tr>\n",
       "    <tr>\n",
       "      <th>query</th>\n",
       "      <td>0</td>\n",
       "      <td>55</td>\n",
       "    </tr>\n",
       "    <tr>\n",
       "      <th>log_id</th>\n",
       "      <td>0</td>\n",
       "      <td>2909</td>\n",
       "    </tr>\n",
       "  </tbody>\n",
       "</table>\n",
       "</div>"
      ],
      "text/plain": [
       "             num of nulls  num of unique\n",
       "country                 0              5\n",
       "ad_position             0              2\n",
       "ad_type                 0              2\n",
       "ad_category             0              9\n",
       "serp_id                 0             63\n",
       "query                   0             55\n",
       "log_id                  0           2909"
      ]
     },
     "execution_count": 160,
     "metadata": {},
     "output_type": "execute_result"
    }
   ],
   "source": [
    "# Count the number of null values in each feature\n",
    "num_null_value = dataset.isnull().sum()\n",
    "\n",
    "# Determine the number of unique values in each feature\n",
    "num_unique_value = dataset.nunique()\n",
    "\n",
    "# Create a summary dataframe combining null and unique value counts\n",
    "df_summary = pd.concat([num_null_value,num_unique_value], axis='columns', keys= ['num of nulls', 'num of unique'])\n",
    "df_summary[:7]"
   ]
  },
  {
   "cell_type": "markdown",
   "metadata": {},
   "source": [
    "## 2.6 Filter Data Based On Time Spent\n",
    "To filter users who spent less than 5 seconds on the website, we can use the timestamp and cursor timestamp columns in the user behavior dataset. We'll calculate the time spent by each user on the website and filter out users who spent less than 5 seconds."
   ]
  },
  {
   "cell_type": "code",
   "execution_count": 161,
   "metadata": {},
   "outputs": [
    {
     "data": {
      "text/html": [
       "<div>\n",
       "<style scoped>\n",
       "    .dataframe tbody tr th:only-of-type {\n",
       "        vertical-align: middle;\n",
       "    }\n",
       "\n",
       "    .dataframe tbody tr th {\n",
       "        vertical-align: top;\n",
       "    }\n",
       "\n",
       "    .dataframe thead th {\n",
       "        text-align: right;\n",
       "    }\n",
       "</style>\n",
       "<table border=\"1\" class=\"dataframe\">\n",
       "  <thead>\n",
       "    <tr style=\"text-align: right;\">\n",
       "      <th></th>\n",
       "      <th>country</th>\n",
       "      <th>ad_position</th>\n",
       "      <th>ad_type</th>\n",
       "      <th>ad_category</th>\n",
       "      <th>serp_id</th>\n",
       "      <th>query</th>\n",
       "      <th>log_id</th>\n",
       "      <th>ad_clicked</th>\n",
       "      <th>doc_width</th>\n",
       "      <th>doc_height</th>\n",
       "      <th>...</th>\n",
       "      <th>event190</th>\n",
       "      <th>event191</th>\n",
       "      <th>event192</th>\n",
       "      <th>event193</th>\n",
       "      <th>event194</th>\n",
       "      <th>event195</th>\n",
       "      <th>event196</th>\n",
       "      <th>event197</th>\n",
       "      <th>event198</th>\n",
       "      <th>event199</th>\n",
       "    </tr>\n",
       "  </thead>\n",
       "  <tbody>\n",
       "    <tr>\n",
       "      <th>0</th>\n",
       "      <td>2</td>\n",
       "      <td>0</td>\n",
       "      <td>0</td>\n",
       "      <td>0</td>\n",
       "      <td>61</td>\n",
       "      <td>53</td>\n",
       "      <td>20181002033126</td>\n",
       "      <td>0</td>\n",
       "      <td>1366</td>\n",
       "      <td>2064</td>\n",
       "      <td>...</td>\n",
       "      <td>0</td>\n",
       "      <td>0</td>\n",
       "      <td>0</td>\n",
       "      <td>0</td>\n",
       "      <td>0</td>\n",
       "      <td>0</td>\n",
       "      <td>0</td>\n",
       "      <td>0</td>\n",
       "      <td>0</td>\n",
       "      <td>0</td>\n",
       "    </tr>\n",
       "    <tr>\n",
       "      <th>1</th>\n",
       "      <td>4</td>\n",
       "      <td>1</td>\n",
       "      <td>0</td>\n",
       "      <td>4</td>\n",
       "      <td>15</td>\n",
       "      <td>14</td>\n",
       "      <td>20181001211223</td>\n",
       "      <td>1</td>\n",
       "      <td>1366</td>\n",
       "      <td>1611</td>\n",
       "      <td>...</td>\n",
       "      <td>0</td>\n",
       "      <td>0</td>\n",
       "      <td>0</td>\n",
       "      <td>0</td>\n",
       "      <td>0</td>\n",
       "      <td>0</td>\n",
       "      <td>0</td>\n",
       "      <td>0</td>\n",
       "      <td>0</td>\n",
       "      <td>0</td>\n",
       "    </tr>\n",
       "    <tr>\n",
       "      <th>2</th>\n",
       "      <td>4</td>\n",
       "      <td>0</td>\n",
       "      <td>1</td>\n",
       "      <td>4</td>\n",
       "      <td>16</td>\n",
       "      <td>15</td>\n",
       "      <td>20181001170952</td>\n",
       "      <td>0</td>\n",
       "      <td>1366</td>\n",
       "      <td>2284</td>\n",
       "      <td>...</td>\n",
       "      <td>0</td>\n",
       "      <td>0</td>\n",
       "      <td>0</td>\n",
       "      <td>0</td>\n",
       "      <td>0</td>\n",
       "      <td>0</td>\n",
       "      <td>0</td>\n",
       "      <td>0</td>\n",
       "      <td>0</td>\n",
       "      <td>0</td>\n",
       "    </tr>\n",
       "  </tbody>\n",
       "</table>\n",
       "<p>3 rows × 214 columns</p>\n",
       "</div>"
      ],
      "text/plain": [
       "   country  ad_position  ad_type  ad_category  serp_id  query          log_id  \\\n",
       "0        2            0        0            0       61     53  20181002033126   \n",
       "1        4            1        0            4       15     14  20181001211223   \n",
       "2        4            0        1            4       16     15  20181001170952   \n",
       "\n",
       "   ad_clicked  doc_width  doc_height  ...  event190  event191  event192  \\\n",
       "0           0       1366        2064  ...         0         0         0   \n",
       "1           1       1366        1611  ...         0         0         0   \n",
       "2           0       1366        2284  ...         0         0         0   \n",
       "\n",
       "   event193  event194  event195  event196  event197  event198  event199  \n",
       "0         0         0         0         0         0         0         0  \n",
       "1         0         0         0         0         0         0         0  \n",
       "2         0         0         0         0         0         0         0  \n",
       "\n",
       "[3 rows x 214 columns]"
      ]
     },
     "execution_count": 161,
     "metadata": {},
     "output_type": "execute_result"
    }
   ],
   "source": [
    "dataset = dataset[dataset[\"time_spent\"] > 5]\n",
    "dataset = dataset.reset_index(drop=True)\n",
    "dataset.head(3)"
   ]
  },
  {
   "cell_type": "markdown",
   "metadata": {},
   "source": [
    "## 2.7 Check Value Count Ad Click\n",
    "\n",
    "the class imbalance in the `ad_clicked` data could potentially affect the model's performance. With 1861 rows labeled as 0 and only 557 rows labeled as 1, the model may become biased toward predicting the majority class (0)."
   ]
  },
  {
   "cell_type": "code",
   "execution_count": 162,
   "metadata": {},
   "outputs": [
    {
     "data": {
      "text/plain": [
       "ad_clicked\n",
       "0    1861\n",
       "1     557\n",
       "Name: count, dtype: int64"
      ]
     },
     "execution_count": 162,
     "metadata": {},
     "output_type": "execute_result"
    }
   ],
   "source": [
    "dataset[\"ad_clicked\"].value_counts()"
   ]
  },
  {
   "cell_type": "markdown",
   "metadata": {},
   "source": [
    "----\n",
    "# 3. Feature Selection\n",
    "\n",
    "Feature Selection is the process of selecting a subset of relevant features for use in machine learning model building.\n",
    "\n",
    "It is not always the truth that the more data, the better the result will be. Including irrelevant features (the ones that are just unhelpful to the prediction) and redundant features (irrelevant in the presence of others) will only make the learning process overwhelmed and easy to cause overfitting.\n",
    "\n",
    "By reducing the number of features, we can improve the performance of the machine learning models, while reducing training time and creating more interpretable machine learning models."
   ]
  },
  {
   "cell_type": "markdown",
   "metadata": {},
   "source": [
    "## 3.1 Remove Unnecessary Columns\n",
    "\n",
    "In this step, we preprocess the datasets to remove unnecessary features and prepare them for further analysis."
   ]
  },
  {
   "cell_type": "code",
   "execution_count": 163,
   "metadata": {},
   "outputs": [
    {
     "data": {
      "text/plain": [
       "211"
      ]
     },
     "execution_count": 163,
     "metadata": {},
     "output_type": "execute_result"
    }
   ],
   "source": [
    "\n",
    "dataset = dataset.drop([\"doc_width\", \"doc_height\", \"log_id\"], axis=1)\n",
    "len(dataset.columns)"
   ]
  },
  {
   "cell_type": "markdown",
   "metadata": {},
   "source": [
    "## 3.2 Correlation Between Features\n",
    "A correlation coefficient of 1 indicates a perfect positive linear relationship between two variables. In other words, when one variable increases, the other variable also increases proportionally."
   ]
  },
  {
   "cell_type": "code",
   "execution_count": 164,
   "metadata": {},
   "outputs": [
    {
     "data": {
      "text/html": [
       "<div>\n",
       "<style scoped>\n",
       "    .dataframe tbody tr th:only-of-type {\n",
       "        vertical-align: middle;\n",
       "    }\n",
       "\n",
       "    .dataframe tbody tr th {\n",
       "        vertical-align: top;\n",
       "    }\n",
       "\n",
       "    .dataframe thead th {\n",
       "        text-align: right;\n",
       "    }\n",
       "</style>\n",
       "<table border=\"1\" class=\"dataframe\">\n",
       "  <thead>\n",
       "    <tr style=\"text-align: right;\">\n",
       "      <th></th>\n",
       "      <th>ad_clicked</th>\n",
       "      <th>country</th>\n",
       "      <th>ad_position</th>\n",
       "      <th>ad_type</th>\n",
       "      <th>ad_category</th>\n",
       "      <th>serp_id</th>\n",
       "      <th>query</th>\n",
       "      <th>time_spent</th>\n",
       "      <th>week_day</th>\n",
       "      <th>hour</th>\n",
       "    </tr>\n",
       "  </thead>\n",
       "  <tbody>\n",
       "    <tr>\n",
       "      <th>ad_clicked</th>\n",
       "      <td>1.000000</td>\n",
       "      <td>0.093932</td>\n",
       "      <td>-0.177069</td>\n",
       "      <td>0.069452</td>\n",
       "      <td>-0.063096</td>\n",
       "      <td>0.056782</td>\n",
       "      <td>0.060100</td>\n",
       "      <td>0.037232</td>\n",
       "      <td>-0.011474</td>\n",
       "      <td>-0.001041</td>\n",
       "    </tr>\n",
       "    <tr>\n",
       "      <th>country</th>\n",
       "      <td>0.093932</td>\n",
       "      <td>1.000000</td>\n",
       "      <td>0.002907</td>\n",
       "      <td>0.004842</td>\n",
       "      <td>0.024643</td>\n",
       "      <td>0.002144</td>\n",
       "      <td>0.004591</td>\n",
       "      <td>0.006500</td>\n",
       "      <td>-0.134246</td>\n",
       "      <td>0.017579</td>\n",
       "    </tr>\n",
       "    <tr>\n",
       "      <th>ad_position</th>\n",
       "      <td>-0.177069</td>\n",
       "      <td>0.002907</td>\n",
       "      <td>1.000000</td>\n",
       "      <td>-0.487027</td>\n",
       "      <td>0.243832</td>\n",
       "      <td>-0.258858</td>\n",
       "      <td>-0.258887</td>\n",
       "      <td>-0.014017</td>\n",
       "      <td>-0.033001</td>\n",
       "      <td>0.029131</td>\n",
       "    </tr>\n",
       "    <tr>\n",
       "      <th>ad_type</th>\n",
       "      <td>0.069452</td>\n",
       "      <td>0.004842</td>\n",
       "      <td>-0.487027</td>\n",
       "      <td>1.000000</td>\n",
       "      <td>0.167319</td>\n",
       "      <td>-0.060023</td>\n",
       "      <td>-0.062236</td>\n",
       "      <td>0.028772</td>\n",
       "      <td>0.009073</td>\n",
       "      <td>0.045971</td>\n",
       "    </tr>\n",
       "    <tr>\n",
       "      <th>ad_category</th>\n",
       "      <td>-0.063096</td>\n",
       "      <td>0.024643</td>\n",
       "      <td>0.243832</td>\n",
       "      <td>0.167319</td>\n",
       "      <td>1.000000</td>\n",
       "      <td>-0.407683</td>\n",
       "      <td>-0.418692</td>\n",
       "      <td>-0.000238</td>\n",
       "      <td>-0.030711</td>\n",
       "      <td>0.059191</td>\n",
       "    </tr>\n",
       "    <tr>\n",
       "      <th>serp_id</th>\n",
       "      <td>0.056782</td>\n",
       "      <td>0.002144</td>\n",
       "      <td>-0.258858</td>\n",
       "      <td>-0.060023</td>\n",
       "      <td>-0.407683</td>\n",
       "      <td>1.000000</td>\n",
       "      <td>0.997231</td>\n",
       "      <td>0.016445</td>\n",
       "      <td>0.035811</td>\n",
       "      <td>-0.001528</td>\n",
       "    </tr>\n",
       "    <tr>\n",
       "      <th>query</th>\n",
       "      <td>0.060100</td>\n",
       "      <td>0.004591</td>\n",
       "      <td>-0.258887</td>\n",
       "      <td>-0.062236</td>\n",
       "      <td>-0.418692</td>\n",
       "      <td>0.997231</td>\n",
       "      <td>1.000000</td>\n",
       "      <td>0.016892</td>\n",
       "      <td>0.035628</td>\n",
       "      <td>-0.000571</td>\n",
       "    </tr>\n",
       "    <tr>\n",
       "      <th>time_spent</th>\n",
       "      <td>0.037232</td>\n",
       "      <td>0.006500</td>\n",
       "      <td>-0.014017</td>\n",
       "      <td>0.028772</td>\n",
       "      <td>-0.000238</td>\n",
       "      <td>0.016445</td>\n",
       "      <td>0.016892</td>\n",
       "      <td>1.000000</td>\n",
       "      <td>-0.001437</td>\n",
       "      <td>0.016220</td>\n",
       "    </tr>\n",
       "    <tr>\n",
       "      <th>week_day</th>\n",
       "      <td>-0.011474</td>\n",
       "      <td>-0.134246</td>\n",
       "      <td>-0.033001</td>\n",
       "      <td>0.009073</td>\n",
       "      <td>-0.030711</td>\n",
       "      <td>0.035811</td>\n",
       "      <td>0.035628</td>\n",
       "      <td>-0.001437</td>\n",
       "      <td>1.000000</td>\n",
       "      <td>-0.106229</td>\n",
       "    </tr>\n",
       "    <tr>\n",
       "      <th>hour</th>\n",
       "      <td>-0.001041</td>\n",
       "      <td>0.017579</td>\n",
       "      <td>0.029131</td>\n",
       "      <td>0.045971</td>\n",
       "      <td>0.059191</td>\n",
       "      <td>-0.001528</td>\n",
       "      <td>-0.000571</td>\n",
       "      <td>0.016220</td>\n",
       "      <td>-0.106229</td>\n",
       "      <td>1.000000</td>\n",
       "    </tr>\n",
       "  </tbody>\n",
       "</table>\n",
       "</div>"
      ],
      "text/plain": [
       "             ad_clicked   country  ad_position   ad_type  ad_category  \\\n",
       "ad_clicked     1.000000  0.093932    -0.177069  0.069452    -0.063096   \n",
       "country        0.093932  1.000000     0.002907  0.004842     0.024643   \n",
       "ad_position   -0.177069  0.002907     1.000000 -0.487027     0.243832   \n",
       "ad_type        0.069452  0.004842    -0.487027  1.000000     0.167319   \n",
       "ad_category   -0.063096  0.024643     0.243832  0.167319     1.000000   \n",
       "serp_id        0.056782  0.002144    -0.258858 -0.060023    -0.407683   \n",
       "query          0.060100  0.004591    -0.258887 -0.062236    -0.418692   \n",
       "time_spent     0.037232  0.006500    -0.014017  0.028772    -0.000238   \n",
       "week_day      -0.011474 -0.134246    -0.033001  0.009073    -0.030711   \n",
       "hour          -0.001041  0.017579     0.029131  0.045971     0.059191   \n",
       "\n",
       "              serp_id     query  time_spent  week_day      hour  \n",
       "ad_clicked   0.056782  0.060100    0.037232 -0.011474 -0.001041  \n",
       "country      0.002144  0.004591    0.006500 -0.134246  0.017579  \n",
       "ad_position -0.258858 -0.258887   -0.014017 -0.033001  0.029131  \n",
       "ad_type     -0.060023 -0.062236    0.028772  0.009073  0.045971  \n",
       "ad_category -0.407683 -0.418692   -0.000238 -0.030711  0.059191  \n",
       "serp_id      1.000000  0.997231    0.016445  0.035811 -0.001528  \n",
       "query        0.997231  1.000000    0.016892  0.035628 -0.000571  \n",
       "time_spent   0.016445  0.016892    1.000000 -0.001437  0.016220  \n",
       "week_day     0.035811  0.035628   -0.001437  1.000000 -0.106229  \n",
       "hour        -0.001528 -0.000571    0.016220 -0.106229  1.000000  "
      ]
     },
     "metadata": {},
     "output_type": "display_data"
    },
    {
     "data": {
      "image/png": "[encoded data removed]",
      "text/plain": [
       "<Figure size 800x600 with 2 Axes>"
      ]
     },
     "metadata": {},
     "output_type": "display_data"
    }
   ],
   "source": [
    "# pip3 install matplotlib\n",
    "import matplotlib.pyplot as plt\n",
    "# pip3 install seaborn\n",
    "import seaborn as sns\n",
    "\n",
    "# Create correlation matrix for features\n",
    "features_df = dataset[[\"ad_clicked\", \"country\", \"ad_position\", \"ad_type\", \"ad_category\", \"serp_id\", \"query\", \"time_spent\", \"week_day\", \"hour\"]]\n",
    "feature_corr = features_df.corr(numeric_only=True)\n",
    "\n",
    "# Display correlation matrix\n",
    "display(feature_corr)\n",
    "\n",
    "# Plot correlation matrix\n",
    "plt.figure(figsize=(8,6))\n",
    "sns.heatmap(feature_corr, annot=True, fmt='0.2f', linewidths=0.5, linecolor='Black', cmap='Spectral')\n",
    "plt.show()"
   ]
  },
  {
   "cell_type": "markdown",
   "metadata": {},
   "source": [
    "Having two parameters with a correlation of 1 can lead to multicollinearity issues when building a predictive model. Multicollinearity occurs when two or more independent variables are highly correlated with each other. This can cause issues in interpreting the model coefficients and can affect the stability and reliability of the model.\n",
    "\n",
    "In such cases, it's often necessary to remove one of the highly correlated features to address multicollinearity."
   ]
  },
  {
   "cell_type": "code",
   "execution_count": 165,
   "metadata": {},
   "outputs": [],
   "source": [
    "dataset = dataset.drop(\"serp_id\", axis=1)"
   ]
  },
  {
   "cell_type": "markdown",
   "metadata": {},
   "source": [
    "## 3.3 Correlation Between Features And Target\n",
    "\n",
    "If two parameters have a correlation of 1 with the target variable (ad_clicked), it means they are highly correlated and have a strong linear relationship with the target variable. This suggests that these parameters are good predictors of whether an ad will be clicked or not."
   ]
  },
  {
   "cell_type": "code",
   "execution_count": 166,
   "metadata": {},
   "outputs": [
    {
     "data": {
      "text/html": [
       "<div>\n",
       "<style scoped>\n",
       "    .dataframe tbody tr th:only-of-type {\n",
       "        vertical-align: middle;\n",
       "    }\n",
       "\n",
       "    .dataframe tbody tr th {\n",
       "        vertical-align: top;\n",
       "    }\n",
       "\n",
       "    .dataframe thead th {\n",
       "        text-align: right;\n",
       "    }\n",
       "</style>\n",
       "<table border=\"1\" class=\"dataframe\">\n",
       "  <thead>\n",
       "    <tr style=\"text-align: right;\">\n",
       "      <th></th>\n",
       "      <th>Corr</th>\n",
       "    </tr>\n",
       "  </thead>\n",
       "  <tbody>\n",
       "    <tr>\n",
       "      <th>ad_position</th>\n",
       "      <td>0.177069</td>\n",
       "    </tr>\n",
       "    <tr>\n",
       "      <th>country</th>\n",
       "      <td>0.093932</td>\n",
       "    </tr>\n",
       "    <tr>\n",
       "      <th>ad_type</th>\n",
       "      <td>0.069452</td>\n",
       "    </tr>\n",
       "    <tr>\n",
       "      <th>ad_category</th>\n",
       "      <td>0.063096</td>\n",
       "    </tr>\n",
       "    <tr>\n",
       "      <th>query</th>\n",
       "      <td>0.060100</td>\n",
       "    </tr>\n",
       "    <tr>\n",
       "      <th>time_spent</th>\n",
       "      <td>0.037232</td>\n",
       "    </tr>\n",
       "    <tr>\n",
       "      <th>week_day</th>\n",
       "      <td>0.011474</td>\n",
       "    </tr>\n",
       "    <tr>\n",
       "      <th>hour</th>\n",
       "      <td>0.001041</td>\n",
       "    </tr>\n",
       "  </tbody>\n",
       "</table>\n",
       "</div>"
      ],
      "text/plain": [
       "                 Corr\n",
       "ad_position  0.177069\n",
       "country      0.093932\n",
       "ad_type      0.069452\n",
       "ad_category  0.063096\n",
       "query        0.060100\n",
       "time_spent   0.037232\n",
       "week_day     0.011474\n",
       "hour         0.001041"
      ]
     },
     "execution_count": 166,
     "metadata": {},
     "output_type": "execute_result"
    }
   ],
   "source": [
    "# Calculate the correlation of features to target variable\n",
    "features_df = dataset[[\"ad_clicked\", \"country\", \"ad_position\", \"ad_type\", \"ad_category\", \"query\", \"time_spent\", \"week_day\", \"hour\"]]\n",
    "corr_to_target = features_df.corr(numeric_only=True)['ad_clicked']\n",
    "\n",
    "# Show results in Descending order\n",
    "cor_matrix_df = pd.DataFrame(corr_to_target.abs()).sort_values( 'ad_clicked', ascending=False)\n",
    "cor_matrix_df.drop('ad_clicked', axis=0, inplace=True)\n",
    "cor_matrix_df.rename(columns={'ad_clicked':'Corr'}, inplace=True)\n",
    "cor_matrix_df"
   ]
  },
  {
   "cell_type": "markdown",
   "metadata": {},
   "source": [
    "Since the visit time according to calculations has very little relationship with the target, it is better to remove this parameter."
   ]
  },
  {
   "cell_type": "code",
   "execution_count": 167,
   "metadata": {},
   "outputs": [],
   "source": [
    "dataset = dataset.drop(\"hour\", axis=1)"
   ]
  },
  {
   "cell_type": "markdown",
   "metadata": {},
   "source": [
    "## 3.4 Mutual Information\n",
    "Mutual information is a measure of the amount of information obtained about one random variable through the other random variable. It measures the amount of information gained about one variable through the other variable.\n",
    "\n",
    "In the context of feature selection, mutual information can be used to measure the dependency between a feature and the target variable. Features with high mutual information are considered to be more informative for predicting the target variable.\n",
    "\n",
    "Two benefits to using Mutual Information as feature selector:\n",
    "- The MI is model neutral, which means the solution can be applied to various kinds of ML models.\n",
    "- MI solution is fast. \n",
    "https://towardsdatascience.com/select-features-for-machine-learning-model-with-mutual-information-534fe387d5c8\n",
    "\n",
    "In our project, we can use mutual information to select the most relevant features for predicting whether an ad will be clicked or not."
   ]
  },
  {
   "cell_type": "code",
   "execution_count": 168,
   "metadata": {},
   "outputs": [
    {
     "name": "stdout",
     "output_type": "stream",
     "text": [
      "             Mutual Information\n",
      "query                  0.020649\n",
      "ad_category            0.014293\n",
      "country                0.012989\n",
      "time_spent             0.012777\n",
      "ad_position            0.009130\n",
      "ad_type                0.000000\n",
      "week_day               0.000000\n"
     ]
    }
   ],
   "source": [
    "from sklearn.feature_selection import mutual_info_classif\n",
    "\n",
    "# Selecting features and target variable\n",
    "df = dataset[[\"ad_clicked\",\"country\",\"ad_position\",\"ad_type\",\"ad_category\",\"query\",\"time_spent\", \"week_day\"]]\n",
    "X = df.drop('ad_clicked', axis=1)  # Features\n",
    "y = df['ad_clicked']  # Target variable\n",
    "\n",
    "# Calculate mutual information\n",
    "mutual_info = mutual_info_classif(X, y)\n",
    "\n",
    "# Create a DataFrame to display mutual information scores\n",
    "mutual_info_df = pd.DataFrame(mutual_info, index=X.columns, columns=['Mutual Information'])\n",
    "mutual_info_df = mutual_info_df.sort_values(by='Mutual Information', ascending=False)\n",
    "\n",
    "# Display mutual information scores\n",
    "print(mutual_info_df)"
   ]
  },
  {
   "cell_type": "markdown",
   "metadata": {},
   "source": [
    "This code will calculate the mutual information between each feature and the target variable (ad_clicked) and display the mutual information scores for each feature. Features with higher mutual information scores are more informative for predicting whether an ad will be clicked or not."
   ]
  },
  {
   "cell_type": "code",
   "execution_count": 169,
   "metadata": {},
   "outputs": [],
   "source": [
    "dataset = dataset.drop(\"ad_type\", axis=1)"
   ]
  },
  {
   "cell_type": "markdown",
   "metadata": {},
   "source": [
    "----"
   ]
  },
  {
   "cell_type": "markdown",
   "metadata": {},
   "source": [
    "# 4. Machine Learning\n",
    "\n",
    "In this section, we applied several machine learning models to predict whether a user will click on an advertisement based on their behavior on the website. The dataset was preprocessed to handle missing values, encode categorical variables, and address class imbalance."
   ]
  },
  {
   "cell_type": "markdown",
   "metadata": {},
   "source": [
    "## 4.1 Functions\n",
    "\n",
    "We have defined the useful functions that we need in the following sections here."
   ]
  },
  {
   "cell_type": "markdown",
   "metadata": {},
   "source": [
    "- ### `Confusion plot function`\n",
    "\n",
    "A confusion matrix is a table that is often used to describe the performance of a classification model on a set of test data for which the true values are known.\n",
    "\n",
    "[[TN  FP]\n",
    " [FN  TP]]\n",
    "\n",
    "TN, FP, FN, and TP represent the counts of true negatives, false positives, false negatives, and true positives, respectively."
   ]
  },
  {
   "cell_type": "code",
   "execution_count": 170,
   "metadata": {},
   "outputs": [],
   "source": [
    "import seaborn as sns\n",
    "import matplotlib.pyplot as plt\n",
    "from sklearn.metrics import confusion_matrix\n",
    "\n",
    "def confusion_plot(y_true, y_pred):\n",
    "    # Assuming y_true and y_pred are your actual and predicted binary labels\n",
    "    conf_matrix = confusion_matrix(y_true, y_pred)\n",
    "\n",
    "    # Plotting the confusion matrix as a heatmap\n",
    "    sns.heatmap(conf_matrix, annot=True, cmap='Blues', fmt='g')\n",
    "\n",
    "    plt.xlabel('Predicted labels')\n",
    "    plt.ylabel('True labels')\n",
    "    plt.title('Confusion Matrix')\n",
    "    plt.show()\n"
   ]
  },
  {
   "cell_type": "markdown",
   "metadata": {},
   "source": [
    "- ### `AUC curve plot function`\n",
    "\n",
    "AUC (Area Under the Curve) is a popular metric used to evaluate the performance of a classification model. The ROC (Receiver Operating Characteristic) curve is a plot of the true positive rate (TPR) against the false positive rate (FPR) for different threshold values. AUC represents the area under the ROC curve.\n",
    "\n",
    "AUC can be calculated using the trapezoidal rule or by summing the areas of individual trapezoids formed by adjacent points on the ROC curve."
   ]
  },
  {
   "cell_type": "code",
   "execution_count": 171,
   "metadata": {},
   "outputs": [],
   "source": [
    "import matplotlib.pyplot as plt\n",
    "from sklearn.metrics import auc\n",
    "\n",
    "def AUC_plot(y_true, y_scores, curve_func):\n",
    "    # Assuming y_true and y_scores are your actual binary labels and predicted probabilities\n",
    "    precision, recall, _ = curve_func(y_true, y_scores)\n",
    "    auc_score = auc(recall, precision)\n",
    "\n",
    "    # Plot precision-recall curve\n",
    "    plt.plot(recall, precision, label=f'Precision-Recall curve (AUC = {auc_score:.2f})', color='b')\n",
    "    plt.xlabel('Recall')\n",
    "    plt.ylabel('Precision')\n",
    "    plt.title('Precision-Recall Curve')\n",
    "    plt.legend(loc='best')\n",
    "    plt.show()\n"
   ]
  },
  {
   "cell_type": "markdown",
   "metadata": {},
   "source": [
    "## 4.2 One Hot Encoding\n",
    "Converting categorical parameters to dummy variables (also known as one-hot encoding) is necessary because most machine learning algorithms, including logistic regression, support numerical input only.\n",
    "\n",
    "Here's why we convert categorical parameters to dummy variables:\n",
    "\n",
    "1. `Numeric Representation:` Machine learning algorithms work with numerical data. By converting categorical variables into dummy variables, we transform them into a numeric format that can be used for modeling.\n",
    "\n",
    "2. `Preventing Bias:` Converting categorical variables to numerical ones prevents the algorithm from assigning any ordinal relationship to the categories. For example, if we have a categorical variable like \"color\" with categories \"red\", \"blue\", and \"green\", converting it to dummy variables ensures that the model doesn't interpret \"green\" as higher or lower than \"red\" or \"blue\".\n",
    "\n",
    "3. `Improved Model Performance:` By converting categorical variables to dummy variables, we can include them as features in our model. This can improve the performance of the model, as it allows the algorithm to understand and utilize the categorical information more effectively.\n",
    "\n",
    "4. `Interpretability:` Dummy variables make it easier to interpret the coefficients of categorical variables in the model output. Each dummy variable represents a category, and the coefficient associated with it represents the effect of that category on the target variable.\n",
    "\n",
    "Although we had previously changed the categorical values to numbers, but according to the above explanation, we found it better to convert them to dummies."
   ]
  },
  {
   "cell_type": "code",
   "execution_count": 172,
   "metadata": {},
   "outputs": [],
   "source": [
    "dataset_dummies = dataset\n",
    "dataset_dummies = pd.get_dummies(data=dataset, columns=[\"country\",\"ad_category\",\"query\"])"
   ]
  },
  {
   "cell_type": "markdown",
   "metadata": {},
   "source": [
    "## 4.3 Data Train/Test Split\n",
    "\n",
    "In machine learning, it's essential to evaluate the performance of the trained model on unseen data to assess its generalization ability. The train/test split is a common technique used to achieve this.\n",
    "\n",
    "1. Training Data\n",
    "\n",
    "2. Testing Data\n",
    "\n",
    "3. Splitting Data"
   ]
  },
  {
   "cell_type": "code",
   "execution_count": 173,
   "metadata": {},
   "outputs": [
    {
     "name": "stdout",
     "output_type": "stream",
     "text": [
      "Shape of features data set for ML models => (2418, 273)\n",
      "Shape of target for ML models => (2418,)\n"
     ]
    }
   ],
   "source": [
    "from sklearn.model_selection import train_test_split\n",
    "\n",
    "y = dataset_dummies[\"ad_clicked\"]\n",
    "X = dataset_dummies.drop(\"ad_clicked\", axis=1)\n",
    "\n",
    "X = X.astype(int)\n",
    "\n",
    "X_train, X_test, y_train, y_test = train_test_split(X, y, test_size=0.20, random_state=42)\n",
    "X_trainVal, X_testVal, y_trainVal, y_testVal  = train_test_split(X_train, y_train, test_size=0.25, random_state=42)\n",
    "\n",
    "print(f'Shape of features data set for ML models => {X.shape}')\n",
    "print(f'Shape of target for ML models => {y.shape}')"
   ]
  },
  {
   "cell_type": "code",
   "execution_count": 174,
   "metadata": {},
   "outputs": [],
   "source": [
    "# pip3`` install imbalanced-learn\n",
    "# from imblearn.over_sampling import SMOTE\n",
    "\n",
    "# # Instantiate SMOTE\n",
    "# smote = SMOTE(random_state=42)\n",
    "\n",
    "# # Resample the dataset\n",
    "# X_resampled, y_resampled = smote.fit_resample(X, y)\n",
    "\n",
    "# # Check the class distribution after resampling\n",
    "# print(\"After SMOTE:\")\n",
    "# print(pd.Series(y_resampled).value_counts())\n",
    "# X_resampled.head(5)\n"
   ]
  },
  {
   "cell_type": "markdown",
   "metadata": {},
   "source": [
    "## 4.4 Data Scaling\n",
    "\n",
    "Scaling the data is a crucial preprocessing step in machine learning for several reasons:\n",
    "\n",
    "1. **`Consistent Scale:`** Features with different scales might cause issues during model training. By scaling the features, we ensure that all features have the same scale, which can improve the convergence speed of some machine learning algorithms.\n",
    "\n",
    "2. **`Preventing Dominance:`** Features with larger scales might dominate those with smaller scales. Scaling prevents this dominance and ensures that each feature contributes equally to the model training process.\n",
    "\n",
    "3. **`Regularization:`** Some machine learning algorithms, such as gradient descent-based optimization algorithms, are sensitive to the scale of the input features. Scaling the features can help these algorithms converge more quickly.\n",
    "\n",
    "4. **`Interpretability:`** Scaling does not change the relationship between features, but it can make the interpretation of coefficients or feature importance more intuitive.\n",
    "\n",
    "In our case, we used ***StandardScaler*** from scikit-learn to scale our features. It standardizes features by removing the mean and scaling to unit variance.\n",
    "\n",
    "***Since scaling the data should only be implemented on numerical parameters, we only applied it to the time spent parameter.***"
   ]
  },
  {
   "cell_type": "code",
   "execution_count": 175,
   "metadata": {},
   "outputs": [],
   "source": [
    "from sklearn.preprocessing import StandardScaler\n",
    "\n",
    "# Feature scaling\n",
    "scaler1 = StandardScaler()\n",
    "X_train_scaled = scaler1.fit_transform(X_train)\n",
    "X_test_scaled = scaler1.transform(X_test)\n",
    "\n",
    "scaler2 = StandardScaler()\n",
    "X_trainVal_scaled = scaler2.fit_transform(X_trainVal)\n",
    "X_testVal_scaled = scaler2.transform(X_testVal)"
   ]
  },
  {
   "cell_type": "markdown",
   "metadata": {},
   "source": [
    "## 4.5 Naive Bayes \n",
    "\n",
    "Naive Bayes is a family of probabilistic algorithms based on Bayes' Theorem with the \"naive\" assumption of independence between every pair of features. Despite this simplifying assumption, Naive Bayes classifiers have been very successful in many real-world situations, famously in text classification problems such as spam filtering.\n",
    "\n",
    "**`Advantages`**\n",
    "- Naive Bayes is simple and easy to implement.\n",
    "- It performs well in many complex real-world situations.\n",
    "- It requires a small amount of training data to estimate the necessary parameters.\n",
    "\n",
    "**`Limitations`**\n",
    "- Naive Bayes assumes that features are independent, which is not always the case in real-world data.\n",
    "- It can be outperformed by more complex models.\n",
    "- It's sensitive to the presence of irrelevant features."
   ]
  },
  {
   "cell_type": "code",
   "execution_count": 176,
   "metadata": {},
   "outputs": [
    {
     "name": "stdout",
     "output_type": "stream",
     "text": [
      "Accuracy: 0.3037190082644628\n",
      "\n",
      "Classification Report:\n",
      "              precision    recall  f1-score   support\n",
      "\n",
      "           0       0.95      0.14      0.24       387\n",
      "           1       0.22      0.97      0.36        97\n",
      "\n",
      "    accuracy                           0.30       484\n",
      "   macro avg       0.58      0.55      0.30       484\n",
      "weighted avg       0.80      0.30      0.26       484\n",
      "\n"
     ]
    }
   ],
   "source": [
    "from sklearn.naive_bayes import GaussianNB\n",
    "from sklearn.metrics import accuracy_score, classification_report\n",
    "\n",
    "# Create a Gaussian Naive Bayes classifier\n",
    "nb_classifier = GaussianNB()\n",
    "\n",
    "# Train the classifier\n",
    "nb_classifier.fit(X_train_scaled, y_train)\n",
    "\n",
    "# Predict on the test set\n",
    "y_pred = nb_classifier.predict(X_test_scaled)\n",
    "\n",
    "# Calculate accuracy\n",
    "accuracy = accuracy_score(y_test, y_pred)\n",
    "print(\"Accuracy:\", accuracy)\n",
    "\n",
    "# Classification report\n",
    "print(\"\\nClassification Report:\")\n",
    "print(classification_report(y_test, y_pred))\n",
    "\n",
    "\n",
    "# print(confusion_matrix(y_test, y_pred))\n"
   ]
  },
  {
   "cell_type": "markdown",
   "metadata": {},
   "source": [
    "Given these metrics, the model's performance seems to be quite low. The accuracy is only 28.92%, which means the model correctly predicts the outcome for only 28.92% of the samples. Additionally, the precision is 13.41%, which indicates that among the instances predicted as positive, only 13.41% are actually positive.\n",
    "\n",
    "However, the recall is 85.25%, meaning that the model correctly identifies 85.25% of the positive instances.\n",
    "\n",
    "The low precision might be a concern, as the model seems to have a high rate of false positives (335). Depending on the context, this is unacceptable.\n",
    "\n",
    "So, while the model's recall is relatively good, its precision and overall accuracy are quite low.\n",
    "\n",
    "In conclusion, the result is not considered good, and further optimization or a different approach might be necessary."
   ]
  },
  {
   "cell_type": "code",
   "execution_count": 177,
   "metadata": {},
   "outputs": [
    {
     "data": {
      "image/png": "[encoded data removed]",
      "text/plain": [
       "<Figure size 640x480 with 2 Axes>"
      ]
     },
     "metadata": {},
     "output_type": "display_data"
    }
   ],
   "source": [
    "confusion_plot(y_test, y_pred)"
   ]
  },
  {
   "cell_type": "markdown",
   "metadata": {},
   "source": [
    "## 4.6 Random Forest Classifier\n",
    "\n",
    "Random Forest is a popular ensemble learning method used for both classification and regression tasks. It operates by constructing a multitude of decision trees during training time and outputting the mode of the classes (classification) or the average prediction (regression) of the individual trees."
   ]
  },
  {
   "cell_type": "code",
   "execution_count": 178,
   "metadata": {},
   "outputs": [],
   "source": [
    "from sklearn.ensemble import RandomForestClassifier\n",
    "from sklearn.metrics import accuracy_score, classification_report\n",
    "\n",
    "# Initializing the RandomForestClassifier\n",
    "rf_classifier = RandomForestClassifier(n_estimators=100, random_state=42)\n",
    "\n",
    "# Training the model\n",
    "rf_classifier.fit(X_train_scaled, y_train)\n",
    "\n",
    "# Making predictions\n",
    "y_pred = rf_classifier.predict(X_test_scaled)\n"
   ]
  },
  {
   "cell_type": "markdown",
   "metadata": {},
   "source": [
    "The random forest model, as shown below , with a prediction accuracy of 82% on training data.  "
   ]
  },
  {
   "cell_type": "code",
   "execution_count": 179,
   "metadata": {},
   "outputs": [
    {
     "name": "stdout",
     "output_type": "stream",
     "text": [
      "Accuracy: 0.8285123966942148\n",
      "\n",
      "Classification Report:\n",
      "              precision    recall  f1-score   support\n",
      "\n",
      "           0       0.84      0.97      0.90       387\n",
      "           1       0.68      0.27      0.39        97\n",
      "\n",
      "    accuracy                           0.83       484\n",
      "   macro avg       0.76      0.62      0.64       484\n",
      "weighted avg       0.81      0.83      0.80       484\n",
      "\n"
     ]
    }
   ],
   "source": [
    "# Evaluating the model\n",
    "accuracy = accuracy_score(y_test, y_pred)\n",
    "print(\"Accuracy:\", accuracy)\n",
    "\n",
    "print(\"\\nClassification Report:\")\n",
    "print(classification_report(y_test, y_pred))"
   ]
  },
  {
   "cell_type": "markdown",
   "metadata": {},
   "source": [
    "The high precision (0.83) and recall (0.98) for class 0 indicate that the model performs well in identifying cases where the customer did not click on the advertisement. However, the lower precision (0.71) and recall (0.21) for class 1 suggest that the model does not perform as well in identifying cases where the customer clicked on the advertisement.\n",
    "\n",
    "In general, a good result would be one where both precision and recall are high for all classes. However, the definition of \"good\" can vary depending on the specific requirements of your project and the consequences of false positives and false negatives.\n",
    "\n",
    "So, while the model performs well in identifying cases where the customer did not click on the advertisement, it could be improved in identifying cases where the customer clicked on the advertisement.\n",
    "\n",
    "In conclusion, the result is good in terms of identifying cases where the customer did not click on the advertisement, but there is room for improvement in identifying cases where the customer clicked on the advertisement."
   ]
  },
  {
   "cell_type": "code",
   "execution_count": 180,
   "metadata": {},
   "outputs": [
    {
     "data": {
      "image/png": "[encoded data removed]",
      "text/plain": [
       "<Figure size 640x480 with 2 Axes>"
      ]
     },
     "metadata": {},
     "output_type": "display_data"
    }
   ],
   "source": [
    "confusion_plot(y_test, y_pred)"
   ]
  },
  {
   "cell_type": "code",
   "execution_count": 181,
   "metadata": {},
   "outputs": [
    {
     "data": {
      "image/png": "[encoded data removed]",
      "text/plain": [
       "<Figure size 640x480 with 1 Axes>"
      ]
     },
     "metadata": {},
     "output_type": "display_data"
    }
   ],
   "source": [
    "from sklearn.metrics import precision_recall_curve\n",
    "\n",
    "# Calculate y scores\n",
    "y_scores = rf_classifier.predict_proba(X_test_scaled)[:, 1]\n",
    "AUC_plot(y_test, y_scores, precision_recall_curve)"
   ]
  },
  {
   "cell_type": "markdown",
   "metadata": {},
   "source": [
    "## 4.7 Logistic Regression Model\n",
    "\n",
    "Logistic regression is a statistical method used for binary classification tasks. Unlike linear regression, which predicts continuous values, logistic regression predicts the probability of an instance belonging to a particular class. It models the probability of the default class (usually labeled as 1) using the logistic function, also known as the sigmoid function."
   ]
  },
  {
   "cell_type": "code",
   "execution_count": 182,
   "metadata": {},
   "outputs": [
    {
     "name": "stdout",
     "output_type": "stream",
     "text": [
      "Accuracy: 0.75\n",
      "Classification Report:\n",
      "              precision    recall  f1-score   support\n",
      "\n",
      "           0       0.82      0.88      0.85       387\n",
      "           1       0.32      0.22      0.26        97\n",
      "\n",
      "    accuracy                           0.75       484\n",
      "   macro avg       0.57      0.55      0.55       484\n",
      "weighted avg       0.72      0.75      0.73       484\n",
      "\n"
     ]
    }
   ],
   "source": [
    "from sklearn.linear_model import LogisticRegression\n",
    "from sklearn.metrics import accuracy_score, classification_report\n",
    "\n",
    "# Initialize the model\n",
    "logestic_model = LogisticRegression()\n",
    "\n",
    "# Train the model\n",
    "logestic_model.fit(X_train_scaled, y_train)\n",
    "\n",
    "# Make predictions\n",
    "y_pred = logestic_model.predict(X_test_scaled)\n",
    "\n",
    "# Evaluate the model\n",
    "accuracy = accuracy_score(y_test, y_pred)\n",
    "print(\"Accuracy:\", accuracy)\n",
    "\n",
    "print(\"Classification Report:\")\n",
    "print(classification_report(y_test, y_pred))"
   ]
  },
  {
   "cell_type": "code",
   "execution_count": 183,
   "metadata": {},
   "outputs": [
    {
     "data": {
      "image/png": "[encoded data removed]",
      "text/plain": [
       "<Figure size 640x480 with 2 Axes>"
      ]
     },
     "metadata": {},
     "output_type": "display_data"
    }
   ],
   "source": [
    "confusion_plot(y_test, y_pred)"
   ]
  },
  {
   "cell_type": "code",
   "execution_count": 184,
   "metadata": {},
   "outputs": [
    {
     "data": {
      "image/png": "[encoded data removed]",
      "text/plain": [
       "<Figure size 640x480 with 1 Axes>"
      ]
     },
     "metadata": {},
     "output_type": "display_data"
    }
   ],
   "source": [
    "from sklearn.metrics import roc_curve\n",
    "\n",
    "# Calculate y scores\n",
    "y_scores = logestic_model.predict_proba(X_test_scaled)[:, 1]\n",
    "AUC_plot(y_test, y_scores, roc_curve)"
   ]
  },
  {
   "cell_type": "markdown",
   "metadata": {},
   "source": [
    "## 4.8 Support Vector Regression (SVR) \n",
    "\n",
    "Support Vector Regression (SVR) is a type of support vector machine (SVM) algorithm that is used for regression analysis. Similar to SVM for classification, SVR is based on the concept of finding a hyperplane that best fits the data. However, instead of finding the hyperplane that best separates the classes, SVR finds the hyperplane that best fits the data points within a specified margin, called ε-insensitive tube.\n",
    "\n",
    "In this code, we implement a Support Vector Machine (SVM) model using the sigmoid kernel for binary classification. SVMs are powerful supervised learning models used for classification and regression tasks. The sigmoid kernel is particularly useful when the data is not linearly separable."
   ]
  },
  {
   "cell_type": "code",
   "execution_count": 185,
   "metadata": {},
   "outputs": [
    {
     "name": "stdout",
     "output_type": "stream",
     "text": [
      "Training Accuracy: 0.7523267838676319\n",
      "Test Accuracy: 0.7768595041322314\n",
      "Classification Report:\n",
      "              precision    recall  f1-score   support\n",
      "\n",
      "           0       0.80      0.97      0.87       387\n",
      "           1       0.08      0.01      0.02        97\n",
      "\n",
      "    accuracy                           0.78       484\n",
      "   macro avg       0.44      0.49      0.45       484\n",
      "weighted avg       0.65      0.78      0.70       484\n",
      "\n"
     ]
    }
   ],
   "source": [
    "from sklearn.svm import SVC\n",
    "from sklearn.metrics import accuracy_score, classification_report\n",
    "\n",
    "# Create SVC model\n",
    "model = SVC(kernel='sigmoid')\n",
    "\n",
    "# Train the model\n",
    "model.fit(X_train_scaled, y_train)\n",
    "\n",
    "# Make predictions\n",
    "y_train_pred = model.predict(X_train_scaled)\n",
    "y_test_pred = model.predict(X_test_scaled)\n",
    "\n",
    "# Evaluate the model\n",
    "train_accuracy = accuracy_score(y_train, y_train_pred)\n",
    "test_accuracy = accuracy_score(y_test, y_test_pred)\n",
    "\n",
    "print(\"Training Accuracy:\", train_accuracy)\n",
    "print(\"Test Accuracy:\", test_accuracy)\n",
    "\n",
    "print(\"Classification Report:\")\n",
    "print(classification_report(y_test, y_test_pred))\n"
   ]
  },
  {
   "cell_type": "code",
   "execution_count": 186,
   "metadata": {},
   "outputs": [
    {
     "data": {
      "image/png": "[encoded data removed]",
      "text/plain": [
       "<Figure size 640x480 with 2 Axes>"
      ]
     },
     "metadata": {},
     "output_type": "display_data"
    }
   ],
   "source": [
    "confusion_plot(y_test, y_test_pred)"
   ]
  },
  {
   "cell_type": "markdown",
   "metadata": {},
   "source": [
    "## 4.9 Convolutional Neural Network Model\n",
    "\n",
    "A Convolutional Neural Network (CNN) is a type of deep learning model that is widely used for image classification, object detection, and other tasks related to image analysis.\n",
    "\n",
    "Structure of a CNN\n",
    "1. Convolutional Layers: These layers consist of a set of filters (kernels) that are convolved with the input data to produce feature maps. Each filter captures different features from the input image.\n",
    "\n",
    "2. Pooling Layers: Pooling layers are used to reduce the spatial dimensions of the feature maps while retaining important information. The most common type of pooling is max pooling, where the maximum value within a small window is retained.\n",
    "\n",
    "3. Fully Connected Layers: After several convolutional and pooling layers, the feature maps are flattened and passed through one or more fully connected layers. These layers act as a classifier and make predictions based on the features extracted by the convolutional layers.\n",
    "\n",
    "4. Activation Functions: Activation functions introduce non-linearity to the model. Common activation functions include ReLU (Rectified Linear Unit) and Sigmoid.\n",
    "\n",
    "***in this project :***\n",
    "\n",
    "- We create a Sequential model.\n",
    "\n",
    "- We add two convolutional layers with ReLU activation and max pooling layers to extract features from the input images.\n",
    "\n",
    "- We add a flatten layer to convert the 2D features into a 1D vector.\n",
    "\n",
    "- We add a dense layer with ReLU activation and a dropout layer to prevent overfitting.\n",
    "\n",
    "- Finally, we add an output layer with one neuron and a sigmoid activation function for binary classification.\n"
   ]
  },
  {
   "cell_type": "code",
   "execution_count": 187,
   "metadata": {},
   "outputs": [
    {
     "name": "stdout",
     "output_type": "stream",
     "text": [
      "Epoch 1/10\n",
      "\u001b[1m45/46\u001b[0m \u001b[32m━━━━━━━━━━━━━━━━━━━\u001b[0m\u001b[37m━\u001b[0m \u001b[1m0s\u001b[0m 15ms/step - accuracy: 0.7257 - loss: 0.6230\n",
      "Epoch 1: val_accuracy improved from -inf to 0.76653, saving model to my_model.keras\n",
      "\u001b[1m46/46\u001b[0m \u001b[32m━━━━━━━━━━━━━━━━━━━━\u001b[0m\u001b[37m\u001b[0m \u001b[1m3s\u001b[0m 25ms/step - accuracy: 0.7266 - loss: 0.6227 - val_accuracy: 0.7665 - val_loss: 0.5573\n",
      "Epoch 2/10\n",
      "\u001b[1m44/46\u001b[0m \u001b[32m━━━━━━━━━━━━━━━━━━━\u001b[0m\u001b[37m━\u001b[0m \u001b[1m0s\u001b[0m 18ms/step - accuracy: 0.7645 - loss: 0.5111\n",
      "Epoch 2: val_accuracy did not improve from 0.76653\n",
      "\u001b[1m46/46\u001b[0m \u001b[32m━━━━━━━━━━━━━━━━━━━━\u001b[0m\u001b[37m\u001b[0m \u001b[1m1s\u001b[0m 22ms/step - accuracy: 0.7646 - loss: 0.5117 - val_accuracy: 0.7541 - val_loss: 0.5560\n",
      "Epoch 3/10\n",
      "\u001b[1m43/46\u001b[0m \u001b[32m━━━━━━━━━━━━━━━━━━\u001b[0m\u001b[37m━━\u001b[0m \u001b[1m0s\u001b[0m 15ms/step - accuracy: 0.7942 - loss: 0.4634\n",
      "Epoch 3: val_accuracy did not improve from 0.76653\n",
      "\u001b[1m46/46\u001b[0m \u001b[32m━━━━━━━━━━━━━━━━━━━━\u001b[0m\u001b[37m\u001b[0m \u001b[1m1s\u001b[0m 17ms/step - accuracy: 0.7938 - loss: 0.4646 - val_accuracy: 0.7500 - val_loss: 0.5566\n",
      "Epoch 4/10\n",
      "\u001b[1m46/46\u001b[0m \u001b[32m━━━━━━━━━━━━━━━━━━━━\u001b[0m\u001b[37m\u001b[0m \u001b[1m0s\u001b[0m 16ms/step - accuracy: 0.7948 - loss: 0.4367\n",
      "Epoch 4: val_accuracy did not improve from 0.76653\n",
      "\u001b[1m46/46\u001b[0m \u001b[32m━━━━━━━━━━━━━━━━━━━━\u001b[0m\u001b[37m\u001b[0m \u001b[1m1s\u001b[0m 20ms/step - accuracy: 0.7949 - loss: 0.4368 - val_accuracy: 0.7459 - val_loss: 0.5674\n",
      "Epoch 5/10\n",
      "\u001b[1m44/46\u001b[0m \u001b[32m━━━━━━━━━━━━━━━━━━━\u001b[0m\u001b[37m━\u001b[0m \u001b[1m0s\u001b[0m 20ms/step - accuracy: 0.8132 - loss: 0.4286\n",
      "Epoch 5: val_accuracy did not improve from 0.76653\n",
      "\u001b[1m46/46\u001b[0m \u001b[32m━━━━━━━━━━━━━━━━━━━━\u001b[0m\u001b[37m\u001b[0m \u001b[1m1s\u001b[0m 22ms/step - accuracy: 0.8129 - loss: 0.4286 - val_accuracy: 0.7624 - val_loss: 0.5716\n",
      "\u001b[1m61/61\u001b[0m \u001b[32m━━━━━━━━━━━━━━━━━━━━\u001b[0m\u001b[37m\u001b[0m \u001b[1m0s\u001b[0m 6ms/step\n",
      "\u001b[1m16/16\u001b[0m \u001b[32m━━━━━━━━━━━━━━━━━━━━\u001b[0m\u001b[37m\u001b[0m \u001b[1m0s\u001b[0m 4ms/step\n"
     ]
    }
   ],
   "source": [
    "from tensorflow.keras.models import Sequential\n",
    "from tensorflow.keras.layers import Conv1D, MaxPooling1D, Flatten, Dense, Dropout, Input\n",
    "from tensorflow.keras.callbacks import ModelCheckpoint\n",
    "from tensorflow.keras.callbacks import EarlyStopping\n",
    "\n",
    "from tensorflow.keras import backend \n",
    "import tensorflow as tf\n",
    "\n",
    "tf.random.set_seed(42)\n",
    "backend.clear_session()\n",
    "\n",
    "\n",
    "# Reshape the input data to 3D (batch_size, timesteps, input_dim)\n",
    "X_trainVal_reshaped = X_trainVal_scaled.reshape(X_trainVal_scaled.shape[0], X_trainVal_scaled.shape[1], 1)\n",
    "X_testVal_reshaped = X_testVal_scaled.reshape(X_testVal_scaled.shape[0], X_testVal_scaled.shape[1], 1)\n",
    "\n",
    "# Define input shape\n",
    "input_shape = (X_trainVal_reshaped.shape[1], X_trainVal_reshaped.shape[2])\n",
    "\n",
    "# Create CNN model     , input_shape=(X_trainVal_reshaped.shape[1], 1))\n",
    "model = Sequential()\n",
    "model.add(Input(shape=input_shape))\n",
    "model.add(Conv1D(32, kernel_size=3, activation='relu'))\n",
    "model.add(MaxPooling1D(pool_size=2))\n",
    "model.add(Flatten())\n",
    "model.add(Dense(128, activation='relu'))\n",
    "model.add(Dropout(0.5))\n",
    "model.add(Dense(1, activation='sigmoid'))\n",
    "\n",
    "# Compile the model\n",
    "model.compile(optimizer='adam', loss='binary_crossentropy', metrics=['accuracy'])\n",
    "\n",
    "checking = ModelCheckpoint('my_model.keras', save_best_only=True, monitor='val_accuracy', mode='max', verbose=1)\n",
    "\n",
    "early_stop = EarlyStopping(monitor='val_loss', patience=3, restore_best_weights=True)\n",
    "\n",
    "# Train the model\n",
    "history = model.fit(X_trainVal_reshaped, y_trainVal, epochs=10, batch_size=32, validation_data=(X_testVal_reshaped, y_testVal), callbacks=[early_stop, checking])\n",
    "\n",
    "########## Do predictions on Training and Test Data sets and calculate metrics #########\n",
    "y_train_pred = model.predict(X_train)\n",
    "y_test_pred = model.predict(X_test)\n"
   ]
  },
  {
   "cell_type": "code",
   "execution_count": 188,
   "metadata": {},
   "outputs": [
    {
     "name": "stdout",
     "output_type": "stream",
     "text": [
      "\u001b[1m16/16\u001b[0m \u001b[32m━━━━━━━━━━━━━━━━━━━━\u001b[0m\u001b[37m\u001b[0m \u001b[1m0s\u001b[0m 3ms/step - accuracy: 0.7801 - loss: 0.5058 \n",
      "Test Accuracy: 0.7954545617103577\n",
      "Classification Report:\n",
      "              precision    recall  f1-score   support\n",
      "\n",
      "           0       0.80      1.00      0.89       387\n",
      "           1       0.00      0.00      0.00        97\n",
      "\n",
      "    accuracy                           0.80       484\n",
      "   macro avg       0.40      0.50      0.44       484\n",
      "weighted avg       0.64      0.80      0.71       484\n",
      "\n"
     ]
    },
    {
     "name": "stderr",
     "output_type": "stream",
     "text": [
      "/Library/Frameworks/Python.framework/Versions/3.12/lib/python3.12/site-packages/sklearn/metrics/_classification.py:1509: UndefinedMetricWarning: Precision is ill-defined and being set to 0.0 in labels with no predicted samples. Use `zero_division` parameter to control this behavior.\n",
      "  _warn_prf(average, modifier, f\"{metric.capitalize()} is\", len(result))\n",
      "/Library/Frameworks/Python.framework/Versions/3.12/lib/python3.12/site-packages/sklearn/metrics/_classification.py:1509: UndefinedMetricWarning: Precision is ill-defined and being set to 0.0 in labels with no predicted samples. Use `zero_division` parameter to control this behavior.\n",
      "  _warn_prf(average, modifier, f\"{metric.capitalize()} is\", len(result))\n",
      "/Library/Frameworks/Python.framework/Versions/3.12/lib/python3.12/site-packages/sklearn/metrics/_classification.py:1509: UndefinedMetricWarning: Precision is ill-defined and being set to 0.0 in labels with no predicted samples. Use `zero_division` parameter to control this behavior.\n",
      "  _warn_prf(average, modifier, f\"{metric.capitalize()} is\", len(result))\n"
     ]
    }
   ],
   "source": [
    "# Evaluate the model\n",
    "X_test_reshaped = X_test_scaled.reshape(X_test_scaled.shape[0], X_test_scaled.shape[1], 1)\n",
    "\n",
    "loss, accuracy = model.evaluate(X_test_reshaped, y_test)\n",
    "print(\"Test Accuracy:\", accuracy)\n",
    "\n",
    "print(\"Classification Report:\")\n",
    "print(classification_report(y_test, y_test_pred))"
   ]
  },
  {
   "cell_type": "code",
   "execution_count": 189,
   "metadata": {},
   "outputs": [
    {
     "data": {
      "image/png": "[encoded data removed]",
      "text/plain": [
       "<Figure size 640x480 with 2 Axes>"
      ]
     },
     "metadata": {},
     "output_type": "display_data"
    }
   ],
   "source": [
    "confusion_plot(y_test, y_test_pred)"
   ]
  },
  {
   "cell_type": "markdown",
   "metadata": {},
   "source": [
    "- ### `Plot Learning Curve`\n",
    "In this project, we implemented a learning curve plot to visualize the performance of our machine learning model. A learning curve shows the training and validation scores (e.g., accuracy, loss) of a model on the training dataset as a function of the number of training examples. This helps us understand how well our model is learning as we increase the size of the training dataset.\n",
    "\n",
    "To create the learning curve, we used the learning_curve function from scikit-learn. However, since our model is implemented using Keras, we encountered an error because the Sequential model does not have a score method required by the learning_curve function.\n",
    "\n",
    "To resolve this issue, we modified the code to use the history object returned by the fit method of our Keras model. The history object contains the training and validation metrics for each epoch. We then plotted the training and validation accuracy against the number of epochs using matplotlib.\n",
    "\n",
    "By visualizing the learning curve, we gained insights into how well our model is learning from the training data and whether it is overfitting or underfitting. This helps us make informed decisions about model training and optimization."
   ]
  },
  {
   "cell_type": "code",
   "execution_count": 190,
   "metadata": {},
   "outputs": [
    {
     "data": {
      "image/png": "[encoded data removed]",
      "text/plain": [
       "<Figure size 1000x600 with 1 Axes>"
      ]
     },
     "metadata": {},
     "output_type": "display_data"
    }
   ],
   "source": [
    "import matplotlib.pyplot as plt\n",
    "\n",
    "train_scores = history.history['accuracy']\n",
    "validation_scores = history.history['val_accuracy']\n",
    "epochs = range(1, len(train_scores) + 1)\n",
    "\n",
    "plt.figure(figsize=(10, 6))\n",
    "plt.plot(epochs, train_scores, label='Training accuracy')\n",
    "plt.plot(epochs, validation_scores, label='Validation accuracy')\n",
    "plt.xlabel('Epochs')\n",
    "plt.ylabel('Accuracy')\n",
    "plt.title('Learning Curve')\n",
    "plt.legend(loc='best')\n",
    "plt.grid()\n",
    "plt.show()\n"
   ]
  },
  {
   "cell_type": "markdown",
   "metadata": {},
   "source": [
    "----\n",
    "# 5. Evaluation\n",
    "\n",
    "In this project i use 5 different method to predict the target:\n",
    "\n",
    "1. Naive Bayes\n",
    "2. Random Forest Classifier\n",
    "3. Logistic Regression Model\n",
    "4. Support Vector Regression (SVR) \n",
    "5. Convolutional Neural Network Model"
   ]
  },
  {
   "cell_type": "markdown",
   "metadata": {},
   "source": [
    "----\n",
    "# 6. Generate Image"
   ]
  },
  {
   "cell_type": "code",
   "execution_count": 191,
   "metadata": {},
   "outputs": [
    {
     "data": {
      "image/jpeg": "[encoded data removed]",
      "image/png": "[encoded data removed]",
      "text/plain": [
       "<PIL.Image.Image image mode=RGB size=200x200>"
      ]
     },
     "execution_count": 191,
     "metadata": {},
     "output_type": "execute_result"
    }
   ],
   "source": [
    "from PIL import Image, ImageDraw\n",
    "\n",
    "# Create a new image with white background\n",
    "width, height = 200, 200\n",
    "img = Image.new(\"RGB\", (width, height), \"white\")\n",
    "\n",
    "# Draw a line\n",
    "draw = ImageDraw.Draw(img)\n",
    "draw.line([(50, 50), (150, 150)], fill=(100,0,220), width=3)\n",
    "\n",
    "img"
   ]
  },
  {
   "cell_type": "markdown",
   "metadata": {},
   "source": [
    "----\n",
    "## 6. References\n",
    "\n",
    "- Keras API reference / Optimizers(https://keras.io/api/optimizers/)\n",
    "\n",
    "- Building an Ad Click Prediction Machine Learning System: Problem Statement and Metrics (https://www.linkedin.com/pulse/building-ad-click-prediction-machine-learning-system-problem-shivam-s-1wvjf)\n",
    "\n",
    "- Predicting Click Behavior Based on Machine Learning Models (https://www.researchgate.net/publication/370570414_Predicting_Click_Behavior_Based_on_Machine_Learning_Models)\n",
    "\n",
    "- What is Mutual Information? (https://quantdare.com/what-is-mutual-information/)"
   ]
  }
 ],
 "metadata": {
  "kernelspec": {
   "display_name": "Python 3",
   "language": "python",
   "name": "python3"
  },
  "language_info": {
   "codemirror_mode": {
    "name": "ipython",
    "version": 3
   },
   "file_extension": ".py",
   "mimetype": "text/x-python",
   "name": "python",
   "nbconvert_exporter": "python",
   "pygments_lexer": "ipython3",
   "version": "3.12.3"
  }
 },
 "nbformat": 4,
 "nbformat_minor": 2
}
