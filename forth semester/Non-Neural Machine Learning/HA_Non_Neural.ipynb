{
 "cells": [
  {
   "cell_type": "markdown",
   "metadata": {},
   "source": [
    "# Home Assignment Non Neural Machine Learning\n",
    "## Alireza Bolhassani\n",
    "----\n",
    "At each stage, the required libraries will be imported.\n",
    "\n",
    "Following cell imports the pandas libraries."
   ]
  },
  {
   "cell_type": "code",
   "execution_count": 94,
   "metadata": {},
   "outputs": [],
   "source": [
    "import pandas as pd"
   ]
  },
  {
   "cell_type": "markdown",
   "metadata": {},
   "source": [
    "-----\n",
    "Load data in a variable"
   ]
  },
  {
   "cell_type": "code",
   "execution_count": 95,
   "metadata": {},
   "outputs": [
    {
     "data": {
      "text/html": [
       "<div>\n",
       "<style scoped>\n",
       "    .dataframe tbody tr th:only-of-type {\n",
       "        vertical-align: middle;\n",
       "    }\n",
       "\n",
       "    .dataframe tbody tr th {\n",
       "        vertical-align: top;\n",
       "    }\n",
       "\n",
       "    .dataframe thead th {\n",
       "        text-align: right;\n",
       "    }\n",
       "</style>\n",
       "<table border=\"1\" class=\"dataframe\">\n",
       "  <thead>\n",
       "    <tr style=\"text-align: right;\">\n",
       "      <th></th>\n",
       "      <th>Data As Of</th>\n",
       "      <th>Start Date</th>\n",
       "      <th>End Date</th>\n",
       "      <th>Group</th>\n",
       "      <th>Year</th>\n",
       "      <th>Month</th>\n",
       "      <th>State</th>\n",
       "      <th>Condition Group</th>\n",
       "      <th>Condition</th>\n",
       "      <th>ICD10_codes</th>\n",
       "      <th>Age Group</th>\n",
       "      <th>COVID-19 Deaths</th>\n",
       "      <th>Number of Mentions</th>\n",
       "      <th>Flag</th>\n",
       "    </tr>\n",
       "  </thead>\n",
       "  <tbody>\n",
       "    <tr>\n",
       "      <th>0</th>\n",
       "      <td>06/25/2023</td>\n",
       "      <td>01/01/2020</td>\n",
       "      <td>06/24/2023</td>\n",
       "      <td>By Total</td>\n",
       "      <td>NaN</td>\n",
       "      <td>NaN</td>\n",
       "      <td>United States</td>\n",
       "      <td>Respiratory diseases</td>\n",
       "      <td>Influenza and pneumonia</td>\n",
       "      <td>J09-J18</td>\n",
       "      <td>0-24</td>\n",
       "      <td>1554.0</td>\n",
       "      <td>1630.0</td>\n",
       "      <td>NaN</td>\n",
       "    </tr>\n",
       "    <tr>\n",
       "      <th>1</th>\n",
       "      <td>06/25/2023</td>\n",
       "      <td>01/01/2020</td>\n",
       "      <td>06/24/2023</td>\n",
       "      <td>By Total</td>\n",
       "      <td>NaN</td>\n",
       "      <td>NaN</td>\n",
       "      <td>United States</td>\n",
       "      <td>Respiratory diseases</td>\n",
       "      <td>Influenza and pneumonia</td>\n",
       "      <td>J09-J18</td>\n",
       "      <td>25-34</td>\n",
       "      <td>5775.0</td>\n",
       "      <td>5998.0</td>\n",
       "      <td>NaN</td>\n",
       "    </tr>\n",
       "    <tr>\n",
       "      <th>2</th>\n",
       "      <td>06/25/2023</td>\n",
       "      <td>01/01/2020</td>\n",
       "      <td>06/24/2023</td>\n",
       "      <td>By Total</td>\n",
       "      <td>NaN</td>\n",
       "      <td>NaN</td>\n",
       "      <td>United States</td>\n",
       "      <td>Respiratory diseases</td>\n",
       "      <td>Influenza and pneumonia</td>\n",
       "      <td>J09-J18</td>\n",
       "      <td>35-44</td>\n",
       "      <td>15026.0</td>\n",
       "      <td>15643.0</td>\n",
       "      <td>NaN</td>\n",
       "    </tr>\n",
       "  </tbody>\n",
       "</table>\n",
       "</div>"
      ],
      "text/plain": [
       "   Data As Of  Start Date    End Date     Group  Year  Month          State  \\\n",
       "0  06/25/2023  01/01/2020  06/24/2023  By Total   NaN    NaN  United States   \n",
       "1  06/25/2023  01/01/2020  06/24/2023  By Total   NaN    NaN  United States   \n",
       "2  06/25/2023  01/01/2020  06/24/2023  By Total   NaN    NaN  United States   \n",
       "\n",
       "        Condition Group                Condition ICD10_codes Age Group  \\\n",
       "0  Respiratory diseases  Influenza and pneumonia     J09-J18      0-24   \n",
       "1  Respiratory diseases  Influenza and pneumonia     J09-J18     25-34   \n",
       "2  Respiratory diseases  Influenza and pneumonia     J09-J18     35-44   \n",
       "\n",
       "   COVID-19 Deaths  Number of Mentions Flag  \n",
       "0           1554.0              1630.0  NaN  \n",
       "1           5775.0              5998.0  NaN  \n",
       "2          15026.0             15643.0  NaN  "
      ]
     },
     "execution_count": 95,
     "metadata": {},
     "output_type": "execute_result"
    }
   ],
   "source": [
    "df = pd.read_csv(\"data.csv\")\n",
    "df.head(3)"
   ]
  },
  {
   "cell_type": "markdown",
   "metadata": {},
   "source": [
    "---\n",
    "Restrict the dataset to the rows where Start Date is \"01/01/2020\" and the End Date is \"06/24/2023\".\n",
    "We convert the 'Start Date' and 'End Date' columns to datetime objects using pd.to_datetime() to ensure proper date comparisons."
   ]
  },
  {
   "cell_type": "code",
   "execution_count": 96,
   "metadata": {},
   "outputs": [
    {
     "name": "stdout",
     "output_type": "stream",
     "text": [
      "<class 'pandas.core.frame.DataFrame'>\n",
      "Index: 521640 entries, 12421 to 583738\n",
      "Data columns (total 14 columns):\n",
      " #   Column              Non-Null Count   Dtype         \n",
      "---  ------              --------------   -----         \n",
      " 0   Data As Of          521640 non-null  datetime64[ns]\n",
      " 1   Start Date          521640 non-null  datetime64[ns]\n",
      " 2   End Date            521640 non-null  datetime64[ns]\n",
      " 3   Group               521640 non-null  object        \n",
      " 4   Year                521640 non-null  float64       \n",
      " 5   Month               496800 non-null  float64       \n",
      " 6   State               521640 non-null  object        \n",
      " 7   Condition Group     521640 non-null  object        \n",
      " 8   Condition           521640 non-null  object        \n",
      " 9   ICD10_codes         521640 non-null  object        \n",
      " 10  Age Group           521640 non-null  object        \n",
      " 11  COVID-19 Deaths     359775 non-null  float64       \n",
      " 12  Number of Mentions  364940 non-null  float64       \n",
      " 13  Flag                161865 non-null  object        \n",
      "dtypes: datetime64[ns](3), float64(4), object(7)\n",
      "memory usage: 59.7+ MB\n"
     ]
    }
   ],
   "source": [
    "df[\"Data As Of\"] = pd.to_datetime(df[\"Data As Of\"], format=\"%m/%d/%Y\")\n",
    "df[\"Start Date\"] = pd.to_datetime(df[\"Start Date\"], format=\"%m/%d/%Y\")\n",
    "df[\"End Date\"] = pd.to_datetime(df[\"End Date\"])\n",
    "\n",
    "df = df.loc[df[\"Start Date\"] > \"01/01/2020\"]\n",
    "df = df.loc[df[\"End Date\"] < \"06/24/2023\"]\n",
    "df.info()"
   ]
  },
  {
   "cell_type": "markdown",
   "metadata": {},
   "source": [
    "---\n",
    "Remove rows not belonging to specific age groups."
   ]
  },
  {
   "cell_type": "code",
   "execution_count": 97,
   "metadata": {},
   "outputs": [
    {
     "data": {
      "text/plain": [
       "array(['0-24', '25-34', '35-44', '45-54', '55-64', '65-74', '75-84',\n",
       "       '85+', 'All Ages'], dtype=object)"
      ]
     },
     "execution_count": 97,
     "metadata": {},
     "output_type": "execute_result"
    }
   ],
   "source": [
    "df = df.loc[df[\"Age Group\"] != \"Not stated\"]\n",
    "df[\"Age Group\"].unique()"
   ]
  },
  {
   "cell_type": "markdown",
   "metadata": {},
   "source": [
    "---\n",
    "Convert Covid deaths rows from float to int and fill empty cell with 0."
   ]
  },
  {
   "cell_type": "code",
   "execution_count": 98,
   "metadata": {},
   "outputs": [],
   "source": [
    "df[\"COVID-19 Deaths\"] = df[\"COVID-19 Deaths\"].fillna(0)\n",
    "df[\"COVID-19 Deaths\"] = df[\"COVID-19 Deaths\"].astype(\"int\")"
   ]
  },
  {
   "cell_type": "markdown",
   "metadata": {},
   "source": [
    "---\n",
    "Remove rows with the United States as State."
   ]
  },
  {
   "cell_type": "code",
   "execution_count": 99,
   "metadata": {},
   "outputs": [
    {
     "data": {
      "text/plain": [
       "array(['Alabama', 'Alaska', 'Arizona', 'Arkansas', 'California',\n",
       "       'Colorado', 'Connecticut', 'Delaware', 'District of Columbia',\n",
       "       'Florida', 'Georgia', 'Hawaii', 'Idaho', 'Illinois', 'Indiana',\n",
       "       'Iowa', 'Kansas', 'Kentucky', 'Louisiana', 'Maine', 'Maryland',\n",
       "       'Massachusetts', 'Michigan', 'Minnesota', 'Mississippi',\n",
       "       'Missouri', 'Montana', 'Nebraska', 'Nevada', 'New Hampshire',\n",
       "       'New Jersey', 'New Mexico', 'New York', 'New York City',\n",
       "       'North Carolina', 'North Dakota', 'Ohio', 'Oklahoma', 'Oregon',\n",
       "       'Pennsylvania', 'Rhode Island', 'South Carolina', 'South Dakota',\n",
       "       'Tennessee', 'Texas', 'Utah', 'Vermont', 'Virginia', 'Washington',\n",
       "       'West Virginia', 'Wisconsin', 'Wyoming', 'Puerto Rico'],\n",
       "      dtype=object)"
      ]
     },
     "execution_count": 99,
     "metadata": {},
     "output_type": "execute_result"
    }
   ],
   "source": [
    "df = df.loc[df[\"State\"] != \"United States\"]\n",
    "df[\"State\"].unique()"
   ]
  },
  {
   "cell_type": "markdown",
   "metadata": {},
   "source": [
    "---\n",
    "Investigate missing values, and deal with them if you find any.   \n",
    "If a row contains missing values and it's not feasible to impute them, you can drop the entire row.\n"
   ]
  },
  {
   "cell_type": "code",
   "execution_count": 29,
   "metadata": {},
   "outputs": [],
   "source": [
    "# df.dropna(inplace=True)\n",
    "# df['Column_Name'].fillna(0, inplace=True)"
   ]
  },
  {
   "cell_type": "markdown",
   "metadata": {},
   "source": [
    "---\n",
    "Encode age groups as you see fit as numeric columns"
   ]
  },
  {
   "cell_type": "code",
   "execution_count": 100,
   "metadata": {},
   "outputs": [
    {
     "data": {
      "text/plain": [
       "array([1, 2, 3, 4, 5, 6, 7, 8, 9])"
      ]
     },
     "execution_count": 100,
     "metadata": {},
     "output_type": "execute_result"
    }
   ],
   "source": [
    "# Define a mapping from age groups to numeric values\n",
    "age_group_mapping = {\n",
    "    \"0-24\": 1,\n",
    "    \"25-34\": 2,\n",
    "    \"35-44\": 3,\n",
    "    \"45-54\": 4,\n",
    "    \"55-64\": 5,\n",
    "    \"65-74\": 6,\n",
    "    \"75-84\": 7,\n",
    "    \"85+\": 8,\n",
    "    \"All Ages\": 9,\n",
    "}\n",
    "\n",
    "# Create a new column with numeric values based on the mapping\n",
    "df[\"Age_Group_Numeric\"] = df[\"Age Group\"].map(age_group_mapping)\n",
    "\n",
    "df[\"Age_Group_Numeric\"].unique()"
   ]
  },
  {
   "cell_type": "markdown",
   "metadata": {},
   "source": [
    "---\n",
    "Create a Broad Condition Group variable, which should be the same as the Condition Group variable for the two most frequent condition groups, but has the value \"other\" for all other condition groups.\n",
    "\n"
   ]
  },
  {
   "cell_type": "code",
   "execution_count": 101,
   "metadata": {},
   "outputs": [
    {
     "data": {
      "text/plain": [
       "array(['Respiratory diseases', 'Circulatory diseases', 'other'],\n",
       "      dtype=object)"
      ]
     },
     "execution_count": 101,
     "metadata": {},
     "output_type": "execute_result"
    }
   ],
   "source": [
    "# Find the two most frequent condition groups\n",
    "top_condition_groups = df['Condition Group'].value_counts().nlargest(2).index\n",
    "\n",
    "# Create a new column 'Broad Condition Group' based on the condition\n",
    "df['Broad Condition Group'] = df['Condition Group'].apply(lambda x: x if x in top_condition_groups else 'other')\n",
    "\n",
    "\n",
    "df[\"Broad Condition Group\"].unique()"
   ]
  },
  {
   "cell_type": "markdown",
   "metadata": {},
   "source": [
    "---\n",
    "Label-encode the Broad Condition Group variable."
   ]
  },
  {
   "cell_type": "code",
   "execution_count": 102,
   "metadata": {},
   "outputs": [],
   "source": [
    "from sklearn.preprocessing import LabelEncoder\n",
    "\n",
    "# Initialize the LabelEncoder\n",
    "label_encoder = LabelEncoder()\n",
    "\n",
    "\n",
    "# Fit and transform the \"Broad Condition Group\" column\n",
    "df[\"Broad Condition Group Encoded\"] = label_encoder.fit_transform(\n",
    "    df[\"Broad Condition Group\"]\n",
    ")"
   ]
  },
  {
   "cell_type": "markdown",
   "metadata": {},
   "source": [
    "---\n",
    "---\n",
    "## Classification\n",
    "Below cell, imports the train_test_split function from the sklearn.model_selection module.\n",
    "\n",
    "In the following, the train_test_split function from scikit-learn's model_selection module is used to split the input data and target data into training and testing sets. The function takes four arguments:\n",
    "    input_data: the input variables used for training and testing the model.\n",
    "    target_data: the target variable used for training and testing the model.\n",
    "    test_size: the proportion of the data to be used for testing. In this case, 33% of the data is used for   testing, while 67% is used for training.\n",
    "    random_state: a seed for the random number generator used for splitting the data. This ensures that the same split can be obtained every time the code is run. In this case, the random state is set to 40.\n",
    "The function returns four variables: X_train, X_test, y_train, and y_test. The X_train and y_train variables represent the training set, while the X_test and y_test variables represent the testing set. These variables can be used to train and evaluate machine learning models."
   ]
  },
  {
   "cell_type": "code",
   "execution_count": 103,
   "metadata": {},
   "outputs": [
    {
     "data": {
      "text/html": [
       "<div>\n",
       "<style scoped>\n",
       "    .dataframe tbody tr th:only-of-type {\n",
       "        vertical-align: middle;\n",
       "    }\n",
       "\n",
       "    .dataframe tbody tr th {\n",
       "        vertical-align: top;\n",
       "    }\n",
       "\n",
       "    .dataframe thead th {\n",
       "        text-align: right;\n",
       "    }\n",
       "</style>\n",
       "<table border=\"1\" class=\"dataframe\">\n",
       "  <thead>\n",
       "    <tr style=\"text-align: right;\">\n",
       "      <th></th>\n",
       "      <th>COVID-19 Deaths</th>\n",
       "      <th>Age_Group_Numeric</th>\n",
       "    </tr>\n",
       "  </thead>\n",
       "  <tbody>\n",
       "    <tr>\n",
       "      <th>13341</th>\n",
       "      <td>13</td>\n",
       "      <td>1</td>\n",
       "    </tr>\n",
       "    <tr>\n",
       "      <th>13342</th>\n",
       "      <td>0</td>\n",
       "      <td>1</td>\n",
       "    </tr>\n",
       "    <tr>\n",
       "      <th>13345</th>\n",
       "      <td>71</td>\n",
       "      <td>2</td>\n",
       "    </tr>\n",
       "  </tbody>\n",
       "</table>\n",
       "</div>"
      ],
      "text/plain": [
       "       COVID-19 Deaths  Age_Group_Numeric\n",
       "13341               13                  1\n",
       "13342                0                  1\n",
       "13345               71                  2"
      ]
     },
     "execution_count": 103,
     "metadata": {},
     "output_type": "execute_result"
    }
   ],
   "source": [
    "from sklearn.model_selection import train_test_split\n",
    "\n",
    "X = df.loc[:,[\"COVID-19 Deaths\",\"Age_Group_Numeric\"]]\n",
    "y = df[\"Broad Condition Group Encoded\"]\n",
    "\n",
    "# Split the data into training and testing sets\n",
    "X_train, X_test, y_train, y_test = train_test_split(X, y, test_size=0.2, random_state=42)\n",
    "\n",
    "X.head(3)"
   ]
  },
  {
   "cell_type": "markdown",
   "metadata": {},
   "source": [
    "In the following, it shows how many rows and columns each set has. The first two print statements show the shape of the X_train and X_test sets, while the last two print statements show the shape of the y_train and y_test sets, respectively."
   ]
  },
  {
   "cell_type": "code",
   "execution_count": 104,
   "metadata": {},
   "outputs": [
    {
     "name": "stdout",
     "output_type": "stream",
     "text": [
      "Training set: (368625, 2)\n",
      "Test set: (92157, 2)\n",
      "Training set: (368625,)\n",
      "Test set: (92157,)\n"
     ]
    }
   ],
   "source": [
    "print(\"Training set:\", X_train.shape)\n",
    "print(\"Test set:\", X_test.shape)\n",
    "print(\"Training set:\", y_train.shape)\n",
    "print(\"Test set:\", y_test.shape)"
   ]
  },
  {
   "cell_type": "markdown",
   "metadata": {},
   "source": [
    "---\n",
    "## Logistic Regression"
   ]
  },
  {
   "cell_type": "code",
   "execution_count": 105,
   "metadata": {},
   "outputs": [
    {
     "name": "stdout",
     "output_type": "stream",
     "text": [
      "Logistic Regression Model:\n",
      "Accuracy: 0.43\n",
      "              precision    recall  f1-score   support\n",
      "\n",
      "           0       0.00      0.00      0.00     28219\n",
      "           1       0.00      0.00      0.00     23900\n",
      "           2       0.43      1.00      0.61     40038\n",
      "\n",
      "    accuracy                           0.43     92157\n",
      "   macro avg       0.14      0.33      0.20     92157\n",
      "weighted avg       0.19      0.43      0.26     92157\n",
      "\n"
     ]
    },
    {
     "name": "stderr",
     "output_type": "stream",
     "text": [
      "/Users/user/Library/Python/3.9/lib/python/site-packages/sklearn/metrics/_classification.py:1471: UndefinedMetricWarning: Precision and F-score are ill-defined and being set to 0.0 in labels with no predicted samples. Use `zero_division` parameter to control this behavior.\n",
      "  _warn_prf(average, modifier, msg_start, len(result))\n",
      "/Users/user/Library/Python/3.9/lib/python/site-packages/sklearn/metrics/_classification.py:1471: UndefinedMetricWarning: Precision and F-score are ill-defined and being set to 0.0 in labels with no predicted samples. Use `zero_division` parameter to control this behavior.\n",
      "  _warn_prf(average, modifier, msg_start, len(result))\n",
      "/Users/user/Library/Python/3.9/lib/python/site-packages/sklearn/metrics/_classification.py:1471: UndefinedMetricWarning: Precision and F-score are ill-defined and being set to 0.0 in labels with no predicted samples. Use `zero_division` parameter to control this behavior.\n",
      "  _warn_prf(average, modifier, msg_start, len(result))\n"
     ]
    }
   ],
   "source": [
    "from sklearn.linear_model import LogisticRegression\n",
    "from sklearn.metrics import accuracy_score, classification_report\n",
    "\n",
    "# Initialize and train the Logistic Regression model\n",
    "logistic_regression_model = LogisticRegression()\n",
    "logistic_regression_model.fit(X_train, y_train)\n",
    "\n",
    "# Make predictions on the test set\n",
    "y_pred = logistic_regression_model.predict(X_test)\n",
    "\n",
    "# Evaluate the model\n",
    "accuracy = accuracy_score(y_test, y_pred)\n",
    "report = classification_report(y_test, y_pred)\n",
    "\n",
    "print(\"Logistic Regression Model:\")\n",
    "print(f\"Accuracy: {accuracy:.2f}\")\n",
    "print(report)"
   ]
  },
  {
   "cell_type": "markdown",
   "metadata": {},
   "source": [
    "---\n",
    "## Random Forest Classifier"
   ]
  },
  {
   "cell_type": "code",
   "execution_count": 106,
   "metadata": {},
   "outputs": [
    {
     "name": "stdout",
     "output_type": "stream",
     "text": [
      "\n",
      "Random Forest Classifier Model:\n",
      "Accuracy: 0.43\n",
      "              precision    recall  f1-score   support\n",
      "\n",
      "           0       0.30      0.02      0.03     28219\n",
      "           1       0.29      0.01      0.03     23900\n",
      "           2       0.43      0.97      0.60     40038\n",
      "\n",
      "    accuracy                           0.43     92157\n",
      "   macro avg       0.34      0.33      0.22     92157\n",
      "weighted avg       0.36      0.43      0.28     92157\n",
      "\n"
     ]
    }
   ],
   "source": [
    "from sklearn.ensemble import RandomForestClassifier\n",
    "\n",
    "# Initialize and train the Random Forest Classifier model\n",
    "random_forest_model = RandomForestClassifier(n_estimators=100, random_state=42)\n",
    "random_forest_model.fit(X_train, y_train)\n",
    "\n",
    "# Make predictions on the test set\n",
    "y_pred_rf = random_forest_model.predict(X_test)\n",
    "\n",
    "# Evaluate the model\n",
    "accuracy_rf = accuracy_score(y_test, y_pred_rf)\n",
    "report_rf = classification_report(y_test, y_pred_rf)\n",
    "\n",
    "print(\"\\nRandom Forest Classifier Model:\")\n",
    "print(f\"Accuracy: {accuracy_rf:.2f}\")\n",
    "print(report_rf)"
   ]
  },
  {
   "cell_type": "code",
   "execution_count": 107,
   "metadata": {},
   "outputs": [
    {
     "name": "stdout",
     "output_type": "stream",
     "text": [
      "Random Forest MSE: 1.4841628959276019\n",
      "Random Forest MAE: 0.8717514676041972\n",
      "Random Forest RMSE: 1.218262244316716\n"
     ]
    }
   ],
   "source": [
    "from sklearn.metrics import mean_squared_error\n",
    "from sklearn.metrics import mean_absolute_error\n",
    "from math import sqrt\n",
    "\n",
    "mse = mean_squared_error(y_test, y_pred)\n",
    "mae = mean_absolute_error(y_test, y_pred)\n",
    "rmse = sqrt(mse)\n",
    "print('Random Forest MSE:', mse)\n",
    "print('Random Forest MAE:', mae)\n",
    "print('Random Forest RMSE:', rmse)"
   ]
  }
 ],
 "metadata": {
  "kernelspec": {
   "display_name": "Python 3",
   "language": "python",
   "name": "python3"
  },
  "language_info": {
   "codemirror_mode": {
    "name": "ipython",
    "version": 3
   },
   "file_extension": ".py",
   "mimetype": "text/x-python",
   "name": "python",
   "nbconvert_exporter": "python",
   "pygments_lexer": "ipython3",
   "version": "3.9.6"
  },
  "orig_nbformat": 4
 },
 "nbformat": 4,
 "nbformat_minor": 2
}
