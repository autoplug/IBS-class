{
 "cells": [
  {
   "cell_type": "markdown",
   "metadata": {},
   "source": [
    "# Alireza Bolhassani\n",
    "----\n",
    "## Download data\n"
   ]
  },
  {
   "cell_type": "code",
   "execution_count": 5,
   "metadata": {},
   "outputs": [],
   "source": [
    "!wget \"https://drive.google.com/uc?export=download&id=173tvWt-qPyAqZJc1KoBiUHgoSg6nLUtT\" -O munster_hourly.csv\n",
    "\n",
    "from IPython.display import clear_output\n",
    "clear_output(wait=False)"
   ]
  },
  {
   "cell_type": "markdown",
   "metadata": {},
   "source": [
    "----\n",
    "## Data information\n",
    "- DATUM: The datetime column   \n",
    "- STATIONS_ID DWD weather station ID (1766 = Münster/Osnabrück)    \n",
    "- TT_TER: air temperature    \n",
    "- RF_TER: relative humidty\n",
    "- VGSL: real evapotranspiration over gras and sandy loam (mm)\n",
    "- TS05: mean daily soil temperature in 5 cm depth for uncovered typical soil (°C)\n",
    "- BF10: soil moisture under grass and sandy loam between 0 and 10 cm depth in % plant useable water (%nFK)\n"
   ]
  },
  {
   "cell_type": "code",
   "execution_count": 9,
   "metadata": {},
   "outputs": [
    {
     "name": "stdout",
     "output_type": "stream",
     "text": [
      "<class 'pandas.core.frame.DataFrame'>\n",
      "RangeIndex: 35672 entries, 0 to 35671\n",
      "Data columns (total 8 columns):\n",
      " #   Column       Non-Null Count  Dtype  \n",
      "---  ------       --------------  -----  \n",
      " 0   DATUM        35672 non-null  object \n",
      " 1   STATIONS_ID  35672 non-null  int64  \n",
      " 2   QN_4         35672 non-null  int64  \n",
      " 3   TT_TER       35672 non-null  float64\n",
      " 4   RF_TER       35672 non-null  float64\n",
      " 5   VGSL         35672 non-null  float64\n",
      " 6   TS05         35672 non-null  float64\n",
      " 7   BF10         35672 non-null  int64  \n",
      "dtypes: float64(4), int64(3), object(1)\n",
      "memory usage: 2.2+ MB\n"
     ]
    }
   ],
   "source": [
    "import pandas as pd\n",
    "df = pd.read_csv(\"munster_hourly.csv\")\n",
    "df.info()"
   ]
  },
  {
   "cell_type": "markdown",
   "metadata": {},
   "source": [
    "----"
   ]
  },
  {
   "cell_type": "code",
   "execution_count": null,
   "metadata": {},
   "outputs": [],
   "source": []
  }
 ],
 "metadata": {
  "kernelspec": {
   "display_name": "Python 3",
   "language": "python",
   "name": "python3"
  },
  "language_info": {
   "codemirror_mode": {
    "name": "ipython",
    "version": 3
   },
   "file_extension": ".py",
   "mimetype": "text/x-python",
   "name": "python",
   "nbconvert_exporter": "python",
   "pygments_lexer": "ipython3",
   "version": "3.9.6"
  }
 },
 "nbformat": 4,
 "nbformat_minor": 2
}
