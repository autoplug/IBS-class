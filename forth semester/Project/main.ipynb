{
 "cells": [
  {
   "cell_type": "markdown",
   "metadata": {},
   "source": [
    "# Alireza Bolhassani\n",
    "----\n",
    "## Download data\n"
   ]
  },
  {
   "cell_type": "code",
   "execution_count": 5,
   "metadata": {},
   "outputs": [],
   "source": [
    "!wget \"https://drive.google.com/uc?export=download&id=173tvWt-qPyAqZJc1KoBiUHgoSg6nLUtT\" -O munster_hourly.csv\n",
    "\n",
    "from IPython.display import clear_output\n",
    "clear_output(wait=False)"
   ]
  },
  {
   "cell_type": "markdown",
   "metadata": {},
   "source": [
    "----\n",
    "## Data information\n",
    "- DATUM: The datetime column   \n",
    "- STATIONS_ID DWD weather station ID (1766 = Münster/Osnabrück)    \n",
    "- TT_TER: air temperature    \n",
    "- RF_TER: relative humidty\n",
    "- VGSL: real evapotranspiration over gras and sandy loam (mm)\n",
    "- TS05: mean daily soil temperature in 5 cm depth for uncovered typical soil (°C)\n",
    "- BF10: soil moisture under grass and sandy loam between 0 and 10 cm depth in % plant useable water (%nFK)\n"
   ]
  },
  {
   "cell_type": "code",
   "execution_count": 69,
   "metadata": {},
   "outputs": [
    {
     "name": "stdout",
     "output_type": "stream",
     "text": [
      "<class 'pandas.core.frame.DataFrame'>\n",
      "RangeIndex: 35672 entries, 0 to 35671\n",
      "Data columns (total 8 columns):\n",
      " #   Column       Non-Null Count  Dtype  \n",
      "---  ------       --------------  -----  \n",
      " 0   DATUM        35672 non-null  object \n",
      " 1   STATIONS_ID  35672 non-null  int64  \n",
      " 2   QN_4         35672 non-null  int64  \n",
      " 3   TT_TER       35672 non-null  float64\n",
      " 4   RF_TER       35672 non-null  float64\n",
      " 5   VGSL         35672 non-null  float64\n",
      " 6   TS05         35672 non-null  float64\n",
      " 7   BF10         35672 non-null  int64  \n",
      "dtypes: float64(4), int64(3), object(1)\n",
      "memory usage: 2.2+ MB\n"
     ]
    }
   ],
   "source": [
    "import pandas as pd\n",
    "df = pd.read_csv(\"munster_hourly.csv\")\n",
    "df.info()"
   ]
  },
  {
   "cell_type": "code",
   "execution_count": 70,
   "metadata": {},
   "outputs": [
    {
     "name": "stdout",
     "output_type": "stream",
     "text": [
      "The length of data : 35672\n"
     ]
    },
    {
     "data": {
      "text/html": [
       "<div>\n",
       "<style scoped>\n",
       "    .dataframe tbody tr th:only-of-type {\n",
       "        vertical-align: middle;\n",
       "    }\n",
       "\n",
       "    .dataframe tbody tr th {\n",
       "        vertical-align: top;\n",
       "    }\n",
       "\n",
       "    .dataframe thead th {\n",
       "        text-align: right;\n",
       "    }\n",
       "</style>\n",
       "<table border=\"1\" class=\"dataframe\">\n",
       "  <thead>\n",
       "    <tr style=\"text-align: right;\">\n",
       "      <th></th>\n",
       "      <th>DATUM</th>\n",
       "      <th>STATIONS_ID</th>\n",
       "      <th>QN_4</th>\n",
       "      <th>TT_TER</th>\n",
       "      <th>RF_TER</th>\n",
       "      <th>VGSL</th>\n",
       "      <th>TS05</th>\n",
       "      <th>BF10</th>\n",
       "    </tr>\n",
       "  </thead>\n",
       "  <tbody>\n",
       "    <tr>\n",
       "      <th>0</th>\n",
       "      <td>1991-01-01 07:00:00</td>\n",
       "      <td>1766</td>\n",
       "      <td>10</td>\n",
       "      <td>3.0</td>\n",
       "      <td>91.0</td>\n",
       "      <td>0.3</td>\n",
       "      <td>2.9</td>\n",
       "      <td>102</td>\n",
       "    </tr>\n",
       "    <tr>\n",
       "      <th>1</th>\n",
       "      <td>1991-01-01 14:00:00</td>\n",
       "      <td>1766</td>\n",
       "      <td>10</td>\n",
       "      <td>4.8</td>\n",
       "      <td>85.0</td>\n",
       "      <td>0.3</td>\n",
       "      <td>2.9</td>\n",
       "      <td>102</td>\n",
       "    </tr>\n",
       "    <tr>\n",
       "      <th>2</th>\n",
       "      <td>1991-01-01 21:00:00</td>\n",
       "      <td>1766</td>\n",
       "      <td>10</td>\n",
       "      <td>3.9</td>\n",
       "      <td>82.0</td>\n",
       "      <td>0.3</td>\n",
       "      <td>2.9</td>\n",
       "      <td>102</td>\n",
       "    </tr>\n",
       "  </tbody>\n",
       "</table>\n",
       "</div>"
      ],
      "text/plain": [
       "                 DATUM  STATIONS_ID  QN_4  TT_TER  RF_TER  VGSL  TS05  BF10\n",
       "0  1991-01-01 07:00:00         1766    10     3.0    91.0   0.3   2.9   102\n",
       "1  1991-01-01 14:00:00         1766    10     4.8    85.0   0.3   2.9   102\n",
       "2  1991-01-01 21:00:00         1766    10     3.9    82.0   0.3   2.9   102"
      ]
     },
     "execution_count": 70,
     "metadata": {},
     "output_type": "execute_result"
    }
   ],
   "source": [
    "print(\"The length of data :\", len(df))\n",
    "df.head(3)"
   ]
  },
  {
   "cell_type": "markdown",
   "metadata": {},
   "source": [
    "----"
   ]
  },
  {
   "cell_type": "code",
   "execution_count": 80,
   "metadata": {},
   "outputs": [
    {
     "data": {
      "text/plain": [
       "(21402, 3)"
      ]
     },
     "execution_count": 80,
     "metadata": {},
     "output_type": "execute_result"
    }
   ],
   "source": [
    "from sklearn.model_selection import train_test_split\n",
    "import random\n",
    "\n",
    "X = df.loc[:, [\"TT_TER\", \"RF_TER\", \"TS05\"]]\n",
    "y = df[\"TT_TER\"] * 2 + df[\"RF_TER\"]\n",
    "\n",
    "X_trainvald, X_test, y_trainvald, y_test = train_test_split(X, y, test_size=0.20, random_state=42)\n",
    "X_train, X_vald, y_train, y_vald = train_test_split(X_trainvald, y_trainvald, test_size=0.25, random_state=42)\n",
    "\n",
    "X_train.shape"
   ]
  },
  {
   "cell_type": "code",
   "execution_count": 81,
   "metadata": {},
   "outputs": [],
   "source": [
    "from tensorflow.keras import layers, models\n",
    "\n",
    "model = models.Sequential()\n",
    "model.add(layers.Dense(5, input_dim=X_train.shape[1], activation='relu'))\n",
    "model.add(layers.Dense(5, activation='relu'))\n",
    "model.add(layers.Dense(1, activation='linear'))  # Output layer with 3 neurons and softmax activation for multiclass classification\n",
    "\n",
    "\n",
    "model.compile(optimizer='adam', loss='mean_squared_error', metrics=['accuracy'])\n"
   ]
  },
  {
   "cell_type": "code",
   "execution_count": 82,
   "metadata": {},
   "outputs": [
    {
     "name": "stdout",
     "output_type": "stream",
     "text": [
      "Epoch 1/10\n",
      "669/669 [==============================] - 3s 3ms/step - loss: 1706.1667 - accuracy: 0.0000e+00 - val_loss: 16.8603 - val_accuracy: 0.0000e+00\n",
      "Epoch 2/10\n",
      "669/669 [==============================] - 3s 4ms/step - loss: 14.1672 - accuracy: 0.0000e+00 - val_loss: 11.6453 - val_accuracy: 0.0000e+00\n",
      "Epoch 3/10\n",
      "669/669 [==============================] - 2s 4ms/step - loss: 9.7880 - accuracy: 0.0000e+00 - val_loss: 7.8688 - val_accuracy: 0.0000e+00\n",
      "Epoch 4/10\n",
      "669/669 [==============================] - 3s 4ms/step - loss: 6.3458 - accuracy: 0.0000e+00 - val_loss: 4.8130 - val_accuracy: 0.0000e+00\n",
      "Epoch 5/10\n",
      "669/669 [==============================] - 3s 4ms/step - loss: 3.5423 - accuracy: 0.0000e+00 - val_loss: 2.3605 - val_accuracy: 0.0000e+00\n",
      "Epoch 6/10\n",
      "669/669 [==============================] - 2s 3ms/step - loss: 1.5629 - accuracy: 0.0000e+00 - val_loss: 0.8787 - val_accuracy: 0.0000e+00\n",
      "Epoch 7/10\n",
      "669/669 [==============================] - 3s 4ms/step - loss: 0.5723 - accuracy: 0.0000e+00 - val_loss: 0.3157 - val_accuracy: 0.0000e+00\n",
      "Epoch 8/10\n",
      "669/669 [==============================] - 3s 4ms/step - loss: 0.2826 - accuracy: 0.0000e+00 - val_loss: 0.1842 - val_accuracy: 0.0000e+00\n",
      "Epoch 9/10\n",
      "669/669 [==============================] - 2s 3ms/step - loss: 0.1918 - accuracy: 0.0000e+00 - val_loss: 0.1244 - val_accuracy: 0.0000e+00\n",
      "Epoch 10/10\n",
      "669/669 [==============================] - 2s 3ms/step - loss: 0.1410 - accuracy: 0.0000e+00 - val_loss: 0.0889 - val_accuracy: 0.0000e+00\n"
     ]
    }
   ],
   "source": [
    "history = model.fit(X_train, y_train, batch_size=32, epochs=10, validation_data=(X_vald, y_vald))"
   ]
  },
  {
   "cell_type": "code",
   "execution_count": 83,
   "metadata": {},
   "outputs": [
    {
     "name": "stdout",
     "output_type": "stream",
     "text": [
      "223/223 [==============================] - 1s 3ms/step - loss: 194.8868 - accuracy: 0.0000e+00\n",
      "Test Loss: 194.8867950439453, Test Accuracy: 0.0\n"
     ]
    }
   ],
   "source": [
    "# Evaluate the model on the test set\n",
    "loss, accuracy = model.evaluate(X_test, y_test)\n",
    "print(f'Test Loss: {loss}, Test Accuracy: {accuracy}')"
   ]
  },
  {
   "cell_type": "code",
   "execution_count": 84,
   "metadata": {},
   "outputs": [
    {
     "name": "stdout",
     "output_type": "stream",
     "text": [
      "1/1 [==============================] - 0s 401ms/step\n"
     ]
    },
    {
     "data": {
      "text/plain": [
       "array([[5.567702]], dtype=float32)"
      ]
     },
     "execution_count": 84,
     "metadata": {},
     "output_type": "execute_result"
    }
   ],
   "source": [
    "model.predict([[1,2,10]])"
   ]
  }
 ],
 "metadata": {
  "kernelspec": {
   "display_name": "Python 3",
   "language": "python",
   "name": "python3"
  },
  "language_info": {
   "codemirror_mode": {
    "name": "ipython",
    "version": 3
   },
   "file_extension": ".py",
   "mimetype": "text/x-python",
   "name": "python",
   "nbconvert_exporter": "python",
   "pygments_lexer": "ipython3",
   "version": "3.9.6"
  }
 },
 "nbformat": 4,
 "nbformat_minor": 2
}
