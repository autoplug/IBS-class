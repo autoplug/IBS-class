{
 "cells": [
  {
   "cell_type": "code",
   "execution_count": null,
   "metadata": {},
   "outputs": [],
   "source": [
    "import pandas as pd\n",
    "import numpy as np\n",
    "import json"
   ]
  },
  {
   "cell_type": "markdown",
   "metadata": {},
   "source": [
    "> Load the modules.\n",
    "\n",
    "---"
   ]
  },
  {
   "cell_type": "code",
   "execution_count": null,
   "metadata": {},
   "outputs": [],
   "source": [
    "df = pd.read_csv('API_EG.USE.PCAP.KG.OE_DS2_en_csv_v2_4028587.csv',skiprows=4)"
   ]
  },
  {
   "cell_type": "markdown",
   "metadata": {},
   "source": [
    "> Read in the data into a pandas dataframe.\n",
    "```\n",
    "You need to skip 4 lines from the first of csv file.\n",
    "```\n",
    "----"
   ]
  },
  {
   "cell_type": "code",
   "execution_count": null,
   "metadata": {},
   "outputs": [],
   "source": [
    "df.info(verbose=False)"
   ]
  },
  {
   "cell_type": "markdown",
   "metadata": {},
   "source": [
    "> Display the usual basic information (datatypes, names, non-null values for columns) about the dataframe.\n",
    "```\n",
    "Every row represent a county and column is based on year from 1960 to 2022.\n",
    "```\n",
    "---"
   ]
  },
  {
   "cell_type": "code",
   "execution_count": null,
   "metadata": {},
   "outputs": [],
   "source": [
    "pd.set_option(\"display.max_columns\",100)\n",
    "pd.set_option(\"display.max_rows\",50)\n",
    "df"
   ]
  },
  {
   "cell_type": "markdown",
   "metadata": {},
   "source": [
    "> Display the dataframe.\n",
    "```\n",
    "Because the terminal has limitation to show the result i restricted it.\n",
    "```\n",
    "---"
   ]
  },
  {
   "cell_type": "code",
   "execution_count": null,
   "metadata": {},
   "outputs": [],
   "source": [
    "df[\"Indicator Name\"].unique() , len(df[\"Indicator Name\"].unique())"
   ]
  },
  {
   "cell_type": "markdown",
   "metadata": {},
   "source": [
    "> Find out what values occur under \"Indicator Name\".\n",
    "```\n",
    "Get the unique value in column \"Indicator Name\".\n",
    "There is just one unique value for the column \"Indicator Name\".\n",
    "```\n",
    "---"
   ]
  },
  {
   "cell_type": "code",
   "execution_count": null,
   "metadata": {},
   "outputs": [],
   "source": [
    "df.rename(columns={\"Indicator Name\" : df[\"Indicator Name\"][0]},inplace=True)"
   ]
  },
  {
   "cell_type": "markdown",
   "metadata": {},
   "source": [
    "> Set the name of the columns to the only value you found under \"Indicator Name\" (the columns and their labels remain the same!). (Apply the operation to your dataframe!)\n",
    "\n",
    "---"
   ]
  },
  {
   "cell_type": "code",
   "execution_count": null,
   "metadata": {},
   "outputs": [],
   "source": [
    "dfcode = pd.DataFrame(df,columns=[\"Country Name\",\"Country Code\"])\n",
    "dfcode"
   ]
  },
  {
   "cell_type": "markdown",
   "metadata": {},
   "source": [
    "> Create a new dataframe dfcode which contains the \"Country Code\" and \"Country Name\" columns of your original dataframe. You will continue working with your original dataframe, in what follows, though.\n",
    "\n",
    "----------------------------------------------------------------"
   ]
  },
  {
   "cell_type": "code",
   "execution_count": null,
   "metadata": {},
   "outputs": [],
   "source": [
    "df = df.drop(columns=[\"Country Code\",\"Energy use (kg of oil equivalent per capita)\",\"Indicator Code\"])"
   ]
  },
  {
   "cell_type": "markdown",
   "metadata": {},
   "source": [
    "> Remove the \"Country Code\", \"Indicator Name\", \"Indicator Code\" columns. (Apply the operation to your dataframe!)\n",
    "```\n",
    "Get rid of unnecessary columns so we can concentrate on main data.\n",
    "```\n",
    "----------------------------------------------------------------"
   ]
  },
  {
   "cell_type": "code",
   "execution_count": null,
   "metadata": {},
   "outputs": [],
   "source": [
    "df.set_index(\"Country Name\",inplace=True)"
   ]
  },
  {
   "cell_type": "markdown",
   "metadata": {},
   "source": [
    "> Make the column \"Country Name\" the index of your dataframe. (Apply the operation to your dataframe!)\n",
    "```\n",
    "Since the value of the \"Country Name\" column is a unique string we can use it as index.\n",
    "```\n",
    "---"
   ]
  },
  {
   "cell_type": "code",
   "execution_count": null,
   "metadata": {},
   "outputs": [],
   "source": [
    "df = df.dropna(axis = \"columns\", how ='all')\n",
    "df"
   ]
  },
  {
   "cell_type": "markdown",
   "metadata": {},
   "source": [
    "> Get rid of columns which contain no values. (Apply the operation to your dataframe!)\n",
    "\n",
    "```\n",
    " There is no numerical values for some of years, so it is better to find and remove these years.\n",
    "\n",
    "```\n",
    "\n",
    "---"
   ]
  },
  {
   "cell_type": "code",
   "execution_count": null,
   "metadata": {},
   "outputs": [],
   "source": [
    "df_min_years = df.loc[:,\"1960\":\"2015\"].min(axis=\"rows\")\n",
    "df_max_years = df.loc[:,\"1960\":\"2015\"].max(axis=\"rows\")\n",
    "df_mean_years = df.loc[:,\"1960\":\"2015\"].mean(axis=\"rows\")\n",
    "df_median_years = df.loc[:,\"1960\":\"2015\"].median(axis=\"rows\")\n",
    "df_std_years = df.loc[:,\"1960\":\"2015\"].std(axis=\"rows\")\n",
    "df_median_years.sort_values(ascending=False).head(5)"
   ]
  },
  {
   "cell_type": "markdown",
   "metadata": {},
   "source": [
    "> Display the basic statistics by year, incl. minimal, maximal, mean, median, standard deviation values. (Make sure you display these values for all the years!)\n",
    "\n",
    "> ***What can you conclude from the yearly descriptives? Answer in a markdown cell.***\n",
    "```\n",
    "2006 has the lower value and 1973 has the maximum value.The mean value is in the range of 675.1 to 3746.1 .\n",
    "```\n",
    "---"
   ]
  },
  {
   "cell_type": "code",
   "execution_count": null,
   "metadata": {},
   "outputs": [],
   "source": [
    "df_min_country = df.min(axis=\"columns\")\n",
    "df_max_country = df.max(axis=\"columns\")\n",
    "df_mean_country = df.mean(axis=\"columns\")\n",
    "df_median_country = df.median(axis=\"columns\")\n",
    "df_std_country = df.std(axis=\"columns\")"
   ]
  },
  {
   "cell_type": "markdown",
   "metadata": {},
   "source": [
    "> Display the basic statistics of your previous by country-statistics (i.e., the mean of country means, etc.).\n",
    "\n",
    "```\n",
    "If you define axis as rows it calculate statistic based on year, and if you define axis as columns the statistic value is based on countries.\n",
    "```\n",
    "\n",
    "---"
   ]
  },
  {
   "cell_type": "code",
   "execution_count": null,
   "metadata": {},
   "outputs": [],
   "source": [
    "df_min = df_min_country.min()\n",
    "df_max = df_max_country.max()\n",
    "df_mean = df_mean_country.mean()\n",
    "df_median = df_median_country.mean()\n",
    "df_std = df_std_country.std()"
   ]
  },
  {
   "cell_type": "markdown",
   "metadata": {},
   "source": [
    "> Display the basic statistics by country, incl. minimal, maximal, mean, median, standard deviation values. (Make sure you display these values for all the countries!)\n",
    "---"
   ]
  },
  {
   "cell_type": "code",
   "execution_count": null,
   "metadata": {},
   "outputs": [],
   "source": [
    "df.sort_values(by='2015', ascending = False,inplace = False).head(30)"
   ]
  },
  {
   "cell_type": "markdown",
   "metadata": {},
   "source": [
    "> Display the first thirty rows of your original dataframe after sorting by the values for the **last year** in **descending** order. (Do not apply sorting to your original dataframe, just display!)\n",
    "\n",
    "> ***What are some of the conclusions you can draw from the data you displayed (e.g., about the \"countries\" in the data)?***\n",
    "```\n",
    "Some of counries has small data specially between 1960 and 1970. most of cell in these years have no value.\n",
    "```\n",
    "---"
   ]
  },
  {
   "cell_type": "code",
   "execution_count": null,
   "metadata": {},
   "outputs": [],
   "source": [
    "df[\"difference\"] = df[\"2010\"].fillna(0) - df[\"2000\"].fillna(0)\n",
    "df.sort_values(by=['difference'], ascending=False,inplace = False).head(30)"
   ]
  },
  {
   "cell_type": "markdown",
   "metadata": {},
   "source": [
    "> Calculate the difference between the (0-filled) values for the **years 2010 and 2000** by country, sort it in a **descending** order, and display the **first 30 rows**. What are some of the conclusions you could draw from what you see?\n",
    "\n",
    "```\n",
    "With fillna(0) command we replace none value with zero then we subtract the two value for year 2000 and 2010.\n",
    "```\n",
    "\n",
    "---"
   ]
  },
  {
   "cell_type": "code",
   "execution_count": null,
   "metadata": {},
   "outputs": [],
   "source": [
    "mean_year = df.loc[:,\"1960\":\"2015\"].mean(axis=\"rows\")\n",
    "max_year = df.loc[:,\"1960\":\"2015\"].max(axis=\"rows\")\n",
    "percentage = (mean_year/max_year)*100\n",
    "percentage"
   ]
  },
  {
   "cell_type": "markdown",
   "metadata": {},
   "source": [
    "> Display the **mean** values by year as a percentage of the **maximal** values for that year (e.g., if the mean value for 1965 were 200, and the maximal for 1965 were 400, then for 1965, you should be displaying 50).\n",
    "---"
   ]
  },
  {
   "cell_type": "code",
   "execution_count": null,
   "metadata": {},
   "outputs": [],
   "source": [
    "df[df.loc[:,\"1960\":\"2015\"].isna()].index"
   ]
  },
  {
   "cell_type": "markdown",
   "metadata": {},
   "source": [
    "> Display the countries (not the subdataframe, just the countries!) where the values for *all* years are missing.\n",
    "---"
   ]
  },
  {
   "cell_type": "code",
   "execution_count": null,
   "metadata": {},
   "outputs": [],
   "source": [
    "df.loc[df[\"2015\"]>mean_year[\"2015\"],:]"
   ]
  },
  {
   "cell_type": "markdown",
   "metadata": {},
   "source": [
    "> Display the subdataframe with the countries whose final year's values are bigger than the **final** year values' mean.\n",
    "---"
   ]
  },
  {
   "cell_type": "code",
   "execution_count": null,
   "metadata": {},
   "outputs": [],
   "source": [
    "with open(\"capital.json\", \"r\") as file:\n",
    "    capitaldf = json.load(file)\n",
    "capitaldf = pd.DataFrame(capitaldf[\"data\"],columns=[\"name\",\"capital\",\"iso2\",\"iso3\"])\n",
    "capitaldf"
   ]
  },
  {
   "cell_type": "markdown",
   "metadata": {},
   "source": [
    "> Load the \"capital.json\" file, and arrive at a dataframe capitaldf containing the **name, capital, iso2, iso3** information (these three should end up as the columns) for every country in it.\n",
    "---"
   ]
  },
  {
   "cell_type": "code",
   "execution_count": null,
   "metadata": {},
   "outputs": [],
   "source": [
    "dfnocode = dfcode.loc[dfcode[\"Country Code\"].isin(capitaldf[\"iso3\"]),:]\n",
    "dfnocode"
   ]
  },
  {
   "cell_type": "markdown",
   "metadata": {},
   "source": [
    "> Find the subdataframe of the dfcode dataframe you created earlier on where the \"Country Code\" value is **not** in the \"iso3\" column of capitaldf. Hint: look up and use the .isin pandas Series method. Store this subdataframe in the variable dfnocode."
   ]
  },
  {
   "cell_type": "markdown",
   "metadata": {},
   "source": [
    "> ***Display dfnocode and explain in a markdown cell what you see and what this could be used for.***\n",
    "```\n",
    "There are the name of each country and iso 3 code, so you can connect every data frame that uses iso3 code instead of name of country.\n",
    "```\n",
    "\n",
    "---"
   ]
  },
  {
   "cell_type": "code",
   "execution_count": null,
   "metadata": {},
   "outputs": [],
   "source": [
    "df.loc[df.index.isin(dfnocode[\"Country Name\"]) == False,:]"
   ]
  },
  {
   "cell_type": "markdown",
   "metadata": {},
   "source": [
    "> Now display the subdataframe of your main dataframe with the yearly data where the index (the Country Name) is not in the \"Country Name\" column of dfnocode.\n"
   ]
  }
 ],
 "metadata": {
  "kernelspec": {
   "display_name": "Python 3 (ipykernel)",
   "language": "python",
   "name": "python3"
  },
  "language_info": {
   "codemirror_mode": {
    "name": "ipython",
    "version": 3
   },
   "file_extension": ".py",
   "mimetype": "text/x-python",
   "name": "python",
   "nbconvert_exporter": "python",
   "pygments_lexer": "ipython3",
   "version": "3.9.13"
  },
  "vscode": {
   "interpreter": {
    "hash": "aee8b7b246df8f9039afb4144a1f6fd8d2ca17a180786b69acc140d282b71a49"
   }
  }
 },
 "nbformat": 4,
 "nbformat_minor": 2
}
